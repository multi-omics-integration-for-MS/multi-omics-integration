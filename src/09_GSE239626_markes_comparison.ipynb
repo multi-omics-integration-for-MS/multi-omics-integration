{
 "cells": [
  {
   "cell_type": "code",
   "execution_count": 153,
   "metadata": {},
   "outputs": [],
   "source": [
    "import pandas as pd\n",
    "import numpy as np\n",
    "from utils import sankey_plot_with_labels\n",
    "\n",
    "RESULTS_FOLDER = 'results/'\n",
    "CELLTYPIST_HIGH_PATH = 'results/celltypist_labels_Immune_All_High.csv'\n",
    "CELLTYPIST_LOW_PATH = 'results/celltypist_labels_Immune_All_Low.csv'\n",
    "CELL_TYPES_PER_CLUSTER_PATH = 'results/celltypes_labels_from_antibody_clusters.csv'\n",
    "CLUSTER_LABELS_PATH = 'results/cluster_labels.csv'"
   ]
  },
  {
   "cell_type": "markdown",
   "metadata": {},
   "source": [
    "Import data:"
   ]
  },
  {
   "cell_type": "code",
   "execution_count": 154,
   "metadata": {},
   "outputs": [
    {
     "data": {
      "text/html": [
       "<div>\n",
       "<style scoped>\n",
       "    .dataframe tbody tr th:only-of-type {\n",
       "        vertical-align: middle;\n",
       "    }\n",
       "\n",
       "    .dataframe tbody tr th {\n",
       "        vertical-align: top;\n",
       "    }\n",
       "\n",
       "    .dataframe thead th {\n",
       "        text-align: right;\n",
       "    }\n",
       "</style>\n",
       "<table border=\"1\" class=\"dataframe\">\n",
       "  <thead>\n",
       "    <tr style=\"text-align: right;\">\n",
       "      <th></th>\n",
       "      <th>leiden</th>\n",
       "    </tr>\n",
       "  </thead>\n",
       "  <tbody>\n",
       "    <tr>\n",
       "      <th>AAACCCAAGACTGTTC-1</th>\n",
       "      <td>6</td>\n",
       "    </tr>\n",
       "    <tr>\n",
       "      <th>AAACCCAAGGATCATA-1</th>\n",
       "      <td>3</td>\n",
       "    </tr>\n",
       "  </tbody>\n",
       "</table>\n",
       "</div>"
      ],
      "text/plain": [
       "                    leiden\n",
       "AAACCCAAGACTGTTC-1       6\n",
       "AAACCCAAGGATCATA-1       3"
      ]
     },
     "execution_count": 154,
     "metadata": {},
     "output_type": "execute_result"
    }
   ],
   "source": [
    "cluster_labels_df = pd.read_csv(CLUSTER_LABELS_PATH, index_col=0)\n",
    "cluster_labels_df.head(2)"
   ]
  },
  {
   "cell_type": "code",
   "execution_count": 155,
   "metadata": {},
   "outputs": [
    {
     "data": {
      "text/html": [
       "<div>\n",
       "<style scoped>\n",
       "    .dataframe tbody tr th:only-of-type {\n",
       "        vertical-align: middle;\n",
       "    }\n",
       "\n",
       "    .dataframe tbody tr th {\n",
       "        vertical-align: top;\n",
       "    }\n",
       "\n",
       "    .dataframe thead th {\n",
       "        text-align: right;\n",
       "    }\n",
       "</style>\n",
       "<table border=\"1\" class=\"dataframe\">\n",
       "  <thead>\n",
       "    <tr style=\"text-align: right;\">\n",
       "      <th></th>\n",
       "      <th>CellTypist</th>\n",
       "      <th>Literature</th>\n",
       "      <th>Litterature (T Cells subtypes)</th>\n",
       "    </tr>\n",
       "  </thead>\n",
       "  <tbody>\n",
       "    <tr>\n",
       "      <th>0</th>\n",
       "      <td>T Cell</td>\n",
       "      <td>CD4 T Cell</td>\n",
       "      <td>CD8 T Cell</td>\n",
       "    </tr>\n",
       "    <tr>\n",
       "      <th>1</th>\n",
       "      <td>T Cell</td>\n",
       "      <td>CD4 T Cell</td>\n",
       "      <td>CD8 T Cell</td>\n",
       "    </tr>\n",
       "  </tbody>\n",
       "</table>\n",
       "</div>"
      ],
      "text/plain": [
       "  CellTypist  Literature Litterature (T Cells subtypes)\n",
       "0     T Cell  CD4 T Cell                     CD8 T Cell\n",
       "1     T Cell  CD4 T Cell                     CD8 T Cell"
      ]
     },
     "execution_count": 155,
     "metadata": {},
     "output_type": "execute_result"
    }
   ],
   "source": [
    "celltypes_per_cluster_df = pd.read_csv(CELL_TYPES_PER_CLUSTER_PATH, index_col=0)\n",
    "celltypes_per_cluster_df.head(2)"
   ]
  },
  {
   "cell_type": "markdown",
   "metadata": {},
   "source": [
    "Select most predicted labels for each cluster:"
   ]
  },
  {
   "cell_type": "code",
   "execution_count": 156,
   "metadata": {},
   "outputs": [
    {
     "data": {
      "text/html": [
       "<div>\n",
       "<style scoped>\n",
       "    .dataframe tbody tr th:only-of-type {\n",
       "        vertical-align: middle;\n",
       "    }\n",
       "\n",
       "    .dataframe tbody tr th {\n",
       "        vertical-align: top;\n",
       "    }\n",
       "\n",
       "    .dataframe thead th {\n",
       "        text-align: right;\n",
       "    }\n",
       "</style>\n",
       "<table border=\"1\" class=\"dataframe\">\n",
       "  <thead>\n",
       "    <tr style=\"text-align: right;\">\n",
       "      <th></th>\n",
       "      <th>predicted_labels</th>\n",
       "      <th>over_clustering</th>\n",
       "      <th>majority_voting</th>\n",
       "      <th>antibody_cluster</th>\n",
       "    </tr>\n",
       "  </thead>\n",
       "  <tbody>\n",
       "    <tr>\n",
       "      <th>AAACCCAAGACTGTTC-1</th>\n",
       "      <td>T cells</td>\n",
       "      <td>338</td>\n",
       "      <td>T cells</td>\n",
       "      <td>6</td>\n",
       "    </tr>\n",
       "    <tr>\n",
       "      <th>AAACCCAAGGATCATA-1</th>\n",
       "      <td>T cells</td>\n",
       "      <td>28</td>\n",
       "      <td>T cells</td>\n",
       "      <td>3</td>\n",
       "    </tr>\n",
       "  </tbody>\n",
       "</table>\n",
       "</div>"
      ],
      "text/plain": [
       "                   predicted_labels  over_clustering majority_voting  \\\n",
       "AAACCCAAGACTGTTC-1          T cells              338         T cells   \n",
       "AAACCCAAGGATCATA-1          T cells               28         T cells   \n",
       "\n",
       "                    antibody_cluster  \n",
       "AAACCCAAGACTGTTC-1                 6  \n",
       "AAACCCAAGGATCATA-1                 3  "
      ]
     },
     "execution_count": 156,
     "metadata": {},
     "output_type": "execute_result"
    }
   ],
   "source": [
    "celltypist_high_df = pd.read_csv(CELLTYPIST_HIGH_PATH, index_col=0)\n",
    "celltypist_high_df['antibody_cluster'] = cluster_labels_df['leiden']\n",
    "celltypist_high_df.head(2)"
   ]
  },
  {
   "cell_type": "code",
   "execution_count": 157,
   "metadata": {},
   "outputs": [
    {
     "data": {
      "text/html": [
       "<div>\n",
       "<style scoped>\n",
       "    .dataframe tbody tr th:only-of-type {\n",
       "        vertical-align: middle;\n",
       "    }\n",
       "\n",
       "    .dataframe tbody tr th {\n",
       "        vertical-align: top;\n",
       "    }\n",
       "\n",
       "    .dataframe thead th {\n",
       "        text-align: right;\n",
       "    }\n",
       "</style>\n",
       "<table border=\"1\" class=\"dataframe\">\n",
       "  <thead>\n",
       "    <tr style=\"text-align: right;\">\n",
       "      <th></th>\n",
       "      <th>predicted_labels</th>\n",
       "      <th>over_clustering</th>\n",
       "      <th>majority_voting</th>\n",
       "      <th>antibody_cluster</th>\n",
       "    </tr>\n",
       "  </thead>\n",
       "  <tbody>\n",
       "    <tr>\n",
       "      <th>AAACCCAAGACTGTTC-1</th>\n",
       "      <td>Regulatory T cells</td>\n",
       "      <td>338</td>\n",
       "      <td>Tem/Trm cytotoxic T cells</td>\n",
       "      <td>6</td>\n",
       "    </tr>\n",
       "    <tr>\n",
       "      <th>AAACCCAAGGATCATA-1</th>\n",
       "      <td>Tcm/Naive cytotoxic T cells</td>\n",
       "      <td>28</td>\n",
       "      <td>Tcm/Naive cytotoxic T cells</td>\n",
       "      <td>3</td>\n",
       "    </tr>\n",
       "  </tbody>\n",
       "</table>\n",
       "</div>"
      ],
      "text/plain": [
       "                               predicted_labels  over_clustering  \\\n",
       "AAACCCAAGACTGTTC-1           Regulatory T cells              338   \n",
       "AAACCCAAGGATCATA-1  Tcm/Naive cytotoxic T cells               28   \n",
       "\n",
       "                                majority_voting  antibody_cluster  \n",
       "AAACCCAAGACTGTTC-1    Tem/Trm cytotoxic T cells                 6  \n",
       "AAACCCAAGGATCATA-1  Tcm/Naive cytotoxic T cells                 3  "
      ]
     },
     "execution_count": 157,
     "metadata": {},
     "output_type": "execute_result"
    }
   ],
   "source": [
    "celltypist_low_df = pd.read_csv(CELLTYPIST_LOW_PATH, index_col=0)\n",
    "celltypist_low_df['antibody_cluster'] = cluster_labels_df['leiden']\n",
    "celltypist_low_df.head(2)"
   ]
  },
  {
   "cell_type": "code",
   "execution_count": 158,
   "metadata": {},
   "outputs": [
    {
     "data": {
      "text/html": [
       "<div>\n",
       "<style scoped>\n",
       "    .dataframe tbody tr th:only-of-type {\n",
       "        vertical-align: middle;\n",
       "    }\n",
       "\n",
       "    .dataframe tbody tr th {\n",
       "        vertical-align: top;\n",
       "    }\n",
       "\n",
       "    .dataframe thead th {\n",
       "        text-align: right;\n",
       "    }\n",
       "</style>\n",
       "<table border=\"1\" class=\"dataframe\">\n",
       "  <thead>\n",
       "    <tr style=\"text-align: right;\">\n",
       "      <th></th>\n",
       "      <th>CellTypist</th>\n",
       "      <th>Literature</th>\n",
       "      <th>Litterature (T Cells subtypes)</th>\n",
       "      <th>cell_typist_high</th>\n",
       "      <th>cell_typist_low</th>\n",
       "    </tr>\n",
       "  </thead>\n",
       "  <tbody>\n",
       "    <tr>\n",
       "      <th>0</th>\n",
       "      <td>T Cell</td>\n",
       "      <td>CD4 T Cell</td>\n",
       "      <td>CD8 T Cell</td>\n",
       "      <td>T cells</td>\n",
       "      <td>Tcm/Naive helper T cells</td>\n",
       "    </tr>\n",
       "    <tr>\n",
       "      <th>1</th>\n",
       "      <td>T Cell</td>\n",
       "      <td>CD4 T Cell</td>\n",
       "      <td>CD8 T Cell</td>\n",
       "      <td>T cells</td>\n",
       "      <td>Tcm/Naive helper T cells</td>\n",
       "    </tr>\n",
       "    <tr>\n",
       "      <th>2</th>\n",
       "      <td>B Cell</td>\n",
       "      <td>NaN</td>\n",
       "      <td>NaN</td>\n",
       "      <td>B cells</td>\n",
       "      <td>Naive B cells</td>\n",
       "    </tr>\n",
       "    <tr>\n",
       "      <th>3</th>\n",
       "      <td>T Cell</td>\n",
       "      <td>T Cell</td>\n",
       "      <td>CD8 T Cell</td>\n",
       "      <td>T cells</td>\n",
       "      <td>Tcm/Naive cytotoxic T cells</td>\n",
       "    </tr>\n",
       "    <tr>\n",
       "      <th>4</th>\n",
       "      <td>T Cell</td>\n",
       "      <td>T Cell</td>\n",
       "      <td>CD8 T Cell</td>\n",
       "      <td>T cells</td>\n",
       "      <td>Tem/Trm cytotoxic T cells</td>\n",
       "    </tr>\n",
       "    <tr>\n",
       "      <th>5</th>\n",
       "      <td>ILC</td>\n",
       "      <td>NK Cell</td>\n",
       "      <td>CD8 T Cell</td>\n",
       "      <td>ILC</td>\n",
       "      <td>CD16+ NK cells</td>\n",
       "    </tr>\n",
       "    <tr>\n",
       "      <th>6</th>\n",
       "      <td>NaN</td>\n",
       "      <td>NaN</td>\n",
       "      <td>CD8 T Cell</td>\n",
       "      <td>T cells</td>\n",
       "      <td>Tem/Temra cytotoxic T cells</td>\n",
       "    </tr>\n",
       "    <tr>\n",
       "      <th>7</th>\n",
       "      <td>NaN</td>\n",
       "      <td>T Cell</td>\n",
       "      <td>CD8 T Cell</td>\n",
       "      <td>T cells</td>\n",
       "      <td>MAIT cells</td>\n",
       "    </tr>\n",
       "    <tr>\n",
       "      <th>8</th>\n",
       "      <td>B Cell</td>\n",
       "      <td>B Cell</td>\n",
       "      <td>NaN</td>\n",
       "      <td>B cells</td>\n",
       "      <td>Memory B cells</td>\n",
       "    </tr>\n",
       "    <tr>\n",
       "      <th>9</th>\n",
       "      <td>B Cell</td>\n",
       "      <td>B Cell</td>\n",
       "      <td>Naive T Cell</td>\n",
       "      <td>B cells</td>\n",
       "      <td>Tcm/Naive helper T cells</td>\n",
       "    </tr>\n",
       "    <tr>\n",
       "      <th>10</th>\n",
       "      <td>NaN</td>\n",
       "      <td>NaN</td>\n",
       "      <td>CD4 T Cell</td>\n",
       "      <td>T cells</td>\n",
       "      <td>Tem/Temra cytotoxic T cells</td>\n",
       "    </tr>\n",
       "    <tr>\n",
       "      <th>11</th>\n",
       "      <td>Monocytes</td>\n",
       "      <td>Monocytes</td>\n",
       "      <td>NaN</td>\n",
       "      <td>Monocytes</td>\n",
       "      <td>Classical monocytes</td>\n",
       "    </tr>\n",
       "    <tr>\n",
       "      <th>12</th>\n",
       "      <td>HSC/MPP</td>\n",
       "      <td>NaN</td>\n",
       "      <td>CD8 T Cell</td>\n",
       "      <td>T cells</td>\n",
       "      <td>Tcm/Naive helper T cells</td>\n",
       "    </tr>\n",
       "    <tr>\n",
       "      <th>13</th>\n",
       "      <td>HSC/MPP</td>\n",
       "      <td>NaN</td>\n",
       "      <td>CD8 T Cell</td>\n",
       "      <td>T cells</td>\n",
       "      <td>Tcm/Naive helper T cells</td>\n",
       "    </tr>\n",
       "    <tr>\n",
       "      <th>14</th>\n",
       "      <td>NaN</td>\n",
       "      <td>NaN</td>\n",
       "      <td>NaN</td>\n",
       "      <td>Megakaryocytes/platelets</td>\n",
       "      <td>Megakaryocytes/platelets</td>\n",
       "    </tr>\n",
       "    <tr>\n",
       "      <th>15</th>\n",
       "      <td>NaN</td>\n",
       "      <td>NaN</td>\n",
       "      <td>NaN</td>\n",
       "      <td>T cells</td>\n",
       "      <td>Tcm/Naive helper T cells</td>\n",
       "    </tr>\n",
       "  </tbody>\n",
       "</table>\n",
       "</div>"
      ],
      "text/plain": [
       "   CellTypist  Literature Litterature (T Cells subtypes)  \\\n",
       "0      T Cell  CD4 T Cell                     CD8 T Cell   \n",
       "1      T Cell  CD4 T Cell                     CD8 T Cell   \n",
       "2      B Cell         NaN                            NaN   \n",
       "3      T Cell      T Cell                     CD8 T Cell   \n",
       "4      T Cell      T Cell                     CD8 T Cell   \n",
       "5         ILC     NK Cell                     CD8 T Cell   \n",
       "6         NaN         NaN                     CD8 T Cell   \n",
       "7         NaN      T Cell                     CD8 T Cell   \n",
       "8      B Cell      B Cell                            NaN   \n",
       "9      B Cell      B Cell                   Naive T Cell   \n",
       "10        NaN         NaN                     CD4 T Cell   \n",
       "11  Monocytes   Monocytes                            NaN   \n",
       "12    HSC/MPP         NaN                     CD8 T Cell   \n",
       "13    HSC/MPP         NaN                     CD8 T Cell   \n",
       "14        NaN         NaN                            NaN   \n",
       "15        NaN         NaN                            NaN   \n",
       "\n",
       "            cell_typist_high              cell_typist_low  \n",
       "0                    T cells     Tcm/Naive helper T cells  \n",
       "1                    T cells     Tcm/Naive helper T cells  \n",
       "2                    B cells                Naive B cells  \n",
       "3                    T cells  Tcm/Naive cytotoxic T cells  \n",
       "4                    T cells    Tem/Trm cytotoxic T cells  \n",
       "5                        ILC               CD16+ NK cells  \n",
       "6                    T cells  Tem/Temra cytotoxic T cells  \n",
       "7                    T cells                   MAIT cells  \n",
       "8                    B cells               Memory B cells  \n",
       "9                    B cells     Tcm/Naive helper T cells  \n",
       "10                   T cells  Tem/Temra cytotoxic T cells  \n",
       "11                 Monocytes          Classical monocytes  \n",
       "12                   T cells     Tcm/Naive helper T cells  \n",
       "13                   T cells     Tcm/Naive helper T cells  \n",
       "14  Megakaryocytes/platelets     Megakaryocytes/platelets  \n",
       "15                   T cells     Tcm/Naive helper T cells  "
      ]
     },
     "execution_count": 158,
     "metadata": {},
     "output_type": "execute_result"
    }
   ],
   "source": [
    "# find the most common cell type in each cluster    \n",
    "for cluster in range(16):\n",
    "    cluster_df = celltypist_high_df[celltypist_high_df['antibody_cluster'] == cluster]\n",
    "    most_common_celltype = cluster_df['predicted_labels'].value_counts().idxmax()\n",
    "    celltypes_per_cluster_df.loc[cluster, 'cell_typist_high'] = most_common_celltype\n",
    "    \n",
    "    cluster_df = celltypist_low_df[celltypist_low_df['antibody_cluster'] == cluster]\n",
    "    most_common_celltype = cluster_df['predicted_labels'].value_counts().idxmax()\n",
    "    celltypes_per_cluster_df.loc[cluster, 'cell_typist_low'] = most_common_celltype\n",
    "\n",
    "celltypes_per_cluster_df"
   ]
  },
  {
   "cell_type": "code",
   "execution_count": 159,
   "metadata": {},
   "outputs": [
    {
     "data": {
      "text/plain": [
       "cell_typist_high\n",
       "T cells                     10\n",
       "B cells                      3\n",
       "ILC                          1\n",
       "Monocytes                    1\n",
       "Megakaryocytes/platelets     1\n",
       "Name: count, dtype: int64"
      ]
     },
     "execution_count": 159,
     "metadata": {},
     "output_type": "execute_result"
    }
   ],
   "source": [
    "celltypes_per_cluster_df['cell_typist_high'].value_counts()"
   ]
  },
  {
   "cell_type": "code",
   "execution_count": 160,
   "metadata": {},
   "outputs": [
    {
     "data": {
      "text/plain": [
       "cell_typist_low\n",
       "Tcm/Naive helper T cells       6\n",
       "Tem/Temra cytotoxic T cells    2\n",
       "Naive B cells                  1\n",
       "Tcm/Naive cytotoxic T cells    1\n",
       "Tem/Trm cytotoxic T cells      1\n",
       "CD16+ NK cells                 1\n",
       "MAIT cells                     1\n",
       "Memory B cells                 1\n",
       "Classical monocytes            1\n",
       "Megakaryocytes/platelets       1\n",
       "Name: count, dtype: int64"
      ]
     },
     "execution_count": 160,
     "metadata": {},
     "output_type": "execute_result"
    }
   ],
   "source": [
    "celltypes_per_cluster_df['cell_typist_low'].value_counts()"
   ]
  },
  {
   "cell_type": "code",
   "execution_count": 161,
   "metadata": {},
   "outputs": [
    {
     "data": {
      "text/plain": [
       "array(['T Cell', 'B Cell', 'ILC', nan, 'Monocytes', 'HSC/MPP'],\n",
       "      dtype=object)"
      ]
     },
     "metadata": {},
     "output_type": "display_data"
    },
    {
     "data": {
      "text/plain": [
       "array(['CD4 T Cell', nan, 'T Cell', 'NK Cell', 'B Cell', 'Monocytes'],\n",
       "      dtype=object)"
      ]
     },
     "metadata": {},
     "output_type": "display_data"
    },
    {
     "data": {
      "text/plain": [
       "array(['CD8 T Cell', nan, 'Naive T Cell', 'CD4 T Cell'], dtype=object)"
      ]
     },
     "metadata": {},
     "output_type": "display_data"
    },
    {
     "data": {
      "text/plain": [
       "array(['T cells', 'B cells', 'ILC', 'Monocytes',\n",
       "       'Megakaryocytes/platelets'], dtype=object)"
      ]
     },
     "metadata": {},
     "output_type": "display_data"
    },
    {
     "data": {
      "text/plain": [
       "array(['Tcm/Naive helper T cells', 'Naive B cells',\n",
       "       'Tcm/Naive cytotoxic T cells', 'Tem/Trm cytotoxic T cells',\n",
       "       'CD16+ NK cells', 'Tem/Temra cytotoxic T cells', 'MAIT cells',\n",
       "       'Memory B cells', 'Classical monocytes',\n",
       "       'Megakaryocytes/platelets'], dtype=object)"
      ]
     },
     "metadata": {},
     "output_type": "display_data"
    }
   ],
   "source": [
    "display(celltypes_per_cluster_df['CellTypist'].unique())\n",
    "display(celltypes_per_cluster_df['Literature'].unique())\n",
    "display(celltypes_per_cluster_df['Litterature (T Cells subtypes)'].unique())\n",
    "display(celltypes_per_cluster_df['cell_typist_high'].unique())\n",
    "display(celltypes_per_cluster_df['cell_typist_low'].unique())"
   ]
  },
  {
   "cell_type": "code",
   "execution_count": 162,
   "metadata": {},
   "outputs": [],
   "source": [
    "cell_names_mapping = {\n",
    "    'Tcm/Naive helper T cells': 'CD8 T Cell',\n",
    "    'Tcm/Naive cytotoxic T cells': 'CD8 T Cell',\n",
    "    'Classical monocytes': 'Monocytes',\n",
    "    'CD16+ NK cells': 'NK cells',\n",
    "}"
   ]
  },
  {
   "cell_type": "code",
   "execution_count": 163,
   "metadata": {},
   "outputs": [],
   "source": [
    "# change the cell type names to match the literature\n",
    "celltypes_per_cluster_df['cell_typist_high'] = celltypes_per_cluster_df['cell_typist_high'].replace(cell_names_mapping)\n",
    "celltypes_per_cluster_df['cell_typist_low'] = celltypes_per_cluster_df['cell_typist_low'].replace(cell_names_mapping)"
   ]
  },
  {
   "cell_type": "code",
   "execution_count": 164,
   "metadata": {},
   "outputs": [],
   "source": [
    "# Nan as srtring\n",
    "celltypes_per_cluster_df = celltypes_per_cluster_df.fillna('None')"
   ]
  },
  {
   "cell_type": "code",
   "execution_count": 165,
   "metadata": {},
   "outputs": [
    {
     "data": {
      "text/html": [
       "<div>\n",
       "<style scoped>\n",
       "    .dataframe tbody tr th:only-of-type {\n",
       "        vertical-align: middle;\n",
       "    }\n",
       "\n",
       "    .dataframe tbody tr th {\n",
       "        vertical-align: top;\n",
       "    }\n",
       "\n",
       "    .dataframe thead th {\n",
       "        text-align: right;\n",
       "    }\n",
       "</style>\n",
       "<table border=\"1\" class=\"dataframe\">\n",
       "  <thead>\n",
       "    <tr style=\"text-align: right;\">\n",
       "      <th></th>\n",
       "      <th>CellTypist</th>\n",
       "      <th>Literature</th>\n",
       "      <th>Litterature (T Cells subtypes)</th>\n",
       "      <th>cell_typist_high</th>\n",
       "      <th>cell_typist_low</th>\n",
       "    </tr>\n",
       "  </thead>\n",
       "  <tbody>\n",
       "    <tr>\n",
       "      <th>0</th>\n",
       "      <td>T Cell</td>\n",
       "      <td>CD4 T Cell</td>\n",
       "      <td>CD8 T Cell</td>\n",
       "      <td>T cells</td>\n",
       "      <td>CD8 T Cell</td>\n",
       "    </tr>\n",
       "    <tr>\n",
       "      <th>1</th>\n",
       "      <td>T Cell</td>\n",
       "      <td>CD4 T Cell</td>\n",
       "      <td>CD8 T Cell</td>\n",
       "      <td>T cells</td>\n",
       "      <td>CD8 T Cell</td>\n",
       "    </tr>\n",
       "    <tr>\n",
       "      <th>2</th>\n",
       "      <td>B Cell</td>\n",
       "      <td>None</td>\n",
       "      <td>None</td>\n",
       "      <td>B cells</td>\n",
       "      <td>Naive B cells</td>\n",
       "    </tr>\n",
       "    <tr>\n",
       "      <th>3</th>\n",
       "      <td>T Cell</td>\n",
       "      <td>T Cell</td>\n",
       "      <td>CD8 T Cell</td>\n",
       "      <td>T cells</td>\n",
       "      <td>CD8 T Cell</td>\n",
       "    </tr>\n",
       "    <tr>\n",
       "      <th>4</th>\n",
       "      <td>T Cell</td>\n",
       "      <td>T Cell</td>\n",
       "      <td>CD8 T Cell</td>\n",
       "      <td>T cells</td>\n",
       "      <td>Tem/Trm cytotoxic T cells</td>\n",
       "    </tr>\n",
       "    <tr>\n",
       "      <th>5</th>\n",
       "      <td>ILC</td>\n",
       "      <td>NK Cell</td>\n",
       "      <td>CD8 T Cell</td>\n",
       "      <td>ILC</td>\n",
       "      <td>NK cells</td>\n",
       "    </tr>\n",
       "    <tr>\n",
       "      <th>6</th>\n",
       "      <td>None</td>\n",
       "      <td>None</td>\n",
       "      <td>CD8 T Cell</td>\n",
       "      <td>T cells</td>\n",
       "      <td>Tem/Temra cytotoxic T cells</td>\n",
       "    </tr>\n",
       "    <tr>\n",
       "      <th>7</th>\n",
       "      <td>None</td>\n",
       "      <td>T Cell</td>\n",
       "      <td>CD8 T Cell</td>\n",
       "      <td>T cells</td>\n",
       "      <td>MAIT cells</td>\n",
       "    </tr>\n",
       "    <tr>\n",
       "      <th>8</th>\n",
       "      <td>B Cell</td>\n",
       "      <td>B Cell</td>\n",
       "      <td>None</td>\n",
       "      <td>B cells</td>\n",
       "      <td>Memory B cells</td>\n",
       "    </tr>\n",
       "    <tr>\n",
       "      <th>9</th>\n",
       "      <td>B Cell</td>\n",
       "      <td>B Cell</td>\n",
       "      <td>Naive T Cell</td>\n",
       "      <td>B cells</td>\n",
       "      <td>CD8 T Cell</td>\n",
       "    </tr>\n",
       "    <tr>\n",
       "      <th>10</th>\n",
       "      <td>None</td>\n",
       "      <td>None</td>\n",
       "      <td>CD4 T Cell</td>\n",
       "      <td>T cells</td>\n",
       "      <td>Tem/Temra cytotoxic T cells</td>\n",
       "    </tr>\n",
       "    <tr>\n",
       "      <th>11</th>\n",
       "      <td>Monocytes</td>\n",
       "      <td>Monocytes</td>\n",
       "      <td>None</td>\n",
       "      <td>Monocytes</td>\n",
       "      <td>Monocytes</td>\n",
       "    </tr>\n",
       "    <tr>\n",
       "      <th>12</th>\n",
       "      <td>HSC/MPP</td>\n",
       "      <td>None</td>\n",
       "      <td>CD8 T Cell</td>\n",
       "      <td>T cells</td>\n",
       "      <td>CD8 T Cell</td>\n",
       "    </tr>\n",
       "    <tr>\n",
       "      <th>13</th>\n",
       "      <td>HSC/MPP</td>\n",
       "      <td>None</td>\n",
       "      <td>CD8 T Cell</td>\n",
       "      <td>T cells</td>\n",
       "      <td>CD8 T Cell</td>\n",
       "    </tr>\n",
       "    <tr>\n",
       "      <th>14</th>\n",
       "      <td>None</td>\n",
       "      <td>None</td>\n",
       "      <td>None</td>\n",
       "      <td>Megakaryocytes/platelets</td>\n",
       "      <td>Megakaryocytes/platelets</td>\n",
       "    </tr>\n",
       "    <tr>\n",
       "      <th>15</th>\n",
       "      <td>None</td>\n",
       "      <td>None</td>\n",
       "      <td>None</td>\n",
       "      <td>T cells</td>\n",
       "      <td>CD8 T Cell</td>\n",
       "    </tr>\n",
       "  </tbody>\n",
       "</table>\n",
       "</div>"
      ],
      "text/plain": [
       "   CellTypist  Literature Litterature (T Cells subtypes)  \\\n",
       "0      T Cell  CD4 T Cell                     CD8 T Cell   \n",
       "1      T Cell  CD4 T Cell                     CD8 T Cell   \n",
       "2      B Cell        None                           None   \n",
       "3      T Cell      T Cell                     CD8 T Cell   \n",
       "4      T Cell      T Cell                     CD8 T Cell   \n",
       "5         ILC     NK Cell                     CD8 T Cell   \n",
       "6        None        None                     CD8 T Cell   \n",
       "7        None      T Cell                     CD8 T Cell   \n",
       "8      B Cell      B Cell                           None   \n",
       "9      B Cell      B Cell                   Naive T Cell   \n",
       "10       None        None                     CD4 T Cell   \n",
       "11  Monocytes   Monocytes                           None   \n",
       "12    HSC/MPP        None                     CD8 T Cell   \n",
       "13    HSC/MPP        None                     CD8 T Cell   \n",
       "14       None        None                           None   \n",
       "15       None        None                           None   \n",
       "\n",
       "            cell_typist_high              cell_typist_low  \n",
       "0                    T cells                   CD8 T Cell  \n",
       "1                    T cells                   CD8 T Cell  \n",
       "2                    B cells                Naive B cells  \n",
       "3                    T cells                   CD8 T Cell  \n",
       "4                    T cells    Tem/Trm cytotoxic T cells  \n",
       "5                        ILC                     NK cells  \n",
       "6                    T cells  Tem/Temra cytotoxic T cells  \n",
       "7                    T cells                   MAIT cells  \n",
       "8                    B cells               Memory B cells  \n",
       "9                    B cells                   CD8 T Cell  \n",
       "10                   T cells  Tem/Temra cytotoxic T cells  \n",
       "11                 Monocytes                    Monocytes  \n",
       "12                   T cells                   CD8 T Cell  \n",
       "13                   T cells                   CD8 T Cell  \n",
       "14  Megakaryocytes/platelets     Megakaryocytes/platelets  \n",
       "15                   T cells                   CD8 T Cell  "
      ]
     },
     "execution_count": 165,
     "metadata": {},
     "output_type": "execute_result"
    }
   ],
   "source": [
    "celltypes_per_cluster_df"
   ]
  },
  {
   "cell_type": "markdown",
   "metadata": {},
   "source": [
    "### Comparison"
   ]
  },
  {
   "cell_type": "markdown",
   "metadata": {},
   "source": [
    "'CellType' was inferred from the protein clusters."
   ]
  },
  {
   "cell_type": "code",
   "execution_count": 166,
   "metadata": {},
   "outputs": [
    {
     "data": {
      "application/vnd.plotly.v1+json": {
       "config": {
        "plotlyServerURL": "https://plot.ly"
       },
       "data": [
        {
         "link": {
          "source": [
           0,
           0,
           1,
           2,
           3,
           4,
           4,
           5,
           5,
           6,
           6,
           7,
           8,
           9,
           10,
           10,
           10,
           11,
           12,
           13,
           13,
           14,
           15,
           15,
           15,
           15,
           16,
           16,
           16,
           17,
           18,
           19,
           20,
           20,
           20,
           20
          ],
          "target": [
           6,
           10,
           10,
           9,
           8,
           10,
           11,
           7,
           11,
           14,
           15,
           13,
           15,
           13,
           12,
           13,
           15,
           13,
           20,
           17,
           20,
           16,
           16,
           18,
           19,
           20,
           21,
           24,
           27,
           26,
           23,
           25,
           21,
           22,
           28,
           29
          ],
          "value": [
           2,
           1,
           2,
           1,
           1,
           4,
           1,
           2,
           2,
           1,
           1,
           2,
           1,
           1,
           1,
           3,
           3,
           3,
           1,
           1,
           8,
           1,
           2,
           1,
           1,
           1,
           1,
           1,
           1,
           1,
           1,
           1,
           6,
           1,
           2,
           1
          ]
         },
         "node": {
          "color": [
           "#1f77b4",
           "#ff7f0e",
           "#2ca02c",
           "#d62728",
           "#9467bd",
           "#8c564b",
           "#e377c2",
           "#7f7f7f",
           "#bcbd22",
           "#17becf",
           "#1f77b4",
           "#ff7f0e",
           "#2ca02c",
           "#d62728",
           "#9467bd",
           "#8c564b",
           "#e377c2",
           "#7f7f7f",
           "#bcbd22",
           "#17becf",
           "#1f77b4",
           "#ff7f0e",
           "#2ca02c",
           "#d62728",
           "#9467bd",
           "#8c564b",
           "#e377c2",
           "#7f7f7f",
           "#bcbd22",
           "#17becf"
          ],
          "label": [
           "B Cell",
           "HSC/MPP",
           "ILC",
           "Monocytes",
           "None",
           "T Cell",
           "B Cell",
           "CD4 T Cell",
           "Monocytes",
           "NK Cell",
           "None",
           "T Cell",
           "CD4 T Cell",
           "CD8 T Cell",
           "Naive T Cell",
           "None",
           "B cells",
           "ILC",
           "Megakaryocytes/platelets",
           "Monocytes",
           "T cells",
           "CD8 T Cell",
           "MAIT cells",
           "Megakaryocytes/platelets",
           "Memory B cells",
           "Monocytes",
           "NK cells",
           "Naive B cells",
           "Tem/Temra cytotoxic T cells",
           "Tem/Trm cytotoxic T cells"
          ],
          "line": {
           "color": "black",
           "width": 0.5
          },
          "pad": 15,
          "thickness": 20
         },
         "type": "sankey"
        }
       ],
       "layout": {
        "annotations": [
         {
          "showarrow": false,
          "text": "CellTypist Genes",
          "x": 0,
          "xref": "x",
          "y": 1.05,
          "yref": "paper"
         },
         {
          "showarrow": false,
          "text": "Literature",
          "x": 1,
          "xref": "x",
          "y": 1.05,
          "yref": "paper"
         },
         {
          "showarrow": false,
          "text": "Litterature (T Cells subtypes)",
          "x": 2,
          "xref": "x",
          "y": 1.05,
          "yref": "paper"
         },
         {
          "showarrow": false,
          "text": "Cell Typist High",
          "x": 3,
          "xref": "x",
          "y": 1.05,
          "yref": "paper"
         },
         {
          "showarrow": false,
          "text": "Cell Typist Low",
          "x": 4,
          "xref": "x",
          "y": 1.05,
          "yref": "paper"
         }
        ],
        "font": {
         "size": 10
        },
        "height": 450,
        "plot_bgcolor": "rgba(0,0,0,0)",
        "template": {
         "data": {
          "bar": [
           {
            "error_x": {
             "color": "#2a3f5f"
            },
            "error_y": {
             "color": "#2a3f5f"
            },
            "marker": {
             "line": {
              "color": "#E5ECF6",
              "width": 0.5
             },
             "pattern": {
              "fillmode": "overlay",
              "size": 10,
              "solidity": 0.2
             }
            },
            "type": "bar"
           }
          ],
          "barpolar": [
           {
            "marker": {
             "line": {
              "color": "#E5ECF6",
              "width": 0.5
             },
             "pattern": {
              "fillmode": "overlay",
              "size": 10,
              "solidity": 0.2
             }
            },
            "type": "barpolar"
           }
          ],
          "carpet": [
           {
            "aaxis": {
             "endlinecolor": "#2a3f5f",
             "gridcolor": "white",
             "linecolor": "white",
             "minorgridcolor": "white",
             "startlinecolor": "#2a3f5f"
            },
            "baxis": {
             "endlinecolor": "#2a3f5f",
             "gridcolor": "white",
             "linecolor": "white",
             "minorgridcolor": "white",
             "startlinecolor": "#2a3f5f"
            },
            "type": "carpet"
           }
          ],
          "choropleth": [
           {
            "colorbar": {
             "outlinewidth": 0,
             "ticks": ""
            },
            "type": "choropleth"
           }
          ],
          "contour": [
           {
            "colorbar": {
             "outlinewidth": 0,
             "ticks": ""
            },
            "colorscale": [
             [
              0,
              "#0d0887"
             ],
             [
              0.1111111111111111,
              "#46039f"
             ],
             [
              0.2222222222222222,
              "#7201a8"
             ],
             [
              0.3333333333333333,
              "#9c179e"
             ],
             [
              0.4444444444444444,
              "#bd3786"
             ],
             [
              0.5555555555555556,
              "#d8576b"
             ],
             [
              0.6666666666666666,
              "#ed7953"
             ],
             [
              0.7777777777777778,
              "#fb9f3a"
             ],
             [
              0.8888888888888888,
              "#fdca26"
             ],
             [
              1,
              "#f0f921"
             ]
            ],
            "type": "contour"
           }
          ],
          "contourcarpet": [
           {
            "colorbar": {
             "outlinewidth": 0,
             "ticks": ""
            },
            "type": "contourcarpet"
           }
          ],
          "heatmap": [
           {
            "colorbar": {
             "outlinewidth": 0,
             "ticks": ""
            },
            "colorscale": [
             [
              0,
              "#0d0887"
             ],
             [
              0.1111111111111111,
              "#46039f"
             ],
             [
              0.2222222222222222,
              "#7201a8"
             ],
             [
              0.3333333333333333,
              "#9c179e"
             ],
             [
              0.4444444444444444,
              "#bd3786"
             ],
             [
              0.5555555555555556,
              "#d8576b"
             ],
             [
              0.6666666666666666,
              "#ed7953"
             ],
             [
              0.7777777777777778,
              "#fb9f3a"
             ],
             [
              0.8888888888888888,
              "#fdca26"
             ],
             [
              1,
              "#f0f921"
             ]
            ],
            "type": "heatmap"
           }
          ],
          "heatmapgl": [
           {
            "colorbar": {
             "outlinewidth": 0,
             "ticks": ""
            },
            "colorscale": [
             [
              0,
              "#0d0887"
             ],
             [
              0.1111111111111111,
              "#46039f"
             ],
             [
              0.2222222222222222,
              "#7201a8"
             ],
             [
              0.3333333333333333,
              "#9c179e"
             ],
             [
              0.4444444444444444,
              "#bd3786"
             ],
             [
              0.5555555555555556,
              "#d8576b"
             ],
             [
              0.6666666666666666,
              "#ed7953"
             ],
             [
              0.7777777777777778,
              "#fb9f3a"
             ],
             [
              0.8888888888888888,
              "#fdca26"
             ],
             [
              1,
              "#f0f921"
             ]
            ],
            "type": "heatmapgl"
           }
          ],
          "histogram": [
           {
            "marker": {
             "pattern": {
              "fillmode": "overlay",
              "size": 10,
              "solidity": 0.2
             }
            },
            "type": "histogram"
           }
          ],
          "histogram2d": [
           {
            "colorbar": {
             "outlinewidth": 0,
             "ticks": ""
            },
            "colorscale": [
             [
              0,
              "#0d0887"
             ],
             [
              0.1111111111111111,
              "#46039f"
             ],
             [
              0.2222222222222222,
              "#7201a8"
             ],
             [
              0.3333333333333333,
              "#9c179e"
             ],
             [
              0.4444444444444444,
              "#bd3786"
             ],
             [
              0.5555555555555556,
              "#d8576b"
             ],
             [
              0.6666666666666666,
              "#ed7953"
             ],
             [
              0.7777777777777778,
              "#fb9f3a"
             ],
             [
              0.8888888888888888,
              "#fdca26"
             ],
             [
              1,
              "#f0f921"
             ]
            ],
            "type": "histogram2d"
           }
          ],
          "histogram2dcontour": [
           {
            "colorbar": {
             "outlinewidth": 0,
             "ticks": ""
            },
            "colorscale": [
             [
              0,
              "#0d0887"
             ],
             [
              0.1111111111111111,
              "#46039f"
             ],
             [
              0.2222222222222222,
              "#7201a8"
             ],
             [
              0.3333333333333333,
              "#9c179e"
             ],
             [
              0.4444444444444444,
              "#bd3786"
             ],
             [
              0.5555555555555556,
              "#d8576b"
             ],
             [
              0.6666666666666666,
              "#ed7953"
             ],
             [
              0.7777777777777778,
              "#fb9f3a"
             ],
             [
              0.8888888888888888,
              "#fdca26"
             ],
             [
              1,
              "#f0f921"
             ]
            ],
            "type": "histogram2dcontour"
           }
          ],
          "mesh3d": [
           {
            "colorbar": {
             "outlinewidth": 0,
             "ticks": ""
            },
            "type": "mesh3d"
           }
          ],
          "parcoords": [
           {
            "line": {
             "colorbar": {
              "outlinewidth": 0,
              "ticks": ""
             }
            },
            "type": "parcoords"
           }
          ],
          "pie": [
           {
            "automargin": true,
            "type": "pie"
           }
          ],
          "scatter": [
           {
            "fillpattern": {
             "fillmode": "overlay",
             "size": 10,
             "solidity": 0.2
            },
            "type": "scatter"
           }
          ],
          "scatter3d": [
           {
            "line": {
             "colorbar": {
              "outlinewidth": 0,
              "ticks": ""
             }
            },
            "marker": {
             "colorbar": {
              "outlinewidth": 0,
              "ticks": ""
             }
            },
            "type": "scatter3d"
           }
          ],
          "scattercarpet": [
           {
            "marker": {
             "colorbar": {
              "outlinewidth": 0,
              "ticks": ""
             }
            },
            "type": "scattercarpet"
           }
          ],
          "scattergeo": [
           {
            "marker": {
             "colorbar": {
              "outlinewidth": 0,
              "ticks": ""
             }
            },
            "type": "scattergeo"
           }
          ],
          "scattergl": [
           {
            "marker": {
             "colorbar": {
              "outlinewidth": 0,
              "ticks": ""
             }
            },
            "type": "scattergl"
           }
          ],
          "scattermapbox": [
           {
            "marker": {
             "colorbar": {
              "outlinewidth": 0,
              "ticks": ""
             }
            },
            "type": "scattermapbox"
           }
          ],
          "scatterpolar": [
           {
            "marker": {
             "colorbar": {
              "outlinewidth": 0,
              "ticks": ""
             }
            },
            "type": "scatterpolar"
           }
          ],
          "scatterpolargl": [
           {
            "marker": {
             "colorbar": {
              "outlinewidth": 0,
              "ticks": ""
             }
            },
            "type": "scatterpolargl"
           }
          ],
          "scatterternary": [
           {
            "marker": {
             "colorbar": {
              "outlinewidth": 0,
              "ticks": ""
             }
            },
            "type": "scatterternary"
           }
          ],
          "surface": [
           {
            "colorbar": {
             "outlinewidth": 0,
             "ticks": ""
            },
            "colorscale": [
             [
              0,
              "#0d0887"
             ],
             [
              0.1111111111111111,
              "#46039f"
             ],
             [
              0.2222222222222222,
              "#7201a8"
             ],
             [
              0.3333333333333333,
              "#9c179e"
             ],
             [
              0.4444444444444444,
              "#bd3786"
             ],
             [
              0.5555555555555556,
              "#d8576b"
             ],
             [
              0.6666666666666666,
              "#ed7953"
             ],
             [
              0.7777777777777778,
              "#fb9f3a"
             ],
             [
              0.8888888888888888,
              "#fdca26"
             ],
             [
              1,
              "#f0f921"
             ]
            ],
            "type": "surface"
           }
          ],
          "table": [
           {
            "cells": {
             "fill": {
              "color": "#EBF0F8"
             },
             "line": {
              "color": "white"
             }
            },
            "header": {
             "fill": {
              "color": "#C8D4E3"
             },
             "line": {
              "color": "white"
             }
            },
            "type": "table"
           }
          ]
         },
         "layout": {
          "annotationdefaults": {
           "arrowcolor": "#2a3f5f",
           "arrowhead": 0,
           "arrowwidth": 1
          },
          "autotypenumbers": "strict",
          "coloraxis": {
           "colorbar": {
            "outlinewidth": 0,
            "ticks": ""
           }
          },
          "colorscale": {
           "diverging": [
            [
             0,
             "#8e0152"
            ],
            [
             0.1,
             "#c51b7d"
            ],
            [
             0.2,
             "#de77ae"
            ],
            [
             0.3,
             "#f1b6da"
            ],
            [
             0.4,
             "#fde0ef"
            ],
            [
             0.5,
             "#f7f7f7"
            ],
            [
             0.6,
             "#e6f5d0"
            ],
            [
             0.7,
             "#b8e186"
            ],
            [
             0.8,
             "#7fbc41"
            ],
            [
             0.9,
             "#4d9221"
            ],
            [
             1,
             "#276419"
            ]
           ],
           "sequential": [
            [
             0,
             "#0d0887"
            ],
            [
             0.1111111111111111,
             "#46039f"
            ],
            [
             0.2222222222222222,
             "#7201a8"
            ],
            [
             0.3333333333333333,
             "#9c179e"
            ],
            [
             0.4444444444444444,
             "#bd3786"
            ],
            [
             0.5555555555555556,
             "#d8576b"
            ],
            [
             0.6666666666666666,
             "#ed7953"
            ],
            [
             0.7777777777777778,
             "#fb9f3a"
            ],
            [
             0.8888888888888888,
             "#fdca26"
            ],
            [
             1,
             "#f0f921"
            ]
           ],
           "sequentialminus": [
            [
             0,
             "#0d0887"
            ],
            [
             0.1111111111111111,
             "#46039f"
            ],
            [
             0.2222222222222222,
             "#7201a8"
            ],
            [
             0.3333333333333333,
             "#9c179e"
            ],
            [
             0.4444444444444444,
             "#bd3786"
            ],
            [
             0.5555555555555556,
             "#d8576b"
            ],
            [
             0.6666666666666666,
             "#ed7953"
            ],
            [
             0.7777777777777778,
             "#fb9f3a"
            ],
            [
             0.8888888888888888,
             "#fdca26"
            ],
            [
             1,
             "#f0f921"
            ]
           ]
          },
          "colorway": [
           "#636efa",
           "#EF553B",
           "#00cc96",
           "#ab63fa",
           "#FFA15A",
           "#19d3f3",
           "#FF6692",
           "#B6E880",
           "#FF97FF",
           "#FECB52"
          ],
          "font": {
           "color": "#2a3f5f"
          },
          "geo": {
           "bgcolor": "white",
           "lakecolor": "white",
           "landcolor": "#E5ECF6",
           "showlakes": true,
           "showland": true,
           "subunitcolor": "white"
          },
          "hoverlabel": {
           "align": "left"
          },
          "hovermode": "closest",
          "mapbox": {
           "style": "light"
          },
          "paper_bgcolor": "white",
          "plot_bgcolor": "#E5ECF6",
          "polar": {
           "angularaxis": {
            "gridcolor": "white",
            "linecolor": "white",
            "ticks": ""
           },
           "bgcolor": "#E5ECF6",
           "radialaxis": {
            "gridcolor": "white",
            "linecolor": "white",
            "ticks": ""
           }
          },
          "scene": {
           "xaxis": {
            "backgroundcolor": "#E5ECF6",
            "gridcolor": "white",
            "gridwidth": 2,
            "linecolor": "white",
            "showbackground": true,
            "ticks": "",
            "zerolinecolor": "white"
           },
           "yaxis": {
            "backgroundcolor": "#E5ECF6",
            "gridcolor": "white",
            "gridwidth": 2,
            "linecolor": "white",
            "showbackground": true,
            "ticks": "",
            "zerolinecolor": "white"
           },
           "zaxis": {
            "backgroundcolor": "#E5ECF6",
            "gridcolor": "white",
            "gridwidth": 2,
            "linecolor": "white",
            "showbackground": true,
            "ticks": "",
            "zerolinecolor": "white"
           }
          },
          "shapedefaults": {
           "line": {
            "color": "#2a3f5f"
           }
          },
          "ternary": {
           "aaxis": {
            "gridcolor": "white",
            "linecolor": "white",
            "ticks": ""
           },
           "baxis": {
            "gridcolor": "white",
            "linecolor": "white",
            "ticks": ""
           },
           "bgcolor": "#E5ECF6",
           "caxis": {
            "gridcolor": "white",
            "linecolor": "white",
            "ticks": ""
           }
          },
          "title": {
           "x": 0.05
          },
          "xaxis": {
           "automargin": true,
           "gridcolor": "white",
           "linecolor": "white",
           "ticks": "",
           "title": {
            "standoff": 15
           },
           "zerolinecolor": "white",
           "zerolinewidth": 2
          },
          "yaxis": {
           "automargin": true,
           "gridcolor": "white",
           "linecolor": "white",
           "ticks": "",
           "title": {
            "standoff": 15
           },
           "zerolinecolor": "white",
           "zerolinewidth": 2
          }
         }
        },
        "title": {
         "text": "Sankey plot of cell types"
        },
        "width": 700,
        "xaxis": {
         "showgrid": false,
         "visible": false,
         "zeroline": false
        },
        "yaxis": {
         "showgrid": false,
         "visible": false,
         "zeroline": false
        }
       }
      }
     },
     "metadata": {},
     "output_type": "display_data"
    }
   ],
   "source": [
    "sankey_plot_with_labels(\n",
    "    labels=[celltypes_per_cluster_df['CellTypist'], celltypes_per_cluster_df['Literature'],\n",
    "    celltypes_per_cluster_df['Litterature (T Cells subtypes)'], celltypes_per_cluster_df['cell_typist_high'],\n",
    "    celltypes_per_cluster_df['cell_typist_low']],\n",
    "    labels_titles=['CellTypist Genes', 'Literature', 'Litterature (T Cells subtypes)', 'Cell Typist High', 'Cell Typist Low'],\n",
    "    title='Sankey plot of cell types'\n",
    "    )"
   ]
  },
  {
   "cell_type": "markdown",
   "metadata": {},
   "source": [
    "### Assing Cell Types to each Cell"
   ]
  },
  {
   "cell_type": "code",
   "execution_count": 168,
   "metadata": {},
   "outputs": [
    {
     "data": {
      "text/html": [
       "<div>\n",
       "<style scoped>\n",
       "    .dataframe tbody tr th:only-of-type {\n",
       "        vertical-align: middle;\n",
       "    }\n",
       "\n",
       "    .dataframe tbody tr th {\n",
       "        vertical-align: top;\n",
       "    }\n",
       "\n",
       "    .dataframe thead th {\n",
       "        text-align: right;\n",
       "    }\n",
       "</style>\n",
       "<table border=\"1\" class=\"dataframe\">\n",
       "  <thead>\n",
       "    <tr style=\"text-align: right;\">\n",
       "      <th></th>\n",
       "      <th>leiden</th>\n",
       "    </tr>\n",
       "  </thead>\n",
       "  <tbody>\n",
       "    <tr>\n",
       "      <th>AAACCCAAGACTGTTC-1</th>\n",
       "      <td>6</td>\n",
       "    </tr>\n",
       "    <tr>\n",
       "      <th>AAACCCAAGGATCATA-1</th>\n",
       "      <td>3</td>\n",
       "    </tr>\n",
       "  </tbody>\n",
       "</table>\n",
       "</div>"
      ],
      "text/plain": [
       "                    leiden\n",
       "AAACCCAAGACTGTTC-1       6\n",
       "AAACCCAAGGATCATA-1       3"
      ]
     },
     "execution_count": 168,
     "metadata": {},
     "output_type": "execute_result"
    }
   ],
   "source": [
    "#assign the cell types to each cel\n",
    "cluster_labels_df.head(2)"
   ]
  },
  {
   "cell_type": "code",
   "execution_count": 169,
   "metadata": {},
   "outputs": [],
   "source": [
    "def assign_cell_types_to_cells(cluster, column):\n",
    "    cell_type = celltypes_per_cluster_df.loc[cluster, column]\n",
    "    return cell_type\n",
    "\n",
    "for column in ['CellTypist', 'Literature', 'Litterature (T Cells subtypes)', 'cell_typist_high', 'cell_typist_low']:\n",
    "    cluster_labels_df[column] = cluster_labels_df['leiden'].apply(lambda x: assign_cell_types_to_cells(x, column))\n",
    "\n",
    "\n",
    "# rename the columns\n",
    "cluster_labels_df = cluster_labels_df.rename(columns={\n",
    "    'cell_typist_high': 'CellTypist High',\n",
    "    'cell_typist_low': 'CellTypist Low',\n",
    "})"
   ]
  },
  {
   "cell_type": "code",
   "execution_count": 170,
   "metadata": {},
   "outputs": [
    {
     "data": {
      "text/html": [
       "<div>\n",
       "<style scoped>\n",
       "    .dataframe tbody tr th:only-of-type {\n",
       "        vertical-align: middle;\n",
       "    }\n",
       "\n",
       "    .dataframe tbody tr th {\n",
       "        vertical-align: top;\n",
       "    }\n",
       "\n",
       "    .dataframe thead th {\n",
       "        text-align: right;\n",
       "    }\n",
       "</style>\n",
       "<table border=\"1\" class=\"dataframe\">\n",
       "  <thead>\n",
       "    <tr style=\"text-align: right;\">\n",
       "      <th></th>\n",
       "      <th>leiden</th>\n",
       "      <th>CellTypist</th>\n",
       "      <th>Literature</th>\n",
       "      <th>Litterature (T Cells subtypes)</th>\n",
       "      <th>CellTypist High</th>\n",
       "      <th>CellTypist Low</th>\n",
       "    </tr>\n",
       "  </thead>\n",
       "  <tbody>\n",
       "    <tr>\n",
       "      <th>GTCCTCAGTCGAACGA-13</th>\n",
       "      <td>2</td>\n",
       "      <td>B Cell</td>\n",
       "      <td>None</td>\n",
       "      <td>None</td>\n",
       "      <td>B cells</td>\n",
       "      <td>Naive B cells</td>\n",
       "    </tr>\n",
       "    <tr>\n",
       "      <th>GTGAGCCAGCGACTGA-15</th>\n",
       "      <td>1</td>\n",
       "      <td>T Cell</td>\n",
       "      <td>CD4 T Cell</td>\n",
       "      <td>CD8 T Cell</td>\n",
       "      <td>T cells</td>\n",
       "      <td>CD8 T Cell</td>\n",
       "    </tr>\n",
       "    <tr>\n",
       "      <th>ACTTTGTGTTGCATTG-1</th>\n",
       "      <td>4</td>\n",
       "      <td>T Cell</td>\n",
       "      <td>T Cell</td>\n",
       "      <td>CD8 T Cell</td>\n",
       "      <td>T cells</td>\n",
       "      <td>Tem/Trm cytotoxic T cells</td>\n",
       "    </tr>\n",
       "    <tr>\n",
       "      <th>TCGGATAAGTGTTGAA-15</th>\n",
       "      <td>0</td>\n",
       "      <td>T Cell</td>\n",
       "      <td>CD4 T Cell</td>\n",
       "      <td>CD8 T Cell</td>\n",
       "      <td>T cells</td>\n",
       "      <td>CD8 T Cell</td>\n",
       "    </tr>\n",
       "    <tr>\n",
       "      <th>TCTATCACATTCTTCA-18</th>\n",
       "      <td>2</td>\n",
       "      <td>B Cell</td>\n",
       "      <td>None</td>\n",
       "      <td>None</td>\n",
       "      <td>B cells</td>\n",
       "      <td>Naive B cells</td>\n",
       "    </tr>\n",
       "    <tr>\n",
       "      <th>AGTACTGTCCTTCACG-16</th>\n",
       "      <td>0</td>\n",
       "      <td>T Cell</td>\n",
       "      <td>CD4 T Cell</td>\n",
       "      <td>CD8 T Cell</td>\n",
       "      <td>T cells</td>\n",
       "      <td>CD8 T Cell</td>\n",
       "    </tr>\n",
       "    <tr>\n",
       "      <th>CAACGATGTATACCCA-7</th>\n",
       "      <td>5</td>\n",
       "      <td>ILC</td>\n",
       "      <td>NK Cell</td>\n",
       "      <td>CD8 T Cell</td>\n",
       "      <td>ILC</td>\n",
       "      <td>NK cells</td>\n",
       "    </tr>\n",
       "    <tr>\n",
       "      <th>AACCAACGTGAGTTGG-17</th>\n",
       "      <td>5</td>\n",
       "      <td>ILC</td>\n",
       "      <td>NK Cell</td>\n",
       "      <td>CD8 T Cell</td>\n",
       "      <td>ILC</td>\n",
       "      <td>NK cells</td>\n",
       "    </tr>\n",
       "    <tr>\n",
       "      <th>GTGATGTAGCAAGTCG-16</th>\n",
       "      <td>8</td>\n",
       "      <td>B Cell</td>\n",
       "      <td>B Cell</td>\n",
       "      <td>None</td>\n",
       "      <td>B cells</td>\n",
       "      <td>Memory B cells</td>\n",
       "    </tr>\n",
       "    <tr>\n",
       "      <th>AGGGCTCCAATCGTCA-11</th>\n",
       "      <td>1</td>\n",
       "      <td>T Cell</td>\n",
       "      <td>CD4 T Cell</td>\n",
       "      <td>CD8 T Cell</td>\n",
       "      <td>T cells</td>\n",
       "      <td>CD8 T Cell</td>\n",
       "    </tr>\n",
       "  </tbody>\n",
       "</table>\n",
       "</div>"
      ],
      "text/plain": [
       "                     leiden CellTypist  Literature  \\\n",
       "GTCCTCAGTCGAACGA-13       2     B Cell        None   \n",
       "GTGAGCCAGCGACTGA-15       1     T Cell  CD4 T Cell   \n",
       "ACTTTGTGTTGCATTG-1        4     T Cell      T Cell   \n",
       "TCGGATAAGTGTTGAA-15       0     T Cell  CD4 T Cell   \n",
       "TCTATCACATTCTTCA-18       2     B Cell        None   \n",
       "AGTACTGTCCTTCACG-16       0     T Cell  CD4 T Cell   \n",
       "CAACGATGTATACCCA-7        5        ILC     NK Cell   \n",
       "AACCAACGTGAGTTGG-17       5        ILC     NK Cell   \n",
       "GTGATGTAGCAAGTCG-16       8     B Cell      B Cell   \n",
       "AGGGCTCCAATCGTCA-11       1     T Cell  CD4 T Cell   \n",
       "\n",
       "                    Litterature (T Cells subtypes) CellTypist High  \\\n",
       "GTCCTCAGTCGAACGA-13                           None         B cells   \n",
       "GTGAGCCAGCGACTGA-15                     CD8 T Cell         T cells   \n",
       "ACTTTGTGTTGCATTG-1                      CD8 T Cell         T cells   \n",
       "TCGGATAAGTGTTGAA-15                     CD8 T Cell         T cells   \n",
       "TCTATCACATTCTTCA-18                           None         B cells   \n",
       "AGTACTGTCCTTCACG-16                     CD8 T Cell         T cells   \n",
       "CAACGATGTATACCCA-7                      CD8 T Cell             ILC   \n",
       "AACCAACGTGAGTTGG-17                     CD8 T Cell             ILC   \n",
       "GTGATGTAGCAAGTCG-16                           None         B cells   \n",
       "AGGGCTCCAATCGTCA-11                     CD8 T Cell         T cells   \n",
       "\n",
       "                                CellTypist Low  \n",
       "GTCCTCAGTCGAACGA-13              Naive B cells  \n",
       "GTGAGCCAGCGACTGA-15                 CD8 T Cell  \n",
       "ACTTTGTGTTGCATTG-1   Tem/Trm cytotoxic T cells  \n",
       "TCGGATAAGTGTTGAA-15                 CD8 T Cell  \n",
       "TCTATCACATTCTTCA-18              Naive B cells  \n",
       "AGTACTGTCCTTCACG-16                 CD8 T Cell  \n",
       "CAACGATGTATACCCA-7                    NK cells  \n",
       "AACCAACGTGAGTTGG-17                   NK cells  \n",
       "GTGATGTAGCAAGTCG-16             Memory B cells  \n",
       "AGGGCTCCAATCGTCA-11                 CD8 T Cell  "
      ]
     },
     "execution_count": 170,
     "metadata": {},
     "output_type": "execute_result"
    }
   ],
   "source": [
    "cluster_labels_df.sample(10)"
   ]
  },
  {
   "cell_type": "code",
   "execution_count": 179,
   "metadata": {},
   "outputs": [],
   "source": [
    "import matplotlib.pyplot as plt"
   ]
  },
  {
   "cell_type": "code",
   "execution_count": 188,
   "metadata": {},
   "outputs": [
    {
     "data": {
      "text/html": [
       "<div>\n",
       "<style scoped>\n",
       "    .dataframe tbody tr th:only-of-type {\n",
       "        vertical-align: middle;\n",
       "    }\n",
       "\n",
       "    .dataframe tbody tr th {\n",
       "        vertical-align: top;\n",
       "    }\n",
       "\n",
       "    .dataframe thead th {\n",
       "        text-align: right;\n",
       "    }\n",
       "</style>\n",
       "<table border=\"1\" class=\"dataframe\">\n",
       "  <thead>\n",
       "    <tr style=\"text-align: right;\">\n",
       "      <th></th>\n",
       "      <th>CellTypist</th>\n",
       "      <th>Literature</th>\n",
       "      <th>Litterature (T Cells subtypes)</th>\n",
       "      <th>CellTypist High</th>\n",
       "      <th>CellTypist Low</th>\n",
       "    </tr>\n",
       "  </thead>\n",
       "  <tbody>\n",
       "    <tr>\n",
       "      <th>B Cell</th>\n",
       "      <td>13555.0</td>\n",
       "      <td>3381.0</td>\n",
       "      <td>0.0</td>\n",
       "      <td>0.0</td>\n",
       "      <td>0.0</td>\n",
       "    </tr>\n",
       "    <tr>\n",
       "      <th>B cells</th>\n",
       "      <td>0.0</td>\n",
       "      <td>0.0</td>\n",
       "      <td>0.0</td>\n",
       "      <td>13555.0</td>\n",
       "      <td>0.0</td>\n",
       "    </tr>\n",
       "    <tr>\n",
       "      <th>CD4 T Cell</th>\n",
       "      <td>0.0</td>\n",
       "      <td>27078.0</td>\n",
       "      <td>801.0</td>\n",
       "      <td>0.0</td>\n",
       "      <td>0.0</td>\n",
       "    </tr>\n",
       "    <tr>\n",
       "      <th>CD8 T Cell</th>\n",
       "      <td>0.0</td>\n",
       "      <td>0.0</td>\n",
       "      <td>57132.0</td>\n",
       "      <td>0.0</td>\n",
       "      <td>38229.0</td>\n",
       "    </tr>\n",
       "    <tr>\n",
       "      <th>HSC/MPP</th>\n",
       "      <td>763.0</td>\n",
       "      <td>0.0</td>\n",
       "      <td>0.0</td>\n",
       "      <td>0.0</td>\n",
       "      <td>0.0</td>\n",
       "    </tr>\n",
       "    <tr>\n",
       "      <th>ILC</th>\n",
       "      <td>6747.0</td>\n",
       "      <td>0.0</td>\n",
       "      <td>0.0</td>\n",
       "      <td>6747.0</td>\n",
       "      <td>0.0</td>\n",
       "    </tr>\n",
       "    <tr>\n",
       "      <th>MAIT cells</th>\n",
       "      <td>0.0</td>\n",
       "      <td>0.0</td>\n",
       "      <td>0.0</td>\n",
       "      <td>0.0</td>\n",
       "      <td>2344.0</td>\n",
       "    </tr>\n",
       "    <tr>\n",
       "      <th>Megakaryocytes/platelets</th>\n",
       "      <td>0.0</td>\n",
       "      <td>0.0</td>\n",
       "      <td>0.0</td>\n",
       "      <td>44.0</td>\n",
       "      <td>44.0</td>\n",
       "    </tr>\n",
       "    <tr>\n",
       "      <th>Memory B cells</th>\n",
       "      <td>0.0</td>\n",
       "      <td>0.0</td>\n",
       "      <td>0.0</td>\n",
       "      <td>0.0</td>\n",
       "      <td>2310.0</td>\n",
       "    </tr>\n",
       "    <tr>\n",
       "      <th>Monocytes</th>\n",
       "      <td>773.0</td>\n",
       "      <td>773.0</td>\n",
       "      <td>0.0</td>\n",
       "      <td>773.0</td>\n",
       "      <td>773.0</td>\n",
       "    </tr>\n",
       "    <tr>\n",
       "      <th>NK Cell</th>\n",
       "      <td>0.0</td>\n",
       "      <td>6747.0</td>\n",
       "      <td>0.0</td>\n",
       "      <td>0.0</td>\n",
       "      <td>0.0</td>\n",
       "    </tr>\n",
       "    <tr>\n",
       "      <th>NK cells</th>\n",
       "      <td>0.0</td>\n",
       "      <td>0.0</td>\n",
       "      <td>0.0</td>\n",
       "      <td>0.0</td>\n",
       "      <td>6747.0</td>\n",
       "    </tr>\n",
       "    <tr>\n",
       "      <th>Naive B cells</th>\n",
       "      <td>0.0</td>\n",
       "      <td>0.0</td>\n",
       "      <td>0.0</td>\n",
       "      <td>0.0</td>\n",
       "      <td>10174.0</td>\n",
       "    </tr>\n",
       "    <tr>\n",
       "      <th>Naive T Cell</th>\n",
       "      <td>0.0</td>\n",
       "      <td>0.0</td>\n",
       "      <td>1071.0</td>\n",
       "      <td>0.0</td>\n",
       "      <td>0.0</td>\n",
       "    </tr>\n",
       "    <tr>\n",
       "      <th>None</th>\n",
       "      <td>6418.0</td>\n",
       "      <td>15011.0</td>\n",
       "      <td>13313.0</td>\n",
       "      <td>0.0</td>\n",
       "      <td>0.0</td>\n",
       "    </tr>\n",
       "    <tr>\n",
       "      <th>T Cell</th>\n",
       "      <td>44061.0</td>\n",
       "      <td>19327.0</td>\n",
       "      <td>0.0</td>\n",
       "      <td>0.0</td>\n",
       "      <td>0.0</td>\n",
       "    </tr>\n",
       "    <tr>\n",
       "      <th>T cells</th>\n",
       "      <td>0.0</td>\n",
       "      <td>0.0</td>\n",
       "      <td>0.0</td>\n",
       "      <td>51198.0</td>\n",
       "      <td>0.0</td>\n",
       "    </tr>\n",
       "    <tr>\n",
       "      <th>Tem/Temra cytotoxic T cells</th>\n",
       "      <td>0.0</td>\n",
       "      <td>0.0</td>\n",
       "      <td>0.0</td>\n",
       "      <td>0.0</td>\n",
       "      <td>4018.0</td>\n",
       "    </tr>\n",
       "    <tr>\n",
       "      <th>Tem/Trm cytotoxic T cells</th>\n",
       "      <td>0.0</td>\n",
       "      <td>0.0</td>\n",
       "      <td>0.0</td>\n",
       "      <td>0.0</td>\n",
       "      <td>7678.0</td>\n",
       "    </tr>\n",
       "  </tbody>\n",
       "</table>\n",
       "</div>"
      ],
      "text/plain": [
       "                             CellTypist  Literature  \\\n",
       "B Cell                          13555.0      3381.0   \n",
       "B cells                             0.0         0.0   \n",
       "CD4 T Cell                          0.0     27078.0   \n",
       "CD8 T Cell                          0.0         0.0   \n",
       "HSC/MPP                           763.0         0.0   \n",
       "ILC                              6747.0         0.0   \n",
       "MAIT cells                          0.0         0.0   \n",
       "Megakaryocytes/platelets            0.0         0.0   \n",
       "Memory B cells                      0.0         0.0   \n",
       "Monocytes                         773.0       773.0   \n",
       "NK Cell                             0.0      6747.0   \n",
       "NK cells                            0.0         0.0   \n",
       "Naive B cells                       0.0         0.0   \n",
       "Naive T Cell                        0.0         0.0   \n",
       "None                             6418.0     15011.0   \n",
       "T Cell                          44061.0     19327.0   \n",
       "T cells                             0.0         0.0   \n",
       "Tem/Temra cytotoxic T cells         0.0         0.0   \n",
       "Tem/Trm cytotoxic T cells           0.0         0.0   \n",
       "\n",
       "                             Litterature (T Cells subtypes)  CellTypist High  \\\n",
       "B Cell                                                  0.0              0.0   \n",
       "B cells                                                 0.0          13555.0   \n",
       "CD4 T Cell                                            801.0              0.0   \n",
       "CD8 T Cell                                          57132.0              0.0   \n",
       "HSC/MPP                                                 0.0              0.0   \n",
       "ILC                                                     0.0           6747.0   \n",
       "MAIT cells                                              0.0              0.0   \n",
       "Megakaryocytes/platelets                                0.0             44.0   \n",
       "Memory B cells                                          0.0              0.0   \n",
       "Monocytes                                               0.0            773.0   \n",
       "NK Cell                                                 0.0              0.0   \n",
       "NK cells                                                0.0              0.0   \n",
       "Naive B cells                                           0.0              0.0   \n",
       "Naive T Cell                                         1071.0              0.0   \n",
       "None                                                13313.0              0.0   \n",
       "T Cell                                                  0.0              0.0   \n",
       "T cells                                                 0.0          51198.0   \n",
       "Tem/Temra cytotoxic T cells                             0.0              0.0   \n",
       "Tem/Trm cytotoxic T cells                               0.0              0.0   \n",
       "\n",
       "                             CellTypist Low  \n",
       "B Cell                                  0.0  \n",
       "B cells                                 0.0  \n",
       "CD4 T Cell                              0.0  \n",
       "CD8 T Cell                          38229.0  \n",
       "HSC/MPP                                 0.0  \n",
       "ILC                                     0.0  \n",
       "MAIT cells                           2344.0  \n",
       "Megakaryocytes/platelets               44.0  \n",
       "Memory B cells                       2310.0  \n",
       "Monocytes                             773.0  \n",
       "NK Cell                                 0.0  \n",
       "NK cells                             6747.0  \n",
       "Naive B cells                       10174.0  \n",
       "Naive T Cell                            0.0  \n",
       "None                                    0.0  \n",
       "T Cell                                  0.0  \n",
       "T cells                                 0.0  \n",
       "Tem/Temra cytotoxic T cells          4018.0  \n",
       "Tem/Trm cytotoxic T cells            7678.0  "
      ]
     },
     "execution_count": 188,
     "metadata": {},
     "output_type": "execute_result"
    }
   ],
   "source": [
    "count_df"
   ]
  },
  {
   "cell_type": "code",
   "execution_count": 194,
   "metadata": {},
   "outputs": [
    {
     "data": {
      "image/png": "[encoded data removed]",
      "text/plain": [
       "<Figure size 1800x500 with 1 Axes>"
      ]
     },
     "metadata": {},
     "output_type": "display_data"
    }
   ],
   "source": [
    "count_df = cluster_labels_df[['CellTypist', 'Literature', 'Litterature (T Cells subtypes)', \n",
    "        'CellTypist High', 'CellTypist Low']].apply(pd.Series.value_counts)\n",
    "count_df = count_df.fillna(0)\n",
    "\n",
    "count_df.plot(kind='bar', stacked=False, figsize=(18, 5));\n",
    "plt.title('Cell types distribution');"
   ]
  },
  {
   "cell_type": "code",
   "execution_count": 195,
   "metadata": {},
   "outputs": [],
   "source": [
    "cluster_labels_df.to_csv('results/GSE239626_cell_types.csv')"
   ]
  }
 ],
 "metadata": {
  "kernelspec": {
   "display_name": "base",
   "language": "python",
   "name": "python3"
  },
  "language_info": {
   "codemirror_mode": {
    "name": "ipython",
    "version": 3
   },
   "file_extension": ".py",
   "mimetype": "text/x-python",
   "name": "python",
   "nbconvert_exporter": "python",
   "pygments_lexer": "ipython3",
   "version": "3.10.9"
  }
 },
 "nbformat": 4,
 "nbformat_minor": 2
}

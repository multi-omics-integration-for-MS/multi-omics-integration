{
 "cells": [
  {
   "cell_type": "code",
   "execution_count": 1,
   "metadata": {},
   "outputs": [
    {
     "name": "stderr",
     "output_type": "stream",
     "text": [
      "c:\\Users\\giuli\\anaconda3\\lib\\site-packages\\pandas\\core\\arrays\\masked.py:60: UserWarning: Pandas requires version '1.3.6' or newer of 'bottleneck' (version '1.3.5' currently installed).\n",
      "  from pandas.core import (\n"
     ]
    }
   ],
   "source": [
    "import numpy as np\n",
    "import pandas as pd\n",
    "import scanpy as sc\n",
    "import seaborn as sns\n",
    "import warnings\n",
    "import os\n",
    "import matplotlib.pyplot as plt\n",
    "from sklearn.metrics import (davies_bouldin_score, calinski_harabasz_score, silhouette_score, adjusted_rand_score,\n",
    "    adjusted_mutual_info_score, homogeneity_score, completeness_score, v_measure_score, fowlkes_mallows_score)\n",
    "from utils import sankey_plot_with_labels\n",
    "\n",
    "RANDOM_STATE = 42\n",
    "RESULTS_FOLDER = 'results/'\n",
    "DATA_PATH = 'data/GSE239626/MTX'"
   ]
  },
  {
   "cell_type": "code",
   "execution_count": 2,
   "metadata": {},
   "outputs": [
    {
     "data": {
      "text/plain": [
       "AnnData object with n_obs × n_vars = 72317 × 36636\n",
       "    var: 'gene_ids', 'feature_types'"
      ]
     },
     "execution_count": 2,
     "metadata": {},
     "output_type": "execute_result"
    }
   ],
   "source": [
    "adata = sc.read_10x_mtx(\n",
    "    DATA_PATH,\n",
    "    var_names='gene_symbols',\n",
    "    gex_only=False,\n",
    "    cache=True)\n",
    "\n",
    "adata.var_names_make_unique()\n",
    "adata"
   ]
  },
  {
   "cell_type": "code",
   "execution_count": 3,
   "metadata": {},
   "outputs": [
    {
     "data": {
      "text/plain": [
       "View of AnnData object with n_obs × n_vars = 72317 × 35\n",
       "    var: 'gene_ids', 'feature_types'"
      ]
     },
     "execution_count": 3,
     "metadata": {},
     "output_type": "execute_result"
    }
   ],
   "source": [
    "adata = adata[:, adata.var['feature_types'] == 'Antibody Capture'] # select only antibody capture features\n",
    "adata"
   ]
  },
  {
   "cell_type": "code",
   "execution_count": 4,
   "metadata": {},
   "outputs": [
    {
     "data": {
      "text/plain": [
       "2013559"
      ]
     },
     "execution_count": 4,
     "metadata": {},
     "output_type": "execute_result"
    }
   ],
   "source": [
    "adata.X.getnnz() # number of non-zero elements in the matrix"
   ]
  },
  {
   "cell_type": "code",
   "execution_count": 5,
   "metadata": {},
   "outputs": [
    {
     "data": {
      "text/plain": [
       "0.7955288126285264"
      ]
     },
     "execution_count": 5,
     "metadata": {},
     "output_type": "execute_result"
    }
   ],
   "source": [
    "adata.X.getnnz() / (adata.X.shape[0]*adata.X.shape[1])"
   ]
  },
  {
   "cell_type": "code",
   "execution_count": 6,
   "metadata": {},
   "outputs": [
    {
     "data": {
      "text/plain": [
       "(72317, 35)"
      ]
     },
     "execution_count": 6,
     "metadata": {},
     "output_type": "execute_result"
    }
   ],
   "source": [
    "adata.X.shape"
   ]
  },
  {
   "cell_type": "code",
   "execution_count": 7,
   "metadata": {},
   "outputs": [
    {
     "data": {
      "text/plain": [
       "(57.529415, 453.84702)"
      ]
     },
     "execution_count": 7,
     "metadata": {},
     "output_type": "execute_result"
    }
   ],
   "source": [
    "np.mean(adata.X.toarray()), np.std(adata.X.toarray())"
   ]
  },
  {
   "cell_type": "code",
   "execution_count": 8,
   "metadata": {},
   "outputs": [
    {
     "data": {
      "text/plain": [
       "(278131.0, 0.0)"
      ]
     },
     "execution_count": 8,
     "metadata": {},
     "output_type": "execute_result"
    }
   ],
   "source": [
    "adata.X.max(), adata.X.min()"
   ]
  },
  {
   "cell_type": "code",
   "execution_count": 9,
   "metadata": {},
   "outputs": [
    {
     "data": {
      "text/plain": [
       "(72.31594, 507.78848, 1.0, 278131.0)"
      ]
     },
     "execution_count": 9,
     "metadata": {},
     "output_type": "execute_result"
    }
   ],
   "source": [
    "# exclude 0 values, print the mean and std of the data\n",
    "X_nnz = adata.X[adata.X > 0]\n",
    "np.mean(X_nnz), np.std(X_nnz), np.min(X_nnz), np.max(X_nnz)"
   ]
  },
  {
   "cell_type": "code",
   "execution_count": 10,
   "metadata": {},
   "outputs": [],
   "source": [
    "def perturbate_data(X, random_seed, noise_level=3):\n",
    "    np.random.seed(random_seed)\n",
    "    noise = np.random.randint(0, noise_level, size=X.shape)\n",
    "    return np.clip(a=X+noise, a_min=0, a_max=None)\n",
    "\n",
    "def upsample_with_replacement(X, random_seed, upsample_ratio=1.2):\n",
    "    np.random.seed(random_seed)\n",
    "    n_samples = int(X.shape[0] * upsample_ratio)\n",
    "    idx = np.random.choice(X.shape[0], n_samples, replace=True)\n",
    "    return X[idx], idx\n",
    "\n",
    "def upsample_with_noise(X, random_seed, upsample_ratio=1.2, noise_level=3):\n",
    "    X, idx = upsample_with_replacement(X, random_seed, upsample_ratio)\n",
    "    return perturbate_data(X, random_seed, noise_level), idx\n",
    "\n",
    "def downsample_with_replacement(X, random_seed, downsample_ratio=0.8):\n",
    "    np.random.seed(random_seed)\n",
    "    n_samples = int(X.shape[0] * downsample_ratio)\n",
    "    idx = np.random.choice(X.shape[0], n_samples, replace=True)\n",
    "    return X[idx], idx\n",
    "\n",
    "def downsample_with_noise(X, random_seed, downsample_ratio=0.8, noise_level=3):\n",
    "    X, idx = downsample_with_replacement(X, random_seed, downsample_ratio)\n",
    "    return perturbate_data(X, random_seed, noise_level), idx"
   ]
  },
  {
   "cell_type": "code",
   "execution_count": 11,
   "metadata": {},
   "outputs": [],
   "source": [
    "def leiden_clustering(adata, n_neighbors=10, pca_dim=5, resolution=0.5):\n",
    "    with warnings.catch_warnings():\n",
    "        warnings.simplefilter('ignore')\n",
    "\n",
    "        sc.pp.normalize_total(adata, target_sum=1e4)\n",
    "        sc.pp.log1p(adata)\n",
    "\n",
    "        sc.pp.neighbors(\n",
    "            adata,\n",
    "            n_neighbors=n_neighbors,\n",
    "            n_pcs=pca_dim,\n",
    "            knn=True,\n",
    "            metric='euclidean',\n",
    "            random_state=RANDOM_STATE\n",
    "            )\n",
    "\n",
    "        sc.tl.umap(\n",
    "            adata,\n",
    "            n_components=2, # number of dimensions of the UMAP embedding\n",
    "            method='umap',\n",
    "            random_state=RANDOM_STATE,\n",
    "            )\n",
    "\n",
    "        sc.tl.leiden(\n",
    "            adata,\n",
    "            resolution=resolution,\n",
    "            directed=False, # undirect graph\n",
    "            n_iterations=-1, # until convergence of the clustering\n",
    "            flavor='leidenalg',\n",
    "            random_state=RANDOM_STATE,\n",
    "            )\n",
    "    \n",
    "    return adata.obs['leiden']"
   ]
  },
  {
   "cell_type": "code",
   "execution_count": 12,
   "metadata": {},
   "outputs": [],
   "source": [
    "def evaluate_clustering(X, y):\n",
    "    scores = {\n",
    "        'davies_bouldin_score': davies_bouldin_score(X, y),\n",
    "        'calinski_harabasz_score': calinski_harabasz_score(X, y),\n",
    "        'silhouette_score': silhouette_score(X, y),\n",
    "    }\n",
    "    return scores\n",
    "\n",
    "def evaluate_clustering_wrt_original_data_label(y, y_original):\n",
    "    y_original = y_original[y.notna()]\n",
    "    y = y[y.notna()]\n",
    "    scores = {\n",
    "        'adjusted_rand': adjusted_rand_score(y_original, y),\n",
    "        'adjusted_mutual_info': adjusted_mutual_info_score(y_original, y),\n",
    "        'homogeneity': homogeneity_score(y_original, y),\n",
    "        'completeness': completeness_score(y_original, y),\n",
    "        'v_measure': v_measure_score(y_original, y),\n",
    "        'fowlkes_mallows': fowlkes_mallows_score(y_original, y),\n",
    "    }\n",
    "    return scores"
   ]
  },
  {
   "cell_type": "code",
   "execution_count": 13,
   "metadata": {},
   "outputs": [],
   "source": [
    "labels_df = pd.DataFrame()\n",
    "\n",
    "X = sc.AnnData(adata.X)\n",
    "\n",
    "sc.tl.pca(\n",
    "    X,\n",
    "    svd_solver='arpack',\n",
    "    n_comps=30,\n",
    "    random_state=RANDOM_STATE\n",
    "    )\n",
    "\n",
    "labels_df['original'] = leiden_clustering(X)"
   ]
  },
  {
   "cell_type": "code",
   "execution_count": 14,
   "metadata": {},
   "outputs": [
    {
     "name": "stderr",
     "output_type": "stream",
     "text": [
      "C:\\Users\\giuli\\AppData\\Local\\Temp\\ipykernel_38084\\2718950431.py:4: FutureWarning: The behavior of DataFrame concatenation with empty or all-NA entries is deprecated. In a future version, this will no longer exclude empty or all-NA columns when determining the result dtypes. To retain the old behavior, exclude the relevant entries before the concat operation.\n",
      "  clustering_metrics_df = pd.concat([clustering_metrics_df, pd.DataFrame({\n"
     ]
    }
   ],
   "source": [
    "clustering_metrics_df = pd.DataFrame(columns=['data', 'random_seed',\n",
    "    'adjusted_rand', 'adjusted_mutual_info', 'homogeneity', 'completeness', 'v_measure', 'fowlkes_mallows'])\n",
    "\n",
    "clustering_metrics_df = pd.concat([clustering_metrics_df, pd.DataFrame({\n",
    "    'data': ['original'],\n",
    "    'random_seed': np.nan,\n",
    "    #**evaluate_clustering(X.toarray(), labels_df['original'])\n",
    "    **evaluate_clustering_wrt_original_data_label(labels_df['original'], labels_df['original'])\n",
    "})], ignore_index=True)"
   ]
  },
  {
   "cell_type": "code",
   "execution_count": 15,
   "metadata": {},
   "outputs": [
    {
     "data": {
      "text/html": [
       "<div>\n",
       "<style scoped>\n",
       "    .dataframe tbody tr th:only-of-type {\n",
       "        vertical-align: middle;\n",
       "    }\n",
       "\n",
       "    .dataframe tbody tr th {\n",
       "        vertical-align: top;\n",
       "    }\n",
       "\n",
       "    .dataframe thead th {\n",
       "        text-align: right;\n",
       "    }\n",
       "</style>\n",
       "<table border=\"1\" class=\"dataframe\">\n",
       "  <thead>\n",
       "    <tr style=\"text-align: right;\">\n",
       "      <th></th>\n",
       "      <th>data</th>\n",
       "      <th>random_seed</th>\n",
       "      <th>adjusted_rand</th>\n",
       "      <th>adjusted_mutual_info</th>\n",
       "      <th>homogeneity</th>\n",
       "      <th>completeness</th>\n",
       "      <th>v_measure</th>\n",
       "      <th>fowlkes_mallows</th>\n",
       "    </tr>\n",
       "  </thead>\n",
       "  <tbody>\n",
       "    <tr>\n",
       "      <th>0</th>\n",
       "      <td>original</td>\n",
       "      <td>NaN</td>\n",
       "      <td>1.0</td>\n",
       "      <td>1.0</td>\n",
       "      <td>1.0</td>\n",
       "      <td>1.0</td>\n",
       "      <td>1.0</td>\n",
       "      <td>1.0</td>\n",
       "    </tr>\n",
       "  </tbody>\n",
       "</table>\n",
       "</div>"
      ],
      "text/plain": [
       "       data  random_seed  adjusted_rand  adjusted_mutual_info  homogeneity  \\\n",
       "0  original          NaN            1.0                   1.0          1.0   \n",
       "\n",
       "   completeness  v_measure  fowlkes_mallows  \n",
       "0           1.0        1.0              1.0  "
      ]
     },
     "execution_count": 15,
     "metadata": {},
     "output_type": "execute_result"
    }
   ],
   "source": [
    "clustering_metrics_df"
   ]
  },
  {
   "cell_type": "code",
   "execution_count": 16,
   "metadata": {},
   "outputs": [],
   "source": [
    "def idx_to_str(idx):\n",
    "    return [str(i) for i in idx]\n",
    "\n",
    "def compute_pca_and_clustering(X, random_seed, data_name, idx, n_neighbors=10, pca_dim=5, resolution=0.5):\n",
    "    adata = sc.AnnData(X)\n",
    "\n",
    "    print(f'Computing PCA and clustering...')\n",
    "    sc.tl.pca(\n",
    "    adata,\n",
    "    svd_solver='arpack',\n",
    "    n_comps=30,\n",
    "    random_state=RANDOM_STATE\n",
    "    )\n",
    "\n",
    "    print(f'Running Leiden clustering...')\n",
    "    idx_str = idx_to_str(idx)\n",
    "    labels_df.loc[idx_str, data_name] = leiden_clustering(adata, n_neighbors, pca_dim, resolution)\n",
    "\n",
    "    print(f'Evaluating clustering... \\n')\n",
    "    return pd.DataFrame({\n",
    "        'data': [data_name],\n",
    "        'random_seed': random_seed,\n",
    "        #**evaluate_clustering(X.toarray(), labels_df[data_name])\n",
    "        **evaluate_clustering_wrt_original_data_label(labels_df[data_name], labels_df['original'])\n",
    "    })"
   ]
  },
  {
   "cell_type": "code",
   "execution_count": 17,
   "metadata": {},
   "outputs": [
    {
     "name": "stdout",
     "output_type": "stream",
     "text": [
      "Iteration 0 \n",
      "\n",
      "Noise level 3 \n",
      "\n",
      "Performing clustering on perturbated data\n",
      "Computing PCA and clustering...\n",
      "Running Leiden clustering...\n",
      "Evaluating clustering... \n",
      "\n",
      "Performing clustering on upsampled perturbated data\n",
      "Computing PCA and clustering...\n",
      "Running Leiden clustering...\n",
      "Evaluating clustering... \n",
      "\n",
      "Performing clustering on downsampled perturbated data\n",
      "Computing PCA and clustering...\n",
      "Running Leiden clustering...\n",
      "Evaluating clustering... \n",
      "\n",
      "Noise level 10 \n",
      "\n",
      "Performing clustering on perturbated data\n",
      "Computing PCA and clustering...\n",
      "Running Leiden clustering...\n",
      "Evaluating clustering... \n",
      "\n",
      "Performing clustering on upsampled perturbated data\n",
      "Computing PCA and clustering...\n",
      "Running Leiden clustering...\n",
      "Evaluating clustering... \n",
      "\n",
      "Performing clustering on downsampled perturbated data\n",
      "Computing PCA and clustering...\n",
      "Running Leiden clustering...\n",
      "Evaluating clustering... \n",
      "\n",
      "Noise level 100 \n",
      "\n",
      "Performing clustering on perturbated data\n",
      "Computing PCA and clustering...\n",
      "Running Leiden clustering...\n",
      "Evaluating clustering... \n",
      "\n",
      "Performing clustering on upsampled perturbated data\n",
      "Computing PCA and clustering...\n",
      "Running Leiden clustering...\n",
      "Evaluating clustering... \n",
      "\n",
      "Performing clustering on downsampled perturbated data\n",
      "Computing PCA and clustering...\n",
      "Running Leiden clustering...\n",
      "Evaluating clustering... \n",
      "\n",
      "Performing clustering on upsampled data\n",
      "Computing PCA and clustering...\n",
      "Running Leiden clustering...\n",
      "Evaluating clustering... \n",
      "\n",
      "Performing clustering on downsampled data\n",
      "Computing PCA and clustering...\n",
      "Running Leiden clustering...\n",
      "Evaluating clustering... \n",
      "\n",
      "Iteration 1 \n",
      "\n",
      "Noise level 3 \n",
      "\n",
      "Performing clustering on perturbated data\n",
      "Computing PCA and clustering...\n",
      "Running Leiden clustering...\n",
      "Evaluating clustering... \n",
      "\n",
      "Performing clustering on upsampled perturbated data\n",
      "Computing PCA and clustering...\n",
      "Running Leiden clustering...\n",
      "Evaluating clustering... \n",
      "\n",
      "Performing clustering on downsampled perturbated data\n",
      "Computing PCA and clustering...\n",
      "Running Leiden clustering...\n",
      "Evaluating clustering... \n",
      "\n",
      "Noise level 10 \n",
      "\n",
      "Performing clustering on perturbated data\n",
      "Computing PCA and clustering...\n",
      "Running Leiden clustering...\n",
      "Evaluating clustering... \n",
      "\n",
      "Performing clustering on upsampled perturbated data\n",
      "Computing PCA and clustering...\n",
      "Running Leiden clustering...\n",
      "Evaluating clustering... \n",
      "\n",
      "Performing clustering on downsampled perturbated data\n",
      "Computing PCA and clustering...\n",
      "Running Leiden clustering...\n",
      "Evaluating clustering... \n",
      "\n",
      "Noise level 100 \n",
      "\n",
      "Performing clustering on perturbated data\n",
      "Computing PCA and clustering...\n",
      "Running Leiden clustering...\n",
      "Evaluating clustering... \n",
      "\n",
      "Performing clustering on upsampled perturbated data\n",
      "Computing PCA and clustering...\n",
      "Running Leiden clustering...\n",
      "Evaluating clustering... \n",
      "\n",
      "Performing clustering on downsampled perturbated data\n",
      "Computing PCA and clustering...\n",
      "Running Leiden clustering...\n",
      "Evaluating clustering... \n",
      "\n",
      "Performing clustering on upsampled data\n",
      "Computing PCA and clustering...\n",
      "Running Leiden clustering...\n",
      "Evaluating clustering... \n",
      "\n",
      "Performing clustering on downsampled data\n",
      "Computing PCA and clustering...\n",
      "Running Leiden clustering...\n",
      "Evaluating clustering... \n",
      "\n"
     ]
    }
   ],
   "source": [
    "X = adata.X\n",
    "\n",
    "n_repeats = 2\n",
    "noise_levels = [3, 10, 100]\n",
    "\n",
    "for i in range(n_repeats):\n",
    "    print(f'Iteration {i} \\n')\n",
    "    random_seed = RANDOM_STATE*i\n",
    "\n",
    "    for noise_level in noise_levels:\n",
    "        print(f'Noise level {noise_level} \\n')\n",
    "        print('Performing clustering on perturbated data')\n",
    "        X_perturbated = perturbate_data(X.toarray(), random_seed)\n",
    "        idx = np.arange(X_perturbated.shape[0])\n",
    "        clustering_metrics_df = pd.concat([clustering_metrics_df,\n",
    "            compute_pca_and_clustering(X_perturbated, random_seed, \n",
    "            f'perturbated_noise{noise_level}_{i}', idx)], ignore_index=True)\n",
    "\n",
    "        print('Performing clustering on upsampled perturbated data')\n",
    "        X_upsampled_perturbated, idx = upsample_with_noise(X.toarray(), random_seed)\n",
    "        clustering_metrics_df = pd.concat([clustering_metrics_df,\n",
    "            compute_pca_and_clustering(X_upsampled_perturbated, random_seed, \n",
    "            f'upsampled_perturbated_noise{noise_level}_{i}', idx)], ignore_index=True)\n",
    "        \n",
    "        print('Performing clustering on downsampled perturbated data')\n",
    "        X_downsampled_perturbated, idx = downsample_with_noise(X.toarray(), random_seed)\n",
    "        clustering_metrics_df = pd.concat([clustering_metrics_df,\n",
    "            compute_pca_and_clustering(X_downsampled_perturbated, random_seed, \n",
    "            f'downsampled_perturbated_noise{noise_level}_{i}', idx)], ignore_index=True)\n",
    "\n",
    "    print('Performing clustering on upsampled data')\n",
    "    X_upsampled, idx = upsample_with_replacement(X.toarray(), random_seed)\n",
    "    clustering_metrics_df = pd.concat([clustering_metrics_df,\n",
    "        compute_pca_and_clustering(X_upsampled, random_seed, f'upsampled_{i}', idx)], ignore_index=True)\n",
    "    \n",
    "    print('Performing clustering on downsampled data')\n",
    "    X_downsampled, idx = downsample_with_replacement(X.toarray(), random_seed)\n",
    "    clustering_metrics_df = pd.concat([clustering_metrics_df,\n",
    "        compute_pca_and_clustering(X_downsampled, random_seed, f'downsampled_{i}', idx)], ignore_index=True)"
   ]
  },
  {
   "cell_type": "code",
   "execution_count": 18,
   "metadata": {},
   "outputs": [
    {
     "data": {
      "text/html": [
       "<div>\n",
       "<style scoped>\n",
       "    .dataframe tbody tr th:only-of-type {\n",
       "        vertical-align: middle;\n",
       "    }\n",
       "\n",
       "    .dataframe tbody tr th {\n",
       "        vertical-align: top;\n",
       "    }\n",
       "\n",
       "    .dataframe thead th {\n",
       "        text-align: right;\n",
       "    }\n",
       "</style>\n",
       "<table border=\"1\" class=\"dataframe\">\n",
       "  <thead>\n",
       "    <tr style=\"text-align: right;\">\n",
       "      <th></th>\n",
       "      <th>original</th>\n",
       "      <th>perturbated_noise3_0</th>\n",
       "      <th>upsampled_perturbated_noise3_0</th>\n",
       "      <th>downsampled_perturbated_noise3_0</th>\n",
       "      <th>perturbated_noise10_0</th>\n",
       "      <th>upsampled_perturbated_noise10_0</th>\n",
       "      <th>downsampled_perturbated_noise10_0</th>\n",
       "      <th>perturbated_noise100_0</th>\n",
       "      <th>upsampled_perturbated_noise100_0</th>\n",
       "      <th>downsampled_perturbated_noise100_0</th>\n",
       "      <th>...</th>\n",
       "      <th>upsampled_perturbated_noise3_1</th>\n",
       "      <th>downsampled_perturbated_noise3_1</th>\n",
       "      <th>perturbated_noise10_1</th>\n",
       "      <th>upsampled_perturbated_noise10_1</th>\n",
       "      <th>downsampled_perturbated_noise10_1</th>\n",
       "      <th>perturbated_noise100_1</th>\n",
       "      <th>upsampled_perturbated_noise100_1</th>\n",
       "      <th>downsampled_perturbated_noise100_1</th>\n",
       "      <th>upsampled_1</th>\n",
       "      <th>downsampled_1</th>\n",
       "    </tr>\n",
       "  </thead>\n",
       "  <tbody>\n",
       "    <tr>\n",
       "      <th>0</th>\n",
       "      <td>3</td>\n",
       "      <td>6</td>\n",
       "      <td>NaN</td>\n",
       "      <td>NaN</td>\n",
       "      <td>6</td>\n",
       "      <td>NaN</td>\n",
       "      <td>NaN</td>\n",
       "      <td>6</td>\n",
       "      <td>NaN</td>\n",
       "      <td>NaN</td>\n",
       "      <td>...</td>\n",
       "      <td>NaN</td>\n",
       "      <td>NaN</td>\n",
       "      <td>6</td>\n",
       "      <td>NaN</td>\n",
       "      <td>NaN</td>\n",
       "      <td>6</td>\n",
       "      <td>NaN</td>\n",
       "      <td>NaN</td>\n",
       "      <td>NaN</td>\n",
       "      <td>NaN</td>\n",
       "    </tr>\n",
       "    <tr>\n",
       "      <th>1</th>\n",
       "      <td>3</td>\n",
       "      <td>3</td>\n",
       "      <td>2</td>\n",
       "      <td>2</td>\n",
       "      <td>3</td>\n",
       "      <td>2</td>\n",
       "      <td>2</td>\n",
       "      <td>3</td>\n",
       "      <td>2</td>\n",
       "      <td>2</td>\n",
       "      <td>...</td>\n",
       "      <td>0</td>\n",
       "      <td>0</td>\n",
       "      <td>3</td>\n",
       "      <td>0</td>\n",
       "      <td>0</td>\n",
       "      <td>3</td>\n",
       "      <td>0</td>\n",
       "      <td>0</td>\n",
       "      <td>5</td>\n",
       "      <td>0</td>\n",
       "    </tr>\n",
       "    <tr>\n",
       "      <th>2</th>\n",
       "      <td>8</td>\n",
       "      <td>8</td>\n",
       "      <td>2</td>\n",
       "      <td>2</td>\n",
       "      <td>8</td>\n",
       "      <td>2</td>\n",
       "      <td>2</td>\n",
       "      <td>8</td>\n",
       "      <td>2</td>\n",
       "      <td>2</td>\n",
       "      <td>...</td>\n",
       "      <td>5</td>\n",
       "      <td>5</td>\n",
       "      <td>8</td>\n",
       "      <td>5</td>\n",
       "      <td>5</td>\n",
       "      <td>8</td>\n",
       "      <td>5</td>\n",
       "      <td>5</td>\n",
       "      <td>3</td>\n",
       "      <td>5</td>\n",
       "    </tr>\n",
       "    <tr>\n",
       "      <th>3</th>\n",
       "      <td>3</td>\n",
       "      <td>3</td>\n",
       "      <td>3</td>\n",
       "      <td>NaN</td>\n",
       "      <td>3</td>\n",
       "      <td>3</td>\n",
       "      <td>NaN</td>\n",
       "      <td>3</td>\n",
       "      <td>3</td>\n",
       "      <td>NaN</td>\n",
       "      <td>...</td>\n",
       "      <td>4</td>\n",
       "      <td>NaN</td>\n",
       "      <td>3</td>\n",
       "      <td>4</td>\n",
       "      <td>NaN</td>\n",
       "      <td>3</td>\n",
       "      <td>4</td>\n",
       "      <td>NaN</td>\n",
       "      <td>4</td>\n",
       "      <td>NaN</td>\n",
       "    </tr>\n",
       "    <tr>\n",
       "      <th>4</th>\n",
       "      <td>2</td>\n",
       "      <td>2</td>\n",
       "      <td>0</td>\n",
       "      <td>0</td>\n",
       "      <td>2</td>\n",
       "      <td>0</td>\n",
       "      <td>0</td>\n",
       "      <td>2</td>\n",
       "      <td>0</td>\n",
       "      <td>0</td>\n",
       "      <td>...</td>\n",
       "      <td>NaN</td>\n",
       "      <td>NaN</td>\n",
       "      <td>2</td>\n",
       "      <td>NaN</td>\n",
       "      <td>NaN</td>\n",
       "      <td>2</td>\n",
       "      <td>NaN</td>\n",
       "      <td>NaN</td>\n",
       "      <td>NaN</td>\n",
       "      <td>NaN</td>\n",
       "    </tr>\n",
       "  </tbody>\n",
       "</table>\n",
       "<p>5 rows × 23 columns</p>\n",
       "</div>"
      ],
      "text/plain": [
       "  original perturbated_noise3_0 upsampled_perturbated_noise3_0  \\\n",
       "0        3                    6                            NaN   \n",
       "1        3                    3                              2   \n",
       "2        8                    8                              2   \n",
       "3        3                    3                              3   \n",
       "4        2                    2                              0   \n",
       "\n",
       "  downsampled_perturbated_noise3_0 perturbated_noise10_0  \\\n",
       "0                              NaN                     6   \n",
       "1                                2                     3   \n",
       "2                                2                     8   \n",
       "3                              NaN                     3   \n",
       "4                                0                     2   \n",
       "\n",
       "  upsampled_perturbated_noise10_0 downsampled_perturbated_noise10_0  \\\n",
       "0                             NaN                               NaN   \n",
       "1                               2                                 2   \n",
       "2                               2                                 2   \n",
       "3                               3                               NaN   \n",
       "4                               0                                 0   \n",
       "\n",
       "  perturbated_noise100_0 upsampled_perturbated_noise100_0  \\\n",
       "0                      6                              NaN   \n",
       "1                      3                                2   \n",
       "2                      8                                2   \n",
       "3                      3                                3   \n",
       "4                      2                                0   \n",
       "\n",
       "  downsampled_perturbated_noise100_0  ... upsampled_perturbated_noise3_1  \\\n",
       "0                                NaN  ...                            NaN   \n",
       "1                                  2  ...                              0   \n",
       "2                                  2  ...                              5   \n",
       "3                                NaN  ...                              4   \n",
       "4                                  0  ...                            NaN   \n",
       "\n",
       "  downsampled_perturbated_noise3_1 perturbated_noise10_1  \\\n",
       "0                              NaN                     6   \n",
       "1                                0                     3   \n",
       "2                                5                     8   \n",
       "3                              NaN                     3   \n",
       "4                              NaN                     2   \n",
       "\n",
       "  upsampled_perturbated_noise10_1 downsampled_perturbated_noise10_1  \\\n",
       "0                             NaN                               NaN   \n",
       "1                               0                                 0   \n",
       "2                               5                                 5   \n",
       "3                               4                               NaN   \n",
       "4                             NaN                               NaN   \n",
       "\n",
       "  perturbated_noise100_1 upsampled_perturbated_noise100_1  \\\n",
       "0                      6                              NaN   \n",
       "1                      3                                0   \n",
       "2                      8                                5   \n",
       "3                      3                                4   \n",
       "4                      2                              NaN   \n",
       "\n",
       "  downsampled_perturbated_noise100_1 upsampled_1 downsampled_1  \n",
       "0                                NaN         NaN           NaN  \n",
       "1                                  0           5             0  \n",
       "2                                  5           3             5  \n",
       "3                                NaN           4           NaN  \n",
       "4                                NaN         NaN           NaN  \n",
       "\n",
       "[5 rows x 23 columns]"
      ]
     },
     "execution_count": 18,
     "metadata": {},
     "output_type": "execute_result"
    }
   ],
   "source": [
    "labels_df.head()"
   ]
  },
  {
   "cell_type": "code",
   "execution_count": 62,
   "metadata": {},
   "outputs": [
    {
     "data": {
      "text/html": [
       "<div>\n",
       "<style scoped>\n",
       "    .dataframe tbody tr th:only-of-type {\n",
       "        vertical-align: middle;\n",
       "    }\n",
       "\n",
       "    .dataframe tbody tr th {\n",
       "        vertical-align: top;\n",
       "    }\n",
       "\n",
       "    .dataframe thead th {\n",
       "        text-align: right;\n",
       "    }\n",
       "</style>\n",
       "<table border=\"1\" class=\"dataframe\">\n",
       "  <thead>\n",
       "    <tr style=\"text-align: right;\">\n",
       "      <th></th>\n",
       "      <th>data</th>\n",
       "      <th>random_seed</th>\n",
       "      <th>adjusted_rand</th>\n",
       "      <th>adjusted_mutual_info</th>\n",
       "      <th>homogeneity</th>\n",
       "      <th>completeness</th>\n",
       "      <th>v_measure</th>\n",
       "      <th>fowlkes_mallows</th>\n",
       "    </tr>\n",
       "  </thead>\n",
       "  <tbody>\n",
       "    <tr>\n",
       "      <th>0</th>\n",
       "      <td>original</td>\n",
       "      <td>NaN</td>\n",
       "      <td>1.000000</td>\n",
       "      <td>1.000000e+00</td>\n",
       "      <td>1.000000</td>\n",
       "      <td>1.000000</td>\n",
       "      <td>1.000000</td>\n",
       "      <td>1.000000</td>\n",
       "    </tr>\n",
       "    <tr>\n",
       "      <th>1</th>\n",
       "      <td>perturbated_noise3_0</td>\n",
       "      <td>0.0</td>\n",
       "      <td>0.931053</td>\n",
       "      <td>9.130347e-01</td>\n",
       "      <td>0.915581</td>\n",
       "      <td>0.910571</td>\n",
       "      <td>0.913069</td>\n",
       "      <td>0.940543</td>\n",
       "    </tr>\n",
       "    <tr>\n",
       "      <th>2</th>\n",
       "      <td>upsampled_perturbated_noise3_0</td>\n",
       "      <td>0.0</td>\n",
       "      <td>-0.000024</td>\n",
       "      <td>-1.781826e-04</td>\n",
       "      <td>0.000659</td>\n",
       "      <td>0.000642</td>\n",
       "      <td>0.000650</td>\n",
       "      <td>0.135544</td>\n",
       "    </tr>\n",
       "    <tr>\n",
       "      <th>3</th>\n",
       "      <td>downsampled_perturbated_noise3_0</td>\n",
       "      <td>0.0</td>\n",
       "      <td>-0.000104</td>\n",
       "      <td>-2.495159e-04</td>\n",
       "      <td>0.000731</td>\n",
       "      <td>0.000717</td>\n",
       "      <td>0.000724</td>\n",
       "      <td>0.135223</td>\n",
       "    </tr>\n",
       "    <tr>\n",
       "      <th>4</th>\n",
       "      <td>perturbated_noise10_0</td>\n",
       "      <td>0.0</td>\n",
       "      <td>0.931053</td>\n",
       "      <td>9.130347e-01</td>\n",
       "      <td>0.915581</td>\n",
       "      <td>0.910571</td>\n",
       "      <td>0.913069</td>\n",
       "      <td>0.940543</td>\n",
       "    </tr>\n",
       "    <tr>\n",
       "      <th>5</th>\n",
       "      <td>upsampled_perturbated_noise10_0</td>\n",
       "      <td>0.0</td>\n",
       "      <td>-0.000024</td>\n",
       "      <td>-1.781826e-04</td>\n",
       "      <td>0.000659</td>\n",
       "      <td>0.000642</td>\n",
       "      <td>0.000650</td>\n",
       "      <td>0.135544</td>\n",
       "    </tr>\n",
       "    <tr>\n",
       "      <th>6</th>\n",
       "      <td>downsampled_perturbated_noise10_0</td>\n",
       "      <td>0.0</td>\n",
       "      <td>-0.000104</td>\n",
       "      <td>-2.495159e-04</td>\n",
       "      <td>0.000731</td>\n",
       "      <td>0.000717</td>\n",
       "      <td>0.000724</td>\n",
       "      <td>0.135223</td>\n",
       "    </tr>\n",
       "    <tr>\n",
       "      <th>7</th>\n",
       "      <td>perturbated_noise100_0</td>\n",
       "      <td>0.0</td>\n",
       "      <td>0.931053</td>\n",
       "      <td>9.130347e-01</td>\n",
       "      <td>0.915581</td>\n",
       "      <td>0.910571</td>\n",
       "      <td>0.913069</td>\n",
       "      <td>0.940543</td>\n",
       "    </tr>\n",
       "    <tr>\n",
       "      <th>8</th>\n",
       "      <td>upsampled_perturbated_noise100_0</td>\n",
       "      <td>0.0</td>\n",
       "      <td>-0.000024</td>\n",
       "      <td>-1.781826e-04</td>\n",
       "      <td>0.000659</td>\n",
       "      <td>0.000642</td>\n",
       "      <td>0.000650</td>\n",
       "      <td>0.135544</td>\n",
       "    </tr>\n",
       "    <tr>\n",
       "      <th>9</th>\n",
       "      <td>downsampled_perturbated_noise100_0</td>\n",
       "      <td>0.0</td>\n",
       "      <td>-0.000104</td>\n",
       "      <td>-2.495159e-04</td>\n",
       "      <td>0.000731</td>\n",
       "      <td>0.000717</td>\n",
       "      <td>0.000724</td>\n",
       "      <td>0.135223</td>\n",
       "    </tr>\n",
       "    <tr>\n",
       "      <th>10</th>\n",
       "      <td>upsampled_0</td>\n",
       "      <td>0.0</td>\n",
       "      <td>0.000242</td>\n",
       "      <td>5.670459e-05</td>\n",
       "      <td>0.008886</td>\n",
       "      <td>0.006677</td>\n",
       "      <td>0.007625</td>\n",
       "      <td>0.105314</td>\n",
       "    </tr>\n",
       "    <tr>\n",
       "      <th>11</th>\n",
       "      <td>downsampled_0</td>\n",
       "      <td>0.0</td>\n",
       "      <td>-0.000074</td>\n",
       "      <td>7.238579e-07</td>\n",
       "      <td>0.004935</td>\n",
       "      <td>0.004326</td>\n",
       "      <td>0.004610</td>\n",
       "      <td>0.123760</td>\n",
       "    </tr>\n",
       "    <tr>\n",
       "      <th>12</th>\n",
       "      <td>perturbated_noise3_1</td>\n",
       "      <td>42.0</td>\n",
       "      <td>0.931655</td>\n",
       "      <td>9.144230e-01</td>\n",
       "      <td>0.917495</td>\n",
       "      <td>0.911439</td>\n",
       "      <td>0.914457</td>\n",
       "      <td>0.941059</td>\n",
       "    </tr>\n",
       "    <tr>\n",
       "      <th>13</th>\n",
       "      <td>upsampled_perturbated_noise3_1</td>\n",
       "      <td>42.0</td>\n",
       "      <td>-0.000134</td>\n",
       "      <td>-4.141729e-05</td>\n",
       "      <td>0.000707</td>\n",
       "      <td>0.000689</td>\n",
       "      <td>0.000698</td>\n",
       "      <td>0.135339</td>\n",
       "    </tr>\n",
       "    <tr>\n",
       "      <th>14</th>\n",
       "      <td>downsampled_perturbated_noise3_1</td>\n",
       "      <td>42.0</td>\n",
       "      <td>-0.000156</td>\n",
       "      <td>5.625130e-05</td>\n",
       "      <td>0.001039</td>\n",
       "      <td>0.001034</td>\n",
       "      <td>0.001036</td>\n",
       "      <td>0.136182</td>\n",
       "    </tr>\n",
       "    <tr>\n",
       "      <th>15</th>\n",
       "      <td>perturbated_noise10_1</td>\n",
       "      <td>42.0</td>\n",
       "      <td>0.931655</td>\n",
       "      <td>9.144230e-01</td>\n",
       "      <td>0.917495</td>\n",
       "      <td>0.911439</td>\n",
       "      <td>0.914457</td>\n",
       "      <td>0.941059</td>\n",
       "    </tr>\n",
       "    <tr>\n",
       "      <th>16</th>\n",
       "      <td>upsampled_perturbated_noise10_1</td>\n",
       "      <td>42.0</td>\n",
       "      <td>-0.000134</td>\n",
       "      <td>-4.141729e-05</td>\n",
       "      <td>0.000707</td>\n",
       "      <td>0.000689</td>\n",
       "      <td>0.000698</td>\n",
       "      <td>0.135339</td>\n",
       "    </tr>\n",
       "    <tr>\n",
       "      <th>17</th>\n",
       "      <td>downsampled_perturbated_noise10_1</td>\n",
       "      <td>42.0</td>\n",
       "      <td>-0.000156</td>\n",
       "      <td>5.625130e-05</td>\n",
       "      <td>0.001039</td>\n",
       "      <td>0.001034</td>\n",
       "      <td>0.001036</td>\n",
       "      <td>0.136182</td>\n",
       "    </tr>\n",
       "    <tr>\n",
       "      <th>18</th>\n",
       "      <td>perturbated_noise100_1</td>\n",
       "      <td>42.0</td>\n",
       "      <td>0.931655</td>\n",
       "      <td>9.144230e-01</td>\n",
       "      <td>0.917495</td>\n",
       "      <td>0.911439</td>\n",
       "      <td>0.914457</td>\n",
       "      <td>0.941059</td>\n",
       "    </tr>\n",
       "    <tr>\n",
       "      <th>19</th>\n",
       "      <td>upsampled_perturbated_noise100_1</td>\n",
       "      <td>42.0</td>\n",
       "      <td>-0.000134</td>\n",
       "      <td>-4.141729e-05</td>\n",
       "      <td>0.000707</td>\n",
       "      <td>0.000689</td>\n",
       "      <td>0.000698</td>\n",
       "      <td>0.135339</td>\n",
       "    </tr>\n",
       "    <tr>\n",
       "      <th>20</th>\n",
       "      <td>downsampled_perturbated_noise100_1</td>\n",
       "      <td>42.0</td>\n",
       "      <td>-0.000156</td>\n",
       "      <td>5.625130e-05</td>\n",
       "      <td>0.001039</td>\n",
       "      <td>0.001034</td>\n",
       "      <td>0.001036</td>\n",
       "      <td>0.136182</td>\n",
       "    </tr>\n",
       "    <tr>\n",
       "      <th>21</th>\n",
       "      <td>upsampled_1</td>\n",
       "      <td>42.0</td>\n",
       "      <td>-0.000084</td>\n",
       "      <td>-2.483645e-04</td>\n",
       "      <td>0.008425</td>\n",
       "      <td>0.006144</td>\n",
       "      <td>0.007106</td>\n",
       "      <td>0.099942</td>\n",
       "    </tr>\n",
       "    <tr>\n",
       "      <th>22</th>\n",
       "      <td>downsampled_1</td>\n",
       "      <td>42.0</td>\n",
       "      <td>-0.000108</td>\n",
       "      <td>-4.249160e-06</td>\n",
       "      <td>0.004753</td>\n",
       "      <td>0.003976</td>\n",
       "      <td>0.004330</td>\n",
       "      <td>0.116137</td>\n",
       "    </tr>\n",
       "  </tbody>\n",
       "</table>\n",
       "</div>"
      ],
      "text/plain": [
       "                                  data  random_seed  adjusted_rand  \\\n",
       "0                             original          NaN       1.000000   \n",
       "1                 perturbated_noise3_0          0.0       0.931053   \n",
       "2       upsampled_perturbated_noise3_0          0.0      -0.000024   \n",
       "3     downsampled_perturbated_noise3_0          0.0      -0.000104   \n",
       "4                perturbated_noise10_0          0.0       0.931053   \n",
       "5      upsampled_perturbated_noise10_0          0.0      -0.000024   \n",
       "6    downsampled_perturbated_noise10_0          0.0      -0.000104   \n",
       "7               perturbated_noise100_0          0.0       0.931053   \n",
       "8     upsampled_perturbated_noise100_0          0.0      -0.000024   \n",
       "9   downsampled_perturbated_noise100_0          0.0      -0.000104   \n",
       "10                         upsampled_0          0.0       0.000242   \n",
       "11                       downsampled_0          0.0      -0.000074   \n",
       "12                perturbated_noise3_1         42.0       0.931655   \n",
       "13      upsampled_perturbated_noise3_1         42.0      -0.000134   \n",
       "14    downsampled_perturbated_noise3_1         42.0      -0.000156   \n",
       "15               perturbated_noise10_1         42.0       0.931655   \n",
       "16     upsampled_perturbated_noise10_1         42.0      -0.000134   \n",
       "17   downsampled_perturbated_noise10_1         42.0      -0.000156   \n",
       "18              perturbated_noise100_1         42.0       0.931655   \n",
       "19    upsampled_perturbated_noise100_1         42.0      -0.000134   \n",
       "20  downsampled_perturbated_noise100_1         42.0      -0.000156   \n",
       "21                         upsampled_1         42.0      -0.000084   \n",
       "22                       downsampled_1         42.0      -0.000108   \n",
       "\n",
       "    adjusted_mutual_info  homogeneity  completeness  v_measure  \\\n",
       "0           1.000000e+00     1.000000      1.000000   1.000000   \n",
       "1           9.130347e-01     0.915581      0.910571   0.913069   \n",
       "2          -1.781826e-04     0.000659      0.000642   0.000650   \n",
       "3          -2.495159e-04     0.000731      0.000717   0.000724   \n",
       "4           9.130347e-01     0.915581      0.910571   0.913069   \n",
       "5          -1.781826e-04     0.000659      0.000642   0.000650   \n",
       "6          -2.495159e-04     0.000731      0.000717   0.000724   \n",
       "7           9.130347e-01     0.915581      0.910571   0.913069   \n",
       "8          -1.781826e-04     0.000659      0.000642   0.000650   \n",
       "9          -2.495159e-04     0.000731      0.000717   0.000724   \n",
       "10          5.670459e-05     0.008886      0.006677   0.007625   \n",
       "11          7.238579e-07     0.004935      0.004326   0.004610   \n",
       "12          9.144230e-01     0.917495      0.911439   0.914457   \n",
       "13         -4.141729e-05     0.000707      0.000689   0.000698   \n",
       "14          5.625130e-05     0.001039      0.001034   0.001036   \n",
       "15          9.144230e-01     0.917495      0.911439   0.914457   \n",
       "16         -4.141729e-05     0.000707      0.000689   0.000698   \n",
       "17          5.625130e-05     0.001039      0.001034   0.001036   \n",
       "18          9.144230e-01     0.917495      0.911439   0.914457   \n",
       "19         -4.141729e-05     0.000707      0.000689   0.000698   \n",
       "20          5.625130e-05     0.001039      0.001034   0.001036   \n",
       "21         -2.483645e-04     0.008425      0.006144   0.007106   \n",
       "22         -4.249160e-06     0.004753      0.003976   0.004330   \n",
       "\n",
       "    fowlkes_mallows  \n",
       "0          1.000000  \n",
       "1          0.940543  \n",
       "2          0.135544  \n",
       "3          0.135223  \n",
       "4          0.940543  \n",
       "5          0.135544  \n",
       "6          0.135223  \n",
       "7          0.940543  \n",
       "8          0.135544  \n",
       "9          0.135223  \n",
       "10         0.105314  \n",
       "11         0.123760  \n",
       "12         0.941059  \n",
       "13         0.135339  \n",
       "14         0.136182  \n",
       "15         0.941059  \n",
       "16         0.135339  \n",
       "17         0.136182  \n",
       "18         0.941059  \n",
       "19         0.135339  \n",
       "20         0.136182  \n",
       "21         0.099942  \n",
       "22         0.116137  "
      ]
     },
     "execution_count": 62,
     "metadata": {},
     "output_type": "execute_result"
    }
   ],
   "source": [
    "clustering_metrics_df"
   ]
  },
  {
   "cell_type": "code",
   "execution_count": 20,
   "metadata": {},
   "outputs": [],
   "source": [
    "# save results\n",
    "labels_df.to_csv(os.path.join(RESULTS_FOLDER, 'labels_perturbated_data.csv'))\n",
    "clustering_metrics_df.to_csv(os.path.join(RESULTS_FOLDER, 'clustering_metrics_perturbated_data.csv'))"
   ]
  },
  {
   "cell_type": "markdown",
   "metadata": {},
   "source": [
    "### Results Explorations"
   ]
  },
  {
   "cell_type": "code",
   "execution_count": 22,
   "metadata": {},
   "outputs": [],
   "source": [
    "labels_df = labels_df.astype(str)"
   ]
  },
  {
   "cell_type": "code",
   "execution_count": 23,
   "metadata": {},
   "outputs": [
    {
     "data": {
      "text/html": [
       "<div>\n",
       "<style scoped>\n",
       "    .dataframe tbody tr th:only-of-type {\n",
       "        vertical-align: middle;\n",
       "    }\n",
       "\n",
       "    .dataframe tbody tr th {\n",
       "        vertical-align: top;\n",
       "    }\n",
       "\n",
       "    .dataframe thead th {\n",
       "        text-align: right;\n",
       "    }\n",
       "</style>\n",
       "<table border=\"1\" class=\"dataframe\">\n",
       "  <thead>\n",
       "    <tr style=\"text-align: right;\">\n",
       "      <th></th>\n",
       "      <th>num_clusters</th>\n",
       "    </tr>\n",
       "  </thead>\n",
       "  <tbody>\n",
       "    <tr>\n",
       "      <th>original</th>\n",
       "      <td>12</td>\n",
       "    </tr>\n",
       "    <tr>\n",
       "      <th>perturbated_noise3_0</th>\n",
       "      <td>12</td>\n",
       "    </tr>\n",
       "    <tr>\n",
       "      <th>upsampled_perturbated_noise3_0</th>\n",
       "      <td>19</td>\n",
       "    </tr>\n",
       "    <tr>\n",
       "      <th>downsampled_perturbated_noise3_0</th>\n",
       "      <td>14</td>\n",
       "    </tr>\n",
       "    <tr>\n",
       "      <th>perturbated_noise10_0</th>\n",
       "      <td>12</td>\n",
       "    </tr>\n",
       "    <tr>\n",
       "      <th>upsampled_perturbated_noise10_0</th>\n",
       "      <td>19</td>\n",
       "    </tr>\n",
       "    <tr>\n",
       "      <th>downsampled_perturbated_noise10_0</th>\n",
       "      <td>14</td>\n",
       "    </tr>\n",
       "    <tr>\n",
       "      <th>perturbated_noise100_0</th>\n",
       "      <td>12</td>\n",
       "    </tr>\n",
       "    <tr>\n",
       "      <th>upsampled_perturbated_noise100_0</th>\n",
       "      <td>19</td>\n",
       "    </tr>\n",
       "    <tr>\n",
       "      <th>downsampled_perturbated_noise100_0</th>\n",
       "      <td>14</td>\n",
       "    </tr>\n",
       "    <tr>\n",
       "      <th>upsampled_0</th>\n",
       "      <td>224</td>\n",
       "    </tr>\n",
       "    <tr>\n",
       "      <th>downsampled_0</th>\n",
       "      <td>82</td>\n",
       "    </tr>\n",
       "    <tr>\n",
       "      <th>perturbated_noise3_1</th>\n",
       "      <td>12</td>\n",
       "    </tr>\n",
       "    <tr>\n",
       "      <th>upsampled_perturbated_noise3_1</th>\n",
       "      <td>17</td>\n",
       "    </tr>\n",
       "    <tr>\n",
       "      <th>downsampled_perturbated_noise3_1</th>\n",
       "      <td>14</td>\n",
       "    </tr>\n",
       "    <tr>\n",
       "      <th>perturbated_noise10_1</th>\n",
       "      <td>12</td>\n",
       "    </tr>\n",
       "    <tr>\n",
       "      <th>upsampled_perturbated_noise10_1</th>\n",
       "      <td>17</td>\n",
       "    </tr>\n",
       "    <tr>\n",
       "      <th>downsampled_perturbated_noise10_1</th>\n",
       "      <td>14</td>\n",
       "    </tr>\n",
       "    <tr>\n",
       "      <th>perturbated_noise100_1</th>\n",
       "      <td>12</td>\n",
       "    </tr>\n",
       "    <tr>\n",
       "      <th>upsampled_perturbated_noise100_1</th>\n",
       "      <td>17</td>\n",
       "    </tr>\n",
       "    <tr>\n",
       "      <th>downsampled_perturbated_noise100_1</th>\n",
       "      <td>14</td>\n",
       "    </tr>\n",
       "    <tr>\n",
       "      <th>upsampled_1</th>\n",
       "      <td>220</td>\n",
       "    </tr>\n",
       "    <tr>\n",
       "      <th>downsampled_1</th>\n",
       "      <td>76</td>\n",
       "    </tr>\n",
       "  </tbody>\n",
       "</table>\n",
       "</div>"
      ],
      "text/plain": [
       "                                    num_clusters\n",
       "original                                      12\n",
       "perturbated_noise3_0                          12\n",
       "upsampled_perturbated_noise3_0                19\n",
       "downsampled_perturbated_noise3_0              14\n",
       "perturbated_noise10_0                         12\n",
       "upsampled_perturbated_noise10_0               19\n",
       "downsampled_perturbated_noise10_0             14\n",
       "perturbated_noise100_0                        12\n",
       "upsampled_perturbated_noise100_0              19\n",
       "downsampled_perturbated_noise100_0            14\n",
       "upsampled_0                                  224\n",
       "downsampled_0                                 82\n",
       "perturbated_noise3_1                          12\n",
       "upsampled_perturbated_noise3_1                17\n",
       "downsampled_perturbated_noise3_1              14\n",
       "perturbated_noise10_1                         12\n",
       "upsampled_perturbated_noise10_1               17\n",
       "downsampled_perturbated_noise10_1             14\n",
       "perturbated_noise100_1                        12\n",
       "upsampled_perturbated_noise100_1              17\n",
       "downsampled_perturbated_noise100_1            14\n",
       "upsampled_1                                  220\n",
       "downsampled_1                                 76"
      ]
     },
     "execution_count": 23,
     "metadata": {},
     "output_type": "execute_result"
    }
   ],
   "source": [
    "num_clusters = pd.DataFrame(labels_df.nunique(), columns=['num_clusters'])\n",
    "num_clusters"
   ]
  },
  {
   "cell_type": "code",
   "execution_count": 52,
   "metadata": {},
   "outputs": [],
   "source": [
    "columns_to_visualize_noise = [\n",
    "    'perturbated_noise3_0', 'perturbated_noise10_0', 'perturbated_noise100_0', 'original',\n",
    "    'perturbated_noise3_1', 'perturbated_noise10_1', 'perturbated_noise100_1']\n",
    "\n",
    "columns_to_visualize_upsample = ['upsampled_perturbated_noise3_0', 'upsampled_perturbated_noise10_0',\n",
    "    'upsampled_perturbated_noise100_0', 'original', 'upsampled_perturbated_noise3_1', 'upsampled_perturbated_noise10_1',\n",
    "    'upsampled_perturbated_noise100_1']\n",
    "\n",
    "columns_to_visualize_downsample = ['downsampled_perturbated_noise3_0', 'downsampled_perturbated_noise10_0',\n",
    "    'downsampled_perturbated_noise100_0', 'original', 'downsampled_perturbated_noise3_1', 'downsampled_perturbated_noise10_1',\n",
    "    'downsampled_perturbated_noise100_1']"
   ]
  },
  {
   "cell_type": "code",
   "execution_count": 46,
   "metadata": {},
   "outputs": [
    {
     "data": {
      "application/vnd.plotly.v1+json": {
       "config": {
        "plotlyServerURL": "https://plot.ly"
       },
       "data": [
        {
         "link": {
          "source": [
           0,
           1,
           2,
           3,
           4,
           5,
           6,
           7,
           8,
           9,
           10,
           11,
           12,
           13,
           14,
           15,
           16,
           17,
           18,
           19,
           20,
           21,
           22,
           23,
           24,
           24,
           24,
           24,
           24,
           24,
           24,
           24,
           24,
           24,
           25,
           25,
           25,
           25,
           25,
           25,
           25,
           25,
           25,
           25,
           26,
           26,
           26,
           26,
           26,
           26,
           26,
           26,
           26,
           27,
           27,
           27,
           27,
           27,
           28,
           28,
           28,
           28,
           28,
           28,
           28,
           28,
           29,
           29,
           29,
           29,
           29,
           29,
           29,
           29,
           29,
           29,
           29,
           30,
           30,
           30,
           30,
           30,
           30,
           30,
           30,
           30,
           30,
           31,
           31,
           31,
           31,
           31,
           31,
           31,
           31,
           31,
           31,
           31,
           31,
           32,
           32,
           32,
           32,
           32,
           32,
           32,
           32,
           32,
           32,
           33,
           33,
           33,
           33,
           33,
           33,
           33,
           34,
           34,
           34,
           34,
           34,
           34,
           34,
           34,
           35,
           35,
           35,
           35,
           35,
           35,
           35,
           35,
           35,
           35,
           35,
           35,
           36,
           36,
           36,
           36,
           36,
           36,
           36,
           36,
           36,
           36,
           37,
           37,
           37,
           37,
           37,
           37,
           37,
           37,
           37,
           37,
           37,
           38,
           38,
           38,
           38,
           38,
           38,
           39,
           39,
           39,
           39,
           39,
           39,
           39,
           39,
           39,
           39,
           39,
           39,
           40,
           40,
           40,
           40,
           40,
           40,
           40,
           41,
           41,
           41,
           41,
           41,
           41,
           41,
           41,
           41,
           41,
           41,
           41,
           42,
           42,
           42,
           42,
           42,
           42,
           42,
           42,
           42,
           42,
           42,
           43,
           43,
           43,
           43,
           43,
           43,
           43,
           43,
           44,
           44,
           44,
           44,
           44,
           44,
           44,
           44,
           44,
           44,
           44,
           45,
           45,
           45,
           45,
           45,
           45,
           45,
           45,
           46,
           46,
           46,
           46,
           46,
           46,
           46,
           46,
           46,
           47,
           47,
           47,
           47,
           47,
           47,
           47,
           47,
           47,
           48,
           49,
           50,
           51,
           52,
           53,
           54,
           55,
           56,
           57,
           58,
           59,
           60,
           61,
           62,
           63,
           64,
           65,
           66,
           67,
           68,
           69,
           70,
           71
          ],
          "target": [
           12,
           13,
           14,
           15,
           16,
           17,
           18,
           19,
           20,
           21,
           22,
           23,
           24,
           25,
           26,
           27,
           28,
           29,
           30,
           31,
           32,
           33,
           34,
           35,
           36,
           37,
           38,
           39,
           41,
           42,
           44,
           45,
           46,
           47,
           36,
           37,
           38,
           39,
           41,
           42,
           43,
           44,
           45,
           47,
           36,
           37,
           38,
           39,
           40,
           42,
           43,
           46,
           47,
           36,
           39,
           41,
           42,
           45,
           36,
           39,
           40,
           41,
           42,
           45,
           46,
           47,
           36,
           37,
           39,
           40,
           41,
           42,
           43,
           44,
           45,
           46,
           47,
           36,
           37,
           39,
           41,
           42,
           43,
           44,
           45,
           46,
           47,
           36,
           37,
           38,
           39,
           40,
           41,
           42,
           43,
           44,
           45,
           46,
           47,
           36,
           37,
           39,
           41,
           42,
           43,
           44,
           45,
           46,
           47,
           37,
           39,
           41,
           42,
           44,
           45,
           47,
           39,
           40,
           41,
           42,
           43,
           44,
           46,
           47,
           36,
           37,
           38,
           39,
           40,
           41,
           42,
           43,
           44,
           45,
           46,
           47,
           48,
           49,
           50,
           51,
           53,
           54,
           55,
           56,
           57,
           59,
           48,
           49,
           50,
           51,
           52,
           53,
           54,
           56,
           57,
           58,
           59,
           48,
           49,
           50,
           52,
           55,
           59,
           48,
           49,
           50,
           51,
           52,
           53,
           54,
           55,
           56,
           57,
           58,
           59,
           48,
           50,
           52,
           53,
           55,
           58,
           59,
           48,
           49,
           50,
           51,
           52,
           53,
           54,
           55,
           56,
           57,
           58,
           59,
           48,
           49,
           50,
           51,
           53,
           54,
           55,
           56,
           57,
           58,
           59,
           50,
           52,
           53,
           54,
           55,
           56,
           58,
           59,
           48,
           49,
           50,
           52,
           53,
           54,
           55,
           56,
           57,
           58,
           59,
           48,
           49,
           51,
           54,
           55,
           56,
           57,
           59,
           48,
           49,
           50,
           52,
           53,
           55,
           56,
           58,
           59,
           48,
           49,
           52,
           53,
           54,
           56,
           57,
           58,
           59,
           60,
           61,
           62,
           63,
           64,
           65,
           66,
           67,
           68,
           69,
           70,
           71,
           72,
           73,
           74,
           75,
           76,
           77,
           78,
           79,
           80,
           81,
           82,
           83
          ],
          "value": [
           14001,
           13806,
           746,
           107,
           10184,
           9781,
           7669,
           6737,
           3184,
           2350,
           2266,
           1486,
           14001,
           13806,
           746,
           107,
           10184,
           9781,
           7669,
           6737,
           3184,
           2350,
           2266,
           1486,
           13631,
           302,
           1,
           2,
           13,
           15,
           13,
           6,
           2,
           16,
           283,
           13469,
           3,
           5,
           5,
           13,
           1,
           9,
           13,
           5,
           7,
           5,
           721,
           2,
           2,
           2,
           3,
           3,
           1,
           2,
           102,
           1,
           1,
           1,
           2,
           8,
           10107,
           2,
           1,
           1,
           29,
           34,
           5,
           1,
           5,
           1,
           9450,
           280,
           12,
           11,
           2,
           3,
           11,
           16,
           40,
           2,
           345,
           7202,
           5,
           38,
           14,
           1,
           6,
           7,
           1,
           4,
           10,
           4,
           5,
           18,
           6676,
           4,
           1,
           3,
           4,
           26,
           27,
           2,
           120,
           93,
           2,
           2906,
           4,
           1,
           3,
           5,
           1,
           6,
           12,
           13,
           2312,
           1,
           1,
           26,
           3,
           1,
           2,
           1,
           2231,
           1,
           112,
           55,
           51,
           12,
           81,
           81,
           41,
           36,
           10,
           12,
           64,
           931,
           344,
           13563,
           8,
           1,
           8,
           19,
           9,
           21,
           2,
           116,
           13503,
           274,
           8,
           2,
           1,
           4,
           28,
           25,
           6,
           1,
           53,
           2,
           1,
           768,
           1,
           3,
           5,
           10,
           4,
           2,
           105,
           6,
           1,
           3,
           5,
           1,
           4,
           1,
           10,
           1,
           2,
           10091,
           1,
           1,
           31,
           94,
           4,
           14,
           1,
           1,
           3,
           9477,
           320,
           5,
           115,
           5,
           2,
           84,
           17,
           15,
           4,
           2,
           227,
           7228,
           28,
           95,
           17,
           1,
           45,
           1,
           3,
           5,
           6,
           6680,
           4,
           3,
           35,
           9,
           10,
           1,
           1,
           10,
           35,
           2,
           2911,
           14,
           1,
           11,
           11,
           6,
           1,
           15,
           4,
           5,
           2311,
           13,
           1,
           1,
           3,
           28,
           3,
           3,
           2,
           2228,
           68,
           6,
           10,
           30,
           1,
           2,
           1,
           17,
           7,
           939,
           13908,
           13898,
           798,
           112,
           10164,
           9737,
           7656,
           6740,
           3180,
           2376,
           2275,
           1473,
           13908,
           13898,
           798,
           112,
           10164,
           9737,
           7656,
           6740,
           3180,
           2376,
           2275,
           1473
          ]
         },
         "node": {
          "color": [
           "#1f77b4",
           "#ff7f0e",
           "#2ca02c",
           "#d62728",
           "#9467bd",
           "#8c564b",
           "#e377c2",
           "#7f7f7f",
           "#bcbd22",
           "#17becf",
           "#1f77b4",
           "#ff7f0e",
           "#2ca02c",
           "#d62728",
           "#9467bd",
           "#8c564b",
           "#e377c2",
           "#7f7f7f",
           "#bcbd22",
           "#17becf",
           "#1f77b4",
           "#ff7f0e",
           "#2ca02c",
           "#d62728",
           "#9467bd",
           "#8c564b",
           "#e377c2",
           "#7f7f7f",
           "#bcbd22",
           "#17becf",
           "#1f77b4",
           "#ff7f0e",
           "#2ca02c",
           "#d62728",
           "#9467bd",
           "#8c564b",
           "#e377c2",
           "#7f7f7f",
           "#bcbd22",
           "#17becf",
           "#1f77b4",
           "#ff7f0e",
           "#2ca02c",
           "#d62728",
           "#9467bd",
           "#8c564b",
           "#e377c2",
           "#7f7f7f",
           "#bcbd22",
           "#17becf",
           "#1f77b4",
           "#ff7f0e",
           "#2ca02c",
           "#d62728",
           "#9467bd",
           "#8c564b",
           "#e377c2",
           "#7f7f7f",
           "#bcbd22",
           "#17becf",
           "#1f77b4",
           "#ff7f0e",
           "#2ca02c",
           "#d62728",
           "#9467bd",
           "#8c564b",
           "#e377c2",
           "#7f7f7f",
           "#bcbd22",
           "#17becf",
           "#1f77b4",
           "#ff7f0e",
           "#2ca02c",
           "#d62728",
           "#9467bd",
           "#8c564b",
           "#e377c2",
           "#7f7f7f",
           "#bcbd22",
           "#17becf",
           "#1f77b4",
           "#ff7f0e",
           "#2ca02c",
           "#d62728"
          ],
          "label": [
           "0",
           "1",
           "10",
           "11",
           "2",
           "3",
           "4",
           "5",
           "6",
           "7",
           "8",
           "9",
           "0",
           "1",
           "10",
           "11",
           "2",
           "3",
           "4",
           "5",
           "6",
           "7",
           "8",
           "9",
           "0",
           "1",
           "10",
           "11",
           "2",
           "3",
           "4",
           "5",
           "6",
           "7",
           "8",
           "9",
           "0",
           "1",
           "10",
           "11",
           "2",
           "3",
           "4",
           "5",
           "6",
           "7",
           "8",
           "9",
           "0",
           "1",
           "10",
           "11",
           "2",
           "3",
           "4",
           "5",
           "6",
           "7",
           "8",
           "9",
           "0",
           "1",
           "10",
           "11",
           "2",
           "3",
           "4",
           "5",
           "6",
           "7",
           "8",
           "9",
           "0",
           "1",
           "10",
           "11",
           "2",
           "3",
           "4",
           "5",
           "6",
           "7",
           "8",
           "9"
          ],
          "line": {
           "color": "black",
           "width": 0.5
          },
          "pad": 15,
          "thickness": 20
         },
         "type": "sankey"
        }
       ],
       "layout": {
        "annotations": [
         {
          "showarrow": false,
          "text": "noise3",
          "x": 0,
          "xref": "x",
          "y": 1.05,
          "yref": "paper"
         },
         {
          "showarrow": false,
          "text": "noise10",
          "x": 1,
          "xref": "x",
          "y": 1.05,
          "yref": "paper"
         },
         {
          "showarrow": false,
          "text": "noise100",
          "x": 2,
          "xref": "x",
          "y": 1.05,
          "yref": "paper"
         },
         {
          "showarrow": false,
          "text": "original",
          "x": 3,
          "xref": "x",
          "y": 1.05,
          "yref": "paper"
         },
         {
          "showarrow": false,
          "text": "noise3",
          "x": 4,
          "xref": "x",
          "y": 1.05,
          "yref": "paper"
         },
         {
          "showarrow": false,
          "text": "noise10",
          "x": 5,
          "xref": "x",
          "y": 1.05,
          "yref": "paper"
         },
         {
          "showarrow": false,
          "text": "noise100",
          "x": 6,
          "xref": "x",
          "y": 1.05,
          "yref": "paper"
         }
        ],
        "font": {
         "size": 10
        },
        "height": 450,
        "plot_bgcolor": "rgba(0,0,0,0)",
        "template": {
         "data": {
          "bar": [
           {
            "error_x": {
             "color": "#2a3f5f"
            },
            "error_y": {
             "color": "#2a3f5f"
            },
            "marker": {
             "line": {
              "color": "#E5ECF6",
              "width": 0.5
             },
             "pattern": {
              "fillmode": "overlay",
              "size": 10,
              "solidity": 0.2
             }
            },
            "type": "bar"
           }
          ],
          "barpolar": [
           {
            "marker": {
             "line": {
              "color": "#E5ECF6",
              "width": 0.5
             },
             "pattern": {
              "fillmode": "overlay",
              "size": 10,
              "solidity": 0.2
             }
            },
            "type": "barpolar"
           }
          ],
          "carpet": [
           {
            "aaxis": {
             "endlinecolor": "#2a3f5f",
             "gridcolor": "white",
             "linecolor": "white",
             "minorgridcolor": "white",
             "startlinecolor": "#2a3f5f"
            },
            "baxis": {
             "endlinecolor": "#2a3f5f",
             "gridcolor": "white",
             "linecolor": "white",
             "minorgridcolor": "white",
             "startlinecolor": "#2a3f5f"
            },
            "type": "carpet"
           }
          ],
          "choropleth": [
           {
            "colorbar": {
             "outlinewidth": 0,
             "ticks": ""
            },
            "type": "choropleth"
           }
          ],
          "contour": [
           {
            "colorbar": {
             "outlinewidth": 0,
             "ticks": ""
            },
            "colorscale": [
             [
              0,
              "#0d0887"
             ],
             [
              0.1111111111111111,
              "#46039f"
             ],
             [
              0.2222222222222222,
              "#7201a8"
             ],
             [
              0.3333333333333333,
              "#9c179e"
             ],
             [
              0.4444444444444444,
              "#bd3786"
             ],
             [
              0.5555555555555556,
              "#d8576b"
             ],
             [
              0.6666666666666666,
              "#ed7953"
             ],
             [
              0.7777777777777778,
              "#fb9f3a"
             ],
             [
              0.8888888888888888,
              "#fdca26"
             ],
             [
              1,
              "#f0f921"
             ]
            ],
            "type": "contour"
           }
          ],
          "contourcarpet": [
           {
            "colorbar": {
             "outlinewidth": 0,
             "ticks": ""
            },
            "type": "contourcarpet"
           }
          ],
          "heatmap": [
           {
            "colorbar": {
             "outlinewidth": 0,
             "ticks": ""
            },
            "colorscale": [
             [
              0,
              "#0d0887"
             ],
             [
              0.1111111111111111,
              "#46039f"
             ],
             [
              0.2222222222222222,
              "#7201a8"
             ],
             [
              0.3333333333333333,
              "#9c179e"
             ],
             [
              0.4444444444444444,
              "#bd3786"
             ],
             [
              0.5555555555555556,
              "#d8576b"
             ],
             [
              0.6666666666666666,
              "#ed7953"
             ],
             [
              0.7777777777777778,
              "#fb9f3a"
             ],
             [
              0.8888888888888888,
              "#fdca26"
             ],
             [
              1,
              "#f0f921"
             ]
            ],
            "type": "heatmap"
           }
          ],
          "heatmapgl": [
           {
            "colorbar": {
             "outlinewidth": 0,
             "ticks": ""
            },
            "colorscale": [
             [
              0,
              "#0d0887"
             ],
             [
              0.1111111111111111,
              "#46039f"
             ],
             [
              0.2222222222222222,
              "#7201a8"
             ],
             [
              0.3333333333333333,
              "#9c179e"
             ],
             [
              0.4444444444444444,
              "#bd3786"
             ],
             [
              0.5555555555555556,
              "#d8576b"
             ],
             [
              0.6666666666666666,
              "#ed7953"
             ],
             [
              0.7777777777777778,
              "#fb9f3a"
             ],
             [
              0.8888888888888888,
              "#fdca26"
             ],
             [
              1,
              "#f0f921"
             ]
            ],
            "type": "heatmapgl"
           }
          ],
          "histogram": [
           {
            "marker": {
             "pattern": {
              "fillmode": "overlay",
              "size": 10,
              "solidity": 0.2
             }
            },
            "type": "histogram"
           }
          ],
          "histogram2d": [
           {
            "colorbar": {
             "outlinewidth": 0,
             "ticks": ""
            },
            "colorscale": [
             [
              0,
              "#0d0887"
             ],
             [
              0.1111111111111111,
              "#46039f"
             ],
             [
              0.2222222222222222,
              "#7201a8"
             ],
             [
              0.3333333333333333,
              "#9c179e"
             ],
             [
              0.4444444444444444,
              "#bd3786"
             ],
             [
              0.5555555555555556,
              "#d8576b"
             ],
             [
              0.6666666666666666,
              "#ed7953"
             ],
             [
              0.7777777777777778,
              "#fb9f3a"
             ],
             [
              0.8888888888888888,
              "#fdca26"
             ],
             [
              1,
              "#f0f921"
             ]
            ],
            "type": "histogram2d"
           }
          ],
          "histogram2dcontour": [
           {
            "colorbar": {
             "outlinewidth": 0,
             "ticks": ""
            },
            "colorscale": [
             [
              0,
              "#0d0887"
             ],
             [
              0.1111111111111111,
              "#46039f"
             ],
             [
              0.2222222222222222,
              "#7201a8"
             ],
             [
              0.3333333333333333,
              "#9c179e"
             ],
             [
              0.4444444444444444,
              "#bd3786"
             ],
             [
              0.5555555555555556,
              "#d8576b"
             ],
             [
              0.6666666666666666,
              "#ed7953"
             ],
             [
              0.7777777777777778,
              "#fb9f3a"
             ],
             [
              0.8888888888888888,
              "#fdca26"
             ],
             [
              1,
              "#f0f921"
             ]
            ],
            "type": "histogram2dcontour"
           }
          ],
          "mesh3d": [
           {
            "colorbar": {
             "outlinewidth": 0,
             "ticks": ""
            },
            "type": "mesh3d"
           }
          ],
          "parcoords": [
           {
            "line": {
             "colorbar": {
              "outlinewidth": 0,
              "ticks": ""
             }
            },
            "type": "parcoords"
           }
          ],
          "pie": [
           {
            "automargin": true,
            "type": "pie"
           }
          ],
          "scatter": [
           {
            "fillpattern": {
             "fillmode": "overlay",
             "size": 10,
             "solidity": 0.2
            },
            "type": "scatter"
           }
          ],
          "scatter3d": [
           {
            "line": {
             "colorbar": {
              "outlinewidth": 0,
              "ticks": ""
             }
            },
            "marker": {
             "colorbar": {
              "outlinewidth": 0,
              "ticks": ""
             }
            },
            "type": "scatter3d"
           }
          ],
          "scattercarpet": [
           {
            "marker": {
             "colorbar": {
              "outlinewidth": 0,
              "ticks": ""
             }
            },
            "type": "scattercarpet"
           }
          ],
          "scattergeo": [
           {
            "marker": {
             "colorbar": {
              "outlinewidth": 0,
              "ticks": ""
             }
            },
            "type": "scattergeo"
           }
          ],
          "scattergl": [
           {
            "marker": {
             "colorbar": {
              "outlinewidth": 0,
              "ticks": ""
             }
            },
            "type": "scattergl"
           }
          ],
          "scattermapbox": [
           {
            "marker": {
             "colorbar": {
              "outlinewidth": 0,
              "ticks": ""
             }
            },
            "type": "scattermapbox"
           }
          ],
          "scatterpolar": [
           {
            "marker": {
             "colorbar": {
              "outlinewidth": 0,
              "ticks": ""
             }
            },
            "type": "scatterpolar"
           }
          ],
          "scatterpolargl": [
           {
            "marker": {
             "colorbar": {
              "outlinewidth": 0,
              "ticks": ""
             }
            },
            "type": "scatterpolargl"
           }
          ],
          "scatterternary": [
           {
            "marker": {
             "colorbar": {
              "outlinewidth": 0,
              "ticks": ""
             }
            },
            "type": "scatterternary"
           }
          ],
          "surface": [
           {
            "colorbar": {
             "outlinewidth": 0,
             "ticks": ""
            },
            "colorscale": [
             [
              0,
              "#0d0887"
             ],
             [
              0.1111111111111111,
              "#46039f"
             ],
             [
              0.2222222222222222,
              "#7201a8"
             ],
             [
              0.3333333333333333,
              "#9c179e"
             ],
             [
              0.4444444444444444,
              "#bd3786"
             ],
             [
              0.5555555555555556,
              "#d8576b"
             ],
             [
              0.6666666666666666,
              "#ed7953"
             ],
             [
              0.7777777777777778,
              "#fb9f3a"
             ],
             [
              0.8888888888888888,
              "#fdca26"
             ],
             [
              1,
              "#f0f921"
             ]
            ],
            "type": "surface"
           }
          ],
          "table": [
           {
            "cells": {
             "fill": {
              "color": "#EBF0F8"
             },
             "line": {
              "color": "white"
             }
            },
            "header": {
             "fill": {
              "color": "#C8D4E3"
             },
             "line": {
              "color": "white"
             }
            },
            "type": "table"
           }
          ]
         },
         "layout": {
          "annotationdefaults": {
           "arrowcolor": "#2a3f5f",
           "arrowhead": 0,
           "arrowwidth": 1
          },
          "autotypenumbers": "strict",
          "coloraxis": {
           "colorbar": {
            "outlinewidth": 0,
            "ticks": ""
           }
          },
          "colorscale": {
           "diverging": [
            [
             0,
             "#8e0152"
            ],
            [
             0.1,
             "#c51b7d"
            ],
            [
             0.2,
             "#de77ae"
            ],
            [
             0.3,
             "#f1b6da"
            ],
            [
             0.4,
             "#fde0ef"
            ],
            [
             0.5,
             "#f7f7f7"
            ],
            [
             0.6,
             "#e6f5d0"
            ],
            [
             0.7,
             "#b8e186"
            ],
            [
             0.8,
             "#7fbc41"
            ],
            [
             0.9,
             "#4d9221"
            ],
            [
             1,
             "#276419"
            ]
           ],
           "sequential": [
            [
             0,
             "#0d0887"
            ],
            [
             0.1111111111111111,
             "#46039f"
            ],
            [
             0.2222222222222222,
             "#7201a8"
            ],
            [
             0.3333333333333333,
             "#9c179e"
            ],
            [
             0.4444444444444444,
             "#bd3786"
            ],
            [
             0.5555555555555556,
             "#d8576b"
            ],
            [
             0.6666666666666666,
             "#ed7953"
            ],
            [
             0.7777777777777778,
             "#fb9f3a"
            ],
            [
             0.8888888888888888,
             "#fdca26"
            ],
            [
             1,
             "#f0f921"
            ]
           ],
           "sequentialminus": [
            [
             0,
             "#0d0887"
            ],
            [
             0.1111111111111111,
             "#46039f"
            ],
            [
             0.2222222222222222,
             "#7201a8"
            ],
            [
             0.3333333333333333,
             "#9c179e"
            ],
            [
             0.4444444444444444,
             "#bd3786"
            ],
            [
             0.5555555555555556,
             "#d8576b"
            ],
            [
             0.6666666666666666,
             "#ed7953"
            ],
            [
             0.7777777777777778,
             "#fb9f3a"
            ],
            [
             0.8888888888888888,
             "#fdca26"
            ],
            [
             1,
             "#f0f921"
            ]
           ]
          },
          "colorway": [
           "#636efa",
           "#EF553B",
           "#00cc96",
           "#ab63fa",
           "#FFA15A",
           "#19d3f3",
           "#FF6692",
           "#B6E880",
           "#FF97FF",
           "#FECB52"
          ],
          "font": {
           "color": "#2a3f5f"
          },
          "geo": {
           "bgcolor": "white",
           "lakecolor": "white",
           "landcolor": "#E5ECF6",
           "showlakes": true,
           "showland": true,
           "subunitcolor": "white"
          },
          "hoverlabel": {
           "align": "left"
          },
          "hovermode": "closest",
          "mapbox": {
           "style": "light"
          },
          "paper_bgcolor": "white",
          "plot_bgcolor": "#E5ECF6",
          "polar": {
           "angularaxis": {
            "gridcolor": "white",
            "linecolor": "white",
            "ticks": ""
           },
           "bgcolor": "#E5ECF6",
           "radialaxis": {
            "gridcolor": "white",
            "linecolor": "white",
            "ticks": ""
           }
          },
          "scene": {
           "xaxis": {
            "backgroundcolor": "#E5ECF6",
            "gridcolor": "white",
            "gridwidth": 2,
            "linecolor": "white",
            "showbackground": true,
            "ticks": "",
            "zerolinecolor": "white"
           },
           "yaxis": {
            "backgroundcolor": "#E5ECF6",
            "gridcolor": "white",
            "gridwidth": 2,
            "linecolor": "white",
            "showbackground": true,
            "ticks": "",
            "zerolinecolor": "white"
           },
           "zaxis": {
            "backgroundcolor": "#E5ECF6",
            "gridcolor": "white",
            "gridwidth": 2,
            "linecolor": "white",
            "showbackground": true,
            "ticks": "",
            "zerolinecolor": "white"
           }
          },
          "shapedefaults": {
           "line": {
            "color": "#2a3f5f"
           }
          },
          "ternary": {
           "aaxis": {
            "gridcolor": "white",
            "linecolor": "white",
            "ticks": ""
           },
           "baxis": {
            "gridcolor": "white",
            "linecolor": "white",
            "ticks": ""
           },
           "bgcolor": "#E5ECF6",
           "caxis": {
            "gridcolor": "white",
            "linecolor": "white",
            "ticks": ""
           }
          },
          "title": {
           "x": 0.05
          },
          "xaxis": {
           "automargin": true,
           "gridcolor": "white",
           "linecolor": "white",
           "ticks": "",
           "title": {
            "standoff": 15
           },
           "zerolinecolor": "white",
           "zerolinewidth": 2
          },
          "yaxis": {
           "automargin": true,
           "gridcolor": "white",
           "linecolor": "white",
           "ticks": "",
           "title": {
            "standoff": 15
           },
           "zerolinecolor": "white",
           "zerolinewidth": 2
          }
         }
        },
        "title": {
         "text": "Sankey diagram of the clustering results on perturbated data"
        },
        "width": 1000,
        "xaxis": {
         "showgrid": false,
         "visible": false,
         "zeroline": false
        },
        "yaxis": {
         "showgrid": false,
         "visible": false,
         "zeroline": false
        }
       }
      }
     },
     "metadata": {},
     "output_type": "display_data"
    }
   ],
   "source": [
    "sankey_plot_with_labels(\n",
    "    labels=[labels_df[column] for column in columns_to_visualize_noise],\n",
    "    labels_titles=['noise3', 'noise10', 'noise100', 'original', 'noise3', 'noise10', 'noise100'],\n",
    "    title='Sankey diagram of the clustering results on perturbated data',\n",
    "    width=1000,\n",
    "    height=450\n",
    ")"
   ]
  },
  {
   "cell_type": "code",
   "execution_count": 73,
   "metadata": {},
   "outputs": [
    {
     "data": {
      "application/vnd.plotly.v1+json": {
       "config": {
        "plotlyServerURL": "https://plot.ly"
       },
       "data": [
        {
         "link": {
          "source": [
           0,
           1,
           2,
           3,
           4,
           5,
           6,
           7,
           8,
           9,
           10,
           11,
           12,
           13,
           14,
           15,
           16,
           17,
           18,
           19,
           20,
           21,
           22,
           23,
           24,
           25,
           26,
           27,
           28,
           29,
           30,
           31,
           32,
           33,
           34,
           35,
           36,
           36,
           36,
           36,
           36,
           36,
           36,
           36,
           36,
           36,
           36,
           36,
           37,
           37,
           37,
           37,
           37,
           37,
           37,
           37,
           37,
           37,
           37,
           37,
           38,
           38,
           38,
           38,
           38,
           38,
           38,
           38,
           38,
           38,
           38,
           38,
           39,
           39,
           39,
           39,
           39,
           39,
           39,
           39,
           39,
           39,
           39,
           39,
           40,
           40,
           40,
           40,
           40,
           40,
           40,
           40,
           40,
           40,
           41,
           41,
           41,
           41,
           41,
           41,
           41,
           42,
           42,
           42,
           42,
           42,
           42,
           43,
           43,
           43,
           44,
           44,
           44,
           44,
           45,
           45,
           45,
           45,
           46,
           46,
           46,
           46,
           46,
           46,
           46,
           46,
           46,
           46,
           46,
           46,
           47,
           47,
           47,
           47,
           47,
           47,
           47,
           47,
           47,
           47,
           47,
           47,
           48,
           48,
           48,
           48,
           48,
           48,
           48,
           48,
           48,
           48,
           48,
           48,
           49,
           49,
           49,
           49,
           49,
           49,
           49,
           49,
           49,
           49,
           49,
           49,
           50,
           50,
           50,
           50,
           50,
           50,
           50,
           50,
           50,
           50,
           50,
           51,
           51,
           51,
           51,
           51,
           51,
           51,
           51,
           51,
           51,
           51,
           51,
           52,
           52,
           52,
           52,
           52,
           52,
           52,
           52,
           52,
           52,
           52,
           53,
           53,
           53,
           53,
           53,
           53,
           53,
           53,
           53,
           53,
           53,
           53,
           54,
           54,
           54,
           54,
           54,
           54,
           54,
           54,
           54,
           54,
           54,
           54,
           54,
           54,
           54,
           55,
           55,
           55,
           55,
           55,
           55,
           55,
           55,
           55,
           55,
           55,
           55,
           55,
           55,
           55,
           56,
           56,
           56,
           56,
           56,
           56,
           56,
           56,
           56,
           56,
           56,
           56,
           57,
           57,
           57,
           57,
           57,
           57,
           57,
           57,
           57,
           57,
           57,
           58,
           58,
           58,
           58,
           58,
           58,
           58,
           58,
           58,
           58,
           58,
           58,
           58,
           58,
           59,
           59,
           59,
           59,
           59,
           59,
           59,
           59,
           59,
           59,
           59,
           59,
           59,
           59,
           60,
           60,
           60,
           60,
           60,
           60,
           60,
           60,
           60,
           60,
           60,
           60,
           60,
           60,
           60,
           61,
           61,
           61,
           61,
           61,
           61,
           61,
           61,
           61,
           61,
           61,
           61,
           61,
           61,
           62,
           62,
           62,
           62,
           62,
           62,
           62,
           62,
           62,
           62,
           62,
           62,
           62,
           63,
           63,
           63,
           63,
           63,
           63,
           63,
           63,
           63,
           63,
           63,
           63,
           63,
           64,
           64,
           64,
           64,
           64,
           64,
           64,
           64,
           64,
           64,
           64,
           64,
           64,
           65,
           65,
           65,
           65,
           65,
           65,
           65,
           65,
           65,
           65,
           65,
           65,
           65,
           66,
           67,
           68,
           69,
           70,
           71,
           72,
           73,
           74,
           75,
           76,
           77,
           78,
           79,
           80,
           81,
           82,
           83,
           84,
           85,
           86,
           87,
           88,
           89,
           90,
           91,
           92,
           93,
           94,
           95,
           96,
           97
          ],
          "target": [
           18,
           19,
           20,
           21,
           22,
           23,
           24,
           25,
           26,
           27,
           28,
           29,
           30,
           31,
           32,
           33,
           34,
           35,
           36,
           37,
           38,
           39,
           40,
           41,
           42,
           43,
           44,
           45,
           46,
           47,
           48,
           49,
           50,
           51,
           52,
           53,
           54,
           55,
           56,
           57,
           58,
           59,
           60,
           61,
           62,
           63,
           64,
           65,
           54,
           55,
           56,
           57,
           58,
           59,
           60,
           61,
           62,
           63,
           64,
           65,
           54,
           55,
           56,
           57,
           58,
           59,
           60,
           61,
           62,
           63,
           64,
           65,
           54,
           55,
           56,
           57,
           58,
           59,
           60,
           61,
           62,
           63,
           64,
           65,
           54,
           55,
           58,
           59,
           60,
           61,
           62,
           63,
           64,
           65,
           54,
           55,
           58,
           59,
           60,
           61,
           62,
           55,
           59,
           61,
           62,
           63,
           65,
           55,
           58,
           64,
           55,
           58,
           59,
           62,
           54,
           55,
           58,
           60,
           54,
           55,
           56,
           57,
           58,
           59,
           60,
           61,
           62,
           63,
           64,
           65,
           54,
           55,
           56,
           57,
           58,
           59,
           60,
           61,
           62,
           63,
           64,
           65,
           54,
           55,
           56,
           57,
           58,
           59,
           60,
           61,
           62,
           63,
           64,
           65,
           54,
           55,
           56,
           57,
           58,
           59,
           60,
           61,
           62,
           63,
           64,
           65,
           54,
           55,
           56,
           58,
           59,
           60,
           61,
           62,
           63,
           64,
           65,
           54,
           55,
           56,
           57,
           58,
           59,
           60,
           61,
           62,
           63,
           64,
           65,
           54,
           55,
           56,
           58,
           59,
           60,
           61,
           62,
           63,
           64,
           65,
           54,
           55,
           56,
           57,
           58,
           59,
           60,
           61,
           62,
           63,
           64,
           65,
           66,
           67,
           68,
           69,
           70,
           71,
           73,
           74,
           75,
           76,
           77,
           78,
           79,
           80,
           81,
           66,
           67,
           68,
           69,
           70,
           71,
           72,
           74,
           75,
           76,
           77,
           78,
           79,
           80,
           81,
           66,
           67,
           68,
           69,
           74,
           75,
           76,
           77,
           78,
           79,
           80,
           81,
           66,
           67,
           68,
           74,
           75,
           76,
           77,
           78,
           79,
           80,
           81,
           66,
           67,
           68,
           69,
           70,
           71,
           74,
           75,
           76,
           77,
           78,
           79,
           80,
           81,
           66,
           67,
           68,
           69,
           70,
           71,
           74,
           75,
           76,
           77,
           78,
           79,
           80,
           81,
           66,
           67,
           68,
           69,
           70,
           71,
           72,
           74,
           75,
           76,
           77,
           78,
           79,
           80,
           81,
           66,
           67,
           68,
           69,
           70,
           71,
           74,
           75,
           76,
           77,
           78,
           79,
           80,
           81,
           66,
           67,
           68,
           69,
           70,
           74,
           75,
           76,
           77,
           78,
           79,
           80,
           81,
           66,
           67,
           68,
           69,
           71,
           74,
           75,
           76,
           77,
           78,
           79,
           80,
           81,
           66,
           67,
           68,
           69,
           70,
           74,
           75,
           76,
           77,
           78,
           79,
           80,
           81,
           66,
           67,
           68,
           69,
           70,
           74,
           75,
           76,
           77,
           78,
           79,
           80,
           81,
           82,
           83,
           84,
           85,
           86,
           87,
           88,
           89,
           90,
           91,
           92,
           93,
           94,
           95,
           96,
           97,
           98,
           99,
           100,
           101,
           102,
           103,
           104,
           105,
           106,
           107,
           108,
           109,
           110,
           111,
           112,
           113
          ],
          "value": [
           6668,
           6676,
           384,
           322,
           66,
           22,
           7,
           4,
           6,
           4,
           4978,
           4794,
           3518,
           3392,
           1575,
           1186,
           1155,
           660,
           6668,
           6676,
           384,
           322,
           66,
           22,
           7,
           4,
           6,
           4,
           4978,
           4794,
           3518,
           3392,
           1575,
           1186,
           1155,
           660,
           1315,
           1240,
           73,
           12,
           943,
           921,
           761,
           572,
           287,
           239,
           220,
           85,
           1296,
           1266,
           67,
           11,
           968,
           871,
           753,
           634,
           274,
           220,
           225,
           91,
           66,
           85,
           6,
           1,
           49,
           51,
           38,
           36,
           16,
           14,
           15,
           7,
           64,
           66,
           4,
           1,
           44,
           46,
           34,
           26,
           17,
           6,
           9,
           5,
           16,
           13,
           6,
           10,
           4,
           9,
           3,
           2,
           2,
           1,
           5,
           3,
           5,
           2,
           3,
           2,
           2,
           2,
           1,
           1,
           1,
           1,
           1,
           2,
           1,
           1,
           2,
           2,
           1,
           1,
           1,
           1,
           1,
           1,
           948,
           970,
           61,
           5,
           688,
           721,
           516,
           475,
           184,
           184,
           150,
           76,
           950,
           903,
           60,
           9,
           670,
           677,
           490,
           446,
           188,
           158,
           163,
           80,
           692,
           655,
           35,
           9,
           505,
           501,
           384,
           314,
           178,
           113,
           90,
           42,
           658,
           669,
           39,
           9,
           459,
           480,
           353,
           301,
           139,
           113,
           120,
           52,
           306,
           314,
           13,
           233,
           212,
           156,
           151,
           76,
           47,
           48,
           19,
           223,
           250,
           12,
           4,
           158,
           186,
           110,
           91,
           50,
           41,
           47,
           14,
           215,
           208,
           7,
           162,
           163,
           133,
           113,
           48,
           48,
           40,
           18,
           135,
           140,
           9,
           1,
           85,
           84,
           67,
           51,
           28,
           31,
           23,
           6,
           1341,
           1313,
           74,
           64,
           6,
           5,
           1,
           921,
           937,
           674,
           646,
           310,
           235,
           226,
           137,
           1323,
           1336,
           70,
           77,
           9,
           3,
           2,
           915,
           908,
           670,
           591,
           296,
           216,
           241,
           132,
           95,
           68,
           1,
           2,
           51,
           47,
           40,
           33,
           22,
           10,
           12,
           5,
           15,
           14,
           1,
           3,
           7,
           6,
           4,
           3,
           7,
           1,
           1,
           953,
           880,
           47,
           41,
           4,
           5,
           680,
           669,
           523,
           462,
           259,
           171,
           164,
           121,
           893,
           949,
           61,
           55,
           5,
           4,
           718,
           679,
           506,
           451,
           222,
           145,
           146,
           93,
           694,
           719,
           48,
           30,
           1,
           4,
           1,
           522,
           529,
           388,
           335,
           187,
           136,
           122,
           87,
           606,
           599,
           32,
           32,
           4,
           4,
           439,
           423,
           343,
           323,
           134,
           109,
           100,
           74,
           291,
           304,
           17,
           12,
           1,
           193,
           221,
           134,
           130,
           76,
           40,
           42,
           31,
           229,
           217,
           9,
           9,
           1,
           177,
           176,
           130,
           120,
           52,
           34,
           37,
           26,
           225,
           210,
           13,
           9,
           1,
           163,
           158,
           121,
           115,
           41,
           34,
           34,
           29,
           102,
           74,
           2,
           5,
           1,
           73,
           62,
           57,
           52,
           31,
           19,
           10,
           9,
           6767,
           6683,
           375,
           336,
           32,
           26,
           3,
           1,
           4855,
           4816,
           3592,
           3262,
           1633,
           1156,
           1135,
           745,
           6767,
           6683,
           375,
           336,
           32,
           26,
           3,
           1,
           4855,
           4816,
           3592,
           3262,
           1633,
           1156,
           1135,
           745
          ]
         },
         "node": {
          "color": [
           "#1f77b4",
           "#ff7f0e",
           "#2ca02c",
           "#d62728",
           "#9467bd",
           "#8c564b",
           "#e377c2",
           "#7f7f7f",
           "#bcbd22",
           "#17becf",
           "#1f77b4",
           "#ff7f0e",
           "#2ca02c",
           "#d62728",
           "#9467bd",
           "#8c564b",
           "#e377c2",
           "#7f7f7f",
           "#bcbd22",
           "#17becf",
           "#1f77b4",
           "#ff7f0e",
           "#2ca02c",
           "#d62728",
           "#9467bd",
           "#8c564b",
           "#e377c2",
           "#7f7f7f",
           "#bcbd22",
           "#17becf",
           "#1f77b4",
           "#ff7f0e",
           "#2ca02c",
           "#d62728",
           "#9467bd",
           "#8c564b",
           "#e377c2",
           "#7f7f7f",
           "#bcbd22",
           "#17becf",
           "#1f77b4",
           "#ff7f0e",
           "#2ca02c",
           "#d62728",
           "#9467bd",
           "#8c564b",
           "#e377c2",
           "#7f7f7f",
           "#bcbd22",
           "#17becf",
           "#1f77b4",
           "#ff7f0e",
           "#2ca02c",
           "#d62728",
           "#9467bd",
           "#8c564b",
           "#e377c2",
           "#7f7f7f",
           "#bcbd22",
           "#17becf",
           "#1f77b4",
           "#ff7f0e",
           "#2ca02c",
           "#d62728",
           "#9467bd",
           "#8c564b",
           "#e377c2",
           "#7f7f7f",
           "#bcbd22",
           "#17becf",
           "#1f77b4",
           "#ff7f0e",
           "#2ca02c",
           "#d62728",
           "#9467bd",
           "#8c564b",
           "#e377c2",
           "#7f7f7f",
           "#bcbd22",
           "#17becf",
           "#1f77b4",
           "#ff7f0e",
           "#2ca02c",
           "#d62728",
           "#9467bd",
           "#8c564b",
           "#e377c2",
           "#7f7f7f",
           "#bcbd22",
           "#17becf",
           "#1f77b4",
           "#ff7f0e",
           "#2ca02c",
           "#d62728",
           "#9467bd",
           "#8c564b",
           "#e377c2",
           "#7f7f7f",
           "#bcbd22",
           "#17becf",
           "#1f77b4",
           "#ff7f0e",
           "#2ca02c",
           "#d62728",
           "#9467bd",
           "#8c564b",
           "#e377c2",
           "#7f7f7f",
           "#bcbd22",
           "#17becf",
           "#1f77b4",
           "#ff7f0e",
           "#2ca02c",
           "#d62728"
          ],
          "label": [
           "0",
           "1",
           "10",
           "11",
           "12",
           "13",
           "14",
           "15",
           "16",
           "17",
           "2",
           "3",
           "4",
           "5",
           "6",
           "7",
           "8",
           "9",
           "0",
           "1",
           "10",
           "11",
           "12",
           "13",
           "14",
           "15",
           "16",
           "17",
           "2",
           "3",
           "4",
           "5",
           "6",
           "7",
           "8",
           "9",
           "0",
           "1",
           "10",
           "11",
           "12",
           "13",
           "14",
           "15",
           "16",
           "17",
           "2",
           "3",
           "4",
           "5",
           "6",
           "7",
           "8",
           "9",
           "0",
           "1",
           "10",
           "11",
           "2",
           "3",
           "4",
           "5",
           "6",
           "7",
           "8",
           "9",
           "0",
           "1",
           "10",
           "11",
           "12",
           "13",
           "14",
           "15",
           "2",
           "3",
           "4",
           "5",
           "6",
           "7",
           "8",
           "9",
           "0",
           "1",
           "10",
           "11",
           "12",
           "13",
           "14",
           "15",
           "2",
           "3",
           "4",
           "5",
           "6",
           "7",
           "8",
           "9",
           "0",
           "1",
           "10",
           "11",
           "12",
           "13",
           "14",
           "15",
           "2",
           "3",
           "4",
           "5",
           "6",
           "7",
           "8",
           "9"
          ],
          "line": {
           "color": "black",
           "width": 0.5
          },
          "pad": 15,
          "thickness": 20
         },
         "type": "sankey"
        }
       ],
       "layout": {
        "annotations": [
         {
          "showarrow": false,
          "text": "noise3",
          "x": 0,
          "xref": "x",
          "y": 1.05,
          "yref": "paper"
         },
         {
          "showarrow": false,
          "text": "noise10",
          "x": 1,
          "xref": "x",
          "y": 1.05,
          "yref": "paper"
         },
         {
          "showarrow": false,
          "text": "noise100",
          "x": 2,
          "xref": "x",
          "y": 1.05,
          "yref": "paper"
         },
         {
          "showarrow": false,
          "text": "original",
          "x": 3,
          "xref": "x",
          "y": 1.05,
          "yref": "paper"
         },
         {
          "showarrow": false,
          "text": "noise3",
          "x": 4,
          "xref": "x",
          "y": 1.05,
          "yref": "paper"
         },
         {
          "showarrow": false,
          "text": "noise10",
          "x": 5,
          "xref": "x",
          "y": 1.05,
          "yref": "paper"
         },
         {
          "showarrow": false,
          "text": "noise100",
          "x": 6,
          "xref": "x",
          "y": 1.05,
          "yref": "paper"
         }
        ],
        "font": {
         "size": 10
        },
        "height": 450,
        "plot_bgcolor": "rgba(0,0,0,0)",
        "template": {
         "data": {
          "bar": [
           {
            "error_x": {
             "color": "#2a3f5f"
            },
            "error_y": {
             "color": "#2a3f5f"
            },
            "marker": {
             "line": {
              "color": "#E5ECF6",
              "width": 0.5
             },
             "pattern": {
              "fillmode": "overlay",
              "size": 10,
              "solidity": 0.2
             }
            },
            "type": "bar"
           }
          ],
          "barpolar": [
           {
            "marker": {
             "line": {
              "color": "#E5ECF6",
              "width": 0.5
             },
             "pattern": {
              "fillmode": "overlay",
              "size": 10,
              "solidity": 0.2
             }
            },
            "type": "barpolar"
           }
          ],
          "carpet": [
           {
            "aaxis": {
             "endlinecolor": "#2a3f5f",
             "gridcolor": "white",
             "linecolor": "white",
             "minorgridcolor": "white",
             "startlinecolor": "#2a3f5f"
            },
            "baxis": {
             "endlinecolor": "#2a3f5f",
             "gridcolor": "white",
             "linecolor": "white",
             "minorgridcolor": "white",
             "startlinecolor": "#2a3f5f"
            },
            "type": "carpet"
           }
          ],
          "choropleth": [
           {
            "colorbar": {
             "outlinewidth": 0,
             "ticks": ""
            },
            "type": "choropleth"
           }
          ],
          "contour": [
           {
            "colorbar": {
             "outlinewidth": 0,
             "ticks": ""
            },
            "colorscale": [
             [
              0,
              "#0d0887"
             ],
             [
              0.1111111111111111,
              "#46039f"
             ],
             [
              0.2222222222222222,
              "#7201a8"
             ],
             [
              0.3333333333333333,
              "#9c179e"
             ],
             [
              0.4444444444444444,
              "#bd3786"
             ],
             [
              0.5555555555555556,
              "#d8576b"
             ],
             [
              0.6666666666666666,
              "#ed7953"
             ],
             [
              0.7777777777777778,
              "#fb9f3a"
             ],
             [
              0.8888888888888888,
              "#fdca26"
             ],
             [
              1,
              "#f0f921"
             ]
            ],
            "type": "contour"
           }
          ],
          "contourcarpet": [
           {
            "colorbar": {
             "outlinewidth": 0,
             "ticks": ""
            },
            "type": "contourcarpet"
           }
          ],
          "heatmap": [
           {
            "colorbar": {
             "outlinewidth": 0,
             "ticks": ""
            },
            "colorscale": [
             [
              0,
              "#0d0887"
             ],
             [
              0.1111111111111111,
              "#46039f"
             ],
             [
              0.2222222222222222,
              "#7201a8"
             ],
             [
              0.3333333333333333,
              "#9c179e"
             ],
             [
              0.4444444444444444,
              "#bd3786"
             ],
             [
              0.5555555555555556,
              "#d8576b"
             ],
             [
              0.6666666666666666,
              "#ed7953"
             ],
             [
              0.7777777777777778,
              "#fb9f3a"
             ],
             [
              0.8888888888888888,
              "#fdca26"
             ],
             [
              1,
              "#f0f921"
             ]
            ],
            "type": "heatmap"
           }
          ],
          "heatmapgl": [
           {
            "colorbar": {
             "outlinewidth": 0,
             "ticks": ""
            },
            "colorscale": [
             [
              0,
              "#0d0887"
             ],
             [
              0.1111111111111111,
              "#46039f"
             ],
             [
              0.2222222222222222,
              "#7201a8"
             ],
             [
              0.3333333333333333,
              "#9c179e"
             ],
             [
              0.4444444444444444,
              "#bd3786"
             ],
             [
              0.5555555555555556,
              "#d8576b"
             ],
             [
              0.6666666666666666,
              "#ed7953"
             ],
             [
              0.7777777777777778,
              "#fb9f3a"
             ],
             [
              0.8888888888888888,
              "#fdca26"
             ],
             [
              1,
              "#f0f921"
             ]
            ],
            "type": "heatmapgl"
           }
          ],
          "histogram": [
           {
            "marker": {
             "pattern": {
              "fillmode": "overlay",
              "size": 10,
              "solidity": 0.2
             }
            },
            "type": "histogram"
           }
          ],
          "histogram2d": [
           {
            "colorbar": {
             "outlinewidth": 0,
             "ticks": ""
            },
            "colorscale": [
             [
              0,
              "#0d0887"
             ],
             [
              0.1111111111111111,
              "#46039f"
             ],
             [
              0.2222222222222222,
              "#7201a8"
             ],
             [
              0.3333333333333333,
              "#9c179e"
             ],
             [
              0.4444444444444444,
              "#bd3786"
             ],
             [
              0.5555555555555556,
              "#d8576b"
             ],
             [
              0.6666666666666666,
              "#ed7953"
             ],
             [
              0.7777777777777778,
              "#fb9f3a"
             ],
             [
              0.8888888888888888,
              "#fdca26"
             ],
             [
              1,
              "#f0f921"
             ]
            ],
            "type": "histogram2d"
           }
          ],
          "histogram2dcontour": [
           {
            "colorbar": {
             "outlinewidth": 0,
             "ticks": ""
            },
            "colorscale": [
             [
              0,
              "#0d0887"
             ],
             [
              0.1111111111111111,
              "#46039f"
             ],
             [
              0.2222222222222222,
              "#7201a8"
             ],
             [
              0.3333333333333333,
              "#9c179e"
             ],
             [
              0.4444444444444444,
              "#bd3786"
             ],
             [
              0.5555555555555556,
              "#d8576b"
             ],
             [
              0.6666666666666666,
              "#ed7953"
             ],
             [
              0.7777777777777778,
              "#fb9f3a"
             ],
             [
              0.8888888888888888,
              "#fdca26"
             ],
             [
              1,
              "#f0f921"
             ]
            ],
            "type": "histogram2dcontour"
           }
          ],
          "mesh3d": [
           {
            "colorbar": {
             "outlinewidth": 0,
             "ticks": ""
            },
            "type": "mesh3d"
           }
          ],
          "parcoords": [
           {
            "line": {
             "colorbar": {
              "outlinewidth": 0,
              "ticks": ""
             }
            },
            "type": "parcoords"
           }
          ],
          "pie": [
           {
            "automargin": true,
            "type": "pie"
           }
          ],
          "scatter": [
           {
            "fillpattern": {
             "fillmode": "overlay",
             "size": 10,
             "solidity": 0.2
            },
            "type": "scatter"
           }
          ],
          "scatter3d": [
           {
            "line": {
             "colorbar": {
              "outlinewidth": 0,
              "ticks": ""
             }
            },
            "marker": {
             "colorbar": {
              "outlinewidth": 0,
              "ticks": ""
             }
            },
            "type": "scatter3d"
           }
          ],
          "scattercarpet": [
           {
            "marker": {
             "colorbar": {
              "outlinewidth": 0,
              "ticks": ""
             }
            },
            "type": "scattercarpet"
           }
          ],
          "scattergeo": [
           {
            "marker": {
             "colorbar": {
              "outlinewidth": 0,
              "ticks": ""
             }
            },
            "type": "scattergeo"
           }
          ],
          "scattergl": [
           {
            "marker": {
             "colorbar": {
              "outlinewidth": 0,
              "ticks": ""
             }
            },
            "type": "scattergl"
           }
          ],
          "scattermapbox": [
           {
            "marker": {
             "colorbar": {
              "outlinewidth": 0,
              "ticks": ""
             }
            },
            "type": "scattermapbox"
           }
          ],
          "scatterpolar": [
           {
            "marker": {
             "colorbar": {
              "outlinewidth": 0,
              "ticks": ""
             }
            },
            "type": "scatterpolar"
           }
          ],
          "scatterpolargl": [
           {
            "marker": {
             "colorbar": {
              "outlinewidth": 0,
              "ticks": ""
             }
            },
            "type": "scatterpolargl"
           }
          ],
          "scatterternary": [
           {
            "marker": {
             "colorbar": {
              "outlinewidth": 0,
              "ticks": ""
             }
            },
            "type": "scatterternary"
           }
          ],
          "surface": [
           {
            "colorbar": {
             "outlinewidth": 0,
             "ticks": ""
            },
            "colorscale": [
             [
              0,
              "#0d0887"
             ],
             [
              0.1111111111111111,
              "#46039f"
             ],
             [
              0.2222222222222222,
              "#7201a8"
             ],
             [
              0.3333333333333333,
              "#9c179e"
             ],
             [
              0.4444444444444444,
              "#bd3786"
             ],
             [
              0.5555555555555556,
              "#d8576b"
             ],
             [
              0.6666666666666666,
              "#ed7953"
             ],
             [
              0.7777777777777778,
              "#fb9f3a"
             ],
             [
              0.8888888888888888,
              "#fdca26"
             ],
             [
              1,
              "#f0f921"
             ]
            ],
            "type": "surface"
           }
          ],
          "table": [
           {
            "cells": {
             "fill": {
              "color": "#EBF0F8"
             },
             "line": {
              "color": "white"
             }
            },
            "header": {
             "fill": {
              "color": "#C8D4E3"
             },
             "line": {
              "color": "white"
             }
            },
            "type": "table"
           }
          ]
         },
         "layout": {
          "annotationdefaults": {
           "arrowcolor": "#2a3f5f",
           "arrowhead": 0,
           "arrowwidth": 1
          },
          "autotypenumbers": "strict",
          "coloraxis": {
           "colorbar": {
            "outlinewidth": 0,
            "ticks": ""
           }
          },
          "colorscale": {
           "diverging": [
            [
             0,
             "#8e0152"
            ],
            [
             0.1,
             "#c51b7d"
            ],
            [
             0.2,
             "#de77ae"
            ],
            [
             0.3,
             "#f1b6da"
            ],
            [
             0.4,
             "#fde0ef"
            ],
            [
             0.5,
             "#f7f7f7"
            ],
            [
             0.6,
             "#e6f5d0"
            ],
            [
             0.7,
             "#b8e186"
            ],
            [
             0.8,
             "#7fbc41"
            ],
            [
             0.9,
             "#4d9221"
            ],
            [
             1,
             "#276419"
            ]
           ],
           "sequential": [
            [
             0,
             "#0d0887"
            ],
            [
             0.1111111111111111,
             "#46039f"
            ],
            [
             0.2222222222222222,
             "#7201a8"
            ],
            [
             0.3333333333333333,
             "#9c179e"
            ],
            [
             0.4444444444444444,
             "#bd3786"
            ],
            [
             0.5555555555555556,
             "#d8576b"
            ],
            [
             0.6666666666666666,
             "#ed7953"
            ],
            [
             0.7777777777777778,
             "#fb9f3a"
            ],
            [
             0.8888888888888888,
             "#fdca26"
            ],
            [
             1,
             "#f0f921"
            ]
           ],
           "sequentialminus": [
            [
             0,
             "#0d0887"
            ],
            [
             0.1111111111111111,
             "#46039f"
            ],
            [
             0.2222222222222222,
             "#7201a8"
            ],
            [
             0.3333333333333333,
             "#9c179e"
            ],
            [
             0.4444444444444444,
             "#bd3786"
            ],
            [
             0.5555555555555556,
             "#d8576b"
            ],
            [
             0.6666666666666666,
             "#ed7953"
            ],
            [
             0.7777777777777778,
             "#fb9f3a"
            ],
            [
             0.8888888888888888,
             "#fdca26"
            ],
            [
             1,
             "#f0f921"
            ]
           ]
          },
          "colorway": [
           "#636efa",
           "#EF553B",
           "#00cc96",
           "#ab63fa",
           "#FFA15A",
           "#19d3f3",
           "#FF6692",
           "#B6E880",
           "#FF97FF",
           "#FECB52"
          ],
          "font": {
           "color": "#2a3f5f"
          },
          "geo": {
           "bgcolor": "white",
           "lakecolor": "white",
           "landcolor": "#E5ECF6",
           "showlakes": true,
           "showland": true,
           "subunitcolor": "white"
          },
          "hoverlabel": {
           "align": "left"
          },
          "hovermode": "closest",
          "mapbox": {
           "style": "light"
          },
          "paper_bgcolor": "white",
          "plot_bgcolor": "#E5ECF6",
          "polar": {
           "angularaxis": {
            "gridcolor": "white",
            "linecolor": "white",
            "ticks": ""
           },
           "bgcolor": "#E5ECF6",
           "radialaxis": {
            "gridcolor": "white",
            "linecolor": "white",
            "ticks": ""
           }
          },
          "scene": {
           "xaxis": {
            "backgroundcolor": "#E5ECF6",
            "gridcolor": "white",
            "gridwidth": 2,
            "linecolor": "white",
            "showbackground": true,
            "ticks": "",
            "zerolinecolor": "white"
           },
           "yaxis": {
            "backgroundcolor": "#E5ECF6",
            "gridcolor": "white",
            "gridwidth": 2,
            "linecolor": "white",
            "showbackground": true,
            "ticks": "",
            "zerolinecolor": "white"
           },
           "zaxis": {
            "backgroundcolor": "#E5ECF6",
            "gridcolor": "white",
            "gridwidth": 2,
            "linecolor": "white",
            "showbackground": true,
            "ticks": "",
            "zerolinecolor": "white"
           }
          },
          "shapedefaults": {
           "line": {
            "color": "#2a3f5f"
           }
          },
          "ternary": {
           "aaxis": {
            "gridcolor": "white",
            "linecolor": "white",
            "ticks": ""
           },
           "baxis": {
            "gridcolor": "white",
            "linecolor": "white",
            "ticks": ""
           },
           "bgcolor": "#E5ECF6",
           "caxis": {
            "gridcolor": "white",
            "linecolor": "white",
            "ticks": ""
           }
          },
          "title": {
           "x": 0.05
          },
          "xaxis": {
           "automargin": true,
           "gridcolor": "white",
           "linecolor": "white",
           "ticks": "",
           "title": {
            "standoff": 15
           },
           "zerolinecolor": "white",
           "zerolinewidth": 2
          },
          "yaxis": {
           "automargin": true,
           "gridcolor": "white",
           "linecolor": "white",
           "ticks": "",
           "title": {
            "standoff": 15
           },
           "zerolinecolor": "white",
           "zerolinewidth": 2
          }
         }
        },
        "title": {
         "text": "Sankey diagram of the clustering results on upsampled perturbated data"
        },
        "width": 1000,
        "xaxis": {
         "showgrid": false,
         "visible": false,
         "zeroline": false
        },
        "yaxis": {
         "showgrid": false,
         "visible": false,
         "zeroline": false
        }
       }
      }
     },
     "metadata": {},
     "output_type": "display_data"
    }
   ],
   "source": [
    "upsample_df = labels_df[(labels_df['upsampled_perturbated_noise3_0'] != 'nan') & \n",
    "    (labels_df['upsampled_perturbated_noise3_1'] != 'nan')][columns_to_visualize_upsample]\n",
    "\n",
    "sankey_plot_with_labels(\n",
    "    labels=[upsample_df[column] for column in columns_to_visualize_upsample],\n",
    "    labels_titles=['noise3', 'noise10', 'noise100', 'original', 'noise3', 'noise10', 'noise100'],\n",
    "    title='Sankey diagram of the clustering results on upsampled perturbated data',\n",
    "    width=1000,\n",
    "    height=450\n",
    ")"
   ]
  },
  {
   "cell_type": "code",
   "execution_count": 74,
   "metadata": {},
   "outputs": [
    {
     "data": {
      "application/vnd.plotly.v1+json": {
       "config": {
        "plotlyServerURL": "https://plot.ly"
       },
       "data": [
        {
         "link": {
          "source": [
           0,
           1,
           2,
           3,
           4,
           5,
           6,
           7,
           8,
           9,
           10,
           11,
           12,
           13,
           14,
           15,
           16,
           17,
           18,
           19,
           20,
           21,
           22,
           23,
           24,
           25,
           26,
           26,
           26,
           26,
           26,
           26,
           26,
           26,
           26,
           26,
           26,
           26,
           27,
           27,
           27,
           27,
           27,
           27,
           27,
           27,
           27,
           27,
           27,
           27,
           28,
           28,
           28,
           28,
           28,
           28,
           28,
           28,
           28,
           28,
           28,
           28,
           29,
           29,
           29,
           29,
           29,
           29,
           29,
           29,
           29,
           29,
           29,
           30,
           30,
           30,
           30,
           30,
           30,
           30,
           30,
           31,
           31,
           31,
           31,
           31,
           31,
           31,
           31,
           31,
           31,
           31,
           31,
           32,
           32,
           32,
           32,
           32,
           32,
           32,
           32,
           32,
           32,
           32,
           32,
           33,
           33,
           33,
           33,
           33,
           33,
           33,
           33,
           33,
           33,
           33,
           33,
           34,
           34,
           34,
           34,
           34,
           34,
           34,
           34,
           34,
           34,
           34,
           34,
           35,
           35,
           35,
           35,
           35,
           35,
           35,
           35,
           35,
           35,
           35,
           36,
           36,
           36,
           36,
           36,
           36,
           36,
           36,
           36,
           36,
           36,
           36,
           37,
           37,
           37,
           37,
           37,
           37,
           37,
           37,
           37,
           37,
           37,
           38,
           38,
           38,
           38,
           38,
           38,
           38,
           38,
           38,
           38,
           38,
           38,
           39,
           39,
           39,
           39,
           39,
           39,
           39,
           39,
           39,
           39,
           39,
           39,
           39,
           40,
           40,
           40,
           40,
           40,
           40,
           40,
           40,
           40,
           40,
           40,
           40,
           40,
           41,
           41,
           41,
           41,
           41,
           41,
           41,
           41,
           41,
           41,
           41,
           42,
           42,
           42,
           42,
           42,
           42,
           42,
           42,
           42,
           43,
           43,
           43,
           43,
           43,
           43,
           43,
           43,
           43,
           43,
           43,
           43,
           43,
           44,
           44,
           44,
           44,
           44,
           44,
           44,
           44,
           44,
           44,
           44,
           44,
           44,
           45,
           45,
           45,
           45,
           45,
           45,
           45,
           45,
           45,
           45,
           45,
           45,
           45,
           46,
           46,
           46,
           46,
           46,
           46,
           46,
           46,
           46,
           46,
           46,
           46,
           46,
           47,
           47,
           47,
           47,
           47,
           47,
           47,
           47,
           47,
           47,
           47,
           48,
           48,
           48,
           48,
           48,
           48,
           48,
           48,
           48,
           48,
           48,
           49,
           49,
           49,
           49,
           49,
           49,
           49,
           49,
           49,
           49,
           49,
           49,
           50,
           50,
           50,
           50,
           50,
           50,
           50,
           50,
           50,
           50,
           51,
           52,
           53,
           54,
           55,
           56,
           57,
           58,
           59,
           60,
           61,
           62,
           63,
           64,
           65,
           66,
           67,
           68,
           69,
           70,
           71,
           72,
           73,
           74,
           75,
           76
          ],
          "target": [
           13,
           14,
           15,
           16,
           17,
           18,
           19,
           20,
           21,
           22,
           23,
           24,
           25,
           26,
           27,
           28,
           29,
           30,
           31,
           32,
           33,
           34,
           35,
           36,
           37,
           38,
           39,
           40,
           41,
           42,
           43,
           44,
           45,
           46,
           47,
           48,
           49,
           50,
           39,
           40,
           41,
           42,
           43,
           44,
           45,
           46,
           47,
           48,
           49,
           50,
           39,
           40,
           41,
           42,
           43,
           44,
           45,
           46,
           47,
           48,
           49,
           50,
           39,
           40,
           42,
           43,
           44,
           45,
           46,
           47,
           48,
           49,
           50,
           39,
           40,
           43,
           44,
           45,
           46,
           47,
           48,
           39,
           40,
           41,
           42,
           43,
           44,
           45,
           46,
           47,
           48,
           49,
           50,
           39,
           40,
           41,
           42,
           43,
           44,
           45,
           46,
           47,
           48,
           49,
           50,
           39,
           40,
           41,
           42,
           43,
           44,
           45,
           46,
           47,
           48,
           49,
           50,
           39,
           40,
           41,
           42,
           43,
           44,
           45,
           46,
           47,
           48,
           49,
           50,
           39,
           40,
           41,
           43,
           44,
           45,
           46,
           47,
           48,
           49,
           50,
           39,
           40,
           41,
           42,
           43,
           44,
           45,
           46,
           47,
           48,
           49,
           50,
           39,
           40,
           41,
           43,
           44,
           45,
           46,
           47,
           48,
           49,
           50,
           39,
           40,
           41,
           42,
           43,
           44,
           45,
           46,
           47,
           48,
           49,
           50,
           51,
           52,
           53,
           54,
           55,
           56,
           57,
           58,
           59,
           60,
           61,
           62,
           63,
           51,
           52,
           53,
           54,
           55,
           56,
           57,
           58,
           59,
           60,
           61,
           62,
           63,
           51,
           52,
           53,
           56,
           57,
           58,
           59,
           60,
           61,
           62,
           63,
           51,
           52,
           56,
           57,
           58,
           59,
           60,
           61,
           62,
           51,
           52,
           53,
           54,
           55,
           56,
           57,
           58,
           59,
           60,
           61,
           62,
           63,
           51,
           52,
           53,
           54,
           55,
           56,
           57,
           58,
           59,
           60,
           61,
           62,
           63,
           51,
           52,
           53,
           54,
           55,
           56,
           57,
           58,
           59,
           60,
           61,
           62,
           63,
           51,
           52,
           53,
           54,
           55,
           56,
           57,
           58,
           59,
           60,
           61,
           62,
           63,
           51,
           52,
           53,
           56,
           57,
           58,
           59,
           60,
           61,
           62,
           63,
           51,
           52,
           53,
           56,
           57,
           58,
           59,
           60,
           61,
           62,
           63,
           51,
           52,
           53,
           54,
           56,
           57,
           58,
           59,
           60,
           61,
           62,
           63,
           51,
           52,
           56,
           57,
           58,
           59,
           60,
           61,
           62,
           63,
           64,
           65,
           66,
           67,
           68,
           69,
           70,
           71,
           72,
           73,
           74,
           75,
           76,
           77,
           78,
           79,
           80,
           81,
           82,
           83,
           84,
           85,
           86,
           87,
           88,
           89
          ],
          "value": [
           3262,
           3315,
           238,
           138,
           23,
           2477,
           2452,
           1728,
           1695,
           764,
           591,
           525,
           345,
           3262,
           3315,
           238,
           138,
           23,
           2477,
           2452,
           1728,
           1695,
           764,
           591,
           525,
           345,
           613,
           620,
           39,
           6,
           479,
           405,
           398,
           284,
           158,
           102,
           116,
           42,
           625,
           631,
           35,
           7,
           514,
           381,
           398,
           331,
           158,
           95,
           95,
           45,
           51,
           53,
           3,
           1,
           34,
           25,
           26,
           22,
           8,
           2,
           8,
           5,
           22,
           30,
           1,
           21,
           20,
           15,
           11,
           9,
           3,
           3,
           3,
           8,
           3,
           2,
           3,
           2,
           2,
           2,
           1,
           432,
           497,
           36,
           2,
           348,
           350,
           273,
           228,
           103,
           82,
           86,
           40,
           422,
           513,
           31,
           4,
           351,
           320,
           271,
           235,
           115,
           68,
           84,
           38,
           297,
           344,
           14,
           2,
           287,
           201,
           193,
           161,
           105,
           46,
           47,
           31,
           328,
           339,
           16,
           5,
           238,
           217,
           181,
           155,
           78,
           46,
           63,
           29,
           149,
           156,
           9,
           112,
           90,
           84,
           78,
           39,
           18,
           20,
           9,
           106,
           127,
           5,
           2,
           87,
           89,
           62,
           50,
           27,
           14,
           17,
           5,
           85,
           108,
           5,
           69,
           64,
           56,
           55,
           26,
           26,
           20,
           11,
           68,
           74,
           3,
           1,
           44,
           39,
           40,
           28,
           17,
           16,
           11,
           4,
           644,
           588,
           28,
           4,
           3,
           429,
           447,
           336,
           309,
           139,
           120,
           96,
           63,
           706,
           672,
           36,
           4,
           2,
           500,
           455,
           384,
           298,
           150,
           112,
           117,
           59,
           46,
           29,
           1,
           28,
           31,
           19,
           15,
           14,
           5,
           5,
           3,
           9,
           7,
           1,
           5,
           2,
           2,
           1,
           3,
           1,
           487,
           443,
           20,
           3,
           3,
           360,
           354,
           289,
           242,
           137,
           97,
           94,
           57,
           390,
           437,
           28,
           3,
           2,
           320,
           311,
           249,
           209,
           101,
           56,
           62,
           36,
           371,
           382,
           12,
           1,
           3,
           270,
           274,
           222,
           174,
           105,
           79,
           66,
           40,
           304,
           316,
           14,
           2,
           2,
           224,
           225,
           172,
           167,
           72,
           59,
           51,
           32,
           156,
           181,
           6,
           118,
           127,
           80,
           72,
           42,
           21,
           25,
           17,
           107,
           93,
           5,
           70,
           72,
           63,
           51,
           16,
           15,
           18,
           9,
           114,
           111,
           4,
           1,
           77,
           88,
           67,
           46,
           14,
           15,
           22,
           11,
           52,
           39,
           49,
           34,
           22,
           25,
           16,
           15,
           5,
           5,
           3386,
           3298,
           154,
           18,
           15,
           2446,
           2423,
           1905,
           1610,
           807,
           597,
           562,
           332,
           3386,
           3298,
           154,
           18,
           15,
           2446,
           2423,
           1905,
           1610,
           807,
           597,
           562,
           332
          ]
         },
         "node": {
          "color": [
           "#1f77b4",
           "#ff7f0e",
           "#2ca02c",
           "#d62728",
           "#9467bd",
           "#8c564b",
           "#e377c2",
           "#7f7f7f",
           "#bcbd22",
           "#17becf",
           "#1f77b4",
           "#ff7f0e",
           "#2ca02c",
           "#d62728",
           "#9467bd",
           "#8c564b",
           "#e377c2",
           "#7f7f7f",
           "#bcbd22",
           "#17becf",
           "#1f77b4",
           "#ff7f0e",
           "#2ca02c",
           "#d62728",
           "#9467bd",
           "#8c564b",
           "#e377c2",
           "#7f7f7f",
           "#bcbd22",
           "#17becf",
           "#1f77b4",
           "#ff7f0e",
           "#2ca02c",
           "#d62728",
           "#9467bd",
           "#8c564b",
           "#e377c2",
           "#7f7f7f",
           "#bcbd22",
           "#17becf",
           "#1f77b4",
           "#ff7f0e",
           "#2ca02c",
           "#d62728",
           "#9467bd",
           "#8c564b",
           "#e377c2",
           "#7f7f7f",
           "#bcbd22",
           "#17becf",
           "#1f77b4",
           "#ff7f0e",
           "#2ca02c",
           "#d62728",
           "#9467bd",
           "#8c564b",
           "#e377c2",
           "#7f7f7f",
           "#bcbd22",
           "#17becf",
           "#1f77b4",
           "#ff7f0e",
           "#2ca02c",
           "#d62728",
           "#9467bd",
           "#8c564b",
           "#e377c2",
           "#7f7f7f",
           "#bcbd22",
           "#17becf",
           "#1f77b4",
           "#ff7f0e",
           "#2ca02c",
           "#d62728",
           "#9467bd",
           "#8c564b",
           "#e377c2",
           "#7f7f7f",
           "#bcbd22",
           "#17becf",
           "#1f77b4",
           "#ff7f0e",
           "#2ca02c",
           "#d62728",
           "#9467bd",
           "#8c564b",
           "#e377c2",
           "#7f7f7f",
           "#bcbd22",
           "#17becf"
          ],
          "label": [
           "0",
           "1",
           "10",
           "11",
           "12",
           "2",
           "3",
           "4",
           "5",
           "6",
           "7",
           "8",
           "9",
           "0",
           "1",
           "10",
           "11",
           "12",
           "2",
           "3",
           "4",
           "5",
           "6",
           "7",
           "8",
           "9",
           "0",
           "1",
           "10",
           "11",
           "12",
           "2",
           "3",
           "4",
           "5",
           "6",
           "7",
           "8",
           "9",
           "0",
           "1",
           "10",
           "11",
           "2",
           "3",
           "4",
           "5",
           "6",
           "7",
           "8",
           "9",
           "0",
           "1",
           "10",
           "11",
           "12",
           "2",
           "3",
           "4",
           "5",
           "6",
           "7",
           "8",
           "9",
           "0",
           "1",
           "10",
           "11",
           "12",
           "2",
           "3",
           "4",
           "5",
           "6",
           "7",
           "8",
           "9",
           "0",
           "1",
           "10",
           "11",
           "12",
           "2",
           "3",
           "4",
           "5",
           "6",
           "7",
           "8",
           "9"
          ],
          "line": {
           "color": "black",
           "width": 0.5
          },
          "pad": 15,
          "thickness": 20
         },
         "type": "sankey"
        }
       ],
       "layout": {
        "annotations": [
         {
          "showarrow": false,
          "text": "noise3",
          "x": 0,
          "xref": "x",
          "y": 1.05,
          "yref": "paper"
         },
         {
          "showarrow": false,
          "text": "noise10",
          "x": 1,
          "xref": "x",
          "y": 1.05,
          "yref": "paper"
         },
         {
          "showarrow": false,
          "text": "noise100",
          "x": 2,
          "xref": "x",
          "y": 1.05,
          "yref": "paper"
         },
         {
          "showarrow": false,
          "text": "original",
          "x": 3,
          "xref": "x",
          "y": 1.05,
          "yref": "paper"
         },
         {
          "showarrow": false,
          "text": "noise3",
          "x": 4,
          "xref": "x",
          "y": 1.05,
          "yref": "paper"
         },
         {
          "showarrow": false,
          "text": "noise10",
          "x": 5,
          "xref": "x",
          "y": 1.05,
          "yref": "paper"
         },
         {
          "showarrow": false,
          "text": "noise100",
          "x": 6,
          "xref": "x",
          "y": 1.05,
          "yref": "paper"
         }
        ],
        "font": {
         "size": 10
        },
        "height": 450,
        "plot_bgcolor": "rgba(0,0,0,0)",
        "template": {
         "data": {
          "bar": [
           {
            "error_x": {
             "color": "#2a3f5f"
            },
            "error_y": {
             "color": "#2a3f5f"
            },
            "marker": {
             "line": {
              "color": "#E5ECF6",
              "width": 0.5
             },
             "pattern": {
              "fillmode": "overlay",
              "size": 10,
              "solidity": 0.2
             }
            },
            "type": "bar"
           }
          ],
          "barpolar": [
           {
            "marker": {
             "line": {
              "color": "#E5ECF6",
              "width": 0.5
             },
             "pattern": {
              "fillmode": "overlay",
              "size": 10,
              "solidity": 0.2
             }
            },
            "type": "barpolar"
           }
          ],
          "carpet": [
           {
            "aaxis": {
             "endlinecolor": "#2a3f5f",
             "gridcolor": "white",
             "linecolor": "white",
             "minorgridcolor": "white",
             "startlinecolor": "#2a3f5f"
            },
            "baxis": {
             "endlinecolor": "#2a3f5f",
             "gridcolor": "white",
             "linecolor": "white",
             "minorgridcolor": "white",
             "startlinecolor": "#2a3f5f"
            },
            "type": "carpet"
           }
          ],
          "choropleth": [
           {
            "colorbar": {
             "outlinewidth": 0,
             "ticks": ""
            },
            "type": "choropleth"
           }
          ],
          "contour": [
           {
            "colorbar": {
             "outlinewidth": 0,
             "ticks": ""
            },
            "colorscale": [
             [
              0,
              "#0d0887"
             ],
             [
              0.1111111111111111,
              "#46039f"
             ],
             [
              0.2222222222222222,
              "#7201a8"
             ],
             [
              0.3333333333333333,
              "#9c179e"
             ],
             [
              0.4444444444444444,
              "#bd3786"
             ],
             [
              0.5555555555555556,
              "#d8576b"
             ],
             [
              0.6666666666666666,
              "#ed7953"
             ],
             [
              0.7777777777777778,
              "#fb9f3a"
             ],
             [
              0.8888888888888888,
              "#fdca26"
             ],
             [
              1,
              "#f0f921"
             ]
            ],
            "type": "contour"
           }
          ],
          "contourcarpet": [
           {
            "colorbar": {
             "outlinewidth": 0,
             "ticks": ""
            },
            "type": "contourcarpet"
           }
          ],
          "heatmap": [
           {
            "colorbar": {
             "outlinewidth": 0,
             "ticks": ""
            },
            "colorscale": [
             [
              0,
              "#0d0887"
             ],
             [
              0.1111111111111111,
              "#46039f"
             ],
             [
              0.2222222222222222,
              "#7201a8"
             ],
             [
              0.3333333333333333,
              "#9c179e"
             ],
             [
              0.4444444444444444,
              "#bd3786"
             ],
             [
              0.5555555555555556,
              "#d8576b"
             ],
             [
              0.6666666666666666,
              "#ed7953"
             ],
             [
              0.7777777777777778,
              "#fb9f3a"
             ],
             [
              0.8888888888888888,
              "#fdca26"
             ],
             [
              1,
              "#f0f921"
             ]
            ],
            "type": "heatmap"
           }
          ],
          "heatmapgl": [
           {
            "colorbar": {
             "outlinewidth": 0,
             "ticks": ""
            },
            "colorscale": [
             [
              0,
              "#0d0887"
             ],
             [
              0.1111111111111111,
              "#46039f"
             ],
             [
              0.2222222222222222,
              "#7201a8"
             ],
             [
              0.3333333333333333,
              "#9c179e"
             ],
             [
              0.4444444444444444,
              "#bd3786"
             ],
             [
              0.5555555555555556,
              "#d8576b"
             ],
             [
              0.6666666666666666,
              "#ed7953"
             ],
             [
              0.7777777777777778,
              "#fb9f3a"
             ],
             [
              0.8888888888888888,
              "#fdca26"
             ],
             [
              1,
              "#f0f921"
             ]
            ],
            "type": "heatmapgl"
           }
          ],
          "histogram": [
           {
            "marker": {
             "pattern": {
              "fillmode": "overlay",
              "size": 10,
              "solidity": 0.2
             }
            },
            "type": "histogram"
           }
          ],
          "histogram2d": [
           {
            "colorbar": {
             "outlinewidth": 0,
             "ticks": ""
            },
            "colorscale": [
             [
              0,
              "#0d0887"
             ],
             [
              0.1111111111111111,
              "#46039f"
             ],
             [
              0.2222222222222222,
              "#7201a8"
             ],
             [
              0.3333333333333333,
              "#9c179e"
             ],
             [
              0.4444444444444444,
              "#bd3786"
             ],
             [
              0.5555555555555556,
              "#d8576b"
             ],
             [
              0.6666666666666666,
              "#ed7953"
             ],
             [
              0.7777777777777778,
              "#fb9f3a"
             ],
             [
              0.8888888888888888,
              "#fdca26"
             ],
             [
              1,
              "#f0f921"
             ]
            ],
            "type": "histogram2d"
           }
          ],
          "histogram2dcontour": [
           {
            "colorbar": {
             "outlinewidth": 0,
             "ticks": ""
            },
            "colorscale": [
             [
              0,
              "#0d0887"
             ],
             [
              0.1111111111111111,
              "#46039f"
             ],
             [
              0.2222222222222222,
              "#7201a8"
             ],
             [
              0.3333333333333333,
              "#9c179e"
             ],
             [
              0.4444444444444444,
              "#bd3786"
             ],
             [
              0.5555555555555556,
              "#d8576b"
             ],
             [
              0.6666666666666666,
              "#ed7953"
             ],
             [
              0.7777777777777778,
              "#fb9f3a"
             ],
             [
              0.8888888888888888,
              "#fdca26"
             ],
             [
              1,
              "#f0f921"
             ]
            ],
            "type": "histogram2dcontour"
           }
          ],
          "mesh3d": [
           {
            "colorbar": {
             "outlinewidth": 0,
             "ticks": ""
            },
            "type": "mesh3d"
           }
          ],
          "parcoords": [
           {
            "line": {
             "colorbar": {
              "outlinewidth": 0,
              "ticks": ""
             }
            },
            "type": "parcoords"
           }
          ],
          "pie": [
           {
            "automargin": true,
            "type": "pie"
           }
          ],
          "scatter": [
           {
            "fillpattern": {
             "fillmode": "overlay",
             "size": 10,
             "solidity": 0.2
            },
            "type": "scatter"
           }
          ],
          "scatter3d": [
           {
            "line": {
             "colorbar": {
              "outlinewidth": 0,
              "ticks": ""
             }
            },
            "marker": {
             "colorbar": {
              "outlinewidth": 0,
              "ticks": ""
             }
            },
            "type": "scatter3d"
           }
          ],
          "scattercarpet": [
           {
            "marker": {
             "colorbar": {
              "outlinewidth": 0,
              "ticks": ""
             }
            },
            "type": "scattercarpet"
           }
          ],
          "scattergeo": [
           {
            "marker": {
             "colorbar": {
              "outlinewidth": 0,
              "ticks": ""
             }
            },
            "type": "scattergeo"
           }
          ],
          "scattergl": [
           {
            "marker": {
             "colorbar": {
              "outlinewidth": 0,
              "ticks": ""
             }
            },
            "type": "scattergl"
           }
          ],
          "scattermapbox": [
           {
            "marker": {
             "colorbar": {
              "outlinewidth": 0,
              "ticks": ""
             }
            },
            "type": "scattermapbox"
           }
          ],
          "scatterpolar": [
           {
            "marker": {
             "colorbar": {
              "outlinewidth": 0,
              "ticks": ""
             }
            },
            "type": "scatterpolar"
           }
          ],
          "scatterpolargl": [
           {
            "marker": {
             "colorbar": {
              "outlinewidth": 0,
              "ticks": ""
             }
            },
            "type": "scatterpolargl"
           }
          ],
          "scatterternary": [
           {
            "marker": {
             "colorbar": {
              "outlinewidth": 0,
              "ticks": ""
             }
            },
            "type": "scatterternary"
           }
          ],
          "surface": [
           {
            "colorbar": {
             "outlinewidth": 0,
             "ticks": ""
            },
            "colorscale": [
             [
              0,
              "#0d0887"
             ],
             [
              0.1111111111111111,
              "#46039f"
             ],
             [
              0.2222222222222222,
              "#7201a8"
             ],
             [
              0.3333333333333333,
              "#9c179e"
             ],
             [
              0.4444444444444444,
              "#bd3786"
             ],
             [
              0.5555555555555556,
              "#d8576b"
             ],
             [
              0.6666666666666666,
              "#ed7953"
             ],
             [
              0.7777777777777778,
              "#fb9f3a"
             ],
             [
              0.8888888888888888,
              "#fdca26"
             ],
             [
              1,
              "#f0f921"
             ]
            ],
            "type": "surface"
           }
          ],
          "table": [
           {
            "cells": {
             "fill": {
              "color": "#EBF0F8"
             },
             "line": {
              "color": "white"
             }
            },
            "header": {
             "fill": {
              "color": "#C8D4E3"
             },
             "line": {
              "color": "white"
             }
            },
            "type": "table"
           }
          ]
         },
         "layout": {
          "annotationdefaults": {
           "arrowcolor": "#2a3f5f",
           "arrowhead": 0,
           "arrowwidth": 1
          },
          "autotypenumbers": "strict",
          "coloraxis": {
           "colorbar": {
            "outlinewidth": 0,
            "ticks": ""
           }
          },
          "colorscale": {
           "diverging": [
            [
             0,
             "#8e0152"
            ],
            [
             0.1,
             "#c51b7d"
            ],
            [
             0.2,
             "#de77ae"
            ],
            [
             0.3,
             "#f1b6da"
            ],
            [
             0.4,
             "#fde0ef"
            ],
            [
             0.5,
             "#f7f7f7"
            ],
            [
             0.6,
             "#e6f5d0"
            ],
            [
             0.7,
             "#b8e186"
            ],
            [
             0.8,
             "#7fbc41"
            ],
            [
             0.9,
             "#4d9221"
            ],
            [
             1,
             "#276419"
            ]
           ],
           "sequential": [
            [
             0,
             "#0d0887"
            ],
            [
             0.1111111111111111,
             "#46039f"
            ],
            [
             0.2222222222222222,
             "#7201a8"
            ],
            [
             0.3333333333333333,
             "#9c179e"
            ],
            [
             0.4444444444444444,
             "#bd3786"
            ],
            [
             0.5555555555555556,
             "#d8576b"
            ],
            [
             0.6666666666666666,
             "#ed7953"
            ],
            [
             0.7777777777777778,
             "#fb9f3a"
            ],
            [
             0.8888888888888888,
             "#fdca26"
            ],
            [
             1,
             "#f0f921"
            ]
           ],
           "sequentialminus": [
            [
             0,
             "#0d0887"
            ],
            [
             0.1111111111111111,
             "#46039f"
            ],
            [
             0.2222222222222222,
             "#7201a8"
            ],
            [
             0.3333333333333333,
             "#9c179e"
            ],
            [
             0.4444444444444444,
             "#bd3786"
            ],
            [
             0.5555555555555556,
             "#d8576b"
            ],
            [
             0.6666666666666666,
             "#ed7953"
            ],
            [
             0.7777777777777778,
             "#fb9f3a"
            ],
            [
             0.8888888888888888,
             "#fdca26"
            ],
            [
             1,
             "#f0f921"
            ]
           ]
          },
          "colorway": [
           "#636efa",
           "#EF553B",
           "#00cc96",
           "#ab63fa",
           "#FFA15A",
           "#19d3f3",
           "#FF6692",
           "#B6E880",
           "#FF97FF",
           "#FECB52"
          ],
          "font": {
           "color": "#2a3f5f"
          },
          "geo": {
           "bgcolor": "white",
           "lakecolor": "white",
           "landcolor": "#E5ECF6",
           "showlakes": true,
           "showland": true,
           "subunitcolor": "white"
          },
          "hoverlabel": {
           "align": "left"
          },
          "hovermode": "closest",
          "mapbox": {
           "style": "light"
          },
          "paper_bgcolor": "white",
          "plot_bgcolor": "#E5ECF6",
          "polar": {
           "angularaxis": {
            "gridcolor": "white",
            "linecolor": "white",
            "ticks": ""
           },
           "bgcolor": "#E5ECF6",
           "radialaxis": {
            "gridcolor": "white",
            "linecolor": "white",
            "ticks": ""
           }
          },
          "scene": {
           "xaxis": {
            "backgroundcolor": "#E5ECF6",
            "gridcolor": "white",
            "gridwidth": 2,
            "linecolor": "white",
            "showbackground": true,
            "ticks": "",
            "zerolinecolor": "white"
           },
           "yaxis": {
            "backgroundcolor": "#E5ECF6",
            "gridcolor": "white",
            "gridwidth": 2,
            "linecolor": "white",
            "showbackground": true,
            "ticks": "",
            "zerolinecolor": "white"
           },
           "zaxis": {
            "backgroundcolor": "#E5ECF6",
            "gridcolor": "white",
            "gridwidth": 2,
            "linecolor": "white",
            "showbackground": true,
            "ticks": "",
            "zerolinecolor": "white"
           }
          },
          "shapedefaults": {
           "line": {
            "color": "#2a3f5f"
           }
          },
          "ternary": {
           "aaxis": {
            "gridcolor": "white",
            "linecolor": "white",
            "ticks": ""
           },
           "baxis": {
            "gridcolor": "white",
            "linecolor": "white",
            "ticks": ""
           },
           "bgcolor": "#E5ECF6",
           "caxis": {
            "gridcolor": "white",
            "linecolor": "white",
            "ticks": ""
           }
          },
          "title": {
           "x": 0.05
          },
          "xaxis": {
           "automargin": true,
           "gridcolor": "white",
           "linecolor": "white",
           "ticks": "",
           "title": {
            "standoff": 15
           },
           "zerolinecolor": "white",
           "zerolinewidth": 2
          },
          "yaxis": {
           "automargin": true,
           "gridcolor": "white",
           "linecolor": "white",
           "ticks": "",
           "title": {
            "standoff": 15
           },
           "zerolinecolor": "white",
           "zerolinewidth": 2
          }
         }
        },
        "title": {
         "text": "Sankey diagram of the clustering results on downsampled perturbated data"
        },
        "width": 1000,
        "xaxis": {
         "showgrid": false,
         "visible": false,
         "zeroline": false
        },
        "yaxis": {
         "showgrid": false,
         "visible": false,
         "zeroline": false
        }
       }
      }
     },
     "metadata": {},
     "output_type": "display_data"
    }
   ],
   "source": [
    "dowsample_df = labels_df[(labels_df['downsampled_perturbated_noise3_0'] != 'nan') &\n",
    "    (labels_df['downsampled_perturbated_noise3_1'] != 'nan')][columns_to_visualize_downsample]\n",
    "\n",
    "sankey_plot_with_labels(\n",
    "    labels=[dowsample_df[column] for column in columns_to_visualize_downsample],\n",
    "    labels_titles=['noise3', 'noise10', 'noise100', 'original', 'noise3', 'noise10', 'noise100'],\n",
    "    title='Sankey diagram of the clustering results on downsampled perturbated data',\n",
    "    width=1000,\n",
    "    height=450\n",
    ")"
   ]
  },
  {
   "cell_type": "code",
   "execution_count": 55,
   "metadata": {},
   "outputs": [],
   "source": [
    "# visualize the data distribution for each clusters in the original data compared to the perturbated data\n",
    "def plot_cluster_distribution(ax, labels_df, data_name, title):\n",
    "    for cluster in labels_df[data_name].unique():\n",
    "        if cluster != 'nan':\n",
    "            ax.bar(cluster, labels_df[data_name].value_counts()[cluster], label=cluster)\n",
    "    ax.set_title(title, fontsize=6)"
   ]
  },
  {
   "cell_type": "code",
   "execution_count": 61,
   "metadata": {},
   "outputs": [
    {
     "data": {
      "image/png": "[encoded data removed]",
      "text/plain": [
       "<Figure size 1800x1500 with 20 Axes>"
      ]
     },
     "metadata": {},
     "output_type": "display_data"
    }
   ],
   "source": [
    "labels_titles=[\n",
    "        'noise3', 'upsampled_noise3', 'downsampled_noise3',\n",
    "        'noise10', 'upsampled_noise10', 'downsampled_noise10',\n",
    "        'noise100', 'upsampled_noise100', 'downsampled_noise100',\n",
    "        'original',\n",
    "        'noise3', 'upsampled_noise3', 'downsampled_noise3',\n",
    "        'noise10', 'upsampled_noise10', 'downsampled_noise10',\n",
    "        'noise100', 'upsampled_noise100', 'downsampled_noise100']\n",
    "columns_to_visualize = np.unique(columns_to_visualize_noise + columns_to_visualize_upsample + columns_to_visualize_downsample)\n",
    "\n",
    "fig, axs = plt.subplots(5, 4, figsize=(18, 15))\n",
    "for column in columns_to_visualize:\n",
    "    idx = columns_to_visualize.tolist().index(column)\n",
    "    ax = axs[idx//4, idx%4]\n",
    "    plot_cluster_distribution(ax, labels_df, column, f'Cluster distribution for {labels_titles[idx]}')"
   ]
  }
 ],
 "metadata": {
  "kernelspec": {
   "display_name": "base",
   "language": "python",
   "name": "python3"
  },
  "language_info": {
   "codemirror_mode": {
    "name": "ipython",
    "version": 3
   },
   "file_extension": ".py",
   "mimetype": "text/x-python",
   "name": "python",
   "nbconvert_exporter": "python",
   "pygments_lexer": "ipython3",
   "version": "3.10.9"
  }
 },
 "nbformat": 4,
 "nbformat_minor": 2
}

{
 "cells": [
  {
   "cell_type": "markdown",
   "metadata": {},
   "source": [
    "## Final Results"
   ]
  },
  {
   "cell_type": "markdown",
   "metadata": {},
   "source": [
    "### GSE23962\n",
    "\n",
    "genes with the highest average expression levels across all cells in the provided dataset, providing insights into the dominant expression patterns. The gene with the highest expression is MALAT1, followed by mitochondrial genes such as MT-CO3, MT-CO2, MT-ATP6, and others. Other notable genes include B2M, RPS27, EEF1A1, and several ribosomal genes like RPL41, RPL10, RPL13, RPS12, and RPLP1."
   ]
  },
  {
   "cell_type": "markdown",
   "metadata": {},
   "source": [
    "### GSE23962 (with labels)\n",
    "\n",
    "From the dot plot, we observe that the markers most relevant for T cells are also broadly expressed by Cycling cells, with the exception of the genes IL7R and CD3G, which are less expressed in cycling cells. These genes are thus the discriminating markers between the two. In all other cell types, the markers characteristic of T cells are either not expressed or are expressed at very low levels, indicating that this cell type is well-defined by its specific markers.\n",
    "For B cells, their characteristic genes are partially expressed in dendritic cells (DC) and plasmacytoid dendritic cells (pDC). Additionally, the gene CD74 is a characteristic marker not only for B cells and DCs but also for monocytes, while the gene HLA-DRA is highly expressed across several other cell types as well.\n",
    "In the case of monocytes, we notice that their characteristic genes are also expressed in CD cells. \n",
    "For plasma cells, their characteristic genes are also expressed in pDCs, except for the gene IGHA1, which is unique to plasma cells.\n",
    "Lastly, we observe an overlap of highly expressed genes between DCs and pDCs, indicating some commonality in their marker expression profiles."
   ]
  },
  {
   "cell_type": "markdown",
   "metadata": {},
   "source": [
    "### GSE194078\n",
    "\n",
    "top 20 genes with the highest average expression across all cells in the dataset. This box plot effectively visualizes the distribution of total counts among the most highly expressed genes, with MALAT1 standing out as the most predominant. The presence of mitochondrial and ribosomal genes underscores their essential roles in cellular function and metabolism.\n",
    "\n",
    "The remaining genes, including B2M, RPS27, MT-CO1, MT-ATP6, EEF1A1, RPL10, RPL41, RPL13, MT-CO3, MT-CO2, TPT1, TMSB4X, RPS12, RPLP1, MT-ND3, RPS18, MT-CYB, RPS29, and RPL30, exhibit much lower percentages of total counts, all staying below 10\\%. Many of the genes listed (e.g., MT-CO1, MT-ATP6, MT-CO3, MT-CO2, MT-ND3, MT-CYB) are mitochondrial genes, indicating a significant contribution of mitochondrial activity to total gene expression.\n",
    "Genes like RPS27, RPL10, RPL41, RPL13, RPS12, RPLP1, RPS18, RPS29, and RPL30 are ribosomal proteins, highlighting the importance of protein synthesis processes."
   ]
  },
  {
   "cell_type": "markdown",
   "metadata": {},
   "source": [
    "### compared the up and downregulated genes in B cells (GSE173787 vs our dataset)\n",
    "\n",
    "Between the two datasets, only 3 upregulated genes and 14 downregulated genes were shared. The shared upregulated genes are IGLC3, IGLC2, and IGKC, while the shared downregulated genes include CCDC28A, OGFRL1, BRI3, HSPB1, IFNGR1, MID1IP1, CSNK1E, EMC6, DUSP6, NDUFV2, DHRS3, CLEC2B, CMTM3, and BEX4."
   ]
  },
  {
   "cell_type": "code",
   "execution_count": 20,
   "metadata": {},
   "outputs": [],
   "source": [
    "import json\n",
    "\n",
    "# PBMC\n",
    "T_cells_PBMC_markers = json.load(open('results/significant_genes_T_cells_PBMC.json'))\n",
    "B_cells_PBMC_markers = json.load(open('results/significant_genes_B_cells_PBMC.json'))\n",
    "Monocytes_PBMC_markers = json.load(open('results/significant_genes_Monocytes_PBMC.json'))\n",
    "Plasma_cells_PBMC_markers = json.load(open('results/significant_genes_Plasma_cells_PBMC.json'))\n",
    "ILC_PBMC_markers = json.load(open('results/significant_genes_ILC_PBMC.json'))\n",
    "#DC_PBMC_markers = json.load(open('results/significant_genes_DC_PBMC.json'))\n",
    "\n",
    "# CSF\n",
    "T_cells_CSF_markers = json.load(open('results/significant_genes_T_cells_CSF.json'))\n",
    "B_cells_CSF_markers = json.load(open('results/significant_genes_B_cells_CSF.json'))\n",
    "Monocytes_CSF_markers = json.load(open('results/significant_genes_Monocytes_CSF.json'))\n",
    "Plasma_cells_CSF_markers = json.load(open('results/significant_genes_Plasma_cells_CSF.json'))\n",
    "ILC_CSF_markers = json.load(open('results/significant_genes_ILC_CSF.json'))"
   ]
  },
  {
   "cell_type": "code",
   "execution_count": 27,
   "metadata": {},
   "outputs": [],
   "source": [
    "# upregulated genes common in all cell types\n",
    "upregulated_genes_PBMC = set(T_cells_PBMC_markers['up_regulated_genes_MS']).intersection(\n",
    "    B_cells_PBMC_markers['up_regulated_genes_MS']).intersection(\n",
    "    Monocytes_PBMC_markers['up_regulated_genes_MS']).intersection(\n",
    "    Plasma_cells_PBMC_markers['up_regulated_genes_MS']).intersection(\n",
    "    ILC_PBMC_markers['up_regulated_genes_MS'])\n",
    "\n",
    "upregulated_genes_CSF = set(T_cells_CSF_markers['up_regulated_genes_MS']).intersection(\n",
    "    B_cells_CSF_markers['up_regulated_genes_MS']).intersection(\n",
    "    Monocytes_CSF_markers['up_regulated_genes_MS']).intersection(\n",
    "    Plasma_cells_CSF_markers['up_regulated_genes_MS']).intersection(\n",
    "    ILC_CSF_markers['up_regulated_genes_MS'])\n",
    "\n",
    "# downregulated genes common in all cell types\n",
    "downregulated_genes_PBMC = set(T_cells_PBMC_markers['down_regulated_genes_MS']).intersection(\n",
    "    B_cells_PBMC_markers['down_regulated_genes_MS']).intersection(\n",
    "    Monocytes_PBMC_markers['down_regulated_genes_MS']).intersection(\n",
    "    Plasma_cells_PBMC_markers['down_regulated_genes_MS']).intersection(\n",
    "    ILC_PBMC_markers['down_regulated_genes_MS'])\n",
    "\n",
    "downregulated_genes_CSF = set(T_cells_CSF_markers['down_regulated_genes_MS']).intersection(\n",
    "    B_cells_CSF_markers['down_regulated_genes_MS']).intersection(\n",
    "    Monocytes_CSF_markers['down_regulated_genes_MS']).intersection(\n",
    "    Plasma_cells_CSF_markers['down_regulated_genes_MS']).intersection(\n",
    "    ILC_CSF_markers['down_regulated_genes_MS'])"
   ]
  },
  {
   "cell_type": "code",
   "execution_count": 28,
   "metadata": {},
   "outputs": [
    {
     "data": {
      "text/plain": [
       "set()"
      ]
     },
     "execution_count": 28,
     "metadata": {},
     "output_type": "execute_result"
    }
   ],
   "source": [
    "upregulated_genes_PBMC"
   ]
  },
  {
   "cell_type": "code",
   "execution_count": 29,
   "metadata": {},
   "outputs": [
    {
     "data": {
      "text/plain": [
       "{'ATP5F1E',\n",
       " 'ATP5MC2',\n",
       " 'BTF3',\n",
       " 'CCNI',\n",
       " 'CD48',\n",
       " 'COX7C',\n",
       " 'FTH1',\n",
       " 'FTL',\n",
       " 'GAPDH',\n",
       " 'HLA-DPA1',\n",
       " 'HLA-DPB1',\n",
       " 'LGALS1',\n",
       " 'MYL12B',\n",
       " 'NACA',\n",
       " 'OAZ1',\n",
       " 'RPL12',\n",
       " 'RPL23',\n",
       " 'RPL24',\n",
       " 'RPL27A',\n",
       " 'RPL29',\n",
       " 'RPL31',\n",
       " 'RPL38',\n",
       " 'RPL7',\n",
       " 'RPL8',\n",
       " 'RPS13',\n",
       " 'RPS20',\n",
       " 'RPS8',\n",
       " 'S100A4',\n",
       " 'S100A6',\n",
       " 'SH3BGRL3',\n",
       " 'TMA7',\n",
       " 'UBA52',\n",
       " 'UQCRB'}"
      ]
     },
     "execution_count": 29,
     "metadata": {},
     "output_type": "execute_result"
    }
   ],
   "source": [
    "downregulated_genes_PBMC"
   ]
  },
  {
   "cell_type": "code",
   "execution_count": 30,
   "metadata": {},
   "outputs": [
    {
     "data": {
      "text/plain": [
       "{'AJ003147.1',\n",
       " 'AL359475.1',\n",
       " 'AP001351.1',\n",
       " 'AQP4-AS1',\n",
       " 'CISD1',\n",
       " 'ESR2',\n",
       " 'ETF1',\n",
       " 'LINC00588',\n",
       " 'LINC02417',\n",
       " 'NOMO3',\n",
       " 'PCDHA2',\n",
       " 'PCDHA4',\n",
       " 'TEX52'}"
      ]
     },
     "execution_count": 30,
     "metadata": {},
     "output_type": "execute_result"
    }
   ],
   "source": [
    "upregulated_genes_CSF"
   ]
  },
  {
   "cell_type": "code",
   "execution_count": 31,
   "metadata": {},
   "outputs": [
    {
     "data": {
      "text/plain": [
       "{'ARPC1B',\n",
       " 'ARPC2',\n",
       " 'ARPC3',\n",
       " 'ARPC5',\n",
       " 'ATP5F1E',\n",
       " 'ATP5MC2',\n",
       " 'CD63',\n",
       " 'CD99',\n",
       " 'CDC42',\n",
       " 'CFL1',\n",
       " 'COX5B',\n",
       " 'COX6B1',\n",
       " 'COX8A',\n",
       " 'CYBA',\n",
       " 'ELOB',\n",
       " 'EMP3',\n",
       " 'FTL',\n",
       " 'GABARAP',\n",
       " 'GAPDH',\n",
       " 'GMFG',\n",
       " 'GNAI2',\n",
       " 'H3F3A',\n",
       " 'HCST',\n",
       " 'HMGB1',\n",
       " 'IFITM2',\n",
       " 'IQGAP1',\n",
       " 'ITGB2',\n",
       " 'ITM2B',\n",
       " 'MT-ND2',\n",
       " 'MT-ND4',\n",
       " 'MT-ND5',\n",
       " 'MTRNR2L12',\n",
       " 'OAZ1',\n",
       " 'PNRC1',\n",
       " 'PTMA',\n",
       " 'RAC1',\n",
       " 'RHOA',\n",
       " 'RPL13A',\n",
       " 'RPL23',\n",
       " 'RPL31',\n",
       " 'RPL7',\n",
       " 'RPLP0',\n",
       " 'RPS10',\n",
       " 'RPS17',\n",
       " 'RPS20',\n",
       " 'RPS8',\n",
       " 'S100A11',\n",
       " 'S100A4',\n",
       " 'S100A6',\n",
       " 'SEPTIN7',\n",
       " 'SERF2',\n",
       " 'SET',\n",
       " 'SH3BGRL3',\n",
       " 'SLC25A6',\n",
       " 'SRP14',\n",
       " 'TLN1',\n",
       " 'TMSB10',\n",
       " 'TPI1',\n",
       " 'TPM3',\n",
       " 'TXNIP',\n",
       " 'UQCRH',\n",
       " 'VAMP8',\n",
       " 'VIM',\n",
       " 'YBX1'}"
      ]
     },
     "execution_count": 31,
     "metadata": {},
     "output_type": "execute_result"
    }
   ],
   "source": [
    "downregulated_genes_CSF"
   ]
  },
  {
   "cell_type": "code",
   "execution_count": 32,
   "metadata": {},
   "outputs": [
    {
     "name": "stderr",
     "output_type": "stream",
     "text": [
      "c:\\Users\\giuli\\anaconda3\\lib\\site-packages\\pandas\\core\\arrays\\masked.py:60: UserWarning: Pandas requires version '1.3.6' or newer of 'bottleneck' (version '1.3.5' currently installed).\n",
      "  from pandas.core import (\n"
     ]
    }
   ],
   "source": [
    "import pandas as pd"
   ]
  },
  {
   "cell_type": "code",
   "execution_count": 42,
   "metadata": {},
   "outputs": [
    {
     "data": {
      "text/html": [
       "<div>\n",
       "<style scoped>\n",
       "    .dataframe tbody tr th:only-of-type {\n",
       "        vertical-align: middle;\n",
       "    }\n",
       "\n",
       "    .dataframe tbody tr th {\n",
       "        vertical-align: top;\n",
       "    }\n",
       "\n",
       "    .dataframe thead th {\n",
       "        text-align: right;\n",
       "    }\n",
       "</style>\n",
       "<table border=\"1\" class=\"dataframe\">\n",
       "  <thead>\n",
       "    <tr style=\"text-align: right;\">\n",
       "      <th></th>\n",
       "      <th>upregulated_genes_PBMC</th>\n",
       "      <th>downregulated_genes_PBMC</th>\n",
       "      <th>upregulated_genes_CSF</th>\n",
       "      <th>downregulated_genes_CSF</th>\n",
       "    </tr>\n",
       "  </thead>\n",
       "  <tbody>\n",
       "    <tr>\n",
       "      <th>0</th>\n",
       "      <td>None</td>\n",
       "      <td>RPL8</td>\n",
       "      <td>PCDHA2</td>\n",
       "      <td>VAMP8</td>\n",
       "    </tr>\n",
       "    <tr>\n",
       "      <th>1</th>\n",
       "      <td>None</td>\n",
       "      <td>RPL38</td>\n",
       "      <td>CISD1</td>\n",
       "      <td>H3F3A</td>\n",
       "    </tr>\n",
       "    <tr>\n",
       "      <th>2</th>\n",
       "      <td>None</td>\n",
       "      <td>CD48</td>\n",
       "      <td>LINC00588</td>\n",
       "      <td>YBX1</td>\n",
       "    </tr>\n",
       "    <tr>\n",
       "      <th>3</th>\n",
       "      <td>None</td>\n",
       "      <td>HLA-DPB1</td>\n",
       "      <td>AJ003147.1</td>\n",
       "      <td>MT-ND4</td>\n",
       "    </tr>\n",
       "    <tr>\n",
       "      <th>4</th>\n",
       "      <td>None</td>\n",
       "      <td>RPS13</td>\n",
       "      <td>ETF1</td>\n",
       "      <td>MT-ND5</td>\n",
       "    </tr>\n",
       "    <tr>\n",
       "      <th>...</th>\n",
       "      <td>...</td>\n",
       "      <td>...</td>\n",
       "      <td>...</td>\n",
       "      <td>...</td>\n",
       "    </tr>\n",
       "    <tr>\n",
       "      <th>59</th>\n",
       "      <td>None</td>\n",
       "      <td>None</td>\n",
       "      <td>None</td>\n",
       "      <td>ARPC3</td>\n",
       "    </tr>\n",
       "    <tr>\n",
       "      <th>60</th>\n",
       "      <td>None</td>\n",
       "      <td>None</td>\n",
       "      <td>None</td>\n",
       "      <td>RPL31</td>\n",
       "    </tr>\n",
       "    <tr>\n",
       "      <th>61</th>\n",
       "      <td>None</td>\n",
       "      <td>None</td>\n",
       "      <td>None</td>\n",
       "      <td>SET</td>\n",
       "    </tr>\n",
       "    <tr>\n",
       "      <th>62</th>\n",
       "      <td>None</td>\n",
       "      <td>None</td>\n",
       "      <td>None</td>\n",
       "      <td>HCST</td>\n",
       "    </tr>\n",
       "    <tr>\n",
       "      <th>63</th>\n",
       "      <td>None</td>\n",
       "      <td>None</td>\n",
       "      <td>None</td>\n",
       "      <td>RAC1</td>\n",
       "    </tr>\n",
       "  </tbody>\n",
       "</table>\n",
       "<p>64 rows × 4 columns</p>\n",
       "</div>"
      ],
      "text/plain": [
       "   upregulated_genes_PBMC downregulated_genes_PBMC upregulated_genes_CSF  \\\n",
       "0                    None                     RPL8                PCDHA2   \n",
       "1                    None                    RPL38                 CISD1   \n",
       "2                    None                     CD48             LINC00588   \n",
       "3                    None                 HLA-DPB1            AJ003147.1   \n",
       "4                    None                    RPS13                  ETF1   \n",
       "..                    ...                      ...                   ...   \n",
       "59                   None                     None                  None   \n",
       "60                   None                     None                  None   \n",
       "61                   None                     None                  None   \n",
       "62                   None                     None                  None   \n",
       "63                   None                     None                  None   \n",
       "\n",
       "   downregulated_genes_CSF  \n",
       "0                    VAMP8  \n",
       "1                    H3F3A  \n",
       "2                     YBX1  \n",
       "3                   MT-ND4  \n",
       "4                   MT-ND5  \n",
       "..                     ...  \n",
       "59                   ARPC3  \n",
       "60                   RPL31  \n",
       "61                     SET  \n",
       "62                    HCST  \n",
       "63                    RAC1  \n",
       "\n",
       "[64 rows x 4 columns]"
      ]
     },
     "execution_count": 42,
     "metadata": {},
     "output_type": "execute_result"
    }
   ],
   "source": [
    "# Find the length of the longest array\n",
    "max_length = max(len(upregulated_genes_PBMC), len(downregulated_genes_PBMC), len(upregulated_genes_CSF), len(downregulated_genes_CSF))\n",
    "\n",
    "# Truncate or pad the arrays to match the length of the longest array\n",
    "upregulated_genes_PBMC = list(upregulated_genes_PBMC) + [''] * (max_length - len(upregulated_genes_PBMC))\n",
    "downregulated_genes_PBMC = list(downregulated_genes_PBMC) + [''] * (max_length - len(downregulated_genes_PBMC))\n",
    "upregulated_genes_CSF = list(upregulated_genes_CSF) + [''] * (max_length - len(upregulated_genes_CSF))\n",
    "downregulated_genes_CSF = list(downregulated_genes_CSF) + [''] * (max_length - len(downregulated_genes_CSF))\n",
    "\n",
    "# Create the DataFrame with the fixed arrays\n",
    "common_genes_df = pd.DataFrame({\n",
    "    'upregulated_genes_PBMC': upregulated_genes_PBMC,\n",
    "    'downregulated_genes_PBMC': downregulated_genes_PBMC,\n",
    "    'upregulated_genes_CSF': upregulated_genes_CSF,\n",
    "    'downregulated_genes_CSF': downregulated_genes_CSF\n",
    "}, index=None)\n",
    "common_genes_df"
   ]
  },
  {
   "cell_type": "code",
   "execution_count": 43,
   "metadata": {},
   "outputs": [],
   "source": [
    "common_genes_df.to_csv('results/common_genes_MS.csv', index=False)"
   ]
  }
 ],
 "metadata": {
  "kernelspec": {
   "display_name": "base",
   "language": "python",
   "name": "python3"
  },
  "language_info": {
   "codemirror_mode": {
    "name": "ipython",
    "version": 3
   },
   "file_extension": ".py",
   "mimetype": "text/x-python",
   "name": "python",
   "nbconvert_exporter": "python",
   "pygments_lexer": "ipython3",
   "version": "3.10.9"
  }
 },
 "nbformat": 4,
 "nbformat_minor": 2
}

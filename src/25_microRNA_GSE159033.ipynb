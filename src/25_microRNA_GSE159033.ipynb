{
 "cells": [
  {
   "cell_type": "code",
   "execution_count": 7,
   "metadata": {},
   "outputs": [],
   "source": [
    "import scanpy as sc\n",
    "import pandas as pd\n",
    "import numpy as np\n",
    "import matplotlib.pyplot as plt\n",
    "import os\n",
    "\n",
    "DATA_PATH = 'data/GSE159033/GSE159033_genomic_matrix.csv'\n",
    "INFO_DATA_PATH = 'data/GSE159033/GSE159033_family_phenotype_data.csv'"
   ]
  },
  {
   "cell_type": "markdown",
   "metadata": {},
   "source": [
    "All data from PBMC cells, 5 positive samples and 11 negative"
   ]
  },
  {
   "cell_type": "markdown",
   "metadata": {},
   "source": [
    "## Info"
   ]
  },
  {
   "cell_type": "code",
   "execution_count": 8,
   "metadata": {},
   "outputs": [
    {
     "data": {
      "text/html": [
       "<div>\n",
       "<style scoped>\n",
       "    .dataframe tbody tr th:only-of-type {\n",
       "        vertical-align: middle;\n",
       "    }\n",
       "\n",
       "    .dataframe tbody tr th {\n",
       "        vertical-align: top;\n",
       "    }\n",
       "\n",
       "    .dataframe thead th {\n",
       "        text-align: right;\n",
       "    }\n",
       "</style>\n",
       "<table border=\"1\" class=\"dataframe\">\n",
       "  <thead>\n",
       "    <tr style=\"text-align: right;\">\n",
       "      <th></th>\n",
       "      <th>title</th>\n",
       "      <th>geo_accession</th>\n",
       "      <th>status</th>\n",
       "      <th>submission_date</th>\n",
       "      <th>last_update_date</th>\n",
       "      <th>type</th>\n",
       "      <th>channel_count</th>\n",
       "      <th>source_name_ch1</th>\n",
       "      <th>organism_ch1</th>\n",
       "      <th>taxid_ch1</th>\n",
       "      <th>...</th>\n",
       "      <th>contact_name</th>\n",
       "      <th>contact_email</th>\n",
       "      <th>contact_institute</th>\n",
       "      <th>contact_address</th>\n",
       "      <th>contact_city</th>\n",
       "      <th>contact_zip/postal_code</th>\n",
       "      <th>contact_country</th>\n",
       "      <th>supplementary_file</th>\n",
       "      <th>series_id</th>\n",
       "      <th>data_row_count</th>\n",
       "    </tr>\n",
       "  </thead>\n",
       "  <tbody>\n",
       "    <tr>\n",
       "      <th>GSM4817989</th>\n",
       "      <td>Sample04-positive</td>\n",
       "      <td>GSM4817989</td>\n",
       "      <td>Public on Dec 21 2020</td>\n",
       "      <td>Oct 05 2020</td>\n",
       "      <td>Dec 22 2020</td>\n",
       "      <td>RNA</td>\n",
       "      <td>1</td>\n",
       "      <td>Blood</td>\n",
       "      <td>Homo sapiens</td>\n",
       "      <td>9606</td>\n",
       "      <td>...</td>\n",
       "      <td>Maider,,MuÃ±oz-Culla</td>\n",
       "      <td>maider.munoz@ehu.eus</td>\n",
       "      <td>Biodonostia Institute</td>\n",
       "      <td>Paseo Dr.Begiristain s/n</td>\n",
       "      <td>San Sebastian</td>\n",
       "      <td>20014</td>\n",
       "      <td>Spain</td>\n",
       "      <td>ftp://ftp.ncbi.nlm.nih.gov/geo/samples/GSM4817...</td>\n",
       "      <td>GSE159033,GSE159036</td>\n",
       "      <td>6631</td>\n",
       "    </tr>\n",
       "    <tr>\n",
       "      <th>GSM4817990</th>\n",
       "      <td>Sample05-positive</td>\n",
       "      <td>GSM4817990</td>\n",
       "      <td>Public on Dec 21 2020</td>\n",
       "      <td>Oct 05 2020</td>\n",
       "      <td>Dec 22 2020</td>\n",
       "      <td>RNA</td>\n",
       "      <td>1</td>\n",
       "      <td>Blood</td>\n",
       "      <td>Homo sapiens</td>\n",
       "      <td>9606</td>\n",
       "      <td>...</td>\n",
       "      <td>Maider,,MuÃ±oz-Culla</td>\n",
       "      <td>maider.munoz@ehu.eus</td>\n",
       "      <td>Biodonostia Institute</td>\n",
       "      <td>Paseo Dr.Begiristain s/n</td>\n",
       "      <td>San Sebastian</td>\n",
       "      <td>20014</td>\n",
       "      <td>Spain</td>\n",
       "      <td>ftp://ftp.ncbi.nlm.nih.gov/geo/samples/GSM4817...</td>\n",
       "      <td>GSE159033,GSE159036</td>\n",
       "      <td>6631</td>\n",
       "    </tr>\n",
       "  </tbody>\n",
       "</table>\n",
       "<p>2 rows × 32 columns</p>\n",
       "</div>"
      ],
      "text/plain": [
       "                        title geo_accession                 status  \\\n",
       "GSM4817989  Sample04-positive    GSM4817989  Public on Dec 21 2020   \n",
       "GSM4817990  Sample05-positive    GSM4817990  Public on Dec 21 2020   \n",
       "\n",
       "           submission_date last_update_date type  channel_count  \\\n",
       "GSM4817989     Oct 05 2020      Dec 22 2020  RNA              1   \n",
       "GSM4817990     Oct 05 2020      Dec 22 2020  RNA              1   \n",
       "\n",
       "           source_name_ch1  organism_ch1  taxid_ch1  ...  \\\n",
       "GSM4817989           Blood  Homo sapiens       9606  ...   \n",
       "GSM4817990           Blood  Homo sapiens       9606  ...   \n",
       "\n",
       "                    contact_name         contact_email      contact_institute  \\\n",
       "GSM4817989  Maider,,MuÃ±oz-Culla  maider.munoz@ehu.eus  Biodonostia Institute   \n",
       "GSM4817990  Maider,,MuÃ±oz-Culla  maider.munoz@ehu.eus  Biodonostia Institute   \n",
       "\n",
       "                     contact_address   contact_city contact_zip/postal_code  \\\n",
       "GSM4817989  Paseo Dr.Begiristain s/n  San Sebastian                   20014   \n",
       "GSM4817990  Paseo Dr.Begiristain s/n  San Sebastian                   20014   \n",
       "\n",
       "           contact_country                                 supplementary_file  \\\n",
       "GSM4817989           Spain  ftp://ftp.ncbi.nlm.nih.gov/geo/samples/GSM4817...   \n",
       "GSM4817990           Spain  ftp://ftp.ncbi.nlm.nih.gov/geo/samples/GSM4817...   \n",
       "\n",
       "                      series_id data_row_count  \n",
       "GSM4817989  GSE159033,GSE159036           6631  \n",
       "GSM4817990  GSE159033,GSE159036           6631  \n",
       "\n",
       "[2 rows x 32 columns]"
      ]
     },
     "execution_count": 8,
     "metadata": {},
     "output_type": "execute_result"
    }
   ],
   "source": [
    "info_df = pd.read_csv(INFO_DATA_PATH, index_col=0)\n",
    "info_df.head(2)"
   ]
  },
  {
   "cell_type": "code",
   "execution_count": 9,
   "metadata": {},
   "outputs": [
    {
     "data": {
      "text/plain": [
       "array(['Homo sapiens'], dtype=object)"
      ]
     },
     "execution_count": 9,
     "metadata": {},
     "output_type": "execute_result"
    }
   ],
   "source": [
    "info_df['organism_ch1'].unique() # already extrapolated only human data"
   ]
  },
  {
   "cell_type": "markdown",
   "metadata": {},
   "source": [
    "## Dataset"
   ]
  },
  {
   "cell_type": "code",
   "execution_count": 10,
   "metadata": {},
   "outputs": [],
   "source": [
    "df = pd.read_csv(DATA_PATH, index_col=0)"
   ]
  },
  {
   "cell_type": "code",
   "execution_count": 11,
   "metadata": {},
   "outputs": [
    {
     "data": {
      "text/html": [
       "<div>\n",
       "<style scoped>\n",
       "    .dataframe tbody tr th:only-of-type {\n",
       "        vertical-align: middle;\n",
       "    }\n",
       "\n",
       "    .dataframe tbody tr th {\n",
       "        vertical-align: top;\n",
       "    }\n",
       "\n",
       "    .dataframe thead th {\n",
       "        text-align: right;\n",
       "    }\n",
       "</style>\n",
       "<table border=\"1\" class=\"dataframe\">\n",
       "  <thead>\n",
       "    <tr style=\"text-align: right;\">\n",
       "      <th></th>\n",
       "      <th>ID</th>\n",
       "      <th>Accession_ID</th>\n",
       "      <th>Accession</th>\n",
       "      <th>Transcript ID(Array Design)</th>\n",
       "      <th>Sequence Type</th>\n",
       "      <th>Species Scientific Name</th>\n",
       "      <th>Alignments</th>\n",
       "      <th>Sequence Length</th>\n",
       "      <th>Sequence</th>\n",
       "      <th>Genome Context</th>\n",
       "      <th>...</th>\n",
       "      <th>GSM4817990</th>\n",
       "      <th>GSM4817991</th>\n",
       "      <th>GSM4817992</th>\n",
       "      <th>GSM4817993</th>\n",
       "      <th>GSM4817994</th>\n",
       "      <th>GSM4817995</th>\n",
       "      <th>GSM4817996</th>\n",
       "      <th>GSM4817997</th>\n",
       "      <th>GSM4817998</th>\n",
       "      <th>GSM4817999</th>\n",
       "    </tr>\n",
       "  </thead>\n",
       "  <tbody>\n",
       "    <tr>\n",
       "      <th>0</th>\n",
       "      <td>20500112</td>\n",
       "      <td>MIMAT0000062_st</td>\n",
       "      <td>MIMAT0000062</td>\n",
       "      <td>hsa-let-7a-5p</td>\n",
       "      <td>miRNA</td>\n",
       "      <td>Homo sapiens</td>\n",
       "      <td>chr11:122017276-122017297 (-) /// chr22:465086...</td>\n",
       "      <td>22</td>\n",
       "      <td>UGAGGUAGUAGGUUGUAUAGUU</td>\n",
       "      <td>ENST00000362295 // sense // exon // 1 /// ENST...</td>\n",
       "      <td>...</td>\n",
       "      <td>10.98</td>\n",
       "      <td>12.64</td>\n",
       "      <td>11.17</td>\n",
       "      <td>11.89</td>\n",
       "      <td>11.50</td>\n",
       "      <td>11.56</td>\n",
       "      <td>11.73</td>\n",
       "      <td>11.55</td>\n",
       "      <td>12.16</td>\n",
       "      <td>11.64</td>\n",
       "    </tr>\n",
       "    <tr>\n",
       "      <th>1</th>\n",
       "      <td>20500113</td>\n",
       "      <td>MIMAT0004481_st</td>\n",
       "      <td>MIMAT0004481</td>\n",
       "      <td>hsa-let-7a-3p</td>\n",
       "      <td>miRNA</td>\n",
       "      <td>Homo sapiens</td>\n",
       "      <td>chr22:46508680-46508700 (+) /// chr9:96938295-...</td>\n",
       "      <td>21</td>\n",
       "      <td>CUAUACAAUCUACUGUCUUUC</td>\n",
       "      <td>ENST00000362295 // sense // exon // 1 /// ENST...</td>\n",
       "      <td>...</td>\n",
       "      <td>1.34</td>\n",
       "      <td>0.89</td>\n",
       "      <td>1.11</td>\n",
       "      <td>1.14</td>\n",
       "      <td>0.77</td>\n",
       "      <td>0.96</td>\n",
       "      <td>0.79</td>\n",
       "      <td>1.21</td>\n",
       "      <td>1.35</td>\n",
       "      <td>1.38</td>\n",
       "    </tr>\n",
       "    <tr>\n",
       "      <th>2</th>\n",
       "      <td>20500114</td>\n",
       "      <td>MIMAT0010195_st</td>\n",
       "      <td>MIMAT0010195</td>\n",
       "      <td>hsa-let-7a-2-3p</td>\n",
       "      <td>miRNA</td>\n",
       "      <td>Homo sapiens</td>\n",
       "      <td>chr11:122017231-122017252 (-)</td>\n",
       "      <td>22</td>\n",
       "      <td>CUGUACAGCCUCCUAGCUUUCC</td>\n",
       "      <td>ENST00000362105 // sense // exon // 1</td>\n",
       "      <td>...</td>\n",
       "      <td>1.32</td>\n",
       "      <td>0.86</td>\n",
       "      <td>0.92</td>\n",
       "      <td>0.99</td>\n",
       "      <td>1.18</td>\n",
       "      <td>0.77</td>\n",
       "      <td>0.97</td>\n",
       "      <td>0.51</td>\n",
       "      <td>0.73</td>\n",
       "      <td>0.51</td>\n",
       "    </tr>\n",
       "    <tr>\n",
       "      <th>3</th>\n",
       "      <td>20500115</td>\n",
       "      <td>MIMAT0000063_st</td>\n",
       "      <td>MIMAT0000063</td>\n",
       "      <td>hsa-let-7b-5p</td>\n",
       "      <td>miRNA</td>\n",
       "      <td>Homo sapiens</td>\n",
       "      <td>chr22:46509571-46509592 (+)</td>\n",
       "      <td>22</td>\n",
       "      <td>UGAGGUAGUAGGUUGUGUGGUU</td>\n",
       "      <td>ENST00000360737 // sense // exon // 5 /// OTTH...</td>\n",
       "      <td>...</td>\n",
       "      <td>13.46</td>\n",
       "      <td>12.67</td>\n",
       "      <td>12.41</td>\n",
       "      <td>12.94</td>\n",
       "      <td>12.43</td>\n",
       "      <td>12.64</td>\n",
       "      <td>12.60</td>\n",
       "      <td>12.00</td>\n",
       "      <td>12.64</td>\n",
       "      <td>12.80</td>\n",
       "    </tr>\n",
       "    <tr>\n",
       "      <th>4</th>\n",
       "      <td>20500116</td>\n",
       "      <td>MIMAT0004482_st</td>\n",
       "      <td>MIMAT0004482</td>\n",
       "      <td>hsa-let-7b-3p</td>\n",
       "      <td>miRNA</td>\n",
       "      <td>Homo sapiens</td>\n",
       "      <td>chr22:46509625-46509646 (+)</td>\n",
       "      <td>22</td>\n",
       "      <td>CUAUACAACCUACUGCCUUCCC</td>\n",
       "      <td>ENST00000360737 // sense // exon // 5 /// OTTH...</td>\n",
       "      <td>...</td>\n",
       "      <td>1.66</td>\n",
       "      <td>1.44</td>\n",
       "      <td>0.86</td>\n",
       "      <td>1.33</td>\n",
       "      <td>1.44</td>\n",
       "      <td>1.46</td>\n",
       "      <td>0.85</td>\n",
       "      <td>0.89</td>\n",
       "      <td>1.44</td>\n",
       "      <td>2.22</td>\n",
       "    </tr>\n",
       "  </tbody>\n",
       "</table>\n",
       "<p>5 rows × 29 columns</p>\n",
       "</div>"
      ],
      "text/plain": [
       "         ID     Accession_ID     Accession Transcript ID(Array Design)  \\\n",
       "0  20500112  MIMAT0000062_st  MIMAT0000062               hsa-let-7a-5p   \n",
       "1  20500113  MIMAT0004481_st  MIMAT0004481               hsa-let-7a-3p   \n",
       "2  20500114  MIMAT0010195_st  MIMAT0010195             hsa-let-7a-2-3p   \n",
       "3  20500115  MIMAT0000063_st  MIMAT0000063               hsa-let-7b-5p   \n",
       "4  20500116  MIMAT0004482_st  MIMAT0004482               hsa-let-7b-3p   \n",
       "\n",
       "  Sequence Type Species Scientific Name  \\\n",
       "0         miRNA            Homo sapiens   \n",
       "1         miRNA            Homo sapiens   \n",
       "2         miRNA            Homo sapiens   \n",
       "3         miRNA            Homo sapiens   \n",
       "4         miRNA            Homo sapiens   \n",
       "\n",
       "                                          Alignments  Sequence Length  \\\n",
       "0  chr11:122017276-122017297 (-) /// chr22:465086...               22   \n",
       "1  chr22:46508680-46508700 (+) /// chr9:96938295-...               21   \n",
       "2                      chr11:122017231-122017252 (-)               22   \n",
       "3                        chr22:46509571-46509592 (+)               22   \n",
       "4                        chr22:46509625-46509646 (+)               22   \n",
       "\n",
       "                 Sequence                                     Genome Context  \\\n",
       "0  UGAGGUAGUAGGUUGUAUAGUU  ENST00000362295 // sense // exon // 1 /// ENST...   \n",
       "1   CUAUACAAUCUACUGUCUUUC  ENST00000362295 // sense // exon // 1 /// ENST...   \n",
       "2  CUGUACAGCCUCCUAGCUUUCC              ENST00000362105 // sense // exon // 1   \n",
       "3  UGAGGUAGUAGGUUGUGUGGUU  ENST00000360737 // sense // exon // 5 /// OTTH...   \n",
       "4  CUAUACAACCUACUGCCUUCCC  ENST00000360737 // sense // exon // 5 /// OTTH...   \n",
       "\n",
       "   ... GSM4817990 GSM4817991 GSM4817992 GSM4817993 GSM4817994 GSM4817995  \\\n",
       "0  ...      10.98      12.64      11.17      11.89      11.50      11.56   \n",
       "1  ...       1.34       0.89       1.11       1.14       0.77       0.96   \n",
       "2  ...       1.32       0.86       0.92       0.99       1.18       0.77   \n",
       "3  ...      13.46      12.67      12.41      12.94      12.43      12.64   \n",
       "4  ...       1.66       1.44       0.86       1.33       1.44       1.46   \n",
       "\n",
       "  GSM4817996  GSM4817997  GSM4817998  GSM4817999  \n",
       "0      11.73       11.55       12.16       11.64  \n",
       "1       0.79        1.21        1.35        1.38  \n",
       "2       0.97        0.51        0.73        0.51  \n",
       "3      12.60       12.00       12.64       12.80  \n",
       "4       0.85        0.89        1.44        2.22  \n",
       "\n",
       "[5 rows x 29 columns]"
      ]
     },
     "execution_count": 11,
     "metadata": {},
     "output_type": "execute_result"
    }
   ],
   "source": [
    "df.head()"
   ]
  },
  {
   "cell_type": "code",
   "execution_count": 13,
   "metadata": {},
   "outputs": [
    {
     "data": {
      "text/plain": [
       "(6631, 29)"
      ]
     },
     "execution_count": 13,
     "metadata": {},
     "output_type": "execute_result"
    }
   ],
   "source": [
    "df.shape"
   ]
  },
  {
   "cell_type": "code",
   "execution_count": 4,
   "metadata": {},
   "outputs": [
    {
     "data": {
      "text/plain": [
       "Index(['ID', 'Accession_ID', 'Accession', 'Transcript ID(Array Design)',\n",
       "       'Sequence Type', 'Species Scientific Name', 'Alignments',\n",
       "       'Sequence Length', 'Sequence', 'Genome Context',\n",
       "       'Clustered miRNAs within 10kb', 'Target Genes', 'GeneChip Array',\n",
       "       'Annotation Date', 'Sequence Source', 'miRNA_ID', 'SPOT_ID', 'ID_REF',\n",
       "       'GSM4817989', 'GSM4817990', 'GSM4817991', 'GSM4817992', 'GSM4817993',\n",
       "       'GSM4817994', 'GSM4817995', 'GSM4817996', 'GSM4817997', 'GSM4817998',\n",
       "       'GSM4817999'],\n",
       "      dtype='object')"
      ]
     },
     "execution_count": 4,
     "metadata": {},
     "output_type": "execute_result"
    }
   ],
   "source": [
    "df.columns"
   ]
  },
  {
   "cell_type": "code",
   "execution_count": 5,
   "metadata": {},
   "outputs": [
    {
     "data": {
      "text/html": [
       "<div>\n",
       "<style scoped>\n",
       "    .dataframe tbody tr th:only-of-type {\n",
       "        vertical-align: middle;\n",
       "    }\n",
       "\n",
       "    .dataframe tbody tr th {\n",
       "        vertical-align: top;\n",
       "    }\n",
       "\n",
       "    .dataframe thead th {\n",
       "        text-align: right;\n",
       "    }\n",
       "</style>\n",
       "<table border=\"1\" class=\"dataframe\">\n",
       "  <thead>\n",
       "    <tr style=\"text-align: right;\">\n",
       "      <th></th>\n",
       "      <th>ID</th>\n",
       "      <th>Sequence Length</th>\n",
       "      <th>ID_REF</th>\n",
       "      <th>GSM4817989</th>\n",
       "      <th>GSM4817990</th>\n",
       "      <th>GSM4817991</th>\n",
       "      <th>GSM4817992</th>\n",
       "      <th>GSM4817993</th>\n",
       "      <th>GSM4817994</th>\n",
       "      <th>GSM4817995</th>\n",
       "      <th>GSM4817996</th>\n",
       "      <th>GSM4817997</th>\n",
       "      <th>GSM4817998</th>\n",
       "      <th>GSM4817999</th>\n",
       "    </tr>\n",
       "  </thead>\n",
       "  <tbody>\n",
       "    <tr>\n",
       "      <th>count</th>\n",
       "      <td>6.631000e+03</td>\n",
       "      <td>6631.000000</td>\n",
       "      <td>6.631000e+03</td>\n",
       "      <td>6631.000000</td>\n",
       "      <td>6631.000000</td>\n",
       "      <td>6631.000000</td>\n",
       "      <td>6631.000000</td>\n",
       "      <td>6631.000000</td>\n",
       "      <td>6631.000000</td>\n",
       "      <td>6631.000000</td>\n",
       "      <td>6631.000000</td>\n",
       "      <td>6631.000000</td>\n",
       "      <td>6631.000000</td>\n",
       "      <td>6631.000000</td>\n",
       "    </tr>\n",
       "    <tr>\n",
       "      <th>mean</th>\n",
       "      <td>2.052706e+07</td>\n",
       "      <td>67.374001</td>\n",
       "      <td>2.052706e+07</td>\n",
       "      <td>1.887732</td>\n",
       "      <td>1.838709</td>\n",
       "      <td>1.886148</td>\n",
       "      <td>1.894238</td>\n",
       "      <td>1.896741</td>\n",
       "      <td>1.896274</td>\n",
       "      <td>1.907945</td>\n",
       "      <td>1.896352</td>\n",
       "      <td>1.869264</td>\n",
       "      <td>1.886445</td>\n",
       "      <td>1.905634</td>\n",
       "    </tr>\n",
       "    <tr>\n",
       "      <th>std</th>\n",
       "      <td>1.178865e+04</td>\n",
       "      <td>45.554202</td>\n",
       "      <td>1.178865e+04</td>\n",
       "      <td>2.078287</td>\n",
       "      <td>2.047057</td>\n",
       "      <td>2.076719</td>\n",
       "      <td>2.088953</td>\n",
       "      <td>2.094335</td>\n",
       "      <td>2.094137</td>\n",
       "      <td>2.084346</td>\n",
       "      <td>2.089934</td>\n",
       "      <td>2.018481</td>\n",
       "      <td>2.073971</td>\n",
       "      <td>2.106783</td>\n",
       "    </tr>\n",
       "    <tr>\n",
       "      <th>min</th>\n",
       "      <td>2.050011e+07</td>\n",
       "      <td>16.000000</td>\n",
       "      <td>2.050011e+07</td>\n",
       "      <td>0.290000</td>\n",
       "      <td>0.400000</td>\n",
       "      <td>0.300000</td>\n",
       "      <td>0.400000</td>\n",
       "      <td>0.240000</td>\n",
       "      <td>0.330000</td>\n",
       "      <td>0.430000</td>\n",
       "      <td>0.230000</td>\n",
       "      <td>0.350000</td>\n",
       "      <td>0.400000</td>\n",
       "      <td>0.300000</td>\n",
       "    </tr>\n",
       "    <tr>\n",
       "      <th>25%</th>\n",
       "      <td>2.051948e+07</td>\n",
       "      <td>22.000000</td>\n",
       "      <td>2.051948e+07</td>\n",
       "      <td>0.990000</td>\n",
       "      <td>0.990000</td>\n",
       "      <td>0.980000</td>\n",
       "      <td>0.970000</td>\n",
       "      <td>1.000000</td>\n",
       "      <td>0.980000</td>\n",
       "      <td>1.010000</td>\n",
       "      <td>0.980000</td>\n",
       "      <td>1.000000</td>\n",
       "      <td>0.970000</td>\n",
       "      <td>0.980000</td>\n",
       "    </tr>\n",
       "    <tr>\n",
       "      <th>50%</th>\n",
       "      <td>2.053330e+07</td>\n",
       "      <td>71.000000</td>\n",
       "      <td>2.053330e+07</td>\n",
       "      <td>1.170000</td>\n",
       "      <td>1.200000</td>\n",
       "      <td>1.170000</td>\n",
       "      <td>1.200000</td>\n",
       "      <td>1.200000</td>\n",
       "      <td>1.170000</td>\n",
       "      <td>1.220000</td>\n",
       "      <td>1.190000</td>\n",
       "      <td>1.210000</td>\n",
       "      <td>1.180000</td>\n",
       "      <td>1.170000</td>\n",
       "    </tr>\n",
       "    <tr>\n",
       "      <th>75%</th>\n",
       "      <td>2.053580e+07</td>\n",
       "      <td>97.000000</td>\n",
       "      <td>2.053580e+07</td>\n",
       "      <td>1.530000</td>\n",
       "      <td>1.540000</td>\n",
       "      <td>1.520000</td>\n",
       "      <td>1.550000</td>\n",
       "      <td>1.550000</td>\n",
       "      <td>1.540000</td>\n",
       "      <td>1.590000</td>\n",
       "      <td>1.560000</td>\n",
       "      <td>1.570000</td>\n",
       "      <td>1.540000</td>\n",
       "      <td>1.530000</td>\n",
       "    </tr>\n",
       "    <tr>\n",
       "      <th>max</th>\n",
       "      <td>2.053849e+07</td>\n",
       "      <td>548.000000</td>\n",
       "      <td>2.053849e+07</td>\n",
       "      <td>15.970000</td>\n",
       "      <td>15.970000</td>\n",
       "      <td>15.960000</td>\n",
       "      <td>15.940000</td>\n",
       "      <td>15.960000</td>\n",
       "      <td>15.960000</td>\n",
       "      <td>15.970000</td>\n",
       "      <td>15.960000</td>\n",
       "      <td>15.930000</td>\n",
       "      <td>15.960000</td>\n",
       "      <td>15.970000</td>\n",
       "    </tr>\n",
       "  </tbody>\n",
       "</table>\n",
       "</div>"
      ],
      "text/plain": [
       "                 ID  Sequence Length        ID_REF   GSM4817989   GSM4817990  \\\n",
       "count  6.631000e+03      6631.000000  6.631000e+03  6631.000000  6631.000000   \n",
       "mean   2.052706e+07        67.374001  2.052706e+07     1.887732     1.838709   \n",
       "std    1.178865e+04        45.554202  1.178865e+04     2.078287     2.047057   \n",
       "min    2.050011e+07        16.000000  2.050011e+07     0.290000     0.400000   \n",
       "25%    2.051948e+07        22.000000  2.051948e+07     0.990000     0.990000   \n",
       "50%    2.053330e+07        71.000000  2.053330e+07     1.170000     1.200000   \n",
       "75%    2.053580e+07        97.000000  2.053580e+07     1.530000     1.540000   \n",
       "max    2.053849e+07       548.000000  2.053849e+07    15.970000    15.970000   \n",
       "\n",
       "        GSM4817991   GSM4817992   GSM4817993   GSM4817994   GSM4817995  \\\n",
       "count  6631.000000  6631.000000  6631.000000  6631.000000  6631.000000   \n",
       "mean      1.886148     1.894238     1.896741     1.896274     1.907945   \n",
       "std       2.076719     2.088953     2.094335     2.094137     2.084346   \n",
       "min       0.300000     0.400000     0.240000     0.330000     0.430000   \n",
       "25%       0.980000     0.970000     1.000000     0.980000     1.010000   \n",
       "50%       1.170000     1.200000     1.200000     1.170000     1.220000   \n",
       "75%       1.520000     1.550000     1.550000     1.540000     1.590000   \n",
       "max      15.960000    15.940000    15.960000    15.960000    15.970000   \n",
       "\n",
       "        GSM4817996   GSM4817997   GSM4817998   GSM4817999  \n",
       "count  6631.000000  6631.000000  6631.000000  6631.000000  \n",
       "mean      1.896352     1.869264     1.886445     1.905634  \n",
       "std       2.089934     2.018481     2.073971     2.106783  \n",
       "min       0.230000     0.350000     0.400000     0.300000  \n",
       "25%       0.980000     1.000000     0.970000     0.980000  \n",
       "50%       1.190000     1.210000     1.180000     1.170000  \n",
       "75%       1.560000     1.570000     1.540000     1.530000  \n",
       "max      15.960000    15.930000    15.960000    15.970000  "
      ]
     },
     "execution_count": 5,
     "metadata": {},
     "output_type": "execute_result"
    }
   ],
   "source": [
    "df.describe()"
   ]
  },
  {
   "cell_type": "markdown",
   "metadata": {},
   "source": [
    "### Accession_ID"
   ]
  },
  {
   "cell_type": "markdown",
   "metadata": {},
   "source": [
    "**Accession_ID**: refers to a specific microRNA (miRNA) entry in the miRBase database. miRBase is a comprehensive database that provides information on miRNA sequences, nomenclature, and targets.\n",
    "\n",
    "**Accession_ID** that start with 'gi' follow a notation style that might be used in a specific biological database or context, such as NCBI's GenInfo Identifier (GI) system"
   ]
  },
  {
   "cell_type": "markdown",
   "metadata": {},
   "source": [
    "Prefix:\n",
    "\n",
    "1. **MIMAT**: \n",
    "   - Refers to mature microRNA sequences in the miRBase database.\n",
    "\n",
    "2. **ENSG**:\n",
    "   - Refers to Ensembl Gene identifiers.\n",
    "\n",
    "3. **ACA, HBI-, HBII-, MI0, U, Z, hTR, mgU, mgh, snR, E2, E3, SNORA, SNORD**:\n",
    "   - These prefixes generally refer to various small non-coding RNAs (snoRNAs, snRNAs, etc.).\n",
    "   - **ACA**: Often associated with H/ACA box snoRNAs.\n",
    "   - **HBI-, HBII-**: Typically refer to C/D box snoRNAs.\n",
    "   - **MI0**: Could be referring to a specific type of small RNA or microRNA-related.\n",
    "   - **U**: Often denotes U series snRNAs (small nuclear RNAs).\n",
    "   - **Z**: Could be a specific nomenclature within a particular database or project.\n",
    "   - **hTR**: Human telomerase RNA component.\n",
    "   - **mgU, mgh**: These could be specific prefixes used within a particular dataset or experiment.\n",
    "   - **snR**: Small nuclear RNAs.\n",
    "   - **E2, E3**: These could denote specific RNA elements or experimental conditions.\n",
    "   - **SNORA, SNORD**: Refer to small nucleolar RNAs of the H/ACA and C/D box families respectively.\n",
    "\n",
    "4. **14qII, 14qI-, 14q0**:\n",
    "   - Likely refer to specific genomic regions on chromosome 14.\n",
    "   - **14qII**: Region on the long arm (q) of chromosome 14.\n",
    "   - **14qI-**: Possibly another specific region on 14q.\n",
    "   - **14q0**: Another specific location on 14q.\n",
    "\n",
    "5. **spike_in-control**:\n",
    "   - Refers to control sequences used for normalization in experiments, such as RNA-seq or qPCR.\n",
    "\n",
    "6. **gi**:\n",
    "   - Refers to GenInfo Identifier (GI), a legacy identifier from NCBI for sequences.\n",
    "\n",
    "- **Relevant Databases**: Look up the identifiers in their respective databases (e.g., miRBase for MIMAT, Ensembl for ENSG, NCBI for GI).\n",
    "- **Annotation**: Annotate each feature using the appropriate database.\n",
    "   - **MIMAT**: Use miRBase.\n",
    "   - **ENSG**: Use Ensembl.\n",
    "   - **gi**: Use NCBI."
   ]
  },
  {
   "cell_type": "code",
   "execution_count": 17,
   "metadata": {},
   "outputs": [
    {
     "data": {
      "text/plain": [
       "0         MIMAT0000062_st\n",
       "1         MIMAT0004481_st\n",
       "2         MIMAT0010195_st\n",
       "3         MIMAT0000063_st\n",
       "4         MIMAT0004482_st\n",
       "              ...        \n",
       "6626    gi555853_copy5_st\n",
       "6627    gi555853_copy6_st\n",
       "6628    gi555853_copy7_st\n",
       "6629    gi555853_copy8_st\n",
       "6630    gi555853_copy9_st\n",
       "Name: Accession_ID, Length: 6631, dtype: object"
      ]
     },
     "execution_count": 17,
     "metadata": {},
     "output_type": "execute_result"
    }
   ],
   "source": [
    "df['Accession_ID']"
   ]
  },
  {
   "cell_type": "code",
   "execution_count": 27,
   "metadata": {},
   "outputs": [],
   "source": [
    "df['Accession_ID'].to_csv('data/GSE159033/GSE159033_accession_ids.csv')"
   ]
  },
  {
   "cell_type": "code",
   "execution_count": 53,
   "metadata": {},
   "outputs": [],
   "source": [
    "a = (sum(df['Accession_ID'].str.startswith('MIMAT')),\n",
    "    sum(df['Accession_ID'].str.startswith('ENSG')),\n",
    "    sum(df['Accession_ID'].str.startswith('ACA')),\n",
    "    sum(df['Accession_ID'].str.startswith('14qII')), sum(df['Accession_ID'].str.startswith('14qI-')),\n",
    "    sum(df['Accession_ID'].str.startswith('14q0')),\n",
    "    sum(df['Accession_ID'].str.startswith('HBI-')), sum(df['Accession_ID'].str.startswith('HBII-')),\n",
    "    sum(df['Accession_ID'].str.startswith('MI0')),\n",
    "    sum(df['Accession_ID'].str.startswith('U')),\n",
    "    sum(df['Accession_ID'].str.startswith('Z')),\n",
    "    sum(df['Accession_ID'].str.startswith('hTR')),\n",
    "    sum(df['Accession_ID'].str.startswith('mgU')), sum(df['Accession_ID'].str.startswith('mgh')),\n",
    "    sum(df['Accession_ID'].str.startswith('snR')),\n",
    "    sum(df['Accession_ID'].str.startswith('E2')), sum(df['Accession_ID'].str.startswith('E3')),\n",
    "    sum(df['Accession_ID'].str.startswith('SNORA')), sum(df['Accession_ID'].str.startswith('SNORD')),\n",
    "    sum(df['Accession_ID'].str.startswith('spike_in-control')), \n",
    "    sum(df['Accession_ID'].str.startswith('gi'))\n",
    "    )\n",
    "# MIMAT, ENSG, ACA, 14qII, 14qI-, 14q0, HBI-, HBII-, MI0, U, Z, hTR, mgU, mgh, snR, E2, E3, SNORA, SNORD, spike_in-control, gi"
   ]
  },
  {
   "cell_type": "code",
   "execution_count": 54,
   "metadata": {},
   "outputs": [
    {
     "data": {
      "text/plain": [
       "((2578,\n",
       "  1491,\n",
       "  106,\n",
       "  41,\n",
       "  12,\n",
       "  1,\n",
       "  8,\n",
       "  121,\n",
       "  2025,\n",
       "  171,\n",
       "  1,\n",
       "  1,\n",
       "  14,\n",
       "  3,\n",
       "  4,\n",
       "  1,\n",
       "  1,\n",
       "  11,\n",
       "  9,\n",
       "  22,\n",
       "  10),\n",
       " 6631)"
      ]
     },
     "execution_count": 54,
     "metadata": {},
     "output_type": "execute_result"
    }
   ],
   "source": [
    "a, sum(a)"
   ]
  },
  {
   "cell_type": "markdown",
   "metadata": {},
   "source": [
    "### Transcript ID"
   ]
  },
  {
   "cell_type": "code",
   "execution_count": 59,
   "metadata": {},
   "outputs": [
    {
     "data": {
      "text/plain": [
       "6050"
      ]
     },
     "execution_count": 59,
     "metadata": {},
     "output_type": "execute_result"
    }
   ],
   "source": [
    "len(df['Transcript ID(Array Design)'].unique())"
   ]
  },
  {
   "cell_type": "code",
   "execution_count": 67,
   "metadata": {},
   "outputs": [
    {
     "data": {
      "text/plain": [
       "Transcript ID(Array Design)\n",
       "gi:555853          10\n",
       "ENSG00000251974     3\n",
       "SNORA84             3\n",
       "SNORA38B            3\n",
       "ENSG00000206903     3\n",
       "                   ..\n",
       "hsa-mir-101-1       2\n",
       "hsa-mir-29b-1       2\n",
       "hsa-mir-29b-2       2\n",
       "14qI-4              2\n",
       "ENSG00000221164     2\n",
       "Name: count, Length: 529, dtype: int64"
      ]
     },
     "execution_count": 67,
     "metadata": {},
     "output_type": "execute_result"
    }
   ],
   "source": [
    "df['Transcript ID(Array Design)'].value_counts()[df['Transcript ID(Array Design)'].value_counts() > 1]"
   ]
  },
  {
   "cell_type": "code",
   "execution_count": 70,
   "metadata": {},
   "outputs": [
    {
     "data": {
      "text/plain": [
       "Transcript ID(Array Design)\n",
       "gi:555853          10\n",
       "ENSG00000251974     3\n",
       "SNORA84             3\n",
       "SNORA38B            3\n",
       "ENSG00000206903     3\n",
       "ENSG00000199894     3\n",
       "ENSG00000199959     3\n",
       "hsa-mir-4776-2      3\n",
       "hsa-mir-4776-1      3\n",
       "hsa-mir-4773-2      3\n",
       "hsa-mir-4773-1      3\n",
       "hsa-mir-3116-1      3\n",
       "hsa-mir-3116-2      3\n",
       "HBII-85-26          3\n",
       "hsa-mir-4679-1      3\n",
       "hsa-mir-3130-1      3\n",
       "hsa-mir-3130-2      3\n",
       "ENSG00000252798     3\n",
       "ENSG00000201009     3\n",
       "ENSG00000201042     3\n",
       "ENSG00000252840     3\n",
       "hsa-mir-3158-1      3\n",
       "hsa-mir-3158-2      3\n",
       "hsa-mir-3910-2      3\n",
       "hsa-mir-3160-1      3\n",
       "hsa-mir-3160-2      3\n",
       "hsa-mir-3910-1      3\n",
       "hsa-mir-3199-1      3\n",
       "HBI-61              3\n",
       "hsa-mir-3199-2      3\n",
       "hsa-mir-3202-2      3\n",
       "ENSG00000199231     3\n",
       "hsa-mir-3202-1      3\n",
       "hsa-mir-124-1       3\n",
       "mgU12-22-U4-8       3\n",
       "ACA34               3\n",
       "ACA36B              3\n",
       "ENSG00000212378     3\n",
       "hsa-mir-133a-1      3\n",
       "hsa-mir-133a-2      3\n",
       "U49A                3\n",
       "U46                 3\n",
       "ACA2b               3\n",
       "mgU2-25-61          3\n",
       "ACA44               3\n",
       "Name: count, dtype: int64"
      ]
     },
     "execution_count": 70,
     "metadata": {},
     "output_type": "execute_result"
    }
   ],
   "source": [
    "df['Transcript ID(Array Design)'].value_counts()[df['Transcript ID(Array Design)'].value_counts() > 2]"
   ]
  },
  {
   "cell_type": "markdown",
   "metadata": {},
   "source": [
    "### Sequence Type"
   ]
  },
  {
   "cell_type": "code",
   "execution_count": 64,
   "metadata": {},
   "outputs": [
    {
     "data": {
      "image/png": "[encoded data removed]",
      "text/plain": [
       "<Figure size 1000x400 with 1 Axes>"
      ]
     },
     "metadata": {},
     "output_type": "display_data"
    }
   ],
   "source": [
    "df['Sequence Type'].value_counts().plot(kind='bar', figsize=(10, 4));"
   ]
  },
  {
   "cell_type": "markdown",
   "metadata": {},
   "source": [
    "### Alignments"
   ]
  },
  {
   "cell_type": "markdown",
   "metadata": {},
   "source": [
    "**Alignments**: these alignments provide specific locations and orientations for segments on chromosomes 11, 22, and 9. The negative strand on chromosome 11 means the sequence is read in the reverse direction, while the positive strands on chromosomes 22 and 9 are read in the forward direction."
   ]
  },
  {
   "cell_type": "code",
   "execution_count": 16,
   "metadata": {},
   "outputs": [
    {
     "data": {
      "text/plain": [
       "'chr11:122017276-122017297 (-) /// chr22:46508632-46508653 (+) /// chr9:96938244-96938265 (+)'"
      ]
     },
     "execution_count": 16,
     "metadata": {},
     "output_type": "execute_result"
    }
   ],
   "source": [
    "df['Alignments'][0]"
   ]
  },
  {
   "cell_type": "code",
   "execution_count": 14,
   "metadata": {},
   "outputs": [
    {
     "data": {
      "text/plain": [
       "6596"
      ]
     },
     "execution_count": 14,
     "metadata": {},
     "output_type": "execute_result"
    }
   ],
   "source": [
    "len(df[df['Alignments'] != '---'])"
   ]
  },
  {
   "cell_type": "markdown",
   "metadata": {},
   "source": [
    "### Genome Context"
   ]
  },
  {
   "cell_type": "markdown",
   "metadata": {},
   "source": [
    "**Genome Context**: This annotation lists several transcripts, their orientations (sense strand), the type of feature (exon or intron), and the specific number of that feature within the transcript. Ensembl (ENST) and HAVANA (OTTHUMT) are both sources for transcript information, with Ensembl being a widely used genomic database and HAVANA providing high-quality manual annotation."
   ]
  },
  {
   "cell_type": "code",
   "execution_count": 15,
   "metadata": {},
   "outputs": [
    {
     "data": {
      "text/plain": [
       "3615"
      ]
     },
     "execution_count": 15,
     "metadata": {},
     "output_type": "execute_result"
    }
   ],
   "source": [
    "len(df[df['Genome Context'] != '---'])"
   ]
  },
  {
   "cell_type": "code",
   "execution_count": 9,
   "metadata": {},
   "outputs": [
    {
     "data": {
      "text/plain": [
       "'ENST00000362295 // sense // exon // 1 /// ENST00000602703 // sense // intron // 1 /// OTTHUMT00000467752 // sense // intron // 1 /// ENST00000362105 // sense // exon // 1 /// ENST00000360737 // sense // exon // 5 /// OTTHUMT00000316781 // sense // exon // 5'"
      ]
     },
     "execution_count": 9,
     "metadata": {},
     "output_type": "execute_result"
    }
   ],
   "source": [
    "df['Genome Context'][0]"
   ]
  },
  {
   "cell_type": "code",
   "execution_count": null,
   "metadata": {},
   "outputs": [],
   "source": []
  }
 ],
 "metadata": {
  "kernelspec": {
   "display_name": "base",
   "language": "python",
   "name": "python3"
  },
  "language_info": {
   "codemirror_mode": {
    "name": "ipython",
    "version": 3
   },
   "file_extension": ".py",
   "mimetype": "text/x-python",
   "name": "python",
   "nbconvert_exporter": "python",
   "pygments_lexer": "ipython3",
   "version": "3.10.9"
  }
 },
 "nbformat": 4,
 "nbformat_minor": 2
}

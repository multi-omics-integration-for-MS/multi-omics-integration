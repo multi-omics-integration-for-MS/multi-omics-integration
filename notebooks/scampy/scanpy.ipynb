{
 "cells": [
  {
   "cell_type": "markdown",
   "metadata": {},
   "source": [
    "# Clustering and differential expression analysis using scanpy"
   ]
  },
  {
   "cell_type": "code",
   "execution_count": null,
   "metadata": {},
   "outputs": [],
   "source": [
    "import numpy as np\n",
    "import pandas as pd\n",
    "import scanpy as sc\n",
    "import json\n",
    "import os\n",
    "import matplotlib.pyplot as plt\n",
    "from scipy.stats import rankdata"
   ]
  },
  {
   "cell_type": "code",
   "execution_count": null,
   "metadata": {},
   "outputs": [],
   "source": [
    "dataset_name = 'PBMC1' # modify this\n",
    "data_in_path = './data/{}/filtered/10X/'.format(dataset_name)\n",
    "data_out_path = './data/{}/scanpy/'.format(dataset_name)\n",
    "default_path = '{}default/'.format(data_out_path)\n",
    "celltypist_path = '{}celltypist/'.format(data_out_path)\n",
    "antibody_path = '{}antibody/'.format(data_out_path)\n",
    "nclusters_celltypist_path = './data/{}/celltypist/nclusters.json'.format(dataset_name)\n",
    "nclusters_antibody_path = './data/{}/antibody_annotation/nclusters_postproc.json'.format(dataset_name)\n",
    "\n",
    "top_number_of_markers = 500\n",
    "min_cluster_size = 0\n",
    "\n",
    "with open(nclusters_celltypist_path) as f:\n",
    "    nclusters_celltypist = json.load(f)['nclusters']\n",
    "with open(nclusters_antibody_path) as f:\n",
    "    nclusters_antibody = json.load(f)['nclusters']\n",
    "\n",
    "nclusters_threshold = 1/10\n",
    "min_ncluster_celltypist = round(nclusters_celltypist - nclusters_threshold*nclusters_celltypist)\n",
    "max_ncluster_celltypist = round(nclusters_celltypist + nclusters_threshold*nclusters_celltypist)\n",
    "min_ncluster_antibody = round(nclusters_antibody - nclusters_threshold*nclusters_antibody)\n",
    "max_ncluster_antibody = round(nclusters_antibody + nclusters_threshold*nclusters_antibody)\n",
    "\n",
    "if not os.path.exists(default_path):\n",
    "    os.makedirs(default_path)\n",
    "\n",
    "if not os.path.exists(celltypist_path):\n",
    "    os.makedirs(celltypist_path)\n",
    "\n",
    "if not os.path.exists(antibody_path):\n",
    "    os.makedirs(antibody_path)"
   ]
  },
  {
   "cell_type": "markdown",
   "metadata": {},
   "source": [
    "## Data loading and preparation"
   ]
  },
  {
   "cell_type": "markdown",
   "metadata": {},
   "source": [
    "Dataset loading"
   ]
  },
  {
   "cell_type": "code",
   "execution_count": null,
   "metadata": {},
   "outputs": [],
   "source": [
    "adata = sc.read_10x_mtx(\n",
    "    data_in_path,\n",
    "    var_names='gene_symbols',\n",
    "    cache=False\n",
    ")\n",
    "adata.var_names_make_unique()\n",
    "adata"
   ]
  },
  {
   "cell_type": "markdown",
   "metadata": {},
   "source": [
    "Studying feature variance"
   ]
  },
  {
   "cell_type": "code",
   "execution_count": null,
   "metadata": {},
   "outputs": [],
   "source": [
    "matrix = adata.X\n",
    "matrix = matrix.todense()\n",
    "neg_variances = np.sort(-np.var(matrix, axis=0))\n",
    "sorted_log_variances = [np.log(-i) for i in neg_variances.T][:2000]\n",
    "plt.scatter([i for i in range(len(sorted_log_variances))], sorted_log_variances)"
   ]
  },
  {
   "cell_type": "markdown",
   "metadata": {},
   "source": [
    "Data normalization"
   ]
  },
  {
   "cell_type": "code",
   "execution_count": null,
   "metadata": {},
   "outputs": [],
   "source": [
    "sc.pp.normalize_total(adata, target_sum=1e4)\n",
    "sc.pp.log1p(adata)"
   ]
  },
  {
   "cell_type": "markdown",
   "metadata": {},
   "source": [
    "Feature selection"
   ]
  },
  {
   "cell_type": "code",
   "execution_count": null,
   "metadata": {},
   "outputs": [],
   "source": [
    "sc.pp.highly_variable_genes(\n",
    "    adata,\n",
    "    n_top_genes=500, # chosen based on elbow plot above\n",
    "    flavor='seurat_v3'\n",
    ")\n",
    "sc.pl.highly_variable_genes(adata)"
   ]
  },
  {
   "cell_type": "markdown",
   "metadata": {},
   "source": [
    "Feature scaling"
   ]
  },
  {
   "cell_type": "code",
   "execution_count": null,
   "metadata": {},
   "outputs": [],
   "source": [
    "adata.raw = adata\n",
    "adata = adata[:, adata.var.highly_variable]\n",
    "sc.pp.scale(adata, max_value=10) # default=None, 10 in the tutorial on pbmc"
   ]
  },
  {
   "cell_type": "markdown",
   "metadata": {},
   "source": [
    "## Clustering"
   ]
  },
  {
   "cell_type": "markdown",
   "metadata": {},
   "source": [
    "Plot pca explained variance ratio to choose number of components"
   ]
  },
  {
   "cell_type": "code",
   "execution_count": null,
   "metadata": {},
   "outputs": [],
   "source": [
    "sc.tl.pca(adata, svd_solver='arpack', n_comps=30, use_highly_variable=True)\n",
    "sc.pl.pca_variance_ratio(adata, log=True)"
   ]
  },
  {
   "cell_type": "markdown",
   "metadata": {},
   "source": [
    "### Clustering with default parameters"
   ]
  },
  {
   "cell_type": "markdown",
   "metadata": {},
   "source": [
    "Perform the clustering"
   ]
  },
  {
   "cell_type": "code",
   "execution_count": null,
   "metadata": {},
   "outputs": [],
   "source": [
    "sc.pp.neighbors(\n",
    "    adata,\n",
    "    n_pcs=10 # chosen based on elbow plot above\n",
    ")\n",
    "sc.tl.leiden(adata)"
   ]
  },
  {
   "cell_type": "markdown",
   "metadata": {},
   "source": [
    "Visualize the clustering in the PCA space"
   ]
  },
  {
   "cell_type": "code",
   "execution_count": null,
   "metadata": {},
   "outputs": [],
   "source": [
    "sc.pl.pca(\n",
    "    adata,\n",
    "    color=['leiden'],\n",
    "    size=20\n",
    ")"
   ]
  },
  {
   "cell_type": "markdown",
   "metadata": {},
   "source": [
    "Save the clustering results"
   ]
  },
  {
   "cell_type": "code",
   "execution_count": null,
   "metadata": {},
   "outputs": [],
   "source": [
    "default_markers_df = pd.DataFrame(adata.obs['leiden'])\n",
    "default_markers_df = default_markers_df.rename(columns={'leiden': 'cluster'})\n",
    "default_markers_df.index.name = 'cell'\n",
    "default_markers_df['cluster'] = default_markers_df['cluster'].astype(int) + 1\n",
    "default_markers_df.to_csv(f'{default_path}/clustering_labels.csv', index=True)\n",
    "num_clusters_default = len(default_markers_df['cluster'].unique())"
   ]
  },
  {
   "cell_type": "markdown",
   "metadata": {},
   "source": [
    "## Differential expression on default clusters"
   ]
  },
  {
   "cell_type": "code",
   "execution_count": null,
   "metadata": {},
   "outputs": [],
   "source": [
    "sc.tl.rank_genes_groups(adata, 'leiden', method='wilcoxon') # default='t-test', wilcoxon suggested in the tutorial"
   ]
  },
  {
   "cell_type": "markdown",
   "metadata": {},
   "source": [
    "Save markers"
   ]
  },
  {
   "cell_type": "code",
   "execution_count": null,
   "metadata": {},
   "outputs": [],
   "source": [
    "default_markers_df = pd.DataFrame(columns=['gene', 'cluster', 'rank'])\n",
    "for i in range(num_clusters_default):\n",
    "    indices = np.argsort(adata.uns['rank_genes_groups']['pvals_adj'][str(i)])\n",
    "    genes = adata.uns['rank_genes_groups']['names'][str(i)][indices][:top_number_of_markers]\n",
    "    ranks = rankdata(adata.uns['rank_genes_groups']['pvals_adj'][str(i)][indices][:top_number_of_markers], method=\"ordinal\")\n",
    "    temp_df = pd.DataFrame(\n",
    "        np.column_stack((genes, [i+1 for _ in range(top_number_of_markers)], ranks)),\n",
    "        columns=['gene', 'cluster', 'rank']\n",
    "    )\n",
    "    default_markers_df = pd.concat([default_markers_df, temp_df], ignore_index=True)\n",
    "\n",
    "default_markers_df['cluster'] = default_markers_df['cluster'].astype(int)\n",
    "default_markers_df['rank'] = default_markers_df['rank'].astype(int)\n",
    "default_markers_df.to_csv(f'{default_path}/markers.csv', index=False)"
   ]
  },
  {
   "cell_type": "markdown",
   "metadata": {},
   "source": [
    "### Clustering tuning resolution according to celltypist"
   ]
  },
  {
   "cell_type": "code",
   "execution_count": null,
   "metadata": {},
   "outputs": [],
   "source": [
    "print(\"Nummber of clusters to find: {}\".format(nclusters_celltypist))"
   ]
  },
  {
   "cell_type": "code",
   "execution_count": null,
   "metadata": {},
   "outputs": [],
   "source": [
    "# get ids of clusters bigger than 40 cells\n",
    "mapping = pd.read_csv('./data/{}/celltypist/celltypist_mapping.csv'.format(dataset_name).format(dataset_name))\n",
    "counts = pd.read_csv('./data/{}/celltypist/celltypist_annotation_counts.csv'.format(dataset_name))\n",
    "mapping_counts = mapping.merge(counts, left_on='go', right_on='cluster.ids')\n",
    "mapping_counts = mapping_counts[mapping_counts['count'] > min_cluster_size]\n",
    "clusters_ids_to_keep = mapping_counts['id']\n",
    "\n",
    "# get barcodes of cells in clusters bigger than 40 cells\n",
    "celltypist_labels_df = pd.read_csv('./data/{}/celltypist/celltypist_labels.csv'.format(dataset_name))\n",
    "celltypist_labels_df = celltypist_labels_df[celltypist_labels_df['cluster.ids'].isin(clusters_ids_to_keep)]\n",
    "barcodes_to_keep = celltypist_labels_df['cell']\n",
    "barcodes_to_keep = [barcode[:-2] for barcode in barcodes_to_keep]\n",
    "subset_cells = adata.obs_names.isin(barcodes_to_keep)\n",
    "adata_celltypist = adata[subset_cells, :]"
   ]
  },
  {
   "cell_type": "markdown",
   "metadata": {},
   "source": [
    "Perform the clustering"
   ]
  },
  {
   "cell_type": "code",
   "execution_count": null,
   "metadata": {},
   "outputs": [],
   "source": [
    "sc.pp.neighbors(\n",
    "    adata_celltypist,\n",
    "    n_pcs=10 # chosen based on elbow plot above\n",
    ")\n",
    "\n",
    "max_resolution = 3\n",
    "min_resolution = 0\n",
    "\n",
    "while True:\n",
    "    resolution = (max_resolution + min_resolution)/2\n",
    "    print(\"Trying resolution: {}\".format(resolution))\n",
    "    sc.tl.leiden(adata_celltypist, key_added=\"leiden\", resolution=resolution)\n",
    "    num_clusters = adata_celltypist.obs.leiden.values.categories.nunique()\n",
    "    print(\"Number of clusters found: {}\".format(num_clusters))\n",
    "\n",
    "    if num_clusters >= min_ncluster_celltypist and num_clusters <= max_ncluster_celltypist:\n",
    "        break\n",
    "    elif num_clusters <  min_ncluster_celltypist:\n",
    "        min_resolution = resolution\n",
    "    else:\n",
    "        max_resolution = resolution"
   ]
  },
  {
   "cell_type": "markdown",
   "metadata": {},
   "source": [
    "Visualize the clustering in the PCA space"
   ]
  },
  {
   "cell_type": "code",
   "execution_count": null,
   "metadata": {},
   "outputs": [],
   "source": [
    "sc.pl.pca(\n",
    "    adata_celltypist,\n",
    "    color=['leiden'],\n",
    "    size=20\n",
    ")"
   ]
  },
  {
   "cell_type": "markdown",
   "metadata": {},
   "source": [
    "Save the clustering results"
   ]
  },
  {
   "cell_type": "code",
   "execution_count": null,
   "metadata": {},
   "outputs": [],
   "source": [
    "celltypist_markers_df = pd.DataFrame(adata_celltypist.obs['leiden'])\n",
    "celltypist_markers_df = celltypist_markers_df.rename(columns={'leiden': 'cluster'})\n",
    "celltypist_markers_df.index.name = 'cell'\n",
    "celltypist_markers_df['cluster'] = celltypist_markers_df['cluster'].astype(int) + 1\n",
    "celltypist_markers_df.to_csv(f'{celltypist_path}/clustering_labels.csv', index=True)\n",
    "celltypist_num_clusters = len(celltypist_markers_df['cluster'].unique())"
   ]
  },
  {
   "cell_type": "markdown",
   "metadata": {},
   "source": [
    "## Differential expression on clusters tuned according to celltypist"
   ]
  },
  {
   "cell_type": "code",
   "execution_count": null,
   "metadata": {},
   "outputs": [],
   "source": [
    "sc.tl.rank_genes_groups(adata_celltypist, 'leiden', method='wilcoxon') # default='t-test', wilcoxon suggested in the tutorial"
   ]
  },
  {
   "cell_type": "markdown",
   "metadata": {},
   "source": [
    "Save markers"
   ]
  },
  {
   "cell_type": "code",
   "execution_count": null,
   "metadata": {},
   "outputs": [],
   "source": [
    "celltypist_markers_df = pd.DataFrame(columns=['gene', 'cluster', 'rank'])\n",
    "for i in range(celltypist_num_clusters):\n",
    "    indices = np.argsort(adata_celltypist.uns['rank_genes_groups']['pvals_adj'][str(i)])\n",
    "    genes = adata_celltypist.uns['rank_genes_groups']['names'][str(i)][indices][:top_number_of_markers]\n",
    "    ranks = rankdata(adata_celltypist.uns['rank_genes_groups']['pvals_adj'][str(i)][indices][:top_number_of_markers], method=\"ordinal\")\n",
    "    temp_df = pd.DataFrame(\n",
    "        np.column_stack((genes, [i+1 for _ in range(top_number_of_markers)], ranks)),\n",
    "        columns=['gene', 'cluster', 'rank']\n",
    "    )\n",
    "    celltypist_markers_df = pd.concat([celltypist_markers_df, temp_df], ignore_index=True)\n",
    "\n",
    "celltypist_markers_df['cluster'] = celltypist_markers_df['cluster'].astype(int)\n",
    "celltypist_markers_df['rank'] = celltypist_markers_df['rank'].astype(int)\n",
    "celltypist_markers_df.to_csv(f'{celltypist_path}/markers.csv', index=False)"
   ]
  },
  {
   "cell_type": "markdown",
   "metadata": {},
   "source": [
    "### Clustering tuning resolution according to protein surface"
   ]
  },
  {
   "cell_type": "code",
   "execution_count": null,
   "metadata": {},
   "outputs": [],
   "source": [
    "print(\"Nummber of clusters to find: {}\".format(nclusters_antibody))"
   ]
  },
  {
   "cell_type": "code",
   "execution_count": null,
   "metadata": {},
   "outputs": [],
   "source": [
    "# get barcodes of cells labelled using protein surface\n",
    "antibody_labels_df = pd.read_csv('./data/{}/antibody_annotation/antibody_labels_postproc.csv'.format(dataset_name))\n",
    "barcodes_to_keep = antibody_labels_df['cell']\n",
    "\n",
    "subset_cells = adata.obs_names.isin(barcodes_to_keep)\n",
    "adata_antibody = adata[subset_cells, :]"
   ]
  },
  {
   "cell_type": "markdown",
   "metadata": {},
   "source": [
    "Perform the clustering"
   ]
  },
  {
   "cell_type": "code",
   "execution_count": null,
   "metadata": {},
   "outputs": [],
   "source": [
    "sc.pp.neighbors(\n",
    "    adata_antibody,\n",
    "    n_pcs=10 # chosen based on elbow plot above\n",
    ")\n",
    "\n",
    "max_resolution = 3\n",
    "min_resolution = 0\n",
    "\n",
    "while True:\n",
    "    resolution = (max_resolution + min_resolution)/2\n",
    "    print(\"Trying resolution: {}\".format(resolution))\n",
    "    sc.tl.leiden(adata_antibody, key_added=\"leiden\", resolution=resolution)\n",
    "    num_clusters = adata_antibody.obs.leiden.values.categories.nunique()\n",
    "    print(\"Number of clusters found: {}\".format(num_clusters))\n",
    "\n",
    "    if num_clusters >= min_ncluster_antibody and num_clusters <= max_ncluster_antibody:\n",
    "        break\n",
    "    elif num_clusters < min_ncluster_antibody:\n",
    "        min_resolution = resolution\n",
    "    else:\n",
    "        max_resolution = resolution"
   ]
  },
  {
   "cell_type": "markdown",
   "metadata": {},
   "source": [
    "Visualize the clustering in the PCA space"
   ]
  },
  {
   "cell_type": "code",
   "execution_count": null,
   "metadata": {},
   "outputs": [],
   "source": [
    "sc.pl.pca(\n",
    "    adata_antibody,\n",
    "    color=['leiden'],\n",
    "    size=20\n",
    ")"
   ]
  },
  {
   "cell_type": "markdown",
   "metadata": {},
   "source": [
    "Save the clustering results"
   ]
  },
  {
   "cell_type": "code",
   "execution_count": null,
   "metadata": {},
   "outputs": [],
   "source": [
    "antibody_markers_df = pd.DataFrame(adata_antibody.obs['leiden'])\n",
    "antibody_markers_df = antibody_markers_df.rename(columns={'leiden': 'cluster'})\n",
    "antibody_markers_df.index.name = 'cell'\n",
    "antibody_markers_df['cluster'] = antibody_markers_df['cluster'].astype(int) + 1\n",
    "antibody_markers_df.to_csv(f'{antibody_path}/clustering_labels.csv', index=True)\n",
    "antibody_num_clusters = len(antibody_markers_df['cluster'].unique())"
   ]
  },
  {
   "cell_type": "markdown",
   "metadata": {},
   "source": [
    "## Differential expression on clusters tuned according to protein surface"
   ]
  },
  {
   "cell_type": "code",
   "execution_count": null,
   "metadata": {},
   "outputs": [],
   "source": [
    "sc.tl.rank_genes_groups(adata_antibody, 'leiden', method='wilcoxon') # default='t-test', wilcoxon suggested in the tutorial"
   ]
  },
  {
   "cell_type": "markdown",
   "metadata": {},
   "source": [
    "Save markers"
   ]
  },
  {
   "cell_type": "code",
   "execution_count": null,
   "metadata": {},
   "outputs": [],
   "source": [
    "antibody_markers_df = pd.DataFrame(columns=['gene', 'cluster', 'rank'])\n",
    "for i in range(antibody_num_clusters):\n",
    "    indices = np.argsort(adata_antibody.uns['rank_genes_groups']['pvals_adj'][str(i)])\n",
    "    genes = adata_antibody.uns['rank_genes_groups']['names'][str(i)][indices][:top_number_of_markers]\n",
    "    ranks = rankdata(adata_antibody.uns['rank_genes_groups']['pvals_adj'][str(i)][indices][:top_number_of_markers], method=\"ordinal\")\n",
    "    temp_df = pd.DataFrame(\n",
    "        np.column_stack((genes, [i+1 for _ in range(top_number_of_markers)], ranks)),\n",
    "        columns=['gene', 'cluster', 'rank']\n",
    "    )\n",
    "    antibody_markers_df = pd.concat([antibody_markers_df, temp_df], ignore_index=True)\n",
    "\n",
    "antibody_markers_df['cluster'] = antibody_markers_df['cluster'].astype(int)\n",
    "antibody_markers_df['rank'] = antibody_markers_df['rank'].astype(int)\n",
    "antibody_markers_df.to_csv(f'{antibody_path}/markers.csv', index=False)"
   ]
  }
 ],
 "metadata": {
  "kernelspec": {
   "display_name": "chl",
   "language": "python",
   "name": "python3"
  },
  "language_info": {
   "codemirror_mode": {
    "name": "ipython",
    "version": 3
   },
   "file_extension": ".py",
   "mimetype": "text/x-python",
   "name": "python",
   "nbconvert_exporter": "python",
   "pygments_lexer": "ipython3",
   "version": "3.10.9"
  },
  "orig_nbformat": 4
 },
 "nbformat": 4,
 "nbformat_minor": 2
}

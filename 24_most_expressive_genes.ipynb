{
 "cells": [
  {
   "cell_type": "code",
   "execution_count": null,
   "metadata": {},
   "outputs": [],
   "source": [
    "import pandas as pd\n",
    "import numpy as np\n",
    "import matplotlib.pyplot as plt\n",
    "import seaborn as sns\n",
    "import json\n",
    "\n",
    "RESULTS_PATH = 'results\\significant_genes_'\n",
    "CELL_TYPES_LIST = ['T cells', 'B cells', 'ILC', 'Monocytes', 'Plasma cells', 'HSC/MPP', 'DC']"
   ]
  }
 ],
 "metadata": {
  "language_info": {
   "name": "python"
  }
 },
 "nbformat": 4,
 "nbformat_minor": 2
}

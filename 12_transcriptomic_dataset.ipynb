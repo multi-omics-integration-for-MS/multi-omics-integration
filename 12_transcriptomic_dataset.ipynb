{
 "cells": [
  {
   "cell_type": "code",
   "execution_count": 26,
   "metadata": {},
   "outputs": [],
   "source": [
    "import scanpy as sc\n",
    "import pandas as pd\n",
    "import numpy as np\n",
    "import anndata\n",
    "import scipy.sparse as sp\n",
    "\n",
    "GSE239626_PATH = 'GSE239626'\n",
    "GSE138266_PATH = 'GSE138266'\n",
    "GSE194078_PATH = 'GSE194078'\n",
    "\n",
    "GSE239626_LABELS_PATH = 'results/celltypist_labels_from_protein_Immune_All_High.csv'\n",
    "GSE138266_LABELS_PATH = 'results/celltypist_labels_from_transcriptomic_GSE138266.csv'\n",
    "GSE194078_LABELS_PATH = 'results/celltypist_labels_from_transcriptomic_GSE194078.csv'"
   ]
  },
  {
   "cell_type": "markdown",
   "metadata": {},
   "source": [
    "### GSE239626"
   ]
  },
  {
   "cell_type": "code",
   "execution_count": 2,
   "metadata": {},
   "outputs": [
    {
     "data": {
      "text/plain": [
       "AnnData object with n_obs × n_vars = 72317 × 36601\n",
       "    obs: 'dataset', 'disease', 'cell_type', 'patiens', 'patiens_id', 'time', 'cell_types_labels'\n",
       "    var: 'gene_ids', 'feature_types'"
      ]
     },
     "execution_count": 2,
     "metadata": {},
     "output_type": "execute_result"
    }
   ],
   "source": [
    "adata_GSE239626 = sc.read(GSE239626_PATH)\n",
    "\n",
    "GSE239626_labels = pd.read_csv(GSE239626_LABELS_PATH)\n",
    "adata_GSE239626.obs['cell_types_labels'] = GSE239626_labels['predicted_labels'].values\n",
    "\n",
    "adata_GSE239626"
   ]
  },
  {
   "cell_type": "code",
   "execution_count": 3,
   "metadata": {},
   "outputs": [],
   "source": [
    "# rename columns 'patiens' to 'patient' and 'patiens_id' to 'patient_id'\n",
    "adata_GSE239626.obs.rename(columns={'patiens': 'sample', 'patiens_id': 'patient_id'}, inplace=True)"
   ]
  },
  {
   "cell_type": "code",
   "execution_count": 4,
   "metadata": {},
   "outputs": [
    {
     "data": {
      "text/html": [
       "<div>\n",
       "<style scoped>\n",
       "    .dataframe tbody tr th:only-of-type {\n",
       "        vertical-align: middle;\n",
       "    }\n",
       "\n",
       "    .dataframe tbody tr th {\n",
       "        vertical-align: top;\n",
       "    }\n",
       "\n",
       "    .dataframe thead th {\n",
       "        text-align: right;\n",
       "    }\n",
       "</style>\n",
       "<table border=\"1\" class=\"dataframe\">\n",
       "  <thead>\n",
       "    <tr style=\"text-align: right;\">\n",
       "      <th></th>\n",
       "      <th>dataset</th>\n",
       "      <th>disease</th>\n",
       "      <th>cell_type</th>\n",
       "      <th>sample</th>\n",
       "      <th>patient_id</th>\n",
       "      <th>time</th>\n",
       "      <th>cell_types_labels</th>\n",
       "    </tr>\n",
       "  </thead>\n",
       "  <tbody>\n",
       "    <tr>\n",
       "      <th>AAACCCAAGACTGTTC-1</th>\n",
       "      <td>GSE239626</td>\n",
       "      <td>MS</td>\n",
       "      <td>PBMC</td>\n",
       "      <td>GSM7669046</td>\n",
       "      <td>N1</td>\n",
       "      <td>J0</td>\n",
       "      <td>T cells</td>\n",
       "    </tr>\n",
       "    <tr>\n",
       "      <th>AAACCCAAGGATCATA-1</th>\n",
       "      <td>GSE239626</td>\n",
       "      <td>MS</td>\n",
       "      <td>PBMC</td>\n",
       "      <td>GSM7669046</td>\n",
       "      <td>N1</td>\n",
       "      <td>J0</td>\n",
       "      <td>T cells</td>\n",
       "    </tr>\n",
       "    <tr>\n",
       "      <th>AAACCCAGTTATTCTC-1</th>\n",
       "      <td>GSE239626</td>\n",
       "      <td>MS</td>\n",
       "      <td>PBMC</td>\n",
       "      <td>GSM7669046</td>\n",
       "      <td>N1</td>\n",
       "      <td>J0</td>\n",
       "      <td>B cells</td>\n",
       "    </tr>\n",
       "    <tr>\n",
       "      <th>AAACCCATCATGAGGG-1</th>\n",
       "      <td>GSE239626</td>\n",
       "      <td>MS</td>\n",
       "      <td>PBMC</td>\n",
       "      <td>GSM7669046</td>\n",
       "      <td>N1</td>\n",
       "      <td>J0</td>\n",
       "      <td>T cells</td>\n",
       "    </tr>\n",
       "    <tr>\n",
       "      <th>AAACGAAAGCCAGTAG-1</th>\n",
       "      <td>GSE239626</td>\n",
       "      <td>MS</td>\n",
       "      <td>PBMC</td>\n",
       "      <td>GSM7669046</td>\n",
       "      <td>N1</td>\n",
       "      <td>J0</td>\n",
       "      <td>B cells</td>\n",
       "    </tr>\n",
       "    <tr>\n",
       "      <th>...</th>\n",
       "      <td>...</td>\n",
       "      <td>...</td>\n",
       "      <td>...</td>\n",
       "      <td>...</td>\n",
       "      <td>...</td>\n",
       "      <td>...</td>\n",
       "      <td>...</td>\n",
       "    </tr>\n",
       "    <tr>\n",
       "      <th>TTTGTTGAGCGTCGAA-20</th>\n",
       "      <td>GSE239626</td>\n",
       "      <td>MS</td>\n",
       "      <td>PBMC</td>\n",
       "      <td>GSM7669084</td>\n",
       "      <td>N5</td>\n",
       "      <td>M3</td>\n",
       "      <td>T cells</td>\n",
       "    </tr>\n",
       "    <tr>\n",
       "      <th>TTTGTTGAGTGTACCT-20</th>\n",
       "      <td>GSE239626</td>\n",
       "      <td>MS</td>\n",
       "      <td>PBMC</td>\n",
       "      <td>GSM7669084</td>\n",
       "      <td>N5</td>\n",
       "      <td>M3</td>\n",
       "      <td>T cells</td>\n",
       "    </tr>\n",
       "    <tr>\n",
       "      <th>TTTGTTGCAATTGCAC-20</th>\n",
       "      <td>GSE239626</td>\n",
       "      <td>MS</td>\n",
       "      <td>PBMC</td>\n",
       "      <td>GSM7669084</td>\n",
       "      <td>N5</td>\n",
       "      <td>M3</td>\n",
       "      <td>T cells</td>\n",
       "    </tr>\n",
       "    <tr>\n",
       "      <th>TTTGTTGCATTCAGCA-20</th>\n",
       "      <td>GSE239626</td>\n",
       "      <td>MS</td>\n",
       "      <td>PBMC</td>\n",
       "      <td>GSM7669084</td>\n",
       "      <td>N5</td>\n",
       "      <td>M3</td>\n",
       "      <td>T cells</td>\n",
       "    </tr>\n",
       "    <tr>\n",
       "      <th>TTTGTTGGTGGGTTGA-20</th>\n",
       "      <td>GSE239626</td>\n",
       "      <td>MS</td>\n",
       "      <td>PBMC</td>\n",
       "      <td>GSM7669084</td>\n",
       "      <td>N5</td>\n",
       "      <td>M3</td>\n",
       "      <td>ILC</td>\n",
       "    </tr>\n",
       "  </tbody>\n",
       "</table>\n",
       "<p>72317 rows × 7 columns</p>\n",
       "</div>"
      ],
      "text/plain": [
       "                       dataset disease cell_type      sample patient_id time  \\\n",
       "AAACCCAAGACTGTTC-1   GSE239626      MS      PBMC  GSM7669046         N1   J0   \n",
       "AAACCCAAGGATCATA-1   GSE239626      MS      PBMC  GSM7669046         N1   J0   \n",
       "AAACCCAGTTATTCTC-1   GSE239626      MS      PBMC  GSM7669046         N1   J0   \n",
       "AAACCCATCATGAGGG-1   GSE239626      MS      PBMC  GSM7669046         N1   J0   \n",
       "AAACGAAAGCCAGTAG-1   GSE239626      MS      PBMC  GSM7669046         N1   J0   \n",
       "...                        ...     ...       ...         ...        ...  ...   \n",
       "TTTGTTGAGCGTCGAA-20  GSE239626      MS      PBMC  GSM7669084         N5   M3   \n",
       "TTTGTTGAGTGTACCT-20  GSE239626      MS      PBMC  GSM7669084         N5   M3   \n",
       "TTTGTTGCAATTGCAC-20  GSE239626      MS      PBMC  GSM7669084         N5   M3   \n",
       "TTTGTTGCATTCAGCA-20  GSE239626      MS      PBMC  GSM7669084         N5   M3   \n",
       "TTTGTTGGTGGGTTGA-20  GSE239626      MS      PBMC  GSM7669084         N5   M3   \n",
       "\n",
       "                    cell_types_labels  \n",
       "AAACCCAAGACTGTTC-1            T cells  \n",
       "AAACCCAAGGATCATA-1            T cells  \n",
       "AAACCCAGTTATTCTC-1            B cells  \n",
       "AAACCCATCATGAGGG-1            T cells  \n",
       "AAACGAAAGCCAGTAG-1            B cells  \n",
       "...                               ...  \n",
       "TTTGTTGAGCGTCGAA-20           T cells  \n",
       "TTTGTTGAGTGTACCT-20           T cells  \n",
       "TTTGTTGCAATTGCAC-20           T cells  \n",
       "TTTGTTGCATTCAGCA-20           T cells  \n",
       "TTTGTTGGTGGGTTGA-20               ILC  \n",
       "\n",
       "[72317 rows x 7 columns]"
      ]
     },
     "execution_count": 4,
     "metadata": {},
     "output_type": "execute_result"
    }
   ],
   "source": [
    "adata_GSE239626.obs"
   ]
  },
  {
   "cell_type": "markdown",
   "metadata": {},
   "source": [
    "### GSE138266"
   ]
  },
  {
   "cell_type": "code",
   "execution_count": 5,
   "metadata": {},
   "outputs": [
    {
     "data": {
      "text/plain": [
       "View of AnnData object with n_obs × n_vars = 68038 × 33694\n",
       "    obs: 'sample', 'patient', 'dataset', 'disease', 'cell_type', 'batch'\n",
       "    var: 'gene_symbols', 'gene_ids'"
      ]
     },
     "execution_count": 5,
     "metadata": {},
     "output_type": "execute_result"
    }
   ],
   "source": [
    "adata_GSE138266 = sc.read(GSE138266_PATH)\n",
    "adata_GSE138266 = adata_GSE138266[(adata_GSE138266.obs['cell_type']!='CSF')|(adata_GSE138266.obs['disease']!='PST')]\n",
    "adata_GSE138266"
   ]
  },
  {
   "cell_type": "code",
   "execution_count": 6,
   "metadata": {},
   "outputs": [
    {
     "data": {
      "text/html": [
       "<div>\n",
       "<style scoped>\n",
       "    .dataframe tbody tr th:only-of-type {\n",
       "        vertical-align: middle;\n",
       "    }\n",
       "\n",
       "    .dataframe tbody tr th {\n",
       "        vertical-align: top;\n",
       "    }\n",
       "\n",
       "    .dataframe thead th {\n",
       "        text-align: right;\n",
       "    }\n",
       "</style>\n",
       "<table border=\"1\" class=\"dataframe\">\n",
       "  <thead>\n",
       "    <tr style=\"text-align: right;\">\n",
       "      <th></th>\n",
       "      <th>sample</th>\n",
       "      <th>patient</th>\n",
       "      <th>dataset</th>\n",
       "      <th>disease</th>\n",
       "      <th>cell_type</th>\n",
       "      <th>batch</th>\n",
       "    </tr>\n",
       "  </thead>\n",
       "  <tbody>\n",
       "    <tr>\n",
       "      <th>AAACCTGAGTGGGCTA-1-MS19270-CSF</th>\n",
       "      <td>GSM4104122</td>\n",
       "      <td>MS19270</td>\n",
       "      <td>GSE138266</td>\n",
       "      <td>MS</td>\n",
       "      <td>CSF</td>\n",
       "      <td>0</td>\n",
       "    </tr>\n",
       "    <tr>\n",
       "      <th>AAACCTGAGTGTTAGA-1-MS19270-CSF</th>\n",
       "      <td>GSM4104122</td>\n",
       "      <td>MS19270</td>\n",
       "      <td>GSE138266</td>\n",
       "      <td>MS</td>\n",
       "      <td>CSF</td>\n",
       "      <td>0</td>\n",
       "    </tr>\n",
       "  </tbody>\n",
       "</table>\n",
       "</div>"
      ],
      "text/plain": [
       "                                    sample  patient    dataset disease  \\\n",
       "AAACCTGAGTGGGCTA-1-MS19270-CSF  GSM4104122  MS19270  GSE138266      MS   \n",
       "AAACCTGAGTGTTAGA-1-MS19270-CSF  GSM4104122  MS19270  GSE138266      MS   \n",
       "\n",
       "                               cell_type batch  \n",
       "AAACCTGAGTGGGCTA-1-MS19270-CSF       CSF     0  \n",
       "AAACCTGAGTGTTAGA-1-MS19270-CSF       CSF     0  "
      ]
     },
     "execution_count": 6,
     "metadata": {},
     "output_type": "execute_result"
    }
   ],
   "source": [
    "adata_GSE138266.obs.head(2)"
   ]
  },
  {
   "cell_type": "code",
   "execution_count": 7,
   "metadata": {},
   "outputs": [
    {
     "data": {
      "text/html": [
       "<div>\n",
       "<style scoped>\n",
       "    .dataframe tbody tr th:only-of-type {\n",
       "        vertical-align: middle;\n",
       "    }\n",
       "\n",
       "    .dataframe tbody tr th {\n",
       "        vertical-align: top;\n",
       "    }\n",
       "\n",
       "    .dataframe thead th {\n",
       "        text-align: right;\n",
       "    }\n",
       "</style>\n",
       "<table border=\"1\" class=\"dataframe\">\n",
       "  <thead>\n",
       "    <tr style=\"text-align: right;\">\n",
       "      <th></th>\n",
       "      <th>cell_types_labels</th>\n",
       "    </tr>\n",
       "  </thead>\n",
       "  <tbody>\n",
       "    <tr>\n",
       "      <th>AAACCTGAGTGGGCTA-1-MS19270-CSF-1-0-0-0-0</th>\n",
       "      <td>T cells</td>\n",
       "    </tr>\n",
       "    <tr>\n",
       "      <th>AAACCTGAGTGTTAGA-1-MS19270-CSF-1-0-0-0-0</th>\n",
       "      <td>T cells</td>\n",
       "    </tr>\n",
       "  </tbody>\n",
       "</table>\n",
       "</div>"
      ],
      "text/plain": [
       "                                         cell_types_labels\n",
       "AAACCTGAGTGGGCTA-1-MS19270-CSF-1-0-0-0-0           T cells\n",
       "AAACCTGAGTGTTAGA-1-MS19270-CSF-1-0-0-0-0           T cells"
      ]
     },
     "execution_count": 7,
     "metadata": {},
     "output_type": "execute_result"
    }
   ],
   "source": [
    "GSE138266_labels = pd.read_csv(GSE138266_LABELS_PATH, index_col=0)\n",
    "GSE138266_labels.head(2)"
   ]
  },
  {
   "cell_type": "code",
   "execution_count": 8,
   "metadata": {},
   "outputs": [
    {
     "data": {
      "text/html": [
       "<div>\n",
       "<style scoped>\n",
       "    .dataframe tbody tr th:only-of-type {\n",
       "        vertical-align: middle;\n",
       "    }\n",
       "\n",
       "    .dataframe tbody tr th {\n",
       "        vertical-align: top;\n",
       "    }\n",
       "\n",
       "    .dataframe thead th {\n",
       "        text-align: right;\n",
       "    }\n",
       "</style>\n",
       "<table border=\"1\" class=\"dataframe\">\n",
       "  <thead>\n",
       "    <tr style=\"text-align: right;\">\n",
       "      <th></th>\n",
       "      <th>cell_types_labels</th>\n",
       "    </tr>\n",
       "  </thead>\n",
       "  <tbody>\n",
       "    <tr>\n",
       "      <th>AAACCTGAGTGGGCTA-1-MS19270-CSF</th>\n",
       "      <td>T cells</td>\n",
       "    </tr>\n",
       "    <tr>\n",
       "      <th>AAACCTGAGTGTTAGA-1-MS19270-CSF</th>\n",
       "      <td>T cells</td>\n",
       "    </tr>\n",
       "  </tbody>\n",
       "</table>\n",
       "</div>"
      ],
      "text/plain": [
       "                               cell_types_labels\n",
       "AAACCTGAGTGGGCTA-1-MS19270-CSF           T cells\n",
       "AAACCTGAGTGTTAGA-1-MS19270-CSF           T cells"
      ]
     },
     "execution_count": 8,
     "metadata": {},
     "output_type": "execute_result"
    }
   ],
   "source": [
    "labels = []\n",
    "for label in GSE138266_labels.index:\n",
    "    # drop the last character of the label until it's not a letter\n",
    "    while not label[-1].isalpha():\n",
    "        label = label[:-1]\n",
    "    labels.append(label)\n",
    "GSE138266_labels.index = labels\n",
    "\n",
    "GSE138266_labels.head(2)"
   ]
  },
  {
   "cell_type": "code",
   "execution_count": 9,
   "metadata": {},
   "outputs": [],
   "source": [
    "for label in GSE138266_labels.index:\n",
    "    if label not in adata_GSE138266.obs.index:\n",
    "        print(label)"
   ]
  },
  {
   "cell_type": "code",
   "execution_count": 10,
   "metadata": {},
   "outputs": [],
   "source": [
    "for label in adata_GSE138266.obs.index:\n",
    "    if label not in GSE138266_labels.index:\n",
    "        print(label)"
   ]
  },
  {
   "cell_type": "code",
   "execution_count": 11,
   "metadata": {},
   "outputs": [],
   "source": [
    "def assigne_labels(row):\n",
    "    row['cell_types_labels'] = GSE138266_labels[GSE138266_labels.index==row.name]['cell_types_labels'].values[0]\n",
    "    return row\n",
    "\n",
    "adata_GSE138266.obs = adata_GSE138266.obs.apply(assigne_labels, axis=1)"
   ]
  },
  {
   "cell_type": "code",
   "execution_count": 12,
   "metadata": {},
   "outputs": [],
   "source": [
    "# drop columns batch\n",
    "adata_GSE138266.obs.drop(columns=['batch'], inplace=True)"
   ]
  },
  {
   "cell_type": "code",
   "execution_count": 13,
   "metadata": {},
   "outputs": [
    {
     "data": {
      "text/html": [
       "<div>\n",
       "<style scoped>\n",
       "    .dataframe tbody tr th:only-of-type {\n",
       "        vertical-align: middle;\n",
       "    }\n",
       "\n",
       "    .dataframe tbody tr th {\n",
       "        vertical-align: top;\n",
       "    }\n",
       "\n",
       "    .dataframe thead th {\n",
       "        text-align: right;\n",
       "    }\n",
       "</style>\n",
       "<table border=\"1\" class=\"dataframe\">\n",
       "  <thead>\n",
       "    <tr style=\"text-align: right;\">\n",
       "      <th></th>\n",
       "      <th>sample</th>\n",
       "      <th>patient</th>\n",
       "      <th>dataset</th>\n",
       "      <th>disease</th>\n",
       "      <th>cell_type</th>\n",
       "      <th>cell_types_labels</th>\n",
       "    </tr>\n",
       "  </thead>\n",
       "  <tbody>\n",
       "    <tr>\n",
       "      <th>AAACCTGAGTGGGCTA-1-MS19270-CSF</th>\n",
       "      <td>GSM4104122</td>\n",
       "      <td>MS19270</td>\n",
       "      <td>GSE138266</td>\n",
       "      <td>MS</td>\n",
       "      <td>CSF</td>\n",
       "      <td>T cells</td>\n",
       "    </tr>\n",
       "    <tr>\n",
       "      <th>AAACCTGAGTGTTAGA-1-MS19270-CSF</th>\n",
       "      <td>GSM4104122</td>\n",
       "      <td>MS19270</td>\n",
       "      <td>GSE138266</td>\n",
       "      <td>MS</td>\n",
       "      <td>CSF</td>\n",
       "      <td>T cells</td>\n",
       "    </tr>\n",
       "    <tr>\n",
       "      <th>AAACCTGGTCGCGTGT-1-MS19270-CSF</th>\n",
       "      <td>GSM4104122</td>\n",
       "      <td>MS19270</td>\n",
       "      <td>GSE138266</td>\n",
       "      <td>MS</td>\n",
       "      <td>CSF</td>\n",
       "      <td>Monocytes</td>\n",
       "    </tr>\n",
       "    <tr>\n",
       "      <th>AAACCTGGTCTCCACT-1-MS19270-CSF</th>\n",
       "      <td>GSM4104122</td>\n",
       "      <td>MS19270</td>\n",
       "      <td>GSE138266</td>\n",
       "      <td>MS</td>\n",
       "      <td>CSF</td>\n",
       "      <td>T cells</td>\n",
       "    </tr>\n",
       "    <tr>\n",
       "      <th>AAACCTGGTTTACTCT-1-MS19270-CSF</th>\n",
       "      <td>GSM4104122</td>\n",
       "      <td>MS19270</td>\n",
       "      <td>GSE138266</td>\n",
       "      <td>MS</td>\n",
       "      <td>CSF</td>\n",
       "      <td>T cells</td>\n",
       "    </tr>\n",
       "    <tr>\n",
       "      <th>...</th>\n",
       "      <td>...</td>\n",
       "      <td>...</td>\n",
       "      <td>...</td>\n",
       "      <td>...</td>\n",
       "      <td>...</td>\n",
       "      <td>...</td>\n",
       "    </tr>\n",
       "    <tr>\n",
       "      <th>TTTGCGCGTGCAACGA-1-PTC85037-PBMC</th>\n",
       "      <td>GSM4104143</td>\n",
       "      <td>PTC85037</td>\n",
       "      <td>GSE138266</td>\n",
       "      <td>PTC</td>\n",
       "      <td>PBMC</td>\n",
       "      <td>T cells</td>\n",
       "    </tr>\n",
       "    <tr>\n",
       "      <th>TTTGCGCTCCGTAGTA-1-PTC85037-PBMC</th>\n",
       "      <td>GSM4104143</td>\n",
       "      <td>PTC85037</td>\n",
       "      <td>GSE138266</td>\n",
       "      <td>PTC</td>\n",
       "      <td>PBMC</td>\n",
       "      <td>T cells</td>\n",
       "    </tr>\n",
       "    <tr>\n",
       "      <th>TTTGGTTCACCACGTG-1-PTC85037-PBMC</th>\n",
       "      <td>GSM4104143</td>\n",
       "      <td>PTC85037</td>\n",
       "      <td>GSE138266</td>\n",
       "      <td>PTC</td>\n",
       "      <td>PBMC</td>\n",
       "      <td>ILC</td>\n",
       "    </tr>\n",
       "    <tr>\n",
       "      <th>TTTGTCACACTGAAGG-1-PTC85037-PBMC</th>\n",
       "      <td>GSM4104143</td>\n",
       "      <td>PTC85037</td>\n",
       "      <td>GSE138266</td>\n",
       "      <td>PTC</td>\n",
       "      <td>PBMC</td>\n",
       "      <td>B cells</td>\n",
       "    </tr>\n",
       "    <tr>\n",
       "      <th>TTTGTCATCAGTTAGC-1-PTC85037-PBMC</th>\n",
       "      <td>GSM4104143</td>\n",
       "      <td>PTC85037</td>\n",
       "      <td>GSE138266</td>\n",
       "      <td>PTC</td>\n",
       "      <td>PBMC</td>\n",
       "      <td>T cells</td>\n",
       "    </tr>\n",
       "  </tbody>\n",
       "</table>\n",
       "<p>68038 rows × 6 columns</p>\n",
       "</div>"
      ],
      "text/plain": [
       "                                      sample   patient    dataset disease  \\\n",
       "AAACCTGAGTGGGCTA-1-MS19270-CSF    GSM4104122   MS19270  GSE138266      MS   \n",
       "AAACCTGAGTGTTAGA-1-MS19270-CSF    GSM4104122   MS19270  GSE138266      MS   \n",
       "AAACCTGGTCGCGTGT-1-MS19270-CSF    GSM4104122   MS19270  GSE138266      MS   \n",
       "AAACCTGGTCTCCACT-1-MS19270-CSF    GSM4104122   MS19270  GSE138266      MS   \n",
       "AAACCTGGTTTACTCT-1-MS19270-CSF    GSM4104122   MS19270  GSE138266      MS   \n",
       "...                                      ...       ...        ...     ...   \n",
       "TTTGCGCGTGCAACGA-1-PTC85037-PBMC  GSM4104143  PTC85037  GSE138266     PTC   \n",
       "TTTGCGCTCCGTAGTA-1-PTC85037-PBMC  GSM4104143  PTC85037  GSE138266     PTC   \n",
       "TTTGGTTCACCACGTG-1-PTC85037-PBMC  GSM4104143  PTC85037  GSE138266     PTC   \n",
       "TTTGTCACACTGAAGG-1-PTC85037-PBMC  GSM4104143  PTC85037  GSE138266     PTC   \n",
       "TTTGTCATCAGTTAGC-1-PTC85037-PBMC  GSM4104143  PTC85037  GSE138266     PTC   \n",
       "\n",
       "                                 cell_type cell_types_labels  \n",
       "AAACCTGAGTGGGCTA-1-MS19270-CSF         CSF           T cells  \n",
       "AAACCTGAGTGTTAGA-1-MS19270-CSF         CSF           T cells  \n",
       "AAACCTGGTCGCGTGT-1-MS19270-CSF         CSF         Monocytes  \n",
       "AAACCTGGTCTCCACT-1-MS19270-CSF         CSF           T cells  \n",
       "AAACCTGGTTTACTCT-1-MS19270-CSF         CSF           T cells  \n",
       "...                                    ...               ...  \n",
       "TTTGCGCGTGCAACGA-1-PTC85037-PBMC      PBMC           T cells  \n",
       "TTTGCGCTCCGTAGTA-1-PTC85037-PBMC      PBMC           T cells  \n",
       "TTTGGTTCACCACGTG-1-PTC85037-PBMC      PBMC               ILC  \n",
       "TTTGTCACACTGAAGG-1-PTC85037-PBMC      PBMC           B cells  \n",
       "TTTGTCATCAGTTAGC-1-PTC85037-PBMC      PBMC           T cells  \n",
       "\n",
       "[68038 rows x 6 columns]"
      ]
     },
     "execution_count": 13,
     "metadata": {},
     "output_type": "execute_result"
    }
   ],
   "source": [
    "adata_GSE138266.obs"
   ]
  },
  {
   "cell_type": "code",
   "execution_count": 14,
   "metadata": {},
   "outputs": [
    {
     "data": {
      "text/plain": [
       "AnnData object with n_obs × n_vars = 68038 × 33694\n",
       "    obs: 'sample', 'patient', 'dataset', 'disease', 'cell_type', 'cell_types_labels'\n",
       "    var: 'gene_symbols', 'gene_ids'"
      ]
     },
     "execution_count": 14,
     "metadata": {},
     "output_type": "execute_result"
    }
   ],
   "source": [
    "adata_GSE138266"
   ]
  },
  {
   "cell_type": "markdown",
   "metadata": {},
   "source": [
    "### GSE194078"
   ]
  },
  {
   "cell_type": "code",
   "execution_count": 15,
   "metadata": {},
   "outputs": [
    {
     "data": {
      "text/plain": [
       "AnnData object with n_obs × n_vars = 110565 × 36601\n",
       "    obs: 'patient', 'patient_id', 'disease', 'batch', 'dataset', 'cell_types'\n",
       "    var: 'gene_ids', 'feature_types'"
      ]
     },
     "execution_count": 15,
     "metadata": {},
     "output_type": "execute_result"
    }
   ],
   "source": [
    "adata_GSE194078 = sc.read(GSE194078_PATH)\n",
    "\n",
    "adata_GSE194078"
   ]
  },
  {
   "cell_type": "code",
   "execution_count": 16,
   "metadata": {},
   "outputs": [
    {
     "data": {
      "text/html": [
       "<div>\n",
       "<style scoped>\n",
       "    .dataframe tbody tr th:only-of-type {\n",
       "        vertical-align: middle;\n",
       "    }\n",
       "\n",
       "    .dataframe tbody tr th {\n",
       "        vertical-align: top;\n",
       "    }\n",
       "\n",
       "    .dataframe thead th {\n",
       "        text-align: right;\n",
       "    }\n",
       "</style>\n",
       "<table border=\"1\" class=\"dataframe\">\n",
       "  <thead>\n",
       "    <tr style=\"text-align: right;\">\n",
       "      <th></th>\n",
       "      <th>patient</th>\n",
       "      <th>patient_id</th>\n",
       "      <th>disease</th>\n",
       "      <th>batch</th>\n",
       "      <th>dataset</th>\n",
       "      <th>cell_types</th>\n",
       "    </tr>\n",
       "  </thead>\n",
       "  <tbody>\n",
       "    <tr>\n",
       "      <th>AAACCCACAAGACCGA-1-PBMC</th>\n",
       "      <td>GSM5827375</td>\n",
       "      <td>CYG</td>\n",
       "      <td>Ab-mediated IDD</td>\n",
       "      <td>0</td>\n",
       "      <td>GSE194078</td>\n",
       "      <td>PBMC</td>\n",
       "    </tr>\n",
       "    <tr>\n",
       "      <th>AAACCCACACGGCACT-1-PBMC</th>\n",
       "      <td>GSM5827375</td>\n",
       "      <td>CYG</td>\n",
       "      <td>Ab-mediated IDD</td>\n",
       "      <td>0</td>\n",
       "      <td>GSE194078</td>\n",
       "      <td>PBMC</td>\n",
       "    </tr>\n",
       "  </tbody>\n",
       "</table>\n",
       "</div>"
      ],
      "text/plain": [
       "                            patient patient_id          disease batch  \\\n",
       "AAACCCACAAGACCGA-1-PBMC  GSM5827375        CYG  Ab-mediated IDD     0   \n",
       "AAACCCACACGGCACT-1-PBMC  GSM5827375        CYG  Ab-mediated IDD     0   \n",
       "\n",
       "                           dataset cell_types  \n",
       "AAACCCACAAGACCGA-1-PBMC  GSE194078       PBMC  \n",
       "AAACCCACACGGCACT-1-PBMC  GSE194078       PBMC  "
      ]
     },
     "execution_count": 16,
     "metadata": {},
     "output_type": "execute_result"
    }
   ],
   "source": [
    "adata_GSE194078.obs.head(2)"
   ]
  },
  {
   "cell_type": "code",
   "execution_count": 17,
   "metadata": {},
   "outputs": [
    {
     "data": {
      "text/html": [
       "<div>\n",
       "<style scoped>\n",
       "    .dataframe tbody tr th:only-of-type {\n",
       "        vertical-align: middle;\n",
       "    }\n",
       "\n",
       "    .dataframe tbody tr th {\n",
       "        vertical-align: top;\n",
       "    }\n",
       "\n",
       "    .dataframe thead th {\n",
       "        text-align: right;\n",
       "    }\n",
       "</style>\n",
       "<table border=\"1\" class=\"dataframe\">\n",
       "  <thead>\n",
       "    <tr style=\"text-align: right;\">\n",
       "      <th></th>\n",
       "      <th>cell_types_labels</th>\n",
       "    </tr>\n",
       "  </thead>\n",
       "  <tbody>\n",
       "    <tr>\n",
       "      <th>AAACCCACAAGACCGA-1-PBMC-GSE194078</th>\n",
       "      <td>B cells</td>\n",
       "    </tr>\n",
       "    <tr>\n",
       "      <th>AAACCCACACGGCACT-1-PBMC-GSE194078</th>\n",
       "      <td>T cells</td>\n",
       "    </tr>\n",
       "  </tbody>\n",
       "</table>\n",
       "</div>"
      ],
      "text/plain": [
       "                                  cell_types_labels\n",
       "AAACCCACAAGACCGA-1-PBMC-GSE194078           B cells\n",
       "AAACCCACACGGCACT-1-PBMC-GSE194078           T cells"
      ]
     },
     "execution_count": 17,
     "metadata": {},
     "output_type": "execute_result"
    }
   ],
   "source": [
    "GSE194078_labels = pd.read_csv(GSE194078_LABELS_PATH, index_col=0)\n",
    "GSE194078_labels.head(2)"
   ]
  },
  {
   "cell_type": "code",
   "execution_count": 18,
   "metadata": {},
   "outputs": [],
   "source": [
    "def assigne_labels_GSE194078(row):\n",
    "    cell_name = row.name + '-GSE194078'\n",
    "    row['cell_types_labels'] = GSE194078_labels[GSE194078_labels.index==cell_name]['cell_types_labels'].values[0]\n",
    "    return row\n",
    "\n",
    "adata_GSE194078.obs = adata_GSE194078.obs.apply(assigne_labels_GSE194078, axis=1)"
   ]
  },
  {
   "cell_type": "code",
   "execution_count": 19,
   "metadata": {},
   "outputs": [],
   "source": [
    "# rename columns 'patiens' to 'sample' and 'patiens_id' to 'patient_id'\n",
    "adata_GSE194078.obs.rename(columns={'patiens': 'sample', 'patiens_id': 'patient_id', 'cell_types': 'cell_type'}, inplace=True)\n",
    "\n",
    "# drop columns batch\n",
    "adata_GSE194078.obs.drop(columns=['batch'], inplace=True)"
   ]
  },
  {
   "cell_type": "code",
   "execution_count": 20,
   "metadata": {},
   "outputs": [
    {
     "data": {
      "text/html": [
       "<div>\n",
       "<style scoped>\n",
       "    .dataframe tbody tr th:only-of-type {\n",
       "        vertical-align: middle;\n",
       "    }\n",
       "\n",
       "    .dataframe tbody tr th {\n",
       "        vertical-align: top;\n",
       "    }\n",
       "\n",
       "    .dataframe thead th {\n",
       "        text-align: right;\n",
       "    }\n",
       "</style>\n",
       "<table border=\"1\" class=\"dataframe\">\n",
       "  <thead>\n",
       "    <tr style=\"text-align: right;\">\n",
       "      <th></th>\n",
       "      <th>patient</th>\n",
       "      <th>patient_id</th>\n",
       "      <th>disease</th>\n",
       "      <th>dataset</th>\n",
       "      <th>cell_type</th>\n",
       "      <th>cell_types_labels</th>\n",
       "    </tr>\n",
       "  </thead>\n",
       "  <tbody>\n",
       "    <tr>\n",
       "      <th>AAACCCACAAGACCGA-1-PBMC</th>\n",
       "      <td>GSM5827375</td>\n",
       "      <td>CYG</td>\n",
       "      <td>Ab-mediated IDD</td>\n",
       "      <td>GSE194078</td>\n",
       "      <td>PBMC</td>\n",
       "      <td>B cells</td>\n",
       "    </tr>\n",
       "    <tr>\n",
       "      <th>AAACCCACACGGCACT-1-PBMC</th>\n",
       "      <td>GSM5827375</td>\n",
       "      <td>CYG</td>\n",
       "      <td>Ab-mediated IDD</td>\n",
       "      <td>GSE194078</td>\n",
       "      <td>PBMC</td>\n",
       "      <td>T cells</td>\n",
       "    </tr>\n",
       "    <tr>\n",
       "      <th>AAACCCATCAGAATAG-1-PBMC</th>\n",
       "      <td>GSM5827375</td>\n",
       "      <td>CYG</td>\n",
       "      <td>Ab-mediated IDD</td>\n",
       "      <td>GSE194078</td>\n",
       "      <td>PBMC</td>\n",
       "      <td>T cells</td>\n",
       "    </tr>\n",
       "    <tr>\n",
       "      <th>AAACGAAAGGTAAAGG-1-PBMC</th>\n",
       "      <td>GSM5827375</td>\n",
       "      <td>CYG</td>\n",
       "      <td>Ab-mediated IDD</td>\n",
       "      <td>GSE194078</td>\n",
       "      <td>PBMC</td>\n",
       "      <td>T cells</td>\n",
       "    </tr>\n",
       "    <tr>\n",
       "      <th>AAACGAACACAGCCAC-1-PBMC</th>\n",
       "      <td>GSM5827375</td>\n",
       "      <td>CYG</td>\n",
       "      <td>Ab-mediated IDD</td>\n",
       "      <td>GSE194078</td>\n",
       "      <td>PBMC</td>\n",
       "      <td>T cells</td>\n",
       "    </tr>\n",
       "    <tr>\n",
       "      <th>...</th>\n",
       "      <td>...</td>\n",
       "      <td>...</td>\n",
       "      <td>...</td>\n",
       "      <td>...</td>\n",
       "      <td>...</td>\n",
       "      <td>...</td>\n",
       "    </tr>\n",
       "    <tr>\n",
       "      <th>TTTGGTTGTGTTCAGT-11-CSF</th>\n",
       "      <td>GSM5827385</td>\n",
       "      <td>YYW</td>\n",
       "      <td>MS</td>\n",
       "      <td>GSE194078</td>\n",
       "      <td>CSF</td>\n",
       "      <td>T cells</td>\n",
       "    </tr>\n",
       "    <tr>\n",
       "      <th>TTTGGTTTCAAGAAAC-11-CSF</th>\n",
       "      <td>GSM5827385</td>\n",
       "      <td>YYW</td>\n",
       "      <td>MS</td>\n",
       "      <td>GSE194078</td>\n",
       "      <td>CSF</td>\n",
       "      <td>T cells</td>\n",
       "    </tr>\n",
       "    <tr>\n",
       "      <th>TTTGTTGGTATACCCA-11-CSF</th>\n",
       "      <td>GSM5827385</td>\n",
       "      <td>YYW</td>\n",
       "      <td>MS</td>\n",
       "      <td>GSE194078</td>\n",
       "      <td>CSF</td>\n",
       "      <td>T cells</td>\n",
       "    </tr>\n",
       "    <tr>\n",
       "      <th>TTTGTTGGTTATGACC-11-CSF</th>\n",
       "      <td>GSM5827385</td>\n",
       "      <td>YYW</td>\n",
       "      <td>MS</td>\n",
       "      <td>GSE194078</td>\n",
       "      <td>CSF</td>\n",
       "      <td>ILC</td>\n",
       "    </tr>\n",
       "    <tr>\n",
       "      <th>TTTGTTGTCTCCTGTG-11-CSF</th>\n",
       "      <td>GSM5827385</td>\n",
       "      <td>YYW</td>\n",
       "      <td>MS</td>\n",
       "      <td>GSE194078</td>\n",
       "      <td>CSF</td>\n",
       "      <td>T cells</td>\n",
       "    </tr>\n",
       "  </tbody>\n",
       "</table>\n",
       "<p>110565 rows × 6 columns</p>\n",
       "</div>"
      ],
      "text/plain": [
       "                            patient patient_id          disease    dataset  \\\n",
       "AAACCCACAAGACCGA-1-PBMC  GSM5827375        CYG  Ab-mediated IDD  GSE194078   \n",
       "AAACCCACACGGCACT-1-PBMC  GSM5827375        CYG  Ab-mediated IDD  GSE194078   \n",
       "AAACCCATCAGAATAG-1-PBMC  GSM5827375        CYG  Ab-mediated IDD  GSE194078   \n",
       "AAACGAAAGGTAAAGG-1-PBMC  GSM5827375        CYG  Ab-mediated IDD  GSE194078   \n",
       "AAACGAACACAGCCAC-1-PBMC  GSM5827375        CYG  Ab-mediated IDD  GSE194078   \n",
       "...                             ...        ...              ...        ...   \n",
       "TTTGGTTGTGTTCAGT-11-CSF  GSM5827385        YYW               MS  GSE194078   \n",
       "TTTGGTTTCAAGAAAC-11-CSF  GSM5827385        YYW               MS  GSE194078   \n",
       "TTTGTTGGTATACCCA-11-CSF  GSM5827385        YYW               MS  GSE194078   \n",
       "TTTGTTGGTTATGACC-11-CSF  GSM5827385        YYW               MS  GSE194078   \n",
       "TTTGTTGTCTCCTGTG-11-CSF  GSM5827385        YYW               MS  GSE194078   \n",
       "\n",
       "                        cell_type cell_types_labels  \n",
       "AAACCCACAAGACCGA-1-PBMC      PBMC           B cells  \n",
       "AAACCCACACGGCACT-1-PBMC      PBMC           T cells  \n",
       "AAACCCATCAGAATAG-1-PBMC      PBMC           T cells  \n",
       "AAACGAAAGGTAAAGG-1-PBMC      PBMC           T cells  \n",
       "AAACGAACACAGCCAC-1-PBMC      PBMC           T cells  \n",
       "...                           ...               ...  \n",
       "TTTGGTTGTGTTCAGT-11-CSF       CSF           T cells  \n",
       "TTTGGTTTCAAGAAAC-11-CSF       CSF           T cells  \n",
       "TTTGTTGGTATACCCA-11-CSF       CSF           T cells  \n",
       "TTTGTTGGTTATGACC-11-CSF       CSF               ILC  \n",
       "TTTGTTGTCTCCTGTG-11-CSF       CSF           T cells  \n",
       "\n",
       "[110565 rows x 6 columns]"
      ]
     },
     "execution_count": 20,
     "metadata": {},
     "output_type": "execute_result"
    }
   ],
   "source": [
    "adata_GSE194078.obs"
   ]
  },
  {
   "cell_type": "code",
   "execution_count": 21,
   "metadata": {},
   "outputs": [
    {
     "data": {
      "text/plain": [
       "AnnData object with n_obs × n_vars = 110565 × 36601\n",
       "    obs: 'patient', 'patient_id', 'disease', 'dataset', 'cell_type', 'cell_types_labels'\n",
       "    var: 'gene_ids', 'feature_types'"
      ]
     },
     "execution_count": 21,
     "metadata": {},
     "output_type": "execute_result"
    }
   ],
   "source": [
    "adata_GSE194078"
   ]
  },
  {
   "cell_type": "markdown",
   "metadata": {},
   "source": [
    "### Concatenate"
   ]
  },
  {
   "cell_type": "code",
   "execution_count": 36,
   "metadata": {},
   "outputs": [
    {
     "data": {
      "text/html": [
       "<div>\n",
       "<style scoped>\n",
       "    .dataframe tbody tr th:only-of-type {\n",
       "        vertical-align: middle;\n",
       "    }\n",
       "\n",
       "    .dataframe tbody tr th {\n",
       "        vertical-align: top;\n",
       "    }\n",
       "\n",
       "    .dataframe thead th {\n",
       "        text-align: right;\n",
       "    }\n",
       "</style>\n",
       "<table border=\"1\" class=\"dataframe\">\n",
       "  <thead>\n",
       "    <tr style=\"text-align: right;\">\n",
       "      <th></th>\n",
       "      <th>gene_symbols</th>\n",
       "      <th>gene_ids</th>\n",
       "    </tr>\n",
       "  </thead>\n",
       "  <tbody>\n",
       "    <tr>\n",
       "      <th>0</th>\n",
       "      <td>ENSG00000243485</td>\n",
       "      <td>RP11-34P13.3</td>\n",
       "    </tr>\n",
       "    <tr>\n",
       "      <th>1</th>\n",
       "      <td>ENSG00000237613</td>\n",
       "      <td>FAM138A</td>\n",
       "    </tr>\n",
       "  </tbody>\n",
       "</table>\n",
       "</div>"
      ],
      "text/plain": [
       "      gene_symbols      gene_ids\n",
       "0  ENSG00000243485  RP11-34P13.3\n",
       "1  ENSG00000237613       FAM138A"
      ]
     },
     "execution_count": 36,
     "metadata": {},
     "output_type": "execute_result"
    }
   ],
   "source": [
    "adata_GSE138266.var.head(2)"
   ]
  },
  {
   "cell_type": "code",
   "execution_count": 37,
   "metadata": {},
   "outputs": [],
   "source": [
    "adata_GSE138266.var.index = adata_GSE138266.var['gene_ids'].values\n",
    "adata_GSE138266.var['gene_ids'] = adata_GSE138266.var['gene_symbols']\n",
    "adata_GSE138266.var.drop(columns=['gene_symbols'], inplace=True)\n",
    "adata_GSE138266.var['feature_types'] = 'Gene Expression'"
   ]
  },
  {
   "cell_type": "code",
   "execution_count": 38,
   "metadata": {},
   "outputs": [
    {
     "data": {
      "text/html": [
       "<div>\n",
       "<style scoped>\n",
       "    .dataframe tbody tr th:only-of-type {\n",
       "        vertical-align: middle;\n",
       "    }\n",
       "\n",
       "    .dataframe tbody tr th {\n",
       "        vertical-align: top;\n",
       "    }\n",
       "\n",
       "    .dataframe thead th {\n",
       "        text-align: right;\n",
       "    }\n",
       "</style>\n",
       "<table border=\"1\" class=\"dataframe\">\n",
       "  <thead>\n",
       "    <tr style=\"text-align: right;\">\n",
       "      <th></th>\n",
       "      <th>gene_ids</th>\n",
       "      <th>feature_types</th>\n",
       "    </tr>\n",
       "  </thead>\n",
       "  <tbody>\n",
       "    <tr>\n",
       "      <th>RP11-34P13.3</th>\n",
       "      <td>ENSG00000243485</td>\n",
       "      <td>Gene Expression</td>\n",
       "    </tr>\n",
       "    <tr>\n",
       "      <th>FAM138A</th>\n",
       "      <td>ENSG00000237613</td>\n",
       "      <td>Gene Expression</td>\n",
       "    </tr>\n",
       "  </tbody>\n",
       "</table>\n",
       "</div>"
      ],
      "text/plain": [
       "                     gene_ids    feature_types\n",
       "RP11-34P13.3  ENSG00000243485  Gene Expression\n",
       "FAM138A       ENSG00000237613  Gene Expression"
      ]
     },
     "execution_count": 38,
     "metadata": {},
     "output_type": "execute_result"
    }
   ],
   "source": [
    "adata_GSE138266.var.head(2)"
   ]
  },
  {
   "cell_type": "markdown",
   "metadata": {},
   "source": [
    "adata_GSE239626 adata_GSE194078"
   ]
  },
  {
   "cell_type": "code",
   "execution_count": 22,
   "metadata": {},
   "outputs": [
    {
     "data": {
      "text/html": [
       "<div>\n",
       "<style scoped>\n",
       "    .dataframe tbody tr th:only-of-type {\n",
       "        vertical-align: middle;\n",
       "    }\n",
       "\n",
       "    .dataframe tbody tr th {\n",
       "        vertical-align: top;\n",
       "    }\n",
       "\n",
       "    .dataframe thead th {\n",
       "        text-align: right;\n",
       "    }\n",
       "</style>\n",
       "<table border=\"1\" class=\"dataframe\">\n",
       "  <thead>\n",
       "    <tr style=\"text-align: right;\">\n",
       "      <th></th>\n",
       "      <th>gene_ids</th>\n",
       "      <th>feature_types</th>\n",
       "    </tr>\n",
       "  </thead>\n",
       "  <tbody>\n",
       "    <tr>\n",
       "      <th>MIR1302-2HG</th>\n",
       "      <td>ENSG00000243485</td>\n",
       "      <td>Gene Expression</td>\n",
       "    </tr>\n",
       "    <tr>\n",
       "      <th>FAM138A</th>\n",
       "      <td>ENSG00000237613</td>\n",
       "      <td>Gene Expression</td>\n",
       "    </tr>\n",
       "  </tbody>\n",
       "</table>\n",
       "</div>"
      ],
      "text/plain": [
       "                    gene_ids    feature_types\n",
       "MIR1302-2HG  ENSG00000243485  Gene Expression\n",
       "FAM138A      ENSG00000237613  Gene Expression"
      ]
     },
     "execution_count": 22,
     "metadata": {},
     "output_type": "execute_result"
    }
   ],
   "source": [
    "adata_GSE239626.var.head(2)"
   ]
  },
  {
   "cell_type": "code",
   "execution_count": 27,
   "metadata": {},
   "outputs": [
    {
     "data": {
      "text/plain": [
       "['Gene Expression']\n",
       "Categories (1, object): ['Gene Expression']"
      ]
     },
     "execution_count": 27,
     "metadata": {},
     "output_type": "execute_result"
    }
   ],
   "source": [
    "adata_GSE239626.var['feature_types'].unique() # 'Gene Expression' only"
   ]
  },
  {
   "cell_type": "code",
   "execution_count": 23,
   "metadata": {},
   "outputs": [
    {
     "data": {
      "text/html": [
       "<div>\n",
       "<style scoped>\n",
       "    .dataframe tbody tr th:only-of-type {\n",
       "        vertical-align: middle;\n",
       "    }\n",
       "\n",
       "    .dataframe tbody tr th {\n",
       "        vertical-align: top;\n",
       "    }\n",
       "\n",
       "    .dataframe thead th {\n",
       "        text-align: right;\n",
       "    }\n",
       "</style>\n",
       "<table border=\"1\" class=\"dataframe\">\n",
       "  <thead>\n",
       "    <tr style=\"text-align: right;\">\n",
       "      <th></th>\n",
       "      <th>gene_ids</th>\n",
       "      <th>feature_types</th>\n",
       "    </tr>\n",
       "  </thead>\n",
       "  <tbody>\n",
       "    <tr>\n",
       "      <th>MIR1302-2HG</th>\n",
       "      <td>ENSG00000243485</td>\n",
       "      <td>Gene Expression</td>\n",
       "    </tr>\n",
       "    <tr>\n",
       "      <th>FAM138A</th>\n",
       "      <td>ENSG00000237613</td>\n",
       "      <td>Gene Expression</td>\n",
       "    </tr>\n",
       "  </tbody>\n",
       "</table>\n",
       "</div>"
      ],
      "text/plain": [
       "                    gene_ids    feature_types\n",
       "MIR1302-2HG  ENSG00000243485  Gene Expression\n",
       "FAM138A      ENSG00000237613  Gene Expression"
      ]
     },
     "execution_count": 23,
     "metadata": {},
     "output_type": "execute_result"
    }
   ],
   "source": [
    "adata_GSE194078.var.head(2)"
   ]
  },
  {
   "cell_type": "code",
   "execution_count": 25,
   "metadata": {},
   "outputs": [
    {
     "data": {
      "text/plain": [
       "1.0"
      ]
     },
     "execution_count": 25,
     "metadata": {},
     "output_type": "execute_result"
    }
   ],
   "source": [
    "sum(adata_GSE239626.var.index == adata_GSE194078.var.index) / len(adata_GSE239626.var.index)"
   ]
  },
  {
   "cell_type": "code",
   "execution_count": 24,
   "metadata": {},
   "outputs": [
    {
     "data": {
      "text/plain": [
       "AnnData object with n_obs × n_vars = 72317 × 36601\n",
       "    obs: 'dataset', 'disease', 'cell_type', 'sample', 'patient_id', 'time', 'cell_types_labels'\n",
       "    var: 'gene_ids', 'feature_types'"
      ]
     },
     "execution_count": 24,
     "metadata": {},
     "output_type": "execute_result"
    }
   ],
   "source": [
    "adata_GSE239626"
   ]
  },
  {
   "cell_type": "code",
   "execution_count": 56,
   "metadata": {},
   "outputs": [
    {
     "name": "stderr",
     "output_type": "stream",
     "text": [
      "c:\\Users\\giuli\\anaconda3\\lib\\site-packages\\anndata\\_core\\anndata.py:1820: UserWarning: Variable names are not unique. To make them unique, call `.var_names_make_unique`.\n",
      "  utils.warn_names_duplicates(\"var\")\n"
     ]
    },
    {
     "data": {
      "text/plain": [
       "AnnData object with n_obs × n_vars = 72317 × 37944\n",
       "    obs: 'dataset', 'disease', 'cell_type', 'sample', 'patient_id', 'time', 'cell_types_labels'\n",
       "    var: 'gene_ids', 'feature_types'"
      ]
     },
     "execution_count": 56,
     "metadata": {},
     "output_type": "execute_result"
    }
   ],
   "source": [
    "new_genes_ref = adata_GSE138266.var['gene_ids'][~adata_GSE138266.var['gene_ids'\n",
    "    ].isin(adata_GSE239626.var['gene_ids'])]\n",
    "\n",
    "a = sc.AnnData(np.zeros((adata_GSE239626.X.shape[0], len(new_genes_ref))))\n",
    "a.var.index = new_genes_ref.index\n",
    "a.var['gene_ids'] = new_genes_ref\n",
    "a.var['feature_types'] = 'Gene Expression'\n",
    "\n",
    "a.obs.index = adata_GSE239626.obs.index\n",
    "a.obs = adata_GSE239626.obs\n",
    "\n",
    "adata_GSE239626_final = anndata.concat([adata_GSE239626, a], axis=1, merge='first')\n",
    "adata_GSE239626_final"
   ]
  },
  {
   "cell_type": "code",
   "execution_count": 57,
   "metadata": {},
   "outputs": [
    {
     "data": {
      "text/html": [
       "<div>\n",
       "<style scoped>\n",
       "    .dataframe tbody tr th:only-of-type {\n",
       "        vertical-align: middle;\n",
       "    }\n",
       "\n",
       "    .dataframe tbody tr th {\n",
       "        vertical-align: top;\n",
       "    }\n",
       "\n",
       "    .dataframe thead th {\n",
       "        text-align: right;\n",
       "    }\n",
       "</style>\n",
       "<table border=\"1\" class=\"dataframe\">\n",
       "  <thead>\n",
       "    <tr style=\"text-align: right;\">\n",
       "      <th></th>\n",
       "      <th>dataset</th>\n",
       "      <th>disease</th>\n",
       "      <th>cell_type</th>\n",
       "      <th>sample</th>\n",
       "      <th>patient_id</th>\n",
       "      <th>time</th>\n",
       "      <th>cell_types_labels</th>\n",
       "    </tr>\n",
       "  </thead>\n",
       "  <tbody>\n",
       "    <tr>\n",
       "      <th>AAACCCAAGACTGTTC-1</th>\n",
       "      <td>GSE239626</td>\n",
       "      <td>MS</td>\n",
       "      <td>PBMC</td>\n",
       "      <td>GSM7669046</td>\n",
       "      <td>N1</td>\n",
       "      <td>J0</td>\n",
       "      <td>T cells</td>\n",
       "    </tr>\n",
       "    <tr>\n",
       "      <th>AAACCCAAGGATCATA-1</th>\n",
       "      <td>GSE239626</td>\n",
       "      <td>MS</td>\n",
       "      <td>PBMC</td>\n",
       "      <td>GSM7669046</td>\n",
       "      <td>N1</td>\n",
       "      <td>J0</td>\n",
       "      <td>T cells</td>\n",
       "    </tr>\n",
       "  </tbody>\n",
       "</table>\n",
       "</div>"
      ],
      "text/plain": [
       "                      dataset disease cell_type      sample patient_id time  \\\n",
       "AAACCCAAGACTGTTC-1  GSE239626      MS      PBMC  GSM7669046         N1   J0   \n",
       "AAACCCAAGGATCATA-1  GSE239626      MS      PBMC  GSM7669046         N1   J0   \n",
       "\n",
       "                   cell_types_labels  \n",
       "AAACCCAAGACTGTTC-1           T cells  \n",
       "AAACCCAAGGATCATA-1           T cells  "
      ]
     },
     "execution_count": 57,
     "metadata": {},
     "output_type": "execute_result"
    }
   ],
   "source": [
    "adata_GSE239626_final.obs.head(2)"
   ]
  },
  {
   "cell_type": "code",
   "execution_count": 58,
   "metadata": {},
   "outputs": [
    {
     "data": {
      "text/html": [
       "<div>\n",
       "<style scoped>\n",
       "    .dataframe tbody tr th:only-of-type {\n",
       "        vertical-align: middle;\n",
       "    }\n",
       "\n",
       "    .dataframe tbody tr th {\n",
       "        vertical-align: top;\n",
       "    }\n",
       "\n",
       "    .dataframe thead th {\n",
       "        text-align: right;\n",
       "    }\n",
       "</style>\n",
       "<table border=\"1\" class=\"dataframe\">\n",
       "  <thead>\n",
       "    <tr style=\"text-align: right;\">\n",
       "      <th></th>\n",
       "      <th>gene_ids</th>\n",
       "      <th>feature_types</th>\n",
       "    </tr>\n",
       "  </thead>\n",
       "  <tbody>\n",
       "    <tr>\n",
       "      <th>MIR1302-2HG</th>\n",
       "      <td>ENSG00000243485</td>\n",
       "      <td>Gene Expression</td>\n",
       "    </tr>\n",
       "    <tr>\n",
       "      <th>FAM138A</th>\n",
       "      <td>ENSG00000237613</td>\n",
       "      <td>Gene Expression</td>\n",
       "    </tr>\n",
       "    <tr>\n",
       "      <th>OR4F5</th>\n",
       "      <td>ENSG00000186092</td>\n",
       "      <td>Gene Expression</td>\n",
       "    </tr>\n",
       "    <tr>\n",
       "      <th>AL627309.1</th>\n",
       "      <td>ENSG00000238009</td>\n",
       "      <td>Gene Expression</td>\n",
       "    </tr>\n",
       "    <tr>\n",
       "      <th>AL627309.3</th>\n",
       "      <td>ENSG00000239945</td>\n",
       "      <td>Gene Expression</td>\n",
       "    </tr>\n",
       "    <tr>\n",
       "      <th>...</th>\n",
       "      <td>...</td>\n",
       "      <td>...</td>\n",
       "    </tr>\n",
       "    <tr>\n",
       "      <th>AP000304.12</th>\n",
       "      <td>ENSG00000249209</td>\n",
       "      <td>Gene Expression</td>\n",
       "    </tr>\n",
       "    <tr>\n",
       "      <th>AP000687.1</th>\n",
       "      <td>ENSG00000280170</td>\n",
       "      <td>Gene Expression</td>\n",
       "    </tr>\n",
       "    <tr>\n",
       "      <th>AF064858.11</th>\n",
       "      <td>ENSG00000237721</td>\n",
       "      <td>Gene Expression</td>\n",
       "    </tr>\n",
       "    <tr>\n",
       "      <th>AL773572.7</th>\n",
       "      <td>ENSG00000225745</td>\n",
       "      <td>Gene Expression</td>\n",
       "    </tr>\n",
       "    <tr>\n",
       "      <th>AP001058.3</th>\n",
       "      <td>ENSG00000232698</td>\n",
       "      <td>Gene Expression</td>\n",
       "    </tr>\n",
       "  </tbody>\n",
       "</table>\n",
       "<p>37944 rows × 2 columns</p>\n",
       "</div>"
      ],
      "text/plain": [
       "                    gene_ids    feature_types\n",
       "MIR1302-2HG  ENSG00000243485  Gene Expression\n",
       "FAM138A      ENSG00000237613  Gene Expression\n",
       "OR4F5        ENSG00000186092  Gene Expression\n",
       "AL627309.1   ENSG00000238009  Gene Expression\n",
       "AL627309.3   ENSG00000239945  Gene Expression\n",
       "...                      ...              ...\n",
       "AP000304.12  ENSG00000249209  Gene Expression\n",
       "AP000687.1   ENSG00000280170  Gene Expression\n",
       "AF064858.11  ENSG00000237721  Gene Expression\n",
       "AL773572.7   ENSG00000225745  Gene Expression\n",
       "AP001058.3   ENSG00000232698  Gene Expression\n",
       "\n",
       "[37944 rows x 2 columns]"
      ]
     },
     "execution_count": 58,
     "metadata": {},
     "output_type": "execute_result"
    }
   ],
   "source": [
    "adata_GSE239626_final.var"
   ]
  },
  {
   "cell_type": "markdown",
   "metadata": {},
   "source": [
    "adata_GSE194078"
   ]
  },
  {
   "cell_type": "code",
   "execution_count": 60,
   "metadata": {},
   "outputs": [
    {
     "name": "stderr",
     "output_type": "stream",
     "text": [
      "c:\\Users\\giuli\\anaconda3\\lib\\site-packages\\anndata\\_core\\anndata.py:1820: UserWarning: Variable names are not unique. To make them unique, call `.var_names_make_unique`.\n",
      "  utils.warn_names_duplicates(\"var\")\n"
     ]
    },
    {
     "data": {
      "text/plain": [
       "AnnData object with n_obs × n_vars = 110565 × 37944\n",
       "    obs: 'patient', 'patient_id', 'disease', 'dataset', 'cell_type', 'cell_types_labels'\n",
       "    var: 'gene_ids', 'feature_types'"
      ]
     },
     "execution_count": 60,
     "metadata": {},
     "output_type": "execute_result"
    }
   ],
   "source": [
    "a = sc.AnnData(np.zeros((adata_GSE194078.X.shape[0], len(new_genes_ref))))\n",
    "a.var.index = new_genes_ref.index\n",
    "a.var['gene_ids'] = new_genes_ref\n",
    "a.var['feature_types'] = 'Gene Expression'\n",
    "\n",
    "a.obs.index = adata_GSE194078.obs.index\n",
    "a.obs = adata_GSE194078.obs\n",
    "\n",
    "adata_GSE194078_final = anndata.concat([adata_GSE194078, a], axis=1, merge='first')\n",
    "adata_GSE194078_final"
   ]
  },
  {
   "cell_type": "code",
   "execution_count": 61,
   "metadata": {},
   "outputs": [
    {
     "data": {
      "text/plain": [
       "AnnData object with n_obs × n_vars = 110565 × 37944\n",
       "    obs: 'patient', 'patient_id', 'disease', 'dataset', 'cell_type', 'cell_types_labels'\n",
       "    var: 'gene_ids', 'feature_types'"
      ]
     },
     "execution_count": 61,
     "metadata": {},
     "output_type": "execute_result"
    }
   ],
   "source": [
    "adata_GSE194078_final"
   ]
  },
  {
   "cell_type": "code",
   "execution_count": 62,
   "metadata": {},
   "outputs": [
    {
     "data": {
      "text/html": [
       "<div>\n",
       "<style scoped>\n",
       "    .dataframe tbody tr th:only-of-type {\n",
       "        vertical-align: middle;\n",
       "    }\n",
       "\n",
       "    .dataframe tbody tr th {\n",
       "        vertical-align: top;\n",
       "    }\n",
       "\n",
       "    .dataframe thead th {\n",
       "        text-align: right;\n",
       "    }\n",
       "</style>\n",
       "<table border=\"1\" class=\"dataframe\">\n",
       "  <thead>\n",
       "    <tr style=\"text-align: right;\">\n",
       "      <th></th>\n",
       "      <th>gene_ids</th>\n",
       "      <th>feature_types</th>\n",
       "    </tr>\n",
       "  </thead>\n",
       "  <tbody>\n",
       "    <tr>\n",
       "      <th>MIR1302-2HG</th>\n",
       "      <td>ENSG00000243485</td>\n",
       "      <td>Gene Expression</td>\n",
       "    </tr>\n",
       "    <tr>\n",
       "      <th>FAM138A</th>\n",
       "      <td>ENSG00000237613</td>\n",
       "      <td>Gene Expression</td>\n",
       "    </tr>\n",
       "    <tr>\n",
       "      <th>OR4F5</th>\n",
       "      <td>ENSG00000186092</td>\n",
       "      <td>Gene Expression</td>\n",
       "    </tr>\n",
       "    <tr>\n",
       "      <th>AL627309.1</th>\n",
       "      <td>ENSG00000238009</td>\n",
       "      <td>Gene Expression</td>\n",
       "    </tr>\n",
       "    <tr>\n",
       "      <th>AL627309.3</th>\n",
       "      <td>ENSG00000239945</td>\n",
       "      <td>Gene Expression</td>\n",
       "    </tr>\n",
       "    <tr>\n",
       "      <th>...</th>\n",
       "      <td>...</td>\n",
       "      <td>...</td>\n",
       "    </tr>\n",
       "    <tr>\n",
       "      <th>AP000304.12</th>\n",
       "      <td>ENSG00000249209</td>\n",
       "      <td>Gene Expression</td>\n",
       "    </tr>\n",
       "    <tr>\n",
       "      <th>AP000687.1</th>\n",
       "      <td>ENSG00000280170</td>\n",
       "      <td>Gene Expression</td>\n",
       "    </tr>\n",
       "    <tr>\n",
       "      <th>AF064858.11</th>\n",
       "      <td>ENSG00000237721</td>\n",
       "      <td>Gene Expression</td>\n",
       "    </tr>\n",
       "    <tr>\n",
       "      <th>AL773572.7</th>\n",
       "      <td>ENSG00000225745</td>\n",
       "      <td>Gene Expression</td>\n",
       "    </tr>\n",
       "    <tr>\n",
       "      <th>AP001058.3</th>\n",
       "      <td>ENSG00000232698</td>\n",
       "      <td>Gene Expression</td>\n",
       "    </tr>\n",
       "  </tbody>\n",
       "</table>\n",
       "<p>37944 rows × 2 columns</p>\n",
       "</div>"
      ],
      "text/plain": [
       "                    gene_ids    feature_types\n",
       "MIR1302-2HG  ENSG00000243485  Gene Expression\n",
       "FAM138A      ENSG00000237613  Gene Expression\n",
       "OR4F5        ENSG00000186092  Gene Expression\n",
       "AL627309.1   ENSG00000238009  Gene Expression\n",
       "AL627309.3   ENSG00000239945  Gene Expression\n",
       "...                      ...              ...\n",
       "AP000304.12  ENSG00000249209  Gene Expression\n",
       "AP000687.1   ENSG00000280170  Gene Expression\n",
       "AF064858.11  ENSG00000237721  Gene Expression\n",
       "AL773572.7   ENSG00000225745  Gene Expression\n",
       "AP001058.3   ENSG00000232698  Gene Expression\n",
       "\n",
       "[37944 rows x 2 columns]"
      ]
     },
     "execution_count": 62,
     "metadata": {},
     "output_type": "execute_result"
    }
   ],
   "source": [
    "adata_GSE194078_final.var"
   ]
  },
  {
   "cell_type": "markdown",
   "metadata": {},
   "source": [
    "adata_GSE138266"
   ]
  },
  {
   "cell_type": "code",
   "execution_count": 63,
   "metadata": {},
   "outputs": [
    {
     "data": {
      "text/html": [
       "<div>\n",
       "<style scoped>\n",
       "    .dataframe tbody tr th:only-of-type {\n",
       "        vertical-align: middle;\n",
       "    }\n",
       "\n",
       "    .dataframe tbody tr th {\n",
       "        vertical-align: top;\n",
       "    }\n",
       "\n",
       "    .dataframe thead th {\n",
       "        text-align: right;\n",
       "    }\n",
       "</style>\n",
       "<table border=\"1\" class=\"dataframe\">\n",
       "  <thead>\n",
       "    <tr style=\"text-align: right;\">\n",
       "      <th></th>\n",
       "      <th>gene_ids</th>\n",
       "      <th>feature_types</th>\n",
       "    </tr>\n",
       "  </thead>\n",
       "  <tbody>\n",
       "    <tr>\n",
       "      <th>RP11-34P13.3</th>\n",
       "      <td>ENSG00000243485</td>\n",
       "      <td>Gene Expression</td>\n",
       "    </tr>\n",
       "    <tr>\n",
       "      <th>FAM138A</th>\n",
       "      <td>ENSG00000237613</td>\n",
       "      <td>Gene Expression</td>\n",
       "    </tr>\n",
       "  </tbody>\n",
       "</table>\n",
       "</div>"
      ],
      "text/plain": [
       "                     gene_ids    feature_types\n",
       "RP11-34P13.3  ENSG00000243485  Gene Expression\n",
       "FAM138A       ENSG00000237613  Gene Expression"
      ]
     },
     "execution_count": 63,
     "metadata": {},
     "output_type": "execute_result"
    }
   ],
   "source": [
    "adata_GSE138266.var.head(2)"
   ]
  },
  {
   "cell_type": "code",
   "execution_count": 64,
   "metadata": {},
   "outputs": [
    {
     "name": "stderr",
     "output_type": "stream",
     "text": [
      "c:\\Users\\giuli\\anaconda3\\lib\\site-packages\\anndata\\_core\\anndata.py:1820: UserWarning: Variable names are not unique. To make them unique, call `.var_names_make_unique`.\n",
      "  utils.warn_names_duplicates(\"var\")\n"
     ]
    },
    {
     "data": {
      "text/plain": [
       "AnnData object with n_obs × n_vars = 68038 × 37944\n",
       "    obs: 'sample', 'patient', 'dataset', 'disease', 'cell_type', 'cell_types_labels'\n",
       "    var: 'gene_ids', 'feature_types'"
      ]
     },
     "execution_count": 64,
     "metadata": {},
     "output_type": "execute_result"
    }
   ],
   "source": [
    "new_genes_13 = adata_GSE239626.var['gene_ids'][~adata_GSE239626.var['gene_ids'\n",
    "    ].isin(adata_GSE138266.var['gene_ids'])]\n",
    "\n",
    "a = sc.AnnData(sp.csr_matrix((adata_GSE138266.X.shape[0], len(new_genes_13))))\n",
    "\n",
    "a.var.index = new_genes_13.index\n",
    "a.var['gene_ids'] = new_genes_13\n",
    "a.var['feature_types'] = 'Gene Expression'\n",
    "\n",
    "a.obs.index = adata_GSE138266.obs.index\n",
    "a.obs = adata_GSE138266.obs\n",
    "\n",
    "adata_GSE138266_final = anndata.concat([adata_GSE138266, a], axis=1, merge='first')\n",
    "adata_GSE138266_final"
   ]
  },
  {
   "cell_type": "code",
   "execution_count": 65,
   "metadata": {},
   "outputs": [
    {
     "data": {
      "text/html": [
       "<div>\n",
       "<style scoped>\n",
       "    .dataframe tbody tr th:only-of-type {\n",
       "        vertical-align: middle;\n",
       "    }\n",
       "\n",
       "    .dataframe tbody tr th {\n",
       "        vertical-align: top;\n",
       "    }\n",
       "\n",
       "    .dataframe thead th {\n",
       "        text-align: right;\n",
       "    }\n",
       "</style>\n",
       "<table border=\"1\" class=\"dataframe\">\n",
       "  <thead>\n",
       "    <tr style=\"text-align: right;\">\n",
       "      <th></th>\n",
       "      <th>gene_ids</th>\n",
       "      <th>feature_types</th>\n",
       "    </tr>\n",
       "  </thead>\n",
       "  <tbody>\n",
       "    <tr>\n",
       "      <th>RP11-34P13.3</th>\n",
       "      <td>ENSG00000243485</td>\n",
       "      <td>Gene Expression</td>\n",
       "    </tr>\n",
       "    <tr>\n",
       "      <th>FAM138A</th>\n",
       "      <td>ENSG00000237613</td>\n",
       "      <td>Gene Expression</td>\n",
       "    </tr>\n",
       "    <tr>\n",
       "      <th>OR4F5</th>\n",
       "      <td>ENSG00000186092</td>\n",
       "      <td>Gene Expression</td>\n",
       "    </tr>\n",
       "    <tr>\n",
       "      <th>RP11-34P13.7</th>\n",
       "      <td>ENSG00000238009</td>\n",
       "      <td>Gene Expression</td>\n",
       "    </tr>\n",
       "    <tr>\n",
       "      <th>RP11-34P13.8</th>\n",
       "      <td>ENSG00000239945</td>\n",
       "      <td>Gene Expression</td>\n",
       "    </tr>\n",
       "    <tr>\n",
       "      <th>...</th>\n",
       "      <td>...</td>\n",
       "      <td>...</td>\n",
       "    </tr>\n",
       "    <tr>\n",
       "      <th>AC010889.2</th>\n",
       "      <td>ENSG00000288049</td>\n",
       "      <td>Gene Expression</td>\n",
       "    </tr>\n",
       "    <tr>\n",
       "      <th>AC009494.2</th>\n",
       "      <td>ENSG00000286247</td>\n",
       "      <td>Gene Expression</td>\n",
       "    </tr>\n",
       "    <tr>\n",
       "      <th>AC010086.3</th>\n",
       "      <td>ENSG00000288057</td>\n",
       "      <td>Gene Expression</td>\n",
       "    </tr>\n",
       "    <tr>\n",
       "      <th>AC024236.1</th>\n",
       "      <td>ENSG00000286187</td>\n",
       "      <td>Gene Expression</td>\n",
       "    </tr>\n",
       "    <tr>\n",
       "      <th>PRYP3</th>\n",
       "      <td>ENSG00000169763</td>\n",
       "      <td>Gene Expression</td>\n",
       "    </tr>\n",
       "  </tbody>\n",
       "</table>\n",
       "<p>37944 rows × 2 columns</p>\n",
       "</div>"
      ],
      "text/plain": [
       "                     gene_ids    feature_types\n",
       "RP11-34P13.3  ENSG00000243485  Gene Expression\n",
       "FAM138A       ENSG00000237613  Gene Expression\n",
       "OR4F5         ENSG00000186092  Gene Expression\n",
       "RP11-34P13.7  ENSG00000238009  Gene Expression\n",
       "RP11-34P13.8  ENSG00000239945  Gene Expression\n",
       "...                       ...              ...\n",
       "AC010889.2    ENSG00000288049  Gene Expression\n",
       "AC009494.2    ENSG00000286247  Gene Expression\n",
       "AC010086.3    ENSG00000288057  Gene Expression\n",
       "AC024236.1    ENSG00000286187  Gene Expression\n",
       "PRYP3         ENSG00000169763  Gene Expression\n",
       "\n",
       "[37944 rows x 2 columns]"
      ]
     },
     "execution_count": 65,
     "metadata": {},
     "output_type": "execute_result"
    }
   ],
   "source": [
    "adata_GSE138266_final.var"
   ]
  },
  {
   "cell_type": "code",
   "execution_count": 66,
   "metadata": {},
   "outputs": [
    {
     "data": {
      "text/html": [
       "<div>\n",
       "<style scoped>\n",
       "    .dataframe tbody tr th:only-of-type {\n",
       "        vertical-align: middle;\n",
       "    }\n",
       "\n",
       "    .dataframe tbody tr th {\n",
       "        vertical-align: top;\n",
       "    }\n",
       "\n",
       "    .dataframe thead th {\n",
       "        text-align: right;\n",
       "    }\n",
       "</style>\n",
       "<table border=\"1\" class=\"dataframe\">\n",
       "  <thead>\n",
       "    <tr style=\"text-align: right;\">\n",
       "      <th></th>\n",
       "      <th>sample</th>\n",
       "      <th>patient</th>\n",
       "      <th>dataset</th>\n",
       "      <th>disease</th>\n",
       "      <th>cell_type</th>\n",
       "      <th>cell_types_labels</th>\n",
       "    </tr>\n",
       "  </thead>\n",
       "  <tbody>\n",
       "    <tr>\n",
       "      <th>AAACCTGAGTGGGCTA-1-MS19270-CSF</th>\n",
       "      <td>GSM4104122</td>\n",
       "      <td>MS19270</td>\n",
       "      <td>GSE138266</td>\n",
       "      <td>MS</td>\n",
       "      <td>CSF</td>\n",
       "      <td>T cells</td>\n",
       "    </tr>\n",
       "    <tr>\n",
       "      <th>AAACCTGAGTGTTAGA-1-MS19270-CSF</th>\n",
       "      <td>GSM4104122</td>\n",
       "      <td>MS19270</td>\n",
       "      <td>GSE138266</td>\n",
       "      <td>MS</td>\n",
       "      <td>CSF</td>\n",
       "      <td>T cells</td>\n",
       "    </tr>\n",
       "  </tbody>\n",
       "</table>\n",
       "</div>"
      ],
      "text/plain": [
       "                                    sample  patient    dataset disease  \\\n",
       "AAACCTGAGTGGGCTA-1-MS19270-CSF  GSM4104122  MS19270  GSE138266      MS   \n",
       "AAACCTGAGTGTTAGA-1-MS19270-CSF  GSM4104122  MS19270  GSE138266      MS   \n",
       "\n",
       "                               cell_type cell_types_labels  \n",
       "AAACCTGAGTGGGCTA-1-MS19270-CSF       CSF           T cells  \n",
       "AAACCTGAGTGTTAGA-1-MS19270-CSF       CSF           T cells  "
      ]
     },
     "execution_count": 66,
     "metadata": {},
     "output_type": "execute_result"
    }
   ],
   "source": [
    "adata_GSE138266_final.obs.head(2)"
   ]
  },
  {
   "cell_type": "code",
   "execution_count": 67,
   "metadata": {},
   "outputs": [
    {
     "data": {
      "text/plain": [
       "(37944, 37944, 37944)"
      ]
     },
     "execution_count": 67,
     "metadata": {},
     "output_type": "execute_result"
    }
   ],
   "source": [
    "adata_GSE239626_final.n_vars, adata_GSE194078_final.n_vars, adata_GSE138266_final.n_vars"
   ]
  },
  {
   "cell_type": "markdown",
   "metadata": {},
   "source": [
    "Concat"
   ]
  },
  {
   "cell_type": "code",
   "execution_count": 74,
   "metadata": {},
   "outputs": [],
   "source": [
    "adata_GSE239626_final.obs_names_make_unique()\n",
    "adata_GSE194078_final.obs_names_make_unique()\n",
    "adata_GSE138266_final.obs_names_make_unique()"
   ]
  },
  {
   "cell_type": "code",
   "execution_count": 83,
   "metadata": {},
   "outputs": [
    {
     "data": {
      "text/plain": [
       "[1, 1, 1]"
      ]
     },
     "execution_count": 83,
     "metadata": {},
     "output_type": "execute_result"
    }
   ],
   "source": [
    "[adata_GSE239626_final.var.value_counts().max(), adata_GSE194078_final.var.value_counts().max(),\n",
    "    adata_GSE138266_final.var.value_counts().max()]"
   ]
  },
  {
   "cell_type": "code",
   "execution_count": 103,
   "metadata": {},
   "outputs": [
    {
     "data": {
      "text/html": [
       "<div>\n",
       "<style scoped>\n",
       "    .dataframe tbody tr th:only-of-type {\n",
       "        vertical-align: middle;\n",
       "    }\n",
       "\n",
       "    .dataframe tbody tr th {\n",
       "        vertical-align: top;\n",
       "    }\n",
       "\n",
       "    .dataframe thead th {\n",
       "        text-align: right;\n",
       "    }\n",
       "</style>\n",
       "<table border=\"1\" class=\"dataframe\">\n",
       "  <thead>\n",
       "    <tr style=\"text-align: right;\">\n",
       "      <th></th>\n",
       "      <th>dataset</th>\n",
       "      <th>disease</th>\n",
       "      <th>cell_type</th>\n",
       "      <th>sample</th>\n",
       "      <th>patient_id</th>\n",
       "      <th>time</th>\n",
       "      <th>cell_types_labels</th>\n",
       "      <th>patient</th>\n",
       "    </tr>\n",
       "  </thead>\n",
       "  <tbody>\n",
       "    <tr>\n",
       "      <th>AAACCCAAGACTGTTC-1</th>\n",
       "      <td>GSE239626</td>\n",
       "      <td>MS</td>\n",
       "      <td>PBMC</td>\n",
       "      <td>GSM7669046</td>\n",
       "      <td>N1</td>\n",
       "      <td>J0</td>\n",
       "      <td>T cells</td>\n",
       "      <td>NaN</td>\n",
       "    </tr>\n",
       "    <tr>\n",
       "      <th>AAACCCAAGGATCATA-1</th>\n",
       "      <td>GSE239626</td>\n",
       "      <td>MS</td>\n",
       "      <td>PBMC</td>\n",
       "      <td>GSM7669046</td>\n",
       "      <td>N1</td>\n",
       "      <td>J0</td>\n",
       "      <td>T cells</td>\n",
       "      <td>NaN</td>\n",
       "    </tr>\n",
       "    <tr>\n",
       "      <th>AAACCCAGTTATTCTC-1</th>\n",
       "      <td>GSE239626</td>\n",
       "      <td>MS</td>\n",
       "      <td>PBMC</td>\n",
       "      <td>GSM7669046</td>\n",
       "      <td>N1</td>\n",
       "      <td>J0</td>\n",
       "      <td>B cells</td>\n",
       "      <td>NaN</td>\n",
       "    </tr>\n",
       "    <tr>\n",
       "      <th>AAACCCATCATGAGGG-1</th>\n",
       "      <td>GSE239626</td>\n",
       "      <td>MS</td>\n",
       "      <td>PBMC</td>\n",
       "      <td>GSM7669046</td>\n",
       "      <td>N1</td>\n",
       "      <td>J0</td>\n",
       "      <td>T cells</td>\n",
       "      <td>NaN</td>\n",
       "    </tr>\n",
       "    <tr>\n",
       "      <th>AAACGAAAGCCAGTAG-1</th>\n",
       "      <td>GSE239626</td>\n",
       "      <td>MS</td>\n",
       "      <td>PBMC</td>\n",
       "      <td>GSM7669046</td>\n",
       "      <td>N1</td>\n",
       "      <td>J0</td>\n",
       "      <td>B cells</td>\n",
       "      <td>NaN</td>\n",
       "    </tr>\n",
       "    <tr>\n",
       "      <th>...</th>\n",
       "      <td>...</td>\n",
       "      <td>...</td>\n",
       "      <td>...</td>\n",
       "      <td>...</td>\n",
       "      <td>...</td>\n",
       "      <td>...</td>\n",
       "      <td>...</td>\n",
       "      <td>...</td>\n",
       "    </tr>\n",
       "    <tr>\n",
       "      <th>TTTGCGCGTGCAACGA-1-PTC85037-PBMC</th>\n",
       "      <td>GSE138266</td>\n",
       "      <td>PTC</td>\n",
       "      <td>PBMC</td>\n",
       "      <td>GSM4104143</td>\n",
       "      <td>NaN</td>\n",
       "      <td>NaN</td>\n",
       "      <td>T cells</td>\n",
       "      <td>PTC85037</td>\n",
       "    </tr>\n",
       "    <tr>\n",
       "      <th>TTTGCGCTCCGTAGTA-1-PTC85037-PBMC</th>\n",
       "      <td>GSE138266</td>\n",
       "      <td>PTC</td>\n",
       "      <td>PBMC</td>\n",
       "      <td>GSM4104143</td>\n",
       "      <td>NaN</td>\n",
       "      <td>NaN</td>\n",
       "      <td>T cells</td>\n",
       "      <td>PTC85037</td>\n",
       "    </tr>\n",
       "    <tr>\n",
       "      <th>TTTGGTTCACCACGTG-1-PTC85037-PBMC</th>\n",
       "      <td>GSE138266</td>\n",
       "      <td>PTC</td>\n",
       "      <td>PBMC</td>\n",
       "      <td>GSM4104143</td>\n",
       "      <td>NaN</td>\n",
       "      <td>NaN</td>\n",
       "      <td>ILC</td>\n",
       "      <td>PTC85037</td>\n",
       "    </tr>\n",
       "    <tr>\n",
       "      <th>TTTGTCACACTGAAGG-1-PTC85037-PBMC</th>\n",
       "      <td>GSE138266</td>\n",
       "      <td>PTC</td>\n",
       "      <td>PBMC</td>\n",
       "      <td>GSM4104143</td>\n",
       "      <td>NaN</td>\n",
       "      <td>NaN</td>\n",
       "      <td>B cells</td>\n",
       "      <td>PTC85037</td>\n",
       "    </tr>\n",
       "    <tr>\n",
       "      <th>TTTGTCATCAGTTAGC-1-PTC85037-PBMC</th>\n",
       "      <td>GSE138266</td>\n",
       "      <td>PTC</td>\n",
       "      <td>PBMC</td>\n",
       "      <td>GSM4104143</td>\n",
       "      <td>NaN</td>\n",
       "      <td>NaN</td>\n",
       "      <td>T cells</td>\n",
       "      <td>PTC85037</td>\n",
       "    </tr>\n",
       "  </tbody>\n",
       "</table>\n",
       "<p>250920 rows × 8 columns</p>\n",
       "</div>"
      ],
      "text/plain": [
       "                                    dataset disease cell_type      sample  \\\n",
       "AAACCCAAGACTGTTC-1                GSE239626      MS      PBMC  GSM7669046   \n",
       "AAACCCAAGGATCATA-1                GSE239626      MS      PBMC  GSM7669046   \n",
       "AAACCCAGTTATTCTC-1                GSE239626      MS      PBMC  GSM7669046   \n",
       "AAACCCATCATGAGGG-1                GSE239626      MS      PBMC  GSM7669046   \n",
       "AAACGAAAGCCAGTAG-1                GSE239626      MS      PBMC  GSM7669046   \n",
       "...                                     ...     ...       ...         ...   \n",
       "TTTGCGCGTGCAACGA-1-PTC85037-PBMC  GSE138266     PTC      PBMC  GSM4104143   \n",
       "TTTGCGCTCCGTAGTA-1-PTC85037-PBMC  GSE138266     PTC      PBMC  GSM4104143   \n",
       "TTTGGTTCACCACGTG-1-PTC85037-PBMC  GSE138266     PTC      PBMC  GSM4104143   \n",
       "TTTGTCACACTGAAGG-1-PTC85037-PBMC  GSE138266     PTC      PBMC  GSM4104143   \n",
       "TTTGTCATCAGTTAGC-1-PTC85037-PBMC  GSE138266     PTC      PBMC  GSM4104143   \n",
       "\n",
       "                                 patient_id time cell_types_labels   patient  \n",
       "AAACCCAAGACTGTTC-1                       N1   J0           T cells       NaN  \n",
       "AAACCCAAGGATCATA-1                       N1   J0           T cells       NaN  \n",
       "AAACCCAGTTATTCTC-1                       N1   J0           B cells       NaN  \n",
       "AAACCCATCATGAGGG-1                       N1   J0           T cells       NaN  \n",
       "AAACGAAAGCCAGTAG-1                       N1   J0           B cells       NaN  \n",
       "...                                     ...  ...               ...       ...  \n",
       "TTTGCGCGTGCAACGA-1-PTC85037-PBMC        NaN  NaN           T cells  PTC85037  \n",
       "TTTGCGCTCCGTAGTA-1-PTC85037-PBMC        NaN  NaN           T cells  PTC85037  \n",
       "TTTGGTTCACCACGTG-1-PTC85037-PBMC        NaN  NaN               ILC  PTC85037  \n",
       "TTTGTCACACTGAAGG-1-PTC85037-PBMC        NaN  NaN           B cells  PTC85037  \n",
       "TTTGTCATCAGTTAGC-1-PTC85037-PBMC        NaN  NaN           T cells  PTC85037  \n",
       "\n",
       "[250920 rows x 8 columns]"
      ]
     },
     "execution_count": 103,
     "metadata": {},
     "output_type": "execute_result"
    }
   ],
   "source": [
    "concat_obs = pd.concat([adata_GSE239626_final.obs, adata_GSE194078_final.obs, adata_GSE138266_final.obs])\n",
    "concat_obs # shape: 72317 + 110565 + 68038 = 250920"
   ]
  },
  {
   "cell_type": "code",
   "execution_count": 104,
   "metadata": {},
   "outputs": [
    {
     "data": {
      "text/plain": [
       "<250920x37944 sparse matrix of type '<class 'numpy.float64'>'\n",
       "\twith 385236280 stored elements in Compressed Sparse Row format>"
      ]
     },
     "execution_count": 104,
     "metadata": {},
     "output_type": "execute_result"
    }
   ],
   "source": [
    "X_concat = sp.vstack([adata_GSE239626_final.X, adata_GSE194078_final.X, adata_GSE138266_final.X])\n",
    "X_concat # shape: 250920 x 37944"
   ]
  },
  {
   "cell_type": "code",
   "execution_count": 105,
   "metadata": {},
   "outputs": [
    {
     "name": "stderr",
     "output_type": "stream",
     "text": [
      "c:\\Users\\giuli\\anaconda3\\lib\\site-packages\\anndata\\_core\\anndata.py:1820: UserWarning: Variable names are not unique. To make them unique, call `.var_names_make_unique`.\n",
      "  utils.warn_names_duplicates(\"var\")\n"
     ]
    }
   ],
   "source": [
    "adata = sc.AnnData(X_concat, obs=concat_obs, var=adata_GSE239626_final.var)"
   ]
  },
  {
   "cell_type": "code",
   "execution_count": 106,
   "metadata": {},
   "outputs": [
    {
     "data": {
      "text/plain": [
       "250920"
      ]
     },
     "execution_count": 106,
     "metadata": {},
     "output_type": "execute_result"
    }
   ],
   "source": [
    "72317 + 110565 + 68038"
   ]
  },
  {
   "cell_type": "code",
   "execution_count": 107,
   "metadata": {},
   "outputs": [
    {
     "data": {
      "text/plain": [
       "AnnData object with n_obs × n_vars = 250920 × 37944\n",
       "    obs: 'dataset', 'disease', 'cell_type', 'sample', 'patient_id', 'time', 'cell_types_labels', 'patient'\n",
       "    var: 'gene_ids', 'feature_types'"
      ]
     },
     "execution_count": 107,
     "metadata": {},
     "output_type": "execute_result"
    }
   ],
   "source": [
    "adata # expected shape: (72317+110565+68038) × 37944 = 250920 x 37944"
   ]
  },
  {
   "cell_type": "code",
   "execution_count": 108,
   "metadata": {},
   "outputs": [
    {
     "data": {
      "text/html": [
       "<div>\n",
       "<style scoped>\n",
       "    .dataframe tbody tr th:only-of-type {\n",
       "        vertical-align: middle;\n",
       "    }\n",
       "\n",
       "    .dataframe tbody tr th {\n",
       "        vertical-align: top;\n",
       "    }\n",
       "\n",
       "    .dataframe thead th {\n",
       "        text-align: right;\n",
       "    }\n",
       "</style>\n",
       "<table border=\"1\" class=\"dataframe\">\n",
       "  <thead>\n",
       "    <tr style=\"text-align: right;\">\n",
       "      <th></th>\n",
       "      <th>dataset</th>\n",
       "      <th>disease</th>\n",
       "      <th>cell_type</th>\n",
       "      <th>sample</th>\n",
       "      <th>patient_id</th>\n",
       "      <th>time</th>\n",
       "      <th>cell_types_labels</th>\n",
       "      <th>patient</th>\n",
       "    </tr>\n",
       "  </thead>\n",
       "  <tbody>\n",
       "    <tr>\n",
       "      <th>AAACCCAAGACTGTTC-1</th>\n",
       "      <td>GSE239626</td>\n",
       "      <td>MS</td>\n",
       "      <td>PBMC</td>\n",
       "      <td>GSM7669046</td>\n",
       "      <td>N1</td>\n",
       "      <td>J0</td>\n",
       "      <td>T cells</td>\n",
       "      <td>NaN</td>\n",
       "    </tr>\n",
       "    <tr>\n",
       "      <th>AAACCCAAGGATCATA-1</th>\n",
       "      <td>GSE239626</td>\n",
       "      <td>MS</td>\n",
       "      <td>PBMC</td>\n",
       "      <td>GSM7669046</td>\n",
       "      <td>N1</td>\n",
       "      <td>J0</td>\n",
       "      <td>T cells</td>\n",
       "      <td>NaN</td>\n",
       "    </tr>\n",
       "    <tr>\n",
       "      <th>AAACCCAGTTATTCTC-1</th>\n",
       "      <td>GSE239626</td>\n",
       "      <td>MS</td>\n",
       "      <td>PBMC</td>\n",
       "      <td>GSM7669046</td>\n",
       "      <td>N1</td>\n",
       "      <td>J0</td>\n",
       "      <td>B cells</td>\n",
       "      <td>NaN</td>\n",
       "    </tr>\n",
       "    <tr>\n",
       "      <th>AAACCCATCATGAGGG-1</th>\n",
       "      <td>GSE239626</td>\n",
       "      <td>MS</td>\n",
       "      <td>PBMC</td>\n",
       "      <td>GSM7669046</td>\n",
       "      <td>N1</td>\n",
       "      <td>J0</td>\n",
       "      <td>T cells</td>\n",
       "      <td>NaN</td>\n",
       "    </tr>\n",
       "    <tr>\n",
       "      <th>AAACGAAAGCCAGTAG-1</th>\n",
       "      <td>GSE239626</td>\n",
       "      <td>MS</td>\n",
       "      <td>PBMC</td>\n",
       "      <td>GSM7669046</td>\n",
       "      <td>N1</td>\n",
       "      <td>J0</td>\n",
       "      <td>B cells</td>\n",
       "      <td>NaN</td>\n",
       "    </tr>\n",
       "    <tr>\n",
       "      <th>...</th>\n",
       "      <td>...</td>\n",
       "      <td>...</td>\n",
       "      <td>...</td>\n",
       "      <td>...</td>\n",
       "      <td>...</td>\n",
       "      <td>...</td>\n",
       "      <td>...</td>\n",
       "      <td>...</td>\n",
       "    </tr>\n",
       "    <tr>\n",
       "      <th>TTTGCGCGTGCAACGA-1-PTC85037-PBMC</th>\n",
       "      <td>GSE138266</td>\n",
       "      <td>PTC</td>\n",
       "      <td>PBMC</td>\n",
       "      <td>GSM4104143</td>\n",
       "      <td>NaN</td>\n",
       "      <td>NaN</td>\n",
       "      <td>T cells</td>\n",
       "      <td>PTC85037</td>\n",
       "    </tr>\n",
       "    <tr>\n",
       "      <th>TTTGCGCTCCGTAGTA-1-PTC85037-PBMC</th>\n",
       "      <td>GSE138266</td>\n",
       "      <td>PTC</td>\n",
       "      <td>PBMC</td>\n",
       "      <td>GSM4104143</td>\n",
       "      <td>NaN</td>\n",
       "      <td>NaN</td>\n",
       "      <td>T cells</td>\n",
       "      <td>PTC85037</td>\n",
       "    </tr>\n",
       "    <tr>\n",
       "      <th>TTTGGTTCACCACGTG-1-PTC85037-PBMC</th>\n",
       "      <td>GSE138266</td>\n",
       "      <td>PTC</td>\n",
       "      <td>PBMC</td>\n",
       "      <td>GSM4104143</td>\n",
       "      <td>NaN</td>\n",
       "      <td>NaN</td>\n",
       "      <td>ILC</td>\n",
       "      <td>PTC85037</td>\n",
       "    </tr>\n",
       "    <tr>\n",
       "      <th>TTTGTCACACTGAAGG-1-PTC85037-PBMC</th>\n",
       "      <td>GSE138266</td>\n",
       "      <td>PTC</td>\n",
       "      <td>PBMC</td>\n",
       "      <td>GSM4104143</td>\n",
       "      <td>NaN</td>\n",
       "      <td>NaN</td>\n",
       "      <td>B cells</td>\n",
       "      <td>PTC85037</td>\n",
       "    </tr>\n",
       "    <tr>\n",
       "      <th>TTTGTCATCAGTTAGC-1-PTC85037-PBMC</th>\n",
       "      <td>GSE138266</td>\n",
       "      <td>PTC</td>\n",
       "      <td>PBMC</td>\n",
       "      <td>GSM4104143</td>\n",
       "      <td>NaN</td>\n",
       "      <td>NaN</td>\n",
       "      <td>T cells</td>\n",
       "      <td>PTC85037</td>\n",
       "    </tr>\n",
       "  </tbody>\n",
       "</table>\n",
       "<p>250920 rows × 8 columns</p>\n",
       "</div>"
      ],
      "text/plain": [
       "                                    dataset disease cell_type      sample  \\\n",
       "AAACCCAAGACTGTTC-1                GSE239626      MS      PBMC  GSM7669046   \n",
       "AAACCCAAGGATCATA-1                GSE239626      MS      PBMC  GSM7669046   \n",
       "AAACCCAGTTATTCTC-1                GSE239626      MS      PBMC  GSM7669046   \n",
       "AAACCCATCATGAGGG-1                GSE239626      MS      PBMC  GSM7669046   \n",
       "AAACGAAAGCCAGTAG-1                GSE239626      MS      PBMC  GSM7669046   \n",
       "...                                     ...     ...       ...         ...   \n",
       "TTTGCGCGTGCAACGA-1-PTC85037-PBMC  GSE138266     PTC      PBMC  GSM4104143   \n",
       "TTTGCGCTCCGTAGTA-1-PTC85037-PBMC  GSE138266     PTC      PBMC  GSM4104143   \n",
       "TTTGGTTCACCACGTG-1-PTC85037-PBMC  GSE138266     PTC      PBMC  GSM4104143   \n",
       "TTTGTCACACTGAAGG-1-PTC85037-PBMC  GSE138266     PTC      PBMC  GSM4104143   \n",
       "TTTGTCATCAGTTAGC-1-PTC85037-PBMC  GSE138266     PTC      PBMC  GSM4104143   \n",
       "\n",
       "                                 patient_id time cell_types_labels   patient  \n",
       "AAACCCAAGACTGTTC-1                       N1   J0           T cells       NaN  \n",
       "AAACCCAAGGATCATA-1                       N1   J0           T cells       NaN  \n",
       "AAACCCAGTTATTCTC-1                       N1   J0           B cells       NaN  \n",
       "AAACCCATCATGAGGG-1                       N1   J0           T cells       NaN  \n",
       "AAACGAAAGCCAGTAG-1                       N1   J0           B cells       NaN  \n",
       "...                                     ...  ...               ...       ...  \n",
       "TTTGCGCGTGCAACGA-1-PTC85037-PBMC        NaN  NaN           T cells  PTC85037  \n",
       "TTTGCGCTCCGTAGTA-1-PTC85037-PBMC        NaN  NaN           T cells  PTC85037  \n",
       "TTTGGTTCACCACGTG-1-PTC85037-PBMC        NaN  NaN               ILC  PTC85037  \n",
       "TTTGTCACACTGAAGG-1-PTC85037-PBMC        NaN  NaN           B cells  PTC85037  \n",
       "TTTGTCATCAGTTAGC-1-PTC85037-PBMC        NaN  NaN           T cells  PTC85037  \n",
       "\n",
       "[250920 rows x 8 columns]"
      ]
     },
     "execution_count": 108,
     "metadata": {},
     "output_type": "execute_result"
    }
   ],
   "source": [
    "adata.obs"
   ]
  },
  {
   "cell_type": "code",
   "execution_count": 110,
   "metadata": {},
   "outputs": [
    {
     "data": {
      "text/html": [
       "<div>\n",
       "<style scoped>\n",
       "    .dataframe tbody tr th:only-of-type {\n",
       "        vertical-align: middle;\n",
       "    }\n",
       "\n",
       "    .dataframe tbody tr th {\n",
       "        vertical-align: top;\n",
       "    }\n",
       "\n",
       "    .dataframe thead th {\n",
       "        text-align: right;\n",
       "    }\n",
       "</style>\n",
       "<table border=\"1\" class=\"dataframe\">\n",
       "  <thead>\n",
       "    <tr style=\"text-align: right;\">\n",
       "      <th></th>\n",
       "      <th>gene_ids</th>\n",
       "      <th>feature_types</th>\n",
       "    </tr>\n",
       "  </thead>\n",
       "  <tbody>\n",
       "    <tr>\n",
       "      <th>MIR1302-2HG</th>\n",
       "      <td>ENSG00000243485</td>\n",
       "      <td>Gene Expression</td>\n",
       "    </tr>\n",
       "    <tr>\n",
       "      <th>FAM138A</th>\n",
       "      <td>ENSG00000237613</td>\n",
       "      <td>Gene Expression</td>\n",
       "    </tr>\n",
       "    <tr>\n",
       "      <th>OR4F5</th>\n",
       "      <td>ENSG00000186092</td>\n",
       "      <td>Gene Expression</td>\n",
       "    </tr>\n",
       "    <tr>\n",
       "      <th>AL627309.1</th>\n",
       "      <td>ENSG00000238009</td>\n",
       "      <td>Gene Expression</td>\n",
       "    </tr>\n",
       "    <tr>\n",
       "      <th>AL627309.3</th>\n",
       "      <td>ENSG00000239945</td>\n",
       "      <td>Gene Expression</td>\n",
       "    </tr>\n",
       "    <tr>\n",
       "      <th>...</th>\n",
       "      <td>...</td>\n",
       "      <td>...</td>\n",
       "    </tr>\n",
       "    <tr>\n",
       "      <th>AP000304.12</th>\n",
       "      <td>ENSG00000249209</td>\n",
       "      <td>Gene Expression</td>\n",
       "    </tr>\n",
       "    <tr>\n",
       "      <th>AP000687.1</th>\n",
       "      <td>ENSG00000280170</td>\n",
       "      <td>Gene Expression</td>\n",
       "    </tr>\n",
       "    <tr>\n",
       "      <th>AF064858.11</th>\n",
       "      <td>ENSG00000237721</td>\n",
       "      <td>Gene Expression</td>\n",
       "    </tr>\n",
       "    <tr>\n",
       "      <th>AL773572.7</th>\n",
       "      <td>ENSG00000225745</td>\n",
       "      <td>Gene Expression</td>\n",
       "    </tr>\n",
       "    <tr>\n",
       "      <th>AP001058.3</th>\n",
       "      <td>ENSG00000232698</td>\n",
       "      <td>Gene Expression</td>\n",
       "    </tr>\n",
       "  </tbody>\n",
       "</table>\n",
       "<p>37944 rows × 2 columns</p>\n",
       "</div>"
      ],
      "text/plain": [
       "                    gene_ids    feature_types\n",
       "MIR1302-2HG  ENSG00000243485  Gene Expression\n",
       "FAM138A      ENSG00000237613  Gene Expression\n",
       "OR4F5        ENSG00000186092  Gene Expression\n",
       "AL627309.1   ENSG00000238009  Gene Expression\n",
       "AL627309.3   ENSG00000239945  Gene Expression\n",
       "...                      ...              ...\n",
       "AP000304.12  ENSG00000249209  Gene Expression\n",
       "AP000687.1   ENSG00000280170  Gene Expression\n",
       "AF064858.11  ENSG00000237721  Gene Expression\n",
       "AL773572.7   ENSG00000225745  Gene Expression\n",
       "AP001058.3   ENSG00000232698  Gene Expression\n",
       "\n",
       "[37944 rows x 2 columns]"
      ]
     },
     "execution_count": 110,
     "metadata": {},
     "output_type": "execute_result"
    }
   ],
   "source": [
    "adata.var"
   ]
  },
  {
   "cell_type": "code",
   "execution_count": 109,
   "metadata": {},
   "outputs": [
    {
     "data": {
      "text/plain": [
       "1"
      ]
     },
     "execution_count": 109,
     "metadata": {},
     "output_type": "execute_result"
    }
   ],
   "source": [
    "adata.var.value_counts().max()"
   ]
  },
  {
   "cell_type": "code",
   "execution_count": 111,
   "metadata": {},
   "outputs": [
    {
     "data": {
      "text/plain": [
       "array(['MS', 'Ab-mediated IDD', 'Normal', 'YYW', 'PTC', 'PST'],\n",
       "      dtype=object)"
      ]
     },
     "execution_count": 111,
     "metadata": {},
     "output_type": "execute_result"
    }
   ],
   "source": [
    "adata.obs['disease'].unique()"
   ]
  },
  {
   "cell_type": "code",
   "execution_count": 112,
   "metadata": {},
   "outputs": [],
   "source": [
    "adata.obs['MS/HC'] = adata.obs['disease'].apply(lambda x: 'MS' if x=='MS' else 'HC')"
   ]
  },
  {
   "cell_type": "code",
   "execution_count": 113,
   "metadata": {},
   "outputs": [
    {
     "data": {
      "text/html": [
       "<div>\n",
       "<style scoped>\n",
       "    .dataframe tbody tr th:only-of-type {\n",
       "        vertical-align: middle;\n",
       "    }\n",
       "\n",
       "    .dataframe tbody tr th {\n",
       "        vertical-align: top;\n",
       "    }\n",
       "\n",
       "    .dataframe thead th {\n",
       "        text-align: right;\n",
       "    }\n",
       "</style>\n",
       "<table border=\"1\" class=\"dataframe\">\n",
       "  <thead>\n",
       "    <tr style=\"text-align: right;\">\n",
       "      <th></th>\n",
       "      <th>dataset</th>\n",
       "      <th>disease</th>\n",
       "      <th>cell_type</th>\n",
       "      <th>sample</th>\n",
       "      <th>patient_id</th>\n",
       "      <th>time</th>\n",
       "      <th>cell_types_labels</th>\n",
       "      <th>patient</th>\n",
       "      <th>MS/HC</th>\n",
       "    </tr>\n",
       "  </thead>\n",
       "  <tbody>\n",
       "    <tr>\n",
       "      <th>AAACCCAAGACTGTTC-1</th>\n",
       "      <td>GSE239626</td>\n",
       "      <td>MS</td>\n",
       "      <td>PBMC</td>\n",
       "      <td>GSM7669046</td>\n",
       "      <td>N1</td>\n",
       "      <td>J0</td>\n",
       "      <td>T cells</td>\n",
       "      <td>NaN</td>\n",
       "      <td>MS</td>\n",
       "    </tr>\n",
       "    <tr>\n",
       "      <th>AAACCCAAGGATCATA-1</th>\n",
       "      <td>GSE239626</td>\n",
       "      <td>MS</td>\n",
       "      <td>PBMC</td>\n",
       "      <td>GSM7669046</td>\n",
       "      <td>N1</td>\n",
       "      <td>J0</td>\n",
       "      <td>T cells</td>\n",
       "      <td>NaN</td>\n",
       "      <td>MS</td>\n",
       "    </tr>\n",
       "    <tr>\n",
       "      <th>AAACCCAGTTATTCTC-1</th>\n",
       "      <td>GSE239626</td>\n",
       "      <td>MS</td>\n",
       "      <td>PBMC</td>\n",
       "      <td>GSM7669046</td>\n",
       "      <td>N1</td>\n",
       "      <td>J0</td>\n",
       "      <td>B cells</td>\n",
       "      <td>NaN</td>\n",
       "      <td>MS</td>\n",
       "    </tr>\n",
       "    <tr>\n",
       "      <th>AAACCCATCATGAGGG-1</th>\n",
       "      <td>GSE239626</td>\n",
       "      <td>MS</td>\n",
       "      <td>PBMC</td>\n",
       "      <td>GSM7669046</td>\n",
       "      <td>N1</td>\n",
       "      <td>J0</td>\n",
       "      <td>T cells</td>\n",
       "      <td>NaN</td>\n",
       "      <td>MS</td>\n",
       "    </tr>\n",
       "    <tr>\n",
       "      <th>AAACGAAAGCCAGTAG-1</th>\n",
       "      <td>GSE239626</td>\n",
       "      <td>MS</td>\n",
       "      <td>PBMC</td>\n",
       "      <td>GSM7669046</td>\n",
       "      <td>N1</td>\n",
       "      <td>J0</td>\n",
       "      <td>B cells</td>\n",
       "      <td>NaN</td>\n",
       "      <td>MS</td>\n",
       "    </tr>\n",
       "    <tr>\n",
       "      <th>...</th>\n",
       "      <td>...</td>\n",
       "      <td>...</td>\n",
       "      <td>...</td>\n",
       "      <td>...</td>\n",
       "      <td>...</td>\n",
       "      <td>...</td>\n",
       "      <td>...</td>\n",
       "      <td>...</td>\n",
       "      <td>...</td>\n",
       "    </tr>\n",
       "    <tr>\n",
       "      <th>TTTGCGCGTGCAACGA-1-PTC85037-PBMC</th>\n",
       "      <td>GSE138266</td>\n",
       "      <td>PTC</td>\n",
       "      <td>PBMC</td>\n",
       "      <td>GSM4104143</td>\n",
       "      <td>NaN</td>\n",
       "      <td>NaN</td>\n",
       "      <td>T cells</td>\n",
       "      <td>PTC85037</td>\n",
       "      <td>HC</td>\n",
       "    </tr>\n",
       "    <tr>\n",
       "      <th>TTTGCGCTCCGTAGTA-1-PTC85037-PBMC</th>\n",
       "      <td>GSE138266</td>\n",
       "      <td>PTC</td>\n",
       "      <td>PBMC</td>\n",
       "      <td>GSM4104143</td>\n",
       "      <td>NaN</td>\n",
       "      <td>NaN</td>\n",
       "      <td>T cells</td>\n",
       "      <td>PTC85037</td>\n",
       "      <td>HC</td>\n",
       "    </tr>\n",
       "    <tr>\n",
       "      <th>TTTGGTTCACCACGTG-1-PTC85037-PBMC</th>\n",
       "      <td>GSE138266</td>\n",
       "      <td>PTC</td>\n",
       "      <td>PBMC</td>\n",
       "      <td>GSM4104143</td>\n",
       "      <td>NaN</td>\n",
       "      <td>NaN</td>\n",
       "      <td>ILC</td>\n",
       "      <td>PTC85037</td>\n",
       "      <td>HC</td>\n",
       "    </tr>\n",
       "    <tr>\n",
       "      <th>TTTGTCACACTGAAGG-1-PTC85037-PBMC</th>\n",
       "      <td>GSE138266</td>\n",
       "      <td>PTC</td>\n",
       "      <td>PBMC</td>\n",
       "      <td>GSM4104143</td>\n",
       "      <td>NaN</td>\n",
       "      <td>NaN</td>\n",
       "      <td>B cells</td>\n",
       "      <td>PTC85037</td>\n",
       "      <td>HC</td>\n",
       "    </tr>\n",
       "    <tr>\n",
       "      <th>TTTGTCATCAGTTAGC-1-PTC85037-PBMC</th>\n",
       "      <td>GSE138266</td>\n",
       "      <td>PTC</td>\n",
       "      <td>PBMC</td>\n",
       "      <td>GSM4104143</td>\n",
       "      <td>NaN</td>\n",
       "      <td>NaN</td>\n",
       "      <td>T cells</td>\n",
       "      <td>PTC85037</td>\n",
       "      <td>HC</td>\n",
       "    </tr>\n",
       "  </tbody>\n",
       "</table>\n",
       "<p>250920 rows × 9 columns</p>\n",
       "</div>"
      ],
      "text/plain": [
       "                                    dataset disease cell_type      sample  \\\n",
       "AAACCCAAGACTGTTC-1                GSE239626      MS      PBMC  GSM7669046   \n",
       "AAACCCAAGGATCATA-1                GSE239626      MS      PBMC  GSM7669046   \n",
       "AAACCCAGTTATTCTC-1                GSE239626      MS      PBMC  GSM7669046   \n",
       "AAACCCATCATGAGGG-1                GSE239626      MS      PBMC  GSM7669046   \n",
       "AAACGAAAGCCAGTAG-1                GSE239626      MS      PBMC  GSM7669046   \n",
       "...                                     ...     ...       ...         ...   \n",
       "TTTGCGCGTGCAACGA-1-PTC85037-PBMC  GSE138266     PTC      PBMC  GSM4104143   \n",
       "TTTGCGCTCCGTAGTA-1-PTC85037-PBMC  GSE138266     PTC      PBMC  GSM4104143   \n",
       "TTTGGTTCACCACGTG-1-PTC85037-PBMC  GSE138266     PTC      PBMC  GSM4104143   \n",
       "TTTGTCACACTGAAGG-1-PTC85037-PBMC  GSE138266     PTC      PBMC  GSM4104143   \n",
       "TTTGTCATCAGTTAGC-1-PTC85037-PBMC  GSE138266     PTC      PBMC  GSM4104143   \n",
       "\n",
       "                                 patient_id time cell_types_labels   patient  \\\n",
       "AAACCCAAGACTGTTC-1                       N1   J0           T cells       NaN   \n",
       "AAACCCAAGGATCATA-1                       N1   J0           T cells       NaN   \n",
       "AAACCCAGTTATTCTC-1                       N1   J0           B cells       NaN   \n",
       "AAACCCATCATGAGGG-1                       N1   J0           T cells       NaN   \n",
       "AAACGAAAGCCAGTAG-1                       N1   J0           B cells       NaN   \n",
       "...                                     ...  ...               ...       ...   \n",
       "TTTGCGCGTGCAACGA-1-PTC85037-PBMC        NaN  NaN           T cells  PTC85037   \n",
       "TTTGCGCTCCGTAGTA-1-PTC85037-PBMC        NaN  NaN           T cells  PTC85037   \n",
       "TTTGGTTCACCACGTG-1-PTC85037-PBMC        NaN  NaN               ILC  PTC85037   \n",
       "TTTGTCACACTGAAGG-1-PTC85037-PBMC        NaN  NaN           B cells  PTC85037   \n",
       "TTTGTCATCAGTTAGC-1-PTC85037-PBMC        NaN  NaN           T cells  PTC85037   \n",
       "\n",
       "                                 MS/HC  \n",
       "AAACCCAAGACTGTTC-1                  MS  \n",
       "AAACCCAAGGATCATA-1                  MS  \n",
       "AAACCCAGTTATTCTC-1                  MS  \n",
       "AAACCCATCATGAGGG-1                  MS  \n",
       "AAACGAAAGCCAGTAG-1                  MS  \n",
       "...                                ...  \n",
       "TTTGCGCGTGCAACGA-1-PTC85037-PBMC    HC  \n",
       "TTTGCGCTCCGTAGTA-1-PTC85037-PBMC    HC  \n",
       "TTTGGTTCACCACGTG-1-PTC85037-PBMC    HC  \n",
       "TTTGTCACACTGAAGG-1-PTC85037-PBMC    HC  \n",
       "TTTGTCATCAGTTAGC-1-PTC85037-PBMC    HC  \n",
       "\n",
       "[250920 rows x 9 columns]"
      ]
     },
     "execution_count": 113,
     "metadata": {},
     "output_type": "execute_result"
    }
   ],
   "source": [
    "adata.obs"
   ]
  },
  {
   "cell_type": "markdown",
   "metadata": {},
   "source": [
    "### Save new dataset"
   ]
  },
  {
   "cell_type": "code",
   "execution_count": 114,
   "metadata": {},
   "outputs": [],
   "source": [
    "adata.write('write/transcrittomic.h5ad')"
   ]
  }
 ],
 "metadata": {
  "kernelspec": {
   "display_name": "base",
   "language": "python",
   "name": "python3"
  },
  "language_info": {
   "codemirror_mode": {
    "name": "ipython",
    "version": 3
   },
   "file_extension": ".py",
   "mimetype": "text/x-python",
   "name": "python",
   "nbconvert_exporter": "python",
   "pygments_lexer": "ipython3",
   "version": "3.10.9"
  }
 },
 "nbformat": 4,
 "nbformat_minor": 2
}

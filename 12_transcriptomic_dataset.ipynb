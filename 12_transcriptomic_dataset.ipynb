{
 "cells": [
  {
   "cell_type": "code",
   "execution_count": 1,
   "metadata": {},
   "outputs": [
    {
     "name": "stderr",
     "output_type": "stream",
     "text": [
      "c:\\Users\\giuli\\anaconda3\\lib\\site-packages\\pandas\\core\\arrays\\masked.py:60: UserWarning: Pandas requires version '1.3.6' or newer of 'bottleneck' (version '1.3.5' currently installed).\n",
      "  from pandas.core import (\n"
     ]
    }
   ],
   "source": [
    "import scanpy as sc\n",
    "import pandas as pd\n",
    "import numpy as np\n",
    "\n",
    "GSE239626_PATH = 'GSE239626'\n",
    "GSE138266_PATH = 'GSE138266'\n",
    "GSE194078_PATH = 'GSE194078'\n",
    "\n",
    "GSE239626_LABELS_PATH = 'results/celltypist_labels_from_protein_Immune_All_High.csv'\n",
    "GSE138266_LABELS_PATH = 'results/celltypist_labels_from_transcriptomic_GSE138266.csv'\n",
    "GSE194078_LABELS_PATH = 'results/celltypist_labels_from_transcriptomic_GSE194078.csv'"
   ]
  },
  {
   "cell_type": "markdown",
   "metadata": {},
   "source": [
    "### GSE239626"
   ]
  },
  {
   "cell_type": "code",
   "execution_count": 2,
   "metadata": {},
   "outputs": [
    {
     "data": {
      "text/plain": [
       "AnnData object with n_obs × n_vars = 72317 × 36601\n",
       "    obs: 'dataset', 'disease', 'cell_type', 'patiens', 'patiens_id', 'time', 'cell_types_labels'\n",
       "    var: 'gene_ids', 'feature_types'"
      ]
     },
     "execution_count": 2,
     "metadata": {},
     "output_type": "execute_result"
    }
   ],
   "source": [
    "adata_GSE239626 = sc.read(GSE239626_PATH)\n",
    "\n",
    "GSE239626_labels = pd.read_csv(GSE239626_LABELS_PATH)\n",
    "adata_GSE239626.obs['cell_types_labels'] = GSE239626_labels['predicted_labels'].values\n",
    "\n",
    "adata_GSE239626"
   ]
  },
  {
   "cell_type": "code",
   "execution_count": 59,
   "metadata": {},
   "outputs": [],
   "source": [
    "# rename columns 'patiens' to 'patient' and 'patiens_id' to 'patient_id'\n",
    "adata_GSE239626.obs.rename(columns={'patiens': 'sample', 'patiens_id': 'patient_id'}, inplace=True)"
   ]
  },
  {
   "cell_type": "code",
   "execution_count": 60,
   "metadata": {},
   "outputs": [
    {
     "data": {
      "text/html": [
       "<div>\n",
       "<style scoped>\n",
       "    .dataframe tbody tr th:only-of-type {\n",
       "        vertical-align: middle;\n",
       "    }\n",
       "\n",
       "    .dataframe tbody tr th {\n",
       "        vertical-align: top;\n",
       "    }\n",
       "\n",
       "    .dataframe thead th {\n",
       "        text-align: right;\n",
       "    }\n",
       "</style>\n",
       "<table border=\"1\" class=\"dataframe\">\n",
       "  <thead>\n",
       "    <tr style=\"text-align: right;\">\n",
       "      <th></th>\n",
       "      <th>dataset</th>\n",
       "      <th>disease</th>\n",
       "      <th>cell_type</th>\n",
       "      <th>sample</th>\n",
       "      <th>patient_id</th>\n",
       "      <th>time</th>\n",
       "      <th>cell_types_labels</th>\n",
       "    </tr>\n",
       "  </thead>\n",
       "  <tbody>\n",
       "    <tr>\n",
       "      <th>AAACCCAAGACTGTTC-1</th>\n",
       "      <td>GSE239626</td>\n",
       "      <td>MS</td>\n",
       "      <td>PBMC</td>\n",
       "      <td>GSM7669046</td>\n",
       "      <td>N1</td>\n",
       "      <td>J0</td>\n",
       "      <td>T cells</td>\n",
       "    </tr>\n",
       "    <tr>\n",
       "      <th>AAACCCAAGGATCATA-1</th>\n",
       "      <td>GSE239626</td>\n",
       "      <td>MS</td>\n",
       "      <td>PBMC</td>\n",
       "      <td>GSM7669046</td>\n",
       "      <td>N1</td>\n",
       "      <td>J0</td>\n",
       "      <td>T cells</td>\n",
       "    </tr>\n",
       "    <tr>\n",
       "      <th>AAACCCAGTTATTCTC-1</th>\n",
       "      <td>GSE239626</td>\n",
       "      <td>MS</td>\n",
       "      <td>PBMC</td>\n",
       "      <td>GSM7669046</td>\n",
       "      <td>N1</td>\n",
       "      <td>J0</td>\n",
       "      <td>B cells</td>\n",
       "    </tr>\n",
       "    <tr>\n",
       "      <th>AAACCCATCATGAGGG-1</th>\n",
       "      <td>GSE239626</td>\n",
       "      <td>MS</td>\n",
       "      <td>PBMC</td>\n",
       "      <td>GSM7669046</td>\n",
       "      <td>N1</td>\n",
       "      <td>J0</td>\n",
       "      <td>T cells</td>\n",
       "    </tr>\n",
       "    <tr>\n",
       "      <th>AAACGAAAGCCAGTAG-1</th>\n",
       "      <td>GSE239626</td>\n",
       "      <td>MS</td>\n",
       "      <td>PBMC</td>\n",
       "      <td>GSM7669046</td>\n",
       "      <td>N1</td>\n",
       "      <td>J0</td>\n",
       "      <td>B cells</td>\n",
       "    </tr>\n",
       "    <tr>\n",
       "      <th>...</th>\n",
       "      <td>...</td>\n",
       "      <td>...</td>\n",
       "      <td>...</td>\n",
       "      <td>...</td>\n",
       "      <td>...</td>\n",
       "      <td>...</td>\n",
       "      <td>...</td>\n",
       "    </tr>\n",
       "    <tr>\n",
       "      <th>TTTGTTGAGCGTCGAA-20</th>\n",
       "      <td>GSE239626</td>\n",
       "      <td>MS</td>\n",
       "      <td>PBMC</td>\n",
       "      <td>GSM7669084</td>\n",
       "      <td>N5</td>\n",
       "      <td>M3</td>\n",
       "      <td>T cells</td>\n",
       "    </tr>\n",
       "    <tr>\n",
       "      <th>TTTGTTGAGTGTACCT-20</th>\n",
       "      <td>GSE239626</td>\n",
       "      <td>MS</td>\n",
       "      <td>PBMC</td>\n",
       "      <td>GSM7669084</td>\n",
       "      <td>N5</td>\n",
       "      <td>M3</td>\n",
       "      <td>T cells</td>\n",
       "    </tr>\n",
       "    <tr>\n",
       "      <th>TTTGTTGCAATTGCAC-20</th>\n",
       "      <td>GSE239626</td>\n",
       "      <td>MS</td>\n",
       "      <td>PBMC</td>\n",
       "      <td>GSM7669084</td>\n",
       "      <td>N5</td>\n",
       "      <td>M3</td>\n",
       "      <td>T cells</td>\n",
       "    </tr>\n",
       "    <tr>\n",
       "      <th>TTTGTTGCATTCAGCA-20</th>\n",
       "      <td>GSE239626</td>\n",
       "      <td>MS</td>\n",
       "      <td>PBMC</td>\n",
       "      <td>GSM7669084</td>\n",
       "      <td>N5</td>\n",
       "      <td>M3</td>\n",
       "      <td>T cells</td>\n",
       "    </tr>\n",
       "    <tr>\n",
       "      <th>TTTGTTGGTGGGTTGA-20</th>\n",
       "      <td>GSE239626</td>\n",
       "      <td>MS</td>\n",
       "      <td>PBMC</td>\n",
       "      <td>GSM7669084</td>\n",
       "      <td>N5</td>\n",
       "      <td>M3</td>\n",
       "      <td>ILC</td>\n",
       "    </tr>\n",
       "  </tbody>\n",
       "</table>\n",
       "<p>72317 rows × 7 columns</p>\n",
       "</div>"
      ],
      "text/plain": [
       "                       dataset disease cell_type      sample patient_id time  \\\n",
       "AAACCCAAGACTGTTC-1   GSE239626      MS      PBMC  GSM7669046         N1   J0   \n",
       "AAACCCAAGGATCATA-1   GSE239626      MS      PBMC  GSM7669046         N1   J0   \n",
       "AAACCCAGTTATTCTC-1   GSE239626      MS      PBMC  GSM7669046         N1   J0   \n",
       "AAACCCATCATGAGGG-1   GSE239626      MS      PBMC  GSM7669046         N1   J0   \n",
       "AAACGAAAGCCAGTAG-1   GSE239626      MS      PBMC  GSM7669046         N1   J0   \n",
       "...                        ...     ...       ...         ...        ...  ...   \n",
       "TTTGTTGAGCGTCGAA-20  GSE239626      MS      PBMC  GSM7669084         N5   M3   \n",
       "TTTGTTGAGTGTACCT-20  GSE239626      MS      PBMC  GSM7669084         N5   M3   \n",
       "TTTGTTGCAATTGCAC-20  GSE239626      MS      PBMC  GSM7669084         N5   M3   \n",
       "TTTGTTGCATTCAGCA-20  GSE239626      MS      PBMC  GSM7669084         N5   M3   \n",
       "TTTGTTGGTGGGTTGA-20  GSE239626      MS      PBMC  GSM7669084         N5   M3   \n",
       "\n",
       "                    cell_types_labels  \n",
       "AAACCCAAGACTGTTC-1            T cells  \n",
       "AAACCCAAGGATCATA-1            T cells  \n",
       "AAACCCAGTTATTCTC-1            B cells  \n",
       "AAACCCATCATGAGGG-1            T cells  \n",
       "AAACGAAAGCCAGTAG-1            B cells  \n",
       "...                               ...  \n",
       "TTTGTTGAGCGTCGAA-20           T cells  \n",
       "TTTGTTGAGTGTACCT-20           T cells  \n",
       "TTTGTTGCAATTGCAC-20           T cells  \n",
       "TTTGTTGCATTCAGCA-20           T cells  \n",
       "TTTGTTGGTGGGTTGA-20               ILC  \n",
       "\n",
       "[72317 rows x 7 columns]"
      ]
     },
     "execution_count": 60,
     "metadata": {},
     "output_type": "execute_result"
    }
   ],
   "source": [
    "adata_GSE239626.obs"
   ]
  },
  {
   "cell_type": "markdown",
   "metadata": {},
   "source": [
    "### GSE138266"
   ]
  },
  {
   "cell_type": "code",
   "execution_count": 4,
   "metadata": {},
   "outputs": [
    {
     "data": {
      "text/plain": [
       "View of AnnData object with n_obs × n_vars = 68038 × 33694\n",
       "    obs: 'sample', 'patient', 'dataset', 'disease', 'cell_type', 'batch'\n",
       "    var: 'gene_symbols', 'gene_ids'"
      ]
     },
     "execution_count": 4,
     "metadata": {},
     "output_type": "execute_result"
    }
   ],
   "source": [
    "adata_GSE138266 = sc.read(GSE138266_PATH)\n",
    "adata_GSE138266 = adata_GSE138266[(adata_GSE138266.obs['cell_type']!='CSF')|(adata_GSE138266.obs['disease']!='PST')]\n",
    "adata_GSE138266"
   ]
  },
  {
   "cell_type": "code",
   "execution_count": 7,
   "metadata": {},
   "outputs": [
    {
     "data": {
      "text/html": [
       "<div>\n",
       "<style scoped>\n",
       "    .dataframe tbody tr th:only-of-type {\n",
       "        vertical-align: middle;\n",
       "    }\n",
       "\n",
       "    .dataframe tbody tr th {\n",
       "        vertical-align: top;\n",
       "    }\n",
       "\n",
       "    .dataframe thead th {\n",
       "        text-align: right;\n",
       "    }\n",
       "</style>\n",
       "<table border=\"1\" class=\"dataframe\">\n",
       "  <thead>\n",
       "    <tr style=\"text-align: right;\">\n",
       "      <th></th>\n",
       "      <th>sample</th>\n",
       "      <th>patient</th>\n",
       "      <th>dataset</th>\n",
       "      <th>disease</th>\n",
       "      <th>cell_type</th>\n",
       "      <th>batch</th>\n",
       "    </tr>\n",
       "  </thead>\n",
       "  <tbody>\n",
       "    <tr>\n",
       "      <th>AAACCTGAGTGGGCTA-1-MS19270-CSF</th>\n",
       "      <td>GSM4104122</td>\n",
       "      <td>MS19270</td>\n",
       "      <td>GSE138266</td>\n",
       "      <td>MS</td>\n",
       "      <td>CSF</td>\n",
       "      <td>0</td>\n",
       "    </tr>\n",
       "    <tr>\n",
       "      <th>AAACCTGAGTGTTAGA-1-MS19270-CSF</th>\n",
       "      <td>GSM4104122</td>\n",
       "      <td>MS19270</td>\n",
       "      <td>GSE138266</td>\n",
       "      <td>MS</td>\n",
       "      <td>CSF</td>\n",
       "      <td>0</td>\n",
       "    </tr>\n",
       "  </tbody>\n",
       "</table>\n",
       "</div>"
      ],
      "text/plain": [
       "                                    sample  patient    dataset disease  \\\n",
       "AAACCTGAGTGGGCTA-1-MS19270-CSF  GSM4104122  MS19270  GSE138266      MS   \n",
       "AAACCTGAGTGTTAGA-1-MS19270-CSF  GSM4104122  MS19270  GSE138266      MS   \n",
       "\n",
       "                               cell_type batch  \n",
       "AAACCTGAGTGGGCTA-1-MS19270-CSF       CSF     0  \n",
       "AAACCTGAGTGTTAGA-1-MS19270-CSF       CSF     0  "
      ]
     },
     "execution_count": 7,
     "metadata": {},
     "output_type": "execute_result"
    }
   ],
   "source": [
    "adata_GSE138266.obs.head(2)"
   ]
  },
  {
   "cell_type": "code",
   "execution_count": 9,
   "metadata": {},
   "outputs": [
    {
     "data": {
      "text/html": [
       "<div>\n",
       "<style scoped>\n",
       "    .dataframe tbody tr th:only-of-type {\n",
       "        vertical-align: middle;\n",
       "    }\n",
       "\n",
       "    .dataframe tbody tr th {\n",
       "        vertical-align: top;\n",
       "    }\n",
       "\n",
       "    .dataframe thead th {\n",
       "        text-align: right;\n",
       "    }\n",
       "</style>\n",
       "<table border=\"1\" class=\"dataframe\">\n",
       "  <thead>\n",
       "    <tr style=\"text-align: right;\">\n",
       "      <th></th>\n",
       "      <th>cell_types_labels</th>\n",
       "    </tr>\n",
       "  </thead>\n",
       "  <tbody>\n",
       "    <tr>\n",
       "      <th>AAACCTGAGTGGGCTA-1-MS19270-CSF-1-0-0-0-0</th>\n",
       "      <td>T cells</td>\n",
       "    </tr>\n",
       "    <tr>\n",
       "      <th>AAACCTGAGTGTTAGA-1-MS19270-CSF-1-0-0-0-0</th>\n",
       "      <td>T cells</td>\n",
       "    </tr>\n",
       "  </tbody>\n",
       "</table>\n",
       "</div>"
      ],
      "text/plain": [
       "                                         cell_types_labels\n",
       "AAACCTGAGTGGGCTA-1-MS19270-CSF-1-0-0-0-0           T cells\n",
       "AAACCTGAGTGTTAGA-1-MS19270-CSF-1-0-0-0-0           T cells"
      ]
     },
     "execution_count": 9,
     "metadata": {},
     "output_type": "execute_result"
    }
   ],
   "source": [
    "GSE138266_labels = pd.read_csv(GSE138266_LABELS_PATH, index_col=0)\n",
    "GSE138266_labels.head(2)"
   ]
  },
  {
   "cell_type": "code",
   "execution_count": 11,
   "metadata": {},
   "outputs": [
    {
     "data": {
      "text/html": [
       "<div>\n",
       "<style scoped>\n",
       "    .dataframe tbody tr th:only-of-type {\n",
       "        vertical-align: middle;\n",
       "    }\n",
       "\n",
       "    .dataframe tbody tr th {\n",
       "        vertical-align: top;\n",
       "    }\n",
       "\n",
       "    .dataframe thead th {\n",
       "        text-align: right;\n",
       "    }\n",
       "</style>\n",
       "<table border=\"1\" class=\"dataframe\">\n",
       "  <thead>\n",
       "    <tr style=\"text-align: right;\">\n",
       "      <th></th>\n",
       "      <th>cell_types_labels</th>\n",
       "    </tr>\n",
       "  </thead>\n",
       "  <tbody>\n",
       "    <tr>\n",
       "      <th>AAACCTGAGTGGGCTA-1-MS19270-CSF</th>\n",
       "      <td>T cells</td>\n",
       "    </tr>\n",
       "    <tr>\n",
       "      <th>AAACCTGAGTGTTAGA-1-MS19270-CSF</th>\n",
       "      <td>T cells</td>\n",
       "    </tr>\n",
       "  </tbody>\n",
       "</table>\n",
       "</div>"
      ],
      "text/plain": [
       "                               cell_types_labels\n",
       "AAACCTGAGTGGGCTA-1-MS19270-CSF           T cells\n",
       "AAACCTGAGTGTTAGA-1-MS19270-CSF           T cells"
      ]
     },
     "execution_count": 11,
     "metadata": {},
     "output_type": "execute_result"
    }
   ],
   "source": [
    "labels = []\n",
    "for label in GSE138266_labels.index:\n",
    "    # drop the last character of the label until it's not a letter\n",
    "    while not label[-1].isalpha():\n",
    "        label = label[:-1]\n",
    "    labels.append(label)\n",
    "GSE138266_labels.index = labels\n",
    "\n",
    "GSE138266_labels.head(2)"
   ]
  },
  {
   "cell_type": "code",
   "execution_count": 13,
   "metadata": {},
   "outputs": [],
   "source": [
    "for label in GSE138266_labels.index:\n",
    "    if label not in adata_GSE138266.obs.index:\n",
    "        print(label)"
   ]
  },
  {
   "cell_type": "code",
   "execution_count": 15,
   "metadata": {},
   "outputs": [],
   "source": [
    "for label in adata_GSE138266.obs.index:\n",
    "    if label not in GSE138266_labels.index:\n",
    "        print(label)"
   ]
  },
  {
   "cell_type": "code",
   "execution_count": 29,
   "metadata": {},
   "outputs": [],
   "source": [
    "def assigne_labels(row):\n",
    "    row['cell_types_labels'] = GSE138266_labels[GSE138266_labels.index==row.name]['cell_types_labels'].values[0]\n",
    "    return row\n",
    "\n",
    "adata_GSE138266.obs = adata_GSE138266.obs.apply(assigne_labels, axis=1)"
   ]
  },
  {
   "cell_type": "code",
   "execution_count": 53,
   "metadata": {},
   "outputs": [],
   "source": [
    "# drop columns batch\n",
    "adata_GSE138266.obs.drop(columns=['batch'], inplace=True)"
   ]
  },
  {
   "cell_type": "code",
   "execution_count": 54,
   "metadata": {},
   "outputs": [
    {
     "data": {
      "text/html": [
       "<div>\n",
       "<style scoped>\n",
       "    .dataframe tbody tr th:only-of-type {\n",
       "        vertical-align: middle;\n",
       "    }\n",
       "\n",
       "    .dataframe tbody tr th {\n",
       "        vertical-align: top;\n",
       "    }\n",
       "\n",
       "    .dataframe thead th {\n",
       "        text-align: right;\n",
       "    }\n",
       "</style>\n",
       "<table border=\"1\" class=\"dataframe\">\n",
       "  <thead>\n",
       "    <tr style=\"text-align: right;\">\n",
       "      <th></th>\n",
       "      <th>sample</th>\n",
       "      <th>patient</th>\n",
       "      <th>dataset</th>\n",
       "      <th>disease</th>\n",
       "      <th>cell_type</th>\n",
       "      <th>cell_types_labels</th>\n",
       "    </tr>\n",
       "  </thead>\n",
       "  <tbody>\n",
       "    <tr>\n",
       "      <th>AAACCTGAGTGGGCTA-1-MS19270-CSF</th>\n",
       "      <td>GSM4104122</td>\n",
       "      <td>MS19270</td>\n",
       "      <td>GSE138266</td>\n",
       "      <td>MS</td>\n",
       "      <td>CSF</td>\n",
       "      <td>T cells</td>\n",
       "    </tr>\n",
       "    <tr>\n",
       "      <th>AAACCTGAGTGTTAGA-1-MS19270-CSF</th>\n",
       "      <td>GSM4104122</td>\n",
       "      <td>MS19270</td>\n",
       "      <td>GSE138266</td>\n",
       "      <td>MS</td>\n",
       "      <td>CSF</td>\n",
       "      <td>T cells</td>\n",
       "    </tr>\n",
       "    <tr>\n",
       "      <th>AAACCTGGTCGCGTGT-1-MS19270-CSF</th>\n",
       "      <td>GSM4104122</td>\n",
       "      <td>MS19270</td>\n",
       "      <td>GSE138266</td>\n",
       "      <td>MS</td>\n",
       "      <td>CSF</td>\n",
       "      <td>Monocytes</td>\n",
       "    </tr>\n",
       "    <tr>\n",
       "      <th>AAACCTGGTCTCCACT-1-MS19270-CSF</th>\n",
       "      <td>GSM4104122</td>\n",
       "      <td>MS19270</td>\n",
       "      <td>GSE138266</td>\n",
       "      <td>MS</td>\n",
       "      <td>CSF</td>\n",
       "      <td>T cells</td>\n",
       "    </tr>\n",
       "    <tr>\n",
       "      <th>AAACCTGGTTTACTCT-1-MS19270-CSF</th>\n",
       "      <td>GSM4104122</td>\n",
       "      <td>MS19270</td>\n",
       "      <td>GSE138266</td>\n",
       "      <td>MS</td>\n",
       "      <td>CSF</td>\n",
       "      <td>T cells</td>\n",
       "    </tr>\n",
       "    <tr>\n",
       "      <th>...</th>\n",
       "      <td>...</td>\n",
       "      <td>...</td>\n",
       "      <td>...</td>\n",
       "      <td>...</td>\n",
       "      <td>...</td>\n",
       "      <td>...</td>\n",
       "    </tr>\n",
       "    <tr>\n",
       "      <th>TTTGCGCGTGCAACGA-1-PTC85037-PBMC</th>\n",
       "      <td>GSM4104143</td>\n",
       "      <td>PTC85037</td>\n",
       "      <td>GSE138266</td>\n",
       "      <td>PTC</td>\n",
       "      <td>PBMC</td>\n",
       "      <td>T cells</td>\n",
       "    </tr>\n",
       "    <tr>\n",
       "      <th>TTTGCGCTCCGTAGTA-1-PTC85037-PBMC</th>\n",
       "      <td>GSM4104143</td>\n",
       "      <td>PTC85037</td>\n",
       "      <td>GSE138266</td>\n",
       "      <td>PTC</td>\n",
       "      <td>PBMC</td>\n",
       "      <td>T cells</td>\n",
       "    </tr>\n",
       "    <tr>\n",
       "      <th>TTTGGTTCACCACGTG-1-PTC85037-PBMC</th>\n",
       "      <td>GSM4104143</td>\n",
       "      <td>PTC85037</td>\n",
       "      <td>GSE138266</td>\n",
       "      <td>PTC</td>\n",
       "      <td>PBMC</td>\n",
       "      <td>ILC</td>\n",
       "    </tr>\n",
       "    <tr>\n",
       "      <th>TTTGTCACACTGAAGG-1-PTC85037-PBMC</th>\n",
       "      <td>GSM4104143</td>\n",
       "      <td>PTC85037</td>\n",
       "      <td>GSE138266</td>\n",
       "      <td>PTC</td>\n",
       "      <td>PBMC</td>\n",
       "      <td>B cells</td>\n",
       "    </tr>\n",
       "    <tr>\n",
       "      <th>TTTGTCATCAGTTAGC-1-PTC85037-PBMC</th>\n",
       "      <td>GSM4104143</td>\n",
       "      <td>PTC85037</td>\n",
       "      <td>GSE138266</td>\n",
       "      <td>PTC</td>\n",
       "      <td>PBMC</td>\n",
       "      <td>T cells</td>\n",
       "    </tr>\n",
       "  </tbody>\n",
       "</table>\n",
       "<p>68038 rows × 6 columns</p>\n",
       "</div>"
      ],
      "text/plain": [
       "                                      sample   patient    dataset disease  \\\n",
       "AAACCTGAGTGGGCTA-1-MS19270-CSF    GSM4104122   MS19270  GSE138266      MS   \n",
       "AAACCTGAGTGTTAGA-1-MS19270-CSF    GSM4104122   MS19270  GSE138266      MS   \n",
       "AAACCTGGTCGCGTGT-1-MS19270-CSF    GSM4104122   MS19270  GSE138266      MS   \n",
       "AAACCTGGTCTCCACT-1-MS19270-CSF    GSM4104122   MS19270  GSE138266      MS   \n",
       "AAACCTGGTTTACTCT-1-MS19270-CSF    GSM4104122   MS19270  GSE138266      MS   \n",
       "...                                      ...       ...        ...     ...   \n",
       "TTTGCGCGTGCAACGA-1-PTC85037-PBMC  GSM4104143  PTC85037  GSE138266     PTC   \n",
       "TTTGCGCTCCGTAGTA-1-PTC85037-PBMC  GSM4104143  PTC85037  GSE138266     PTC   \n",
       "TTTGGTTCACCACGTG-1-PTC85037-PBMC  GSM4104143  PTC85037  GSE138266     PTC   \n",
       "TTTGTCACACTGAAGG-1-PTC85037-PBMC  GSM4104143  PTC85037  GSE138266     PTC   \n",
       "TTTGTCATCAGTTAGC-1-PTC85037-PBMC  GSM4104143  PTC85037  GSE138266     PTC   \n",
       "\n",
       "                                 cell_type cell_types_labels  \n",
       "AAACCTGAGTGGGCTA-1-MS19270-CSF         CSF           T cells  \n",
       "AAACCTGAGTGTTAGA-1-MS19270-CSF         CSF           T cells  \n",
       "AAACCTGGTCGCGTGT-1-MS19270-CSF         CSF         Monocytes  \n",
       "AAACCTGGTCTCCACT-1-MS19270-CSF         CSF           T cells  \n",
       "AAACCTGGTTTACTCT-1-MS19270-CSF         CSF           T cells  \n",
       "...                                    ...               ...  \n",
       "TTTGCGCGTGCAACGA-1-PTC85037-PBMC      PBMC           T cells  \n",
       "TTTGCGCTCCGTAGTA-1-PTC85037-PBMC      PBMC           T cells  \n",
       "TTTGGTTCACCACGTG-1-PTC85037-PBMC      PBMC               ILC  \n",
       "TTTGTCACACTGAAGG-1-PTC85037-PBMC      PBMC           B cells  \n",
       "TTTGTCATCAGTTAGC-1-PTC85037-PBMC      PBMC           T cells  \n",
       "\n",
       "[68038 rows x 6 columns]"
      ]
     },
     "execution_count": 54,
     "metadata": {},
     "output_type": "execute_result"
    }
   ],
   "source": [
    "adata_GSE138266.obs"
   ]
  },
  {
   "cell_type": "code",
   "execution_count": 31,
   "metadata": {},
   "outputs": [
    {
     "data": {
      "text/plain": [
       "AnnData object with n_obs × n_vars = 68038 × 33694\n",
       "    obs: 'sample', 'patient', 'dataset', 'disease', 'cell_type', 'batch', 'cell_types_labels'\n",
       "    var: 'gene_symbols', 'gene_ids'"
      ]
     },
     "execution_count": 31,
     "metadata": {},
     "output_type": "execute_result"
    }
   ],
   "source": [
    "adata_GSE138266"
   ]
  },
  {
   "cell_type": "markdown",
   "metadata": {},
   "source": [
    "### GSE194078"
   ]
  },
  {
   "cell_type": "code",
   "execution_count": 36,
   "metadata": {},
   "outputs": [
    {
     "data": {
      "text/plain": [
       "AnnData object with n_obs × n_vars = 110565 × 36601\n",
       "    obs: 'patient', 'patient_id', 'disease', 'batch', 'dataset', 'cell_types'\n",
       "    var: 'gene_ids', 'feature_types'"
      ]
     },
     "execution_count": 36,
     "metadata": {},
     "output_type": "execute_result"
    }
   ],
   "source": [
    "adata_GSE194078 = sc.read(GSE194078_PATH)\n",
    "\n",
    "adata_GSE194078"
   ]
  },
  {
   "cell_type": "code",
   "execution_count": 41,
   "metadata": {},
   "outputs": [
    {
     "data": {
      "text/html": [
       "<div>\n",
       "<style scoped>\n",
       "    .dataframe tbody tr th:only-of-type {\n",
       "        vertical-align: middle;\n",
       "    }\n",
       "\n",
       "    .dataframe tbody tr th {\n",
       "        vertical-align: top;\n",
       "    }\n",
       "\n",
       "    .dataframe thead th {\n",
       "        text-align: right;\n",
       "    }\n",
       "</style>\n",
       "<table border=\"1\" class=\"dataframe\">\n",
       "  <thead>\n",
       "    <tr style=\"text-align: right;\">\n",
       "      <th></th>\n",
       "      <th>patient</th>\n",
       "      <th>patient_id</th>\n",
       "      <th>disease</th>\n",
       "      <th>batch</th>\n",
       "      <th>dataset</th>\n",
       "      <th>cell_types</th>\n",
       "    </tr>\n",
       "  </thead>\n",
       "  <tbody>\n",
       "    <tr>\n",
       "      <th>AAACCCACAAGACCGA-1-PBMC</th>\n",
       "      <td>GSM5827375</td>\n",
       "      <td>CYG</td>\n",
       "      <td>Ab-mediated IDD</td>\n",
       "      <td>0</td>\n",
       "      <td>GSE194078</td>\n",
       "      <td>PBMC</td>\n",
       "    </tr>\n",
       "    <tr>\n",
       "      <th>AAACCCACACGGCACT-1-PBMC</th>\n",
       "      <td>GSM5827375</td>\n",
       "      <td>CYG</td>\n",
       "      <td>Ab-mediated IDD</td>\n",
       "      <td>0</td>\n",
       "      <td>GSE194078</td>\n",
       "      <td>PBMC</td>\n",
       "    </tr>\n",
       "  </tbody>\n",
       "</table>\n",
       "</div>"
      ],
      "text/plain": [
       "                            patient patient_id          disease batch  \\\n",
       "AAACCCACAAGACCGA-1-PBMC  GSM5827375        CYG  Ab-mediated IDD     0   \n",
       "AAACCCACACGGCACT-1-PBMC  GSM5827375        CYG  Ab-mediated IDD     0   \n",
       "\n",
       "                           dataset cell_types  \n",
       "AAACCCACAAGACCGA-1-PBMC  GSE194078       PBMC  \n",
       "AAACCCACACGGCACT-1-PBMC  GSE194078       PBMC  "
      ]
     },
     "execution_count": 41,
     "metadata": {},
     "output_type": "execute_result"
    }
   ],
   "source": [
    "adata_GSE194078.obs.head(2)"
   ]
  },
  {
   "cell_type": "code",
   "execution_count": 42,
   "metadata": {},
   "outputs": [
    {
     "data": {
      "text/html": [
       "<div>\n",
       "<style scoped>\n",
       "    .dataframe tbody tr th:only-of-type {\n",
       "        vertical-align: middle;\n",
       "    }\n",
       "\n",
       "    .dataframe tbody tr th {\n",
       "        vertical-align: top;\n",
       "    }\n",
       "\n",
       "    .dataframe thead th {\n",
       "        text-align: right;\n",
       "    }\n",
       "</style>\n",
       "<table border=\"1\" class=\"dataframe\">\n",
       "  <thead>\n",
       "    <tr style=\"text-align: right;\">\n",
       "      <th></th>\n",
       "      <th>cell_types_labels</th>\n",
       "    </tr>\n",
       "  </thead>\n",
       "  <tbody>\n",
       "    <tr>\n",
       "      <th>AAACCCACAAGACCGA-1-PBMC-GSE194078</th>\n",
       "      <td>B cells</td>\n",
       "    </tr>\n",
       "    <tr>\n",
       "      <th>AAACCCACACGGCACT-1-PBMC-GSE194078</th>\n",
       "      <td>T cells</td>\n",
       "    </tr>\n",
       "  </tbody>\n",
       "</table>\n",
       "</div>"
      ],
      "text/plain": [
       "                                  cell_types_labels\n",
       "AAACCCACAAGACCGA-1-PBMC-GSE194078           B cells\n",
       "AAACCCACACGGCACT-1-PBMC-GSE194078           T cells"
      ]
     },
     "execution_count": 42,
     "metadata": {},
     "output_type": "execute_result"
    }
   ],
   "source": [
    "GSE194078_labels = pd.read_csv(GSE194078_LABELS_PATH, index_col=0)\n",
    "GSE194078_labels.head(2)"
   ]
  },
  {
   "cell_type": "code",
   "execution_count": 44,
   "metadata": {},
   "outputs": [],
   "source": [
    "def assigne_labels_GSE194078(row):\n",
    "    cell_name = row.name + '-GSE194078'\n",
    "    row['cell_types_labels'] = GSE194078_labels[GSE194078_labels.index==cell_name]['cell_types_labels'].values[0]\n",
    "    return row\n",
    "\n",
    "adata_GSE194078.obs = adata_GSE194078.obs.apply(assigne_labels_GSE194078, axis=1)"
   ]
  },
  {
   "cell_type": "code",
   "execution_count": null,
   "metadata": {},
   "outputs": [],
   "source": [
    "# rename columns 'patiens' to 'sample' and 'patiens_id' to 'patient_id'\n",
    "adata_GSE194078.obs.rename(columns={'patiens': 'sample', 'patiens_id': 'patient_id', 'cell_types': 'cell_type'}, inplace=True)\n",
    "\n",
    "# drop columns batch\n",
    "adata_GSE194078.obs.drop(columns=['batch'], inplace=True)"
   ]
  },
  {
   "cell_type": "code",
   "execution_count": 69,
   "metadata": {},
   "outputs": [
    {
     "data": {
      "text/html": [
       "<div>\n",
       "<style scoped>\n",
       "    .dataframe tbody tr th:only-of-type {\n",
       "        vertical-align: middle;\n",
       "    }\n",
       "\n",
       "    .dataframe tbody tr th {\n",
       "        vertical-align: top;\n",
       "    }\n",
       "\n",
       "    .dataframe thead th {\n",
       "        text-align: right;\n",
       "    }\n",
       "</style>\n",
       "<table border=\"1\" class=\"dataframe\">\n",
       "  <thead>\n",
       "    <tr style=\"text-align: right;\">\n",
       "      <th></th>\n",
       "      <th>patient</th>\n",
       "      <th>patient_id</th>\n",
       "      <th>disease</th>\n",
       "      <th>dataset</th>\n",
       "      <th>cell_type</th>\n",
       "      <th>cell_types_labels</th>\n",
       "    </tr>\n",
       "  </thead>\n",
       "  <tbody>\n",
       "    <tr>\n",
       "      <th>AAACCCACAAGACCGA-1-PBMC</th>\n",
       "      <td>GSM5827375</td>\n",
       "      <td>CYG</td>\n",
       "      <td>Ab-mediated IDD</td>\n",
       "      <td>GSE194078</td>\n",
       "      <td>PBMC</td>\n",
       "      <td>B cells</td>\n",
       "    </tr>\n",
       "    <tr>\n",
       "      <th>AAACCCACACGGCACT-1-PBMC</th>\n",
       "      <td>GSM5827375</td>\n",
       "      <td>CYG</td>\n",
       "      <td>Ab-mediated IDD</td>\n",
       "      <td>GSE194078</td>\n",
       "      <td>PBMC</td>\n",
       "      <td>T cells</td>\n",
       "    </tr>\n",
       "    <tr>\n",
       "      <th>AAACCCATCAGAATAG-1-PBMC</th>\n",
       "      <td>GSM5827375</td>\n",
       "      <td>CYG</td>\n",
       "      <td>Ab-mediated IDD</td>\n",
       "      <td>GSE194078</td>\n",
       "      <td>PBMC</td>\n",
       "      <td>T cells</td>\n",
       "    </tr>\n",
       "    <tr>\n",
       "      <th>AAACGAAAGGTAAAGG-1-PBMC</th>\n",
       "      <td>GSM5827375</td>\n",
       "      <td>CYG</td>\n",
       "      <td>Ab-mediated IDD</td>\n",
       "      <td>GSE194078</td>\n",
       "      <td>PBMC</td>\n",
       "      <td>T cells</td>\n",
       "    </tr>\n",
       "    <tr>\n",
       "      <th>AAACGAACACAGCCAC-1-PBMC</th>\n",
       "      <td>GSM5827375</td>\n",
       "      <td>CYG</td>\n",
       "      <td>Ab-mediated IDD</td>\n",
       "      <td>GSE194078</td>\n",
       "      <td>PBMC</td>\n",
       "      <td>T cells</td>\n",
       "    </tr>\n",
       "    <tr>\n",
       "      <th>...</th>\n",
       "      <td>...</td>\n",
       "      <td>...</td>\n",
       "      <td>...</td>\n",
       "      <td>...</td>\n",
       "      <td>...</td>\n",
       "      <td>...</td>\n",
       "    </tr>\n",
       "    <tr>\n",
       "      <th>TTTGGTTGTGTTCAGT-11-CSF</th>\n",
       "      <td>GSM5827385</td>\n",
       "      <td>YYW</td>\n",
       "      <td>MS</td>\n",
       "      <td>GSE194078</td>\n",
       "      <td>CSF</td>\n",
       "      <td>T cells</td>\n",
       "    </tr>\n",
       "    <tr>\n",
       "      <th>TTTGGTTTCAAGAAAC-11-CSF</th>\n",
       "      <td>GSM5827385</td>\n",
       "      <td>YYW</td>\n",
       "      <td>MS</td>\n",
       "      <td>GSE194078</td>\n",
       "      <td>CSF</td>\n",
       "      <td>T cells</td>\n",
       "    </tr>\n",
       "    <tr>\n",
       "      <th>TTTGTTGGTATACCCA-11-CSF</th>\n",
       "      <td>GSM5827385</td>\n",
       "      <td>YYW</td>\n",
       "      <td>MS</td>\n",
       "      <td>GSE194078</td>\n",
       "      <td>CSF</td>\n",
       "      <td>T cells</td>\n",
       "    </tr>\n",
       "    <tr>\n",
       "      <th>TTTGTTGGTTATGACC-11-CSF</th>\n",
       "      <td>GSM5827385</td>\n",
       "      <td>YYW</td>\n",
       "      <td>MS</td>\n",
       "      <td>GSE194078</td>\n",
       "      <td>CSF</td>\n",
       "      <td>ILC</td>\n",
       "    </tr>\n",
       "    <tr>\n",
       "      <th>TTTGTTGTCTCCTGTG-11-CSF</th>\n",
       "      <td>GSM5827385</td>\n",
       "      <td>YYW</td>\n",
       "      <td>MS</td>\n",
       "      <td>GSE194078</td>\n",
       "      <td>CSF</td>\n",
       "      <td>T cells</td>\n",
       "    </tr>\n",
       "  </tbody>\n",
       "</table>\n",
       "<p>110565 rows × 6 columns</p>\n",
       "</div>"
      ],
      "text/plain": [
       "                            patient patient_id          disease    dataset  \\\n",
       "AAACCCACAAGACCGA-1-PBMC  GSM5827375        CYG  Ab-mediated IDD  GSE194078   \n",
       "AAACCCACACGGCACT-1-PBMC  GSM5827375        CYG  Ab-mediated IDD  GSE194078   \n",
       "AAACCCATCAGAATAG-1-PBMC  GSM5827375        CYG  Ab-mediated IDD  GSE194078   \n",
       "AAACGAAAGGTAAAGG-1-PBMC  GSM5827375        CYG  Ab-mediated IDD  GSE194078   \n",
       "AAACGAACACAGCCAC-1-PBMC  GSM5827375        CYG  Ab-mediated IDD  GSE194078   \n",
       "...                             ...        ...              ...        ...   \n",
       "TTTGGTTGTGTTCAGT-11-CSF  GSM5827385        YYW               MS  GSE194078   \n",
       "TTTGGTTTCAAGAAAC-11-CSF  GSM5827385        YYW               MS  GSE194078   \n",
       "TTTGTTGGTATACCCA-11-CSF  GSM5827385        YYW               MS  GSE194078   \n",
       "TTTGTTGGTTATGACC-11-CSF  GSM5827385        YYW               MS  GSE194078   \n",
       "TTTGTTGTCTCCTGTG-11-CSF  GSM5827385        YYW               MS  GSE194078   \n",
       "\n",
       "                        cell_type cell_types_labels  \n",
       "AAACCCACAAGACCGA-1-PBMC      PBMC           B cells  \n",
       "AAACCCACACGGCACT-1-PBMC      PBMC           T cells  \n",
       "AAACCCATCAGAATAG-1-PBMC      PBMC           T cells  \n",
       "AAACGAAAGGTAAAGG-1-PBMC      PBMC           T cells  \n",
       "AAACGAACACAGCCAC-1-PBMC      PBMC           T cells  \n",
       "...                           ...               ...  \n",
       "TTTGGTTGTGTTCAGT-11-CSF       CSF           T cells  \n",
       "TTTGGTTTCAAGAAAC-11-CSF       CSF           T cells  \n",
       "TTTGTTGGTATACCCA-11-CSF       CSF           T cells  \n",
       "TTTGTTGGTTATGACC-11-CSF       CSF               ILC  \n",
       "TTTGTTGTCTCCTGTG-11-CSF       CSF           T cells  \n",
       "\n",
       "[110565 rows x 6 columns]"
      ]
     },
     "execution_count": 69,
     "metadata": {},
     "output_type": "execute_result"
    }
   ],
   "source": [
    "adata_GSE194078.obs"
   ]
  },
  {
   "cell_type": "code",
   "execution_count": 70,
   "metadata": {},
   "outputs": [
    {
     "data": {
      "text/plain": [
       "AnnData object with n_obs × n_vars = 110565 × 36601\n",
       "    obs: 'patient', 'patient_id', 'disease', 'dataset', 'cell_type', 'cell_types_labels'\n",
       "    var: 'gene_ids', 'feature_types'"
      ]
     },
     "execution_count": 70,
     "metadata": {},
     "output_type": "execute_result"
    }
   ],
   "source": [
    "adata_GSE194078"
   ]
  },
  {
   "cell_type": "markdown",
   "metadata": {},
   "source": [
    "### Concatenate"
   ]
  },
  {
   "cell_type": "code",
   "execution_count": 83,
   "metadata": {},
   "outputs": [
    {
     "data": {
      "text/html": [
       "<div>\n",
       "<style scoped>\n",
       "    .dataframe tbody tr th:only-of-type {\n",
       "        vertical-align: middle;\n",
       "    }\n",
       "\n",
       "    .dataframe tbody tr th {\n",
       "        vertical-align: top;\n",
       "    }\n",
       "\n",
       "    .dataframe thead th {\n",
       "        text-align: right;\n",
       "    }\n",
       "</style>\n",
       "<table border=\"1\" class=\"dataframe\">\n",
       "  <thead>\n",
       "    <tr style=\"text-align: right;\">\n",
       "      <th></th>\n",
       "      <th>gene_ids</th>\n",
       "      <th>feature_types</th>\n",
       "    </tr>\n",
       "  </thead>\n",
       "  <tbody>\n",
       "    <tr>\n",
       "      <th>MIR1302-2HG</th>\n",
       "      <td>ENSG00000243485</td>\n",
       "      <td>Gene Expression</td>\n",
       "    </tr>\n",
       "    <tr>\n",
       "      <th>FAM138A</th>\n",
       "      <td>ENSG00000237613</td>\n",
       "      <td>Gene Expression</td>\n",
       "    </tr>\n",
       "  </tbody>\n",
       "</table>\n",
       "</div>"
      ],
      "text/plain": [
       "                    gene_ids    feature_types\n",
       "MIR1302-2HG  ENSG00000243485  Gene Expression\n",
       "FAM138A      ENSG00000237613  Gene Expression"
      ]
     },
     "execution_count": 83,
     "metadata": {},
     "output_type": "execute_result"
    }
   ],
   "source": [
    "adata_GSE239626.var.head(2)"
   ]
  },
  {
   "cell_type": "code",
   "execution_count": 85,
   "metadata": {},
   "outputs": [
    {
     "data": {
      "text/html": [
       "<div>\n",
       "<style scoped>\n",
       "    .dataframe tbody tr th:only-of-type {\n",
       "        vertical-align: middle;\n",
       "    }\n",
       "\n",
       "    .dataframe tbody tr th {\n",
       "        vertical-align: top;\n",
       "    }\n",
       "\n",
       "    .dataframe thead th {\n",
       "        text-align: right;\n",
       "    }\n",
       "</style>\n",
       "<table border=\"1\" class=\"dataframe\">\n",
       "  <thead>\n",
       "    <tr style=\"text-align: right;\">\n",
       "      <th></th>\n",
       "      <th>gene_ids</th>\n",
       "      <th>feature_types</th>\n",
       "    </tr>\n",
       "  </thead>\n",
       "  <tbody>\n",
       "    <tr>\n",
       "      <th>MIR1302-2HG</th>\n",
       "      <td>ENSG00000243485</td>\n",
       "      <td>Gene Expression</td>\n",
       "    </tr>\n",
       "    <tr>\n",
       "      <th>FAM138A</th>\n",
       "      <td>ENSG00000237613</td>\n",
       "      <td>Gene Expression</td>\n",
       "    </tr>\n",
       "  </tbody>\n",
       "</table>\n",
       "</div>"
      ],
      "text/plain": [
       "                    gene_ids    feature_types\n",
       "MIR1302-2HG  ENSG00000243485  Gene Expression\n",
       "FAM138A      ENSG00000237613  Gene Expression"
      ]
     },
     "execution_count": 85,
     "metadata": {},
     "output_type": "execute_result"
    }
   ],
   "source": [
    "adata_GSE194078.var.head(2)"
   ]
  },
  {
   "cell_type": "code",
   "execution_count": 84,
   "metadata": {},
   "outputs": [
    {
     "data": {
      "text/html": [
       "<div>\n",
       "<style scoped>\n",
       "    .dataframe tbody tr th:only-of-type {\n",
       "        vertical-align: middle;\n",
       "    }\n",
       "\n",
       "    .dataframe tbody tr th {\n",
       "        vertical-align: top;\n",
       "    }\n",
       "\n",
       "    .dataframe thead th {\n",
       "        text-align: right;\n",
       "    }\n",
       "</style>\n",
       "<table border=\"1\" class=\"dataframe\">\n",
       "  <thead>\n",
       "    <tr style=\"text-align: right;\">\n",
       "      <th></th>\n",
       "      <th>gene_symbols</th>\n",
       "      <th>gene_ids</th>\n",
       "    </tr>\n",
       "  </thead>\n",
       "  <tbody>\n",
       "    <tr>\n",
       "      <th>0</th>\n",
       "      <td>ENSG00000243485</td>\n",
       "      <td>RP11-34P13.3</td>\n",
       "    </tr>\n",
       "    <tr>\n",
       "      <th>1</th>\n",
       "      <td>ENSG00000237613</td>\n",
       "      <td>FAM138A</td>\n",
       "    </tr>\n",
       "  </tbody>\n",
       "</table>\n",
       "</div>"
      ],
      "text/plain": [
       "      gene_symbols      gene_ids\n",
       "0  ENSG00000243485  RP11-34P13.3\n",
       "1  ENSG00000237613       FAM138A"
      ]
     },
     "execution_count": 84,
     "metadata": {},
     "output_type": "execute_result"
    }
   ],
   "source": [
    "adata_GSE138266.var.head(2)"
   ]
  },
  {
   "cell_type": "code",
   "execution_count": 89,
   "metadata": {},
   "outputs": [],
   "source": [
    "import anndata\n",
    "import scipy.sparse as sp\n"
   ]
  },
  {
   "cell_type": "code",
   "execution_count": 90,
   "metadata": {},
   "outputs": [],
   "source": [
    "new_genes_13 = adata_GSE239626.var['gene_ids'][~adata_GSE239626.var['gene_ids'\n",
    "    ].isin(adata_GSE138266.var['gene_symbols'])]\n",
    "\n",
    "a = sc.AnnData(sp.csr_matrix((adata_GSE138266.X.shape[0], len(new_genes_13))))\n",
    "\n",
    "a.var.index = new_genes_13\n",
    "a.obs.index = adata_GSE138266.obs.index\n",
    "a.obs.sample = adata_GSE138266.obs.sample"
   ]
  },
  {
   "cell_type": "code",
   "execution_count": 93,
   "metadata": {},
   "outputs": [
    {
     "data": {
      "text/plain": [
       "AnnData object with n_obs × n_vars = 68038 × 33694\n",
       "    obs: 'sample', 'patient', 'dataset', 'disease', 'cell_type', 'cell_types_labels'\n",
       "    var: 'gene_symbols', 'gene_ids'"
      ]
     },
     "execution_count": 93,
     "metadata": {},
     "output_type": "execute_result"
    }
   ],
   "source": [
    "adata_GSE138266"
   ]
  },
  {
   "cell_type": "code",
   "execution_count": 92,
   "metadata": {},
   "outputs": [
    {
     "data": {
      "text/html": [
       "<div>\n",
       "<style scoped>\n",
       "    .dataframe tbody tr th:only-of-type {\n",
       "        vertical-align: middle;\n",
       "    }\n",
       "\n",
       "    .dataframe tbody tr th {\n",
       "        vertical-align: top;\n",
       "    }\n",
       "\n",
       "    .dataframe thead th {\n",
       "        text-align: right;\n",
       "    }\n",
       "</style>\n",
       "<table border=\"1\" class=\"dataframe\">\n",
       "  <thead>\n",
       "    <tr style=\"text-align: right;\">\n",
       "      <th></th>\n",
       "      <th>gene_symbols</th>\n",
       "      <th>gene_ids</th>\n",
       "    </tr>\n",
       "  </thead>\n",
       "  <tbody>\n",
       "    <tr>\n",
       "      <th>0</th>\n",
       "      <td>ENSG00000243485</td>\n",
       "      <td>RP11-34P13.3</td>\n",
       "    </tr>\n",
       "    <tr>\n",
       "      <th>1</th>\n",
       "      <td>ENSG00000237613</td>\n",
       "      <td>FAM138A</td>\n",
       "    </tr>\n",
       "    <tr>\n",
       "      <th>2</th>\n",
       "      <td>ENSG00000186092</td>\n",
       "      <td>OR4F5</td>\n",
       "    </tr>\n",
       "    <tr>\n",
       "      <th>3</th>\n",
       "      <td>ENSG00000238009</td>\n",
       "      <td>RP11-34P13.7</td>\n",
       "    </tr>\n",
       "    <tr>\n",
       "      <th>4</th>\n",
       "      <td>ENSG00000239945</td>\n",
       "      <td>RP11-34P13.8</td>\n",
       "    </tr>\n",
       "  </tbody>\n",
       "</table>\n",
       "</div>"
      ],
      "text/plain": [
       "      gene_symbols      gene_ids\n",
       "0  ENSG00000243485  RP11-34P13.3\n",
       "1  ENSG00000237613       FAM138A\n",
       "2  ENSG00000186092         OR4F5\n",
       "3  ENSG00000238009  RP11-34P13.7\n",
       "4  ENSG00000239945  RP11-34P13.8"
      ]
     },
     "execution_count": 92,
     "metadata": {},
     "output_type": "execute_result"
    }
   ],
   "source": [
    "adata_GSE138266.var.head()"
   ]
  },
  {
   "cell_type": "code",
   "execution_count": 94,
   "metadata": {},
   "outputs": [
    {
     "data": {
      "text/html": [
       "<div>\n",
       "<style scoped>\n",
       "    .dataframe tbody tr th:only-of-type {\n",
       "        vertical-align: middle;\n",
       "    }\n",
       "\n",
       "    .dataframe tbody tr th {\n",
       "        vertical-align: top;\n",
       "    }\n",
       "\n",
       "    .dataframe thead th {\n",
       "        text-align: right;\n",
       "    }\n",
       "</style>\n",
       "<table border=\"1\" class=\"dataframe\">\n",
       "  <thead>\n",
       "    <tr style=\"text-align: right;\">\n",
       "      <th></th>\n",
       "      <th>sample</th>\n",
       "      <th>patient</th>\n",
       "      <th>dataset</th>\n",
       "      <th>disease</th>\n",
       "      <th>cell_type</th>\n",
       "      <th>cell_types_labels</th>\n",
       "    </tr>\n",
       "  </thead>\n",
       "  <tbody>\n",
       "    <tr>\n",
       "      <th>AAACCTGAGTGGGCTA-1-MS19270-CSF</th>\n",
       "      <td>GSM4104122</td>\n",
       "      <td>MS19270</td>\n",
       "      <td>GSE138266</td>\n",
       "      <td>MS</td>\n",
       "      <td>CSF</td>\n",
       "      <td>T cells</td>\n",
       "    </tr>\n",
       "    <tr>\n",
       "      <th>AAACCTGAGTGTTAGA-1-MS19270-CSF</th>\n",
       "      <td>GSM4104122</td>\n",
       "      <td>MS19270</td>\n",
       "      <td>GSE138266</td>\n",
       "      <td>MS</td>\n",
       "      <td>CSF</td>\n",
       "      <td>T cells</td>\n",
       "    </tr>\n",
       "    <tr>\n",
       "      <th>AAACCTGGTCGCGTGT-1-MS19270-CSF</th>\n",
       "      <td>GSM4104122</td>\n",
       "      <td>MS19270</td>\n",
       "      <td>GSE138266</td>\n",
       "      <td>MS</td>\n",
       "      <td>CSF</td>\n",
       "      <td>Monocytes</td>\n",
       "    </tr>\n",
       "    <tr>\n",
       "      <th>AAACCTGGTCTCCACT-1-MS19270-CSF</th>\n",
       "      <td>GSM4104122</td>\n",
       "      <td>MS19270</td>\n",
       "      <td>GSE138266</td>\n",
       "      <td>MS</td>\n",
       "      <td>CSF</td>\n",
       "      <td>T cells</td>\n",
       "    </tr>\n",
       "    <tr>\n",
       "      <th>AAACCTGGTTTACTCT-1-MS19270-CSF</th>\n",
       "      <td>GSM4104122</td>\n",
       "      <td>MS19270</td>\n",
       "      <td>GSE138266</td>\n",
       "      <td>MS</td>\n",
       "      <td>CSF</td>\n",
       "      <td>T cells</td>\n",
       "    </tr>\n",
       "  </tbody>\n",
       "</table>\n",
       "</div>"
      ],
      "text/plain": [
       "                                    sample  patient    dataset disease  \\\n",
       "AAACCTGAGTGGGCTA-1-MS19270-CSF  GSM4104122  MS19270  GSE138266      MS   \n",
       "AAACCTGAGTGTTAGA-1-MS19270-CSF  GSM4104122  MS19270  GSE138266      MS   \n",
       "AAACCTGGTCGCGTGT-1-MS19270-CSF  GSM4104122  MS19270  GSE138266      MS   \n",
       "AAACCTGGTCTCCACT-1-MS19270-CSF  GSM4104122  MS19270  GSE138266      MS   \n",
       "AAACCTGGTTTACTCT-1-MS19270-CSF  GSM4104122  MS19270  GSE138266      MS   \n",
       "\n",
       "                               cell_type cell_types_labels  \n",
       "AAACCTGAGTGGGCTA-1-MS19270-CSF       CSF           T cells  \n",
       "AAACCTGAGTGTTAGA-1-MS19270-CSF       CSF           T cells  \n",
       "AAACCTGGTCGCGTGT-1-MS19270-CSF       CSF         Monocytes  \n",
       "AAACCTGGTCTCCACT-1-MS19270-CSF       CSF           T cells  \n",
       "AAACCTGGTTTACTCT-1-MS19270-CSF       CSF           T cells  "
      ]
     },
     "execution_count": 94,
     "metadata": {},
     "output_type": "execute_result"
    }
   ],
   "source": [
    "adata_GSE138266.obs.head()"
   ]
  },
  {
   "cell_type": "code",
   "execution_count": 97,
   "metadata": {},
   "outputs": [
    {
     "name": "stderr",
     "output_type": "stream",
     "text": [
      "C:\\Users\\giuli\\AppData\\Local\\Temp\\ipykernel_17844\\1908443925.py:3: FutureWarning: Use anndata.concat instead of AnnData.concatenate, AnnData.concatenate is deprecated and will be removed in the future. See the tutorial for concat at: https://anndata.readthedocs.io/en/latest/concatenation.html\n",
      "  adata = adata.concatenate(adata_GSE194078)\n"
     ]
    },
    {
     "ename": "MemoryError",
     "evalue": "Unable to allocate 1.18 GiB for an array with shape (317833600,) and data type int32",
     "output_type": "error",
     "traceback": [
      "\u001b[1;31m---------------------------------------------------------------------------\u001b[0m",
      "\u001b[1;31mMemoryError\u001b[0m                               Traceback (most recent call last)",
      "Cell \u001b[1;32mIn[97], line 3\u001b[0m\n\u001b[0;32m      1\u001b[0m adata \u001b[38;5;241m=\u001b[39m adata_GSE239626\n\u001b[0;32m      2\u001b[0m \u001b[38;5;66;03m#adata = adata.concatenate(adata_GSE138266)\u001b[39;00m\n\u001b[1;32m----> 3\u001b[0m adata \u001b[38;5;241m=\u001b[39m \u001b[43madata\u001b[49m\u001b[38;5;241;43m.\u001b[39;49m\u001b[43mconcatenate\u001b[49m\u001b[43m(\u001b[49m\u001b[43madata_GSE194078\u001b[49m\u001b[43m)\u001b[49m\n\u001b[0;32m      5\u001b[0m adata\n",
      "File \u001b[1;32mc:\\Users\\giuli\\anaconda3\\lib\\site-packages\\anndata\\utils.py:364\u001b[0m, in \u001b[0;36mdeprecated.<locals>.decorator.<locals>.new_func\u001b[1;34m(*args, **kwargs)\u001b[0m\n\u001b[0;32m    361\u001b[0m \u001b[38;5;129m@wraps\u001b[39m(func)\n\u001b[0;32m    362\u001b[0m \u001b[38;5;28;01mdef\u001b[39;00m \u001b[38;5;21mnew_func\u001b[39m(\u001b[38;5;241m*\u001b[39margs, \u001b[38;5;241m*\u001b[39m\u001b[38;5;241m*\u001b[39mkwargs):\n\u001b[0;32m    363\u001b[0m     warnings\u001b[38;5;241m.\u001b[39mwarn(msg, category\u001b[38;5;241m=\u001b[39mcategory, stacklevel\u001b[38;5;241m=\u001b[39m\u001b[38;5;241m2\u001b[39m)\n\u001b[1;32m--> 364\u001b[0m     \u001b[38;5;28;01mreturn\u001b[39;00m func(\u001b[38;5;241m*\u001b[39margs, \u001b[38;5;241m*\u001b[39m\u001b[38;5;241m*\u001b[39mkwargs)\n",
      "File \u001b[1;32mc:\\Users\\giuli\\anaconda3\\lib\\site-packages\\anndata\\_core\\anndata.py:1760\u001b[0m, in \u001b[0;36mAnnData.concatenate\u001b[1;34m(self, join, batch_key, batch_categories, uns_merge, index_unique, fill_value, *adatas)\u001b[0m\n\u001b[0;32m   1757\u001b[0m     adatas \u001b[38;5;241m=\u001b[39m adatas[\u001b[38;5;241m0\u001b[39m]  \u001b[38;5;66;03m# backwards compatibility\u001b[39;00m\n\u001b[0;32m   1758\u001b[0m all_adatas \u001b[38;5;241m=\u001b[39m (\u001b[38;5;28mself\u001b[39m,) \u001b[38;5;241m+\u001b[39m \u001b[38;5;28mtuple\u001b[39m(adatas)\n\u001b[1;32m-> 1760\u001b[0m out \u001b[38;5;241m=\u001b[39m \u001b[43mconcat\u001b[49m\u001b[43m(\u001b[49m\n\u001b[0;32m   1761\u001b[0m \u001b[43m    \u001b[49m\u001b[43mall_adatas\u001b[49m\u001b[43m,\u001b[49m\n\u001b[0;32m   1762\u001b[0m \u001b[43m    \u001b[49m\u001b[43maxis\u001b[49m\u001b[38;5;241;43m=\u001b[39;49m\u001b[38;5;241;43m0\u001b[39;49m\u001b[43m,\u001b[49m\n\u001b[0;32m   1763\u001b[0m \u001b[43m    \u001b[49m\u001b[43mjoin\u001b[49m\u001b[38;5;241;43m=\u001b[39;49m\u001b[43mjoin\u001b[49m\u001b[43m,\u001b[49m\n\u001b[0;32m   1764\u001b[0m \u001b[43m    \u001b[49m\u001b[43mlabel\u001b[49m\u001b[38;5;241;43m=\u001b[39;49m\u001b[43mbatch_key\u001b[49m\u001b[43m,\u001b[49m\n\u001b[0;32m   1765\u001b[0m \u001b[43m    \u001b[49m\u001b[43mkeys\u001b[49m\u001b[38;5;241;43m=\u001b[39;49m\u001b[43mbatch_categories\u001b[49m\u001b[43m,\u001b[49m\n\u001b[0;32m   1766\u001b[0m \u001b[43m    \u001b[49m\u001b[43muns_merge\u001b[49m\u001b[38;5;241;43m=\u001b[39;49m\u001b[43muns_merge\u001b[49m\u001b[43m,\u001b[49m\n\u001b[0;32m   1767\u001b[0m \u001b[43m    \u001b[49m\u001b[43mfill_value\u001b[49m\u001b[38;5;241;43m=\u001b[39;49m\u001b[43mfill_value\u001b[49m\u001b[43m,\u001b[49m\n\u001b[0;32m   1768\u001b[0m \u001b[43m    \u001b[49m\u001b[43mindex_unique\u001b[49m\u001b[38;5;241;43m=\u001b[39;49m\u001b[43mindex_unique\u001b[49m\u001b[43m,\u001b[49m\n\u001b[0;32m   1769\u001b[0m \u001b[43m    \u001b[49m\u001b[43mpairwise\u001b[49m\u001b[38;5;241;43m=\u001b[39;49m\u001b[38;5;28;43;01mFalse\u001b[39;49;00m\u001b[43m,\u001b[49m\n\u001b[0;32m   1770\u001b[0m \u001b[43m\u001b[49m\u001b[43m)\u001b[49m\n\u001b[0;32m   1772\u001b[0m \u001b[38;5;66;03m# Backwards compat (some of this could be more efficient)\u001b[39;00m\n\u001b[0;32m   1773\u001b[0m \u001b[38;5;66;03m# obs used to always be an outer join\u001b[39;00m\n\u001b[0;32m   1774\u001b[0m out\u001b[38;5;241m.\u001b[39mobs \u001b[38;5;241m=\u001b[39m concat(\n\u001b[0;32m   1775\u001b[0m     [AnnData(sparse\u001b[38;5;241m.\u001b[39mcsr_matrix(a\u001b[38;5;241m.\u001b[39mshape), obs\u001b[38;5;241m=\u001b[39ma\u001b[38;5;241m.\u001b[39mobs) \u001b[38;5;28;01mfor\u001b[39;00m a \u001b[38;5;129;01min\u001b[39;00m all_adatas],\n\u001b[0;32m   1776\u001b[0m     axis\u001b[38;5;241m=\u001b[39m\u001b[38;5;241m0\u001b[39m,\n\u001b[1;32m   (...)\u001b[0m\n\u001b[0;32m   1780\u001b[0m     index_unique\u001b[38;5;241m=\u001b[39mindex_unique,\n\u001b[0;32m   1781\u001b[0m )\u001b[38;5;241m.\u001b[39mobs\n",
      "File \u001b[1;32mc:\\Users\\giuli\\anaconda3\\lib\\site-packages\\anndata\\_core\\merge.py:1293\u001b[0m, in \u001b[0;36mconcat\u001b[1;34m(adatas, axis, join, merge, uns_merge, label, keys, index_unique, fill_value, pairwise)\u001b[0m\n\u001b[0;32m   1288\u001b[0m \u001b[38;5;66;03m# Annotation for other axis\u001b[39;00m\n\u001b[0;32m   1289\u001b[0m alt_annot \u001b[38;5;241m=\u001b[39m merge_dataframes(\n\u001b[0;32m   1290\u001b[0m     [\u001b[38;5;28mgetattr\u001b[39m(a, alt_dim) \u001b[38;5;28;01mfor\u001b[39;00m a \u001b[38;5;129;01min\u001b[39;00m adatas], alt_indices, merge\n\u001b[0;32m   1291\u001b[0m )\n\u001b[1;32m-> 1293\u001b[0m X \u001b[38;5;241m=\u001b[39m \u001b[43mconcat_Xs\u001b[49m\u001b[43m(\u001b[49m\u001b[43madatas\u001b[49m\u001b[43m,\u001b[49m\u001b[43m \u001b[49m\u001b[43mreindexers\u001b[49m\u001b[43m,\u001b[49m\u001b[43m \u001b[49m\u001b[43maxis\u001b[49m\u001b[38;5;241;43m=\u001b[39;49m\u001b[43maxis\u001b[49m\u001b[43m,\u001b[49m\u001b[43m \u001b[49m\u001b[43mfill_value\u001b[49m\u001b[38;5;241;43m=\u001b[39;49m\u001b[43mfill_value\u001b[49m\u001b[43m)\u001b[49m\n\u001b[0;32m   1295\u001b[0m \u001b[38;5;28;01mif\u001b[39;00m join \u001b[38;5;241m==\u001b[39m \u001b[38;5;124m\"\u001b[39m\u001b[38;5;124minner\u001b[39m\u001b[38;5;124m\"\u001b[39m:\n\u001b[0;32m   1296\u001b[0m     concat_aligned_mapping \u001b[38;5;241m=\u001b[39m inner_concat_aligned_mapping\n",
      "File \u001b[1;32mc:\\Users\\giuli\\anaconda3\\lib\\site-packages\\anndata\\_core\\merge.py:1043\u001b[0m, in \u001b[0;36mconcat_Xs\u001b[1;34m(adatas, reindexers, axis, fill_value)\u001b[0m\n\u001b[0;32m   1037\u001b[0m     \u001b[38;5;28;01mraise\u001b[39;00m \u001b[38;5;167;01mNotImplementedError\u001b[39;00m(\n\u001b[0;32m   1038\u001b[0m         \u001b[38;5;124m\"\u001b[39m\u001b[38;5;124mSome (but not all) of the AnnData\u001b[39m\u001b[38;5;124m'\u001b[39m\u001b[38;5;124ms to be concatenated had no .X value. \u001b[39m\u001b[38;5;124m\"\u001b[39m\n\u001b[0;32m   1039\u001b[0m         \u001b[38;5;124m\"\u001b[39m\u001b[38;5;124mConcatenation is currently only implemented for cases where all or none of\u001b[39m\u001b[38;5;124m\"\u001b[39m\n\u001b[0;32m   1040\u001b[0m         \u001b[38;5;124m\"\u001b[39m\u001b[38;5;124m the AnnData\u001b[39m\u001b[38;5;124m'\u001b[39m\u001b[38;5;124ms have .X assigned.\u001b[39m\u001b[38;5;124m\"\u001b[39m\n\u001b[0;32m   1041\u001b[0m     )\n\u001b[0;32m   1042\u001b[0m \u001b[38;5;28;01melse\u001b[39;00m:\n\u001b[1;32m-> 1043\u001b[0m     \u001b[38;5;28;01mreturn\u001b[39;00m \u001b[43mconcat_arrays\u001b[49m\u001b[43m(\u001b[49m\u001b[43mXs\u001b[49m\u001b[43m,\u001b[49m\u001b[43m \u001b[49m\u001b[43mreindexers\u001b[49m\u001b[43m,\u001b[49m\u001b[43m \u001b[49m\u001b[43maxis\u001b[49m\u001b[38;5;241;43m=\u001b[39;49m\u001b[43maxis\u001b[49m\u001b[43m,\u001b[49m\u001b[43m \u001b[49m\u001b[43mfill_value\u001b[49m\u001b[38;5;241;43m=\u001b[39;49m\u001b[43mfill_value\u001b[49m\u001b[43m)\u001b[49m\n",
      "File \u001b[1;32mc:\\Users\\giuli\\anaconda3\\lib\\site-packages\\anndata\\_core\\merge.py:813\u001b[0m, in \u001b[0;36mconcat_arrays\u001b[1;34m(arrays, reindexers, axis, index, fill_value)\u001b[0m\n\u001b[0;32m    811\u001b[0m \u001b[38;5;28;01melif\u001b[39;00m \u001b[38;5;28many\u001b[39m(\u001b[38;5;28misinstance\u001b[39m(a, sparse\u001b[38;5;241m.\u001b[39mspmatrix) \u001b[38;5;28;01mfor\u001b[39;00m a \u001b[38;5;129;01min\u001b[39;00m arrays):\n\u001b[0;32m    812\u001b[0m     sparse_stack \u001b[38;5;241m=\u001b[39m (sparse\u001b[38;5;241m.\u001b[39mvstack, sparse\u001b[38;5;241m.\u001b[39mhstack)[axis]\n\u001b[1;32m--> 813\u001b[0m     \u001b[38;5;28;01mreturn\u001b[39;00m \u001b[43msparse_stack\u001b[49m\u001b[43m(\u001b[49m\n\u001b[0;32m    814\u001b[0m \u001b[43m        \u001b[49m\u001b[43m[\u001b[49m\n\u001b[0;32m    815\u001b[0m \u001b[43m            \u001b[49m\u001b[43mf\u001b[49m\u001b[43m(\u001b[49m\u001b[43mas_sparse\u001b[49m\u001b[43m(\u001b[49m\u001b[43ma\u001b[49m\u001b[43m)\u001b[49m\u001b[43m,\u001b[49m\u001b[43m \u001b[49m\u001b[43maxis\u001b[49m\u001b[38;5;241;43m=\u001b[39;49m\u001b[38;5;241;43m1\u001b[39;49m\u001b[43m \u001b[49m\u001b[38;5;241;43m-\u001b[39;49m\u001b[43m \u001b[49m\u001b[43maxis\u001b[49m\u001b[43m,\u001b[49m\u001b[43m \u001b[49m\u001b[43mfill_value\u001b[49m\u001b[38;5;241;43m=\u001b[39;49m\u001b[43mfill_value\u001b[49m\u001b[43m)\u001b[49m\n\u001b[0;32m    816\u001b[0m \u001b[43m            \u001b[49m\u001b[38;5;28;43;01mfor\u001b[39;49;00m\u001b[43m \u001b[49m\u001b[43mf\u001b[49m\u001b[43m,\u001b[49m\u001b[43m \u001b[49m\u001b[43ma\u001b[49m\u001b[43m \u001b[49m\u001b[38;5;129;43;01min\u001b[39;49;00m\u001b[43m \u001b[49m\u001b[38;5;28;43mzip\u001b[39;49m\u001b[43m(\u001b[49m\u001b[43mreindexers\u001b[49m\u001b[43m,\u001b[49m\u001b[43m \u001b[49m\u001b[43marrays\u001b[49m\u001b[43m)\u001b[49m\n\u001b[0;32m    817\u001b[0m \u001b[43m        \u001b[49m\u001b[43m]\u001b[49m\u001b[43m,\u001b[49m\n\u001b[0;32m    818\u001b[0m \u001b[43m        \u001b[49m\u001b[38;5;28;43mformat\u001b[39;49m\u001b[38;5;241;43m=\u001b[39;49m\u001b[38;5;124;43m\"\u001b[39;49m\u001b[38;5;124;43mcsr\u001b[39;49m\u001b[38;5;124;43m\"\u001b[39;49m\u001b[43m,\u001b[49m\n\u001b[0;32m    819\u001b[0m \u001b[43m    \u001b[49m\u001b[43m)\u001b[49m\n\u001b[0;32m    820\u001b[0m \u001b[38;5;28;01melse\u001b[39;00m:\n\u001b[0;32m    821\u001b[0m     \u001b[38;5;28;01mreturn\u001b[39;00m np\u001b[38;5;241m.\u001b[39mconcatenate(\n\u001b[0;32m    822\u001b[0m         [\n\u001b[0;32m    823\u001b[0m             f(x, fill_value\u001b[38;5;241m=\u001b[39mfill_value, axis\u001b[38;5;241m=\u001b[39m\u001b[38;5;241m1\u001b[39m \u001b[38;5;241m-\u001b[39m axis)\n\u001b[1;32m   (...)\u001b[0m\n\u001b[0;32m    826\u001b[0m         axis\u001b[38;5;241m=\u001b[39maxis,\n\u001b[0;32m    827\u001b[0m     )\n",
      "File \u001b[1;32mc:\\Users\\giuli\\anaconda3\\lib\\site-packages\\scipy\\sparse\\_construct.py:781\u001b[0m, in \u001b[0;36mvstack\u001b[1;34m(blocks, format, dtype)\u001b[0m\n\u001b[0;32m    779\u001b[0m     \u001b[38;5;28;01mreturn\u001b[39;00m _block([[b] \u001b[38;5;28;01mfor\u001b[39;00m b \u001b[38;5;129;01min\u001b[39;00m blocks], \u001b[38;5;28mformat\u001b[39m, dtype)\n\u001b[0;32m    780\u001b[0m \u001b[38;5;28;01melse\u001b[39;00m:\n\u001b[1;32m--> 781\u001b[0m     \u001b[38;5;28;01mreturn\u001b[39;00m \u001b[43m_block\u001b[49m\u001b[43m(\u001b[49m\u001b[43m[\u001b[49m\u001b[43m[\u001b[49m\u001b[43mb\u001b[49m\u001b[43m]\u001b[49m\u001b[43m \u001b[49m\u001b[38;5;28;43;01mfor\u001b[39;49;00m\u001b[43m \u001b[49m\u001b[43mb\u001b[49m\u001b[43m \u001b[49m\u001b[38;5;129;43;01min\u001b[39;49;00m\u001b[43m \u001b[49m\u001b[43mblocks\u001b[49m\u001b[43m]\u001b[49m\u001b[43m,\u001b[49m\u001b[43m \u001b[49m\u001b[38;5;28;43mformat\u001b[39;49m\u001b[43m,\u001b[49m\u001b[43m \u001b[49m\u001b[43mdtype\u001b[49m\u001b[43m,\u001b[49m\u001b[43m \u001b[49m\u001b[43mreturn_spmatrix\u001b[49m\u001b[38;5;241;43m=\u001b[39;49m\u001b[38;5;28;43;01mTrue\u001b[39;49;00m\u001b[43m)\u001b[49m\n",
      "File \u001b[1;32mc:\\Users\\giuli\\anaconda3\\lib\\site-packages\\scipy\\sparse\\_construct.py:972\u001b[0m, in \u001b[0;36m_block\u001b[1;34m(blocks, format, dtype, return_spmatrix)\u001b[0m\n\u001b[0;32m    970\u001b[0m idx_dtype \u001b[38;5;241m=\u001b[39m get_index_dtype(maxval\u001b[38;5;241m=\u001b[39m\u001b[38;5;28mmax\u001b[39m(shape))\n\u001b[0;32m    971\u001b[0m row \u001b[38;5;241m=\u001b[39m np\u001b[38;5;241m.\u001b[39mempty(nnz, dtype\u001b[38;5;241m=\u001b[39midx_dtype)\n\u001b[1;32m--> 972\u001b[0m col \u001b[38;5;241m=\u001b[39m \u001b[43mnp\u001b[49m\u001b[38;5;241;43m.\u001b[39;49m\u001b[43mempty\u001b[49m\u001b[43m(\u001b[49m\u001b[43mnnz\u001b[49m\u001b[43m,\u001b[49m\u001b[43m \u001b[49m\u001b[43mdtype\u001b[49m\u001b[38;5;241;43m=\u001b[39;49m\u001b[43midx_dtype\u001b[49m\u001b[43m)\u001b[49m\n\u001b[0;32m    974\u001b[0m nnz \u001b[38;5;241m=\u001b[39m \u001b[38;5;241m0\u001b[39m\n\u001b[0;32m    975\u001b[0m ii, jj \u001b[38;5;241m=\u001b[39m np\u001b[38;5;241m.\u001b[39mnonzero(block_mask)\n",
      "\u001b[1;31mMemoryError\u001b[0m: Unable to allocate 1.18 GiB for an array with shape (317833600,) and data type int32"
     ]
    }
   ],
   "source": [
    "adata = adata_GSE239626\n",
    "#adata = adata.concatenate(adata_GSE138266)\n",
    "adata = adata.concatenate(adata_GSE194078)\n",
    "\n",
    "adata"
   ]
  },
  {
   "cell_type": "code",
   "execution_count": 72,
   "metadata": {},
   "outputs": [
    {
     "data": {
      "text/plain": [
       "array(['MS', 'PTC', 'PST', 'Ab-mediated IDD', 'Normal', 'YYW'],\n",
       "      dtype=object)"
      ]
     },
     "execution_count": 72,
     "metadata": {},
     "output_type": "execute_result"
    }
   ],
   "source": [
    "adata.obs['disease'].unique()"
   ]
  },
  {
   "cell_type": "code",
   "execution_count": 73,
   "metadata": {},
   "outputs": [],
   "source": [
    "adata.obs['MS/HC'] = adata.obs['disease'].apply(lambda x: 'MS' if x=='MS' else 'HC')"
   ]
  },
  {
   "cell_type": "markdown",
   "metadata": {},
   "source": [
    "### Save new dataset"
   ]
  },
  {
   "cell_type": "code",
   "execution_count": 74,
   "metadata": {},
   "outputs": [],
   "source": [
    "adata.write('write/transcrittomic.h5ad')"
   ]
  }
 ],
 "metadata": {
  "kernelspec": {
   "display_name": "base",
   "language": "python",
   "name": "python3"
  },
  "language_info": {
   "codemirror_mode": {
    "name": "ipython",
    "version": 3
   },
   "file_extension": ".py",
   "mimetype": "text/x-python",
   "name": "python",
   "nbconvert_exporter": "python",
   "pygments_lexer": "ipython3",
   "version": "3.10.9"
  }
 },
 "nbformat": 4,
 "nbformat_minor": 2
}

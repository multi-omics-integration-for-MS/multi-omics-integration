{
 "cells": [
  {
   "cell_type": "code",
   "execution_count": 2,
   "metadata": {},
   "outputs": [
    {
     "name": "stderr",
     "output_type": "stream",
     "text": [
      "c:\\Users\\giuli\\anaconda3\\lib\\site-packages\\pandas\\core\\arrays\\masked.py:60: UserWarning: Pandas requires version '1.3.6' or newer of 'bottleneck' (version '1.3.5' currently installed).\n",
      "  from pandas.core import (\n"
     ]
    }
   ],
   "source": [
    "import scanpy as sc\n",
    "import pandas as pd\n",
    "import numpy as np\n",
    "\n",
    "GSE239626_PATH = 'GSE239626'\n",
    "GSE138266_PATH = 'GSE138266'\n",
    "GSE194078_PATH = 'GSE194078'\n",
    "\n",
    "GSE239626_LABELS_PATH = 'results/celltypist_labels_from_protein_Immune_All_High.csv'\n",
    "GSE138266_LABELS_PATH = 'results/celltypist_labels_from_transcriptomic_GSE138266.csv'\n",
    "GSE194078_LABELS_PATH = 'results/celltypist_labels_from_transcriptomic_GSE194078.csv'"
   ]
  },
  {
   "cell_type": "markdown",
   "metadata": {},
   "source": [
    "### GSE239626"
   ]
  },
  {
   "cell_type": "code",
   "execution_count": 3,
   "metadata": {},
   "outputs": [
    {
     "data": {
      "text/plain": [
       "AnnData object with n_obs × n_vars = 72317 × 36601\n",
       "    obs: 'dataset', 'disease', 'cell_type', 'patiens', 'patiens_id', 'time', 'cell_types_labels'\n",
       "    var: 'gene_ids', 'feature_types'"
      ]
     },
     "execution_count": 3,
     "metadata": {},
     "output_type": "execute_result"
    }
   ],
   "source": [
    "adata_GSE239626 = sc.read(GSE239626_PATH)\n",
    "\n",
    "GSE239626_labels = pd.read_csv(GSE239626_LABELS_PATH)\n",
    "adata_GSE239626.obs['cell_types_labels'] = GSE239626_labels['predicted_labels'].values\n",
    "\n",
    "adata_GSE239626"
   ]
  },
  {
   "cell_type": "code",
   "execution_count": 4,
   "metadata": {},
   "outputs": [],
   "source": [
    "# rename columns 'patiens' to 'patient' and 'patiens_id' to 'patient_id'\n",
    "adata_GSE239626.obs.rename(columns={'patiens': 'sample', 'patiens_id': 'patient_id'}, inplace=True)"
   ]
  },
  {
   "cell_type": "code",
   "execution_count": 5,
   "metadata": {},
   "outputs": [
    {
     "data": {
      "text/html": [
       "<div>\n",
       "<style scoped>\n",
       "    .dataframe tbody tr th:only-of-type {\n",
       "        vertical-align: middle;\n",
       "    }\n",
       "\n",
       "    .dataframe tbody tr th {\n",
       "        vertical-align: top;\n",
       "    }\n",
       "\n",
       "    .dataframe thead th {\n",
       "        text-align: right;\n",
       "    }\n",
       "</style>\n",
       "<table border=\"1\" class=\"dataframe\">\n",
       "  <thead>\n",
       "    <tr style=\"text-align: right;\">\n",
       "      <th></th>\n",
       "      <th>dataset</th>\n",
       "      <th>disease</th>\n",
       "      <th>cell_type</th>\n",
       "      <th>sample</th>\n",
       "      <th>patient_id</th>\n",
       "      <th>time</th>\n",
       "      <th>cell_types_labels</th>\n",
       "    </tr>\n",
       "  </thead>\n",
       "  <tbody>\n",
       "    <tr>\n",
       "      <th>AAACCCAAGACTGTTC-1</th>\n",
       "      <td>GSE239626</td>\n",
       "      <td>MS</td>\n",
       "      <td>PBMC</td>\n",
       "      <td>GSM7669046</td>\n",
       "      <td>N1</td>\n",
       "      <td>J0</td>\n",
       "      <td>T cells</td>\n",
       "    </tr>\n",
       "    <tr>\n",
       "      <th>AAACCCAAGGATCATA-1</th>\n",
       "      <td>GSE239626</td>\n",
       "      <td>MS</td>\n",
       "      <td>PBMC</td>\n",
       "      <td>GSM7669046</td>\n",
       "      <td>N1</td>\n",
       "      <td>J0</td>\n",
       "      <td>T cells</td>\n",
       "    </tr>\n",
       "    <tr>\n",
       "      <th>AAACCCAGTTATTCTC-1</th>\n",
       "      <td>GSE239626</td>\n",
       "      <td>MS</td>\n",
       "      <td>PBMC</td>\n",
       "      <td>GSM7669046</td>\n",
       "      <td>N1</td>\n",
       "      <td>J0</td>\n",
       "      <td>B cells</td>\n",
       "    </tr>\n",
       "    <tr>\n",
       "      <th>AAACCCATCATGAGGG-1</th>\n",
       "      <td>GSE239626</td>\n",
       "      <td>MS</td>\n",
       "      <td>PBMC</td>\n",
       "      <td>GSM7669046</td>\n",
       "      <td>N1</td>\n",
       "      <td>J0</td>\n",
       "      <td>T cells</td>\n",
       "    </tr>\n",
       "    <tr>\n",
       "      <th>AAACGAAAGCCAGTAG-1</th>\n",
       "      <td>GSE239626</td>\n",
       "      <td>MS</td>\n",
       "      <td>PBMC</td>\n",
       "      <td>GSM7669046</td>\n",
       "      <td>N1</td>\n",
       "      <td>J0</td>\n",
       "      <td>B cells</td>\n",
       "    </tr>\n",
       "    <tr>\n",
       "      <th>...</th>\n",
       "      <td>...</td>\n",
       "      <td>...</td>\n",
       "      <td>...</td>\n",
       "      <td>...</td>\n",
       "      <td>...</td>\n",
       "      <td>...</td>\n",
       "      <td>...</td>\n",
       "    </tr>\n",
       "    <tr>\n",
       "      <th>TTTGTTGAGCGTCGAA-20</th>\n",
       "      <td>GSE239626</td>\n",
       "      <td>MS</td>\n",
       "      <td>PBMC</td>\n",
       "      <td>GSM7669084</td>\n",
       "      <td>N5</td>\n",
       "      <td>M3</td>\n",
       "      <td>T cells</td>\n",
       "    </tr>\n",
       "    <tr>\n",
       "      <th>TTTGTTGAGTGTACCT-20</th>\n",
       "      <td>GSE239626</td>\n",
       "      <td>MS</td>\n",
       "      <td>PBMC</td>\n",
       "      <td>GSM7669084</td>\n",
       "      <td>N5</td>\n",
       "      <td>M3</td>\n",
       "      <td>T cells</td>\n",
       "    </tr>\n",
       "    <tr>\n",
       "      <th>TTTGTTGCAATTGCAC-20</th>\n",
       "      <td>GSE239626</td>\n",
       "      <td>MS</td>\n",
       "      <td>PBMC</td>\n",
       "      <td>GSM7669084</td>\n",
       "      <td>N5</td>\n",
       "      <td>M3</td>\n",
       "      <td>T cells</td>\n",
       "    </tr>\n",
       "    <tr>\n",
       "      <th>TTTGTTGCATTCAGCA-20</th>\n",
       "      <td>GSE239626</td>\n",
       "      <td>MS</td>\n",
       "      <td>PBMC</td>\n",
       "      <td>GSM7669084</td>\n",
       "      <td>N5</td>\n",
       "      <td>M3</td>\n",
       "      <td>T cells</td>\n",
       "    </tr>\n",
       "    <tr>\n",
       "      <th>TTTGTTGGTGGGTTGA-20</th>\n",
       "      <td>GSE239626</td>\n",
       "      <td>MS</td>\n",
       "      <td>PBMC</td>\n",
       "      <td>GSM7669084</td>\n",
       "      <td>N5</td>\n",
       "      <td>M3</td>\n",
       "      <td>ILC</td>\n",
       "    </tr>\n",
       "  </tbody>\n",
       "</table>\n",
       "<p>72317 rows × 7 columns</p>\n",
       "</div>"
      ],
      "text/plain": [
       "                       dataset disease cell_type      sample patient_id time  \\\n",
       "AAACCCAAGACTGTTC-1   GSE239626      MS      PBMC  GSM7669046         N1   J0   \n",
       "AAACCCAAGGATCATA-1   GSE239626      MS      PBMC  GSM7669046         N1   J0   \n",
       "AAACCCAGTTATTCTC-1   GSE239626      MS      PBMC  GSM7669046         N1   J0   \n",
       "AAACCCATCATGAGGG-1   GSE239626      MS      PBMC  GSM7669046         N1   J0   \n",
       "AAACGAAAGCCAGTAG-1   GSE239626      MS      PBMC  GSM7669046         N1   J0   \n",
       "...                        ...     ...       ...         ...        ...  ...   \n",
       "TTTGTTGAGCGTCGAA-20  GSE239626      MS      PBMC  GSM7669084         N5   M3   \n",
       "TTTGTTGAGTGTACCT-20  GSE239626      MS      PBMC  GSM7669084         N5   M3   \n",
       "TTTGTTGCAATTGCAC-20  GSE239626      MS      PBMC  GSM7669084         N5   M3   \n",
       "TTTGTTGCATTCAGCA-20  GSE239626      MS      PBMC  GSM7669084         N5   M3   \n",
       "TTTGTTGGTGGGTTGA-20  GSE239626      MS      PBMC  GSM7669084         N5   M3   \n",
       "\n",
       "                    cell_types_labels  \n",
       "AAACCCAAGACTGTTC-1            T cells  \n",
       "AAACCCAAGGATCATA-1            T cells  \n",
       "AAACCCAGTTATTCTC-1            B cells  \n",
       "AAACCCATCATGAGGG-1            T cells  \n",
       "AAACGAAAGCCAGTAG-1            B cells  \n",
       "...                               ...  \n",
       "TTTGTTGAGCGTCGAA-20           T cells  \n",
       "TTTGTTGAGTGTACCT-20           T cells  \n",
       "TTTGTTGCAATTGCAC-20           T cells  \n",
       "TTTGTTGCATTCAGCA-20           T cells  \n",
       "TTTGTTGGTGGGTTGA-20               ILC  \n",
       "\n",
       "[72317 rows x 7 columns]"
      ]
     },
     "execution_count": 5,
     "metadata": {},
     "output_type": "execute_result"
    }
   ],
   "source": [
    "adata_GSE239626.obs"
   ]
  },
  {
   "cell_type": "markdown",
   "metadata": {},
   "source": [
    "### GSE138266"
   ]
  },
  {
   "cell_type": "code",
   "execution_count": 6,
   "metadata": {},
   "outputs": [
    {
     "data": {
      "text/plain": [
       "View of AnnData object with n_obs × n_vars = 68038 × 33694\n",
       "    obs: 'sample', 'patient', 'dataset', 'disease', 'cell_type', 'batch'\n",
       "    var: 'gene_symbols', 'gene_ids'"
      ]
     },
     "execution_count": 6,
     "metadata": {},
     "output_type": "execute_result"
    }
   ],
   "source": [
    "adata_GSE138266 = sc.read(GSE138266_PATH)\n",
    "adata_GSE138266 = adata_GSE138266[(adata_GSE138266.obs['cell_type']!='CSF')|(adata_GSE138266.obs['disease']!='PST')]\n",
    "adata_GSE138266"
   ]
  },
  {
   "cell_type": "code",
   "execution_count": 7,
   "metadata": {},
   "outputs": [
    {
     "data": {
      "text/html": [
       "<div>\n",
       "<style scoped>\n",
       "    .dataframe tbody tr th:only-of-type {\n",
       "        vertical-align: middle;\n",
       "    }\n",
       "\n",
       "    .dataframe tbody tr th {\n",
       "        vertical-align: top;\n",
       "    }\n",
       "\n",
       "    .dataframe thead th {\n",
       "        text-align: right;\n",
       "    }\n",
       "</style>\n",
       "<table border=\"1\" class=\"dataframe\">\n",
       "  <thead>\n",
       "    <tr style=\"text-align: right;\">\n",
       "      <th></th>\n",
       "      <th>sample</th>\n",
       "      <th>patient</th>\n",
       "      <th>dataset</th>\n",
       "      <th>disease</th>\n",
       "      <th>cell_type</th>\n",
       "      <th>batch</th>\n",
       "    </tr>\n",
       "  </thead>\n",
       "  <tbody>\n",
       "    <tr>\n",
       "      <th>AAACCTGAGTGGGCTA-1-MS19270-CSF</th>\n",
       "      <td>GSM4104122</td>\n",
       "      <td>MS19270</td>\n",
       "      <td>GSE138266</td>\n",
       "      <td>MS</td>\n",
       "      <td>CSF</td>\n",
       "      <td>0</td>\n",
       "    </tr>\n",
       "    <tr>\n",
       "      <th>AAACCTGAGTGTTAGA-1-MS19270-CSF</th>\n",
       "      <td>GSM4104122</td>\n",
       "      <td>MS19270</td>\n",
       "      <td>GSE138266</td>\n",
       "      <td>MS</td>\n",
       "      <td>CSF</td>\n",
       "      <td>0</td>\n",
       "    </tr>\n",
       "  </tbody>\n",
       "</table>\n",
       "</div>"
      ],
      "text/plain": [
       "                                    sample  patient    dataset disease  \\\n",
       "AAACCTGAGTGGGCTA-1-MS19270-CSF  GSM4104122  MS19270  GSE138266      MS   \n",
       "AAACCTGAGTGTTAGA-1-MS19270-CSF  GSM4104122  MS19270  GSE138266      MS   \n",
       "\n",
       "                               cell_type batch  \n",
       "AAACCTGAGTGGGCTA-1-MS19270-CSF       CSF     0  \n",
       "AAACCTGAGTGTTAGA-1-MS19270-CSF       CSF     0  "
      ]
     },
     "execution_count": 7,
     "metadata": {},
     "output_type": "execute_result"
    }
   ],
   "source": [
    "adata_GSE138266.obs.head(2)"
   ]
  },
  {
   "cell_type": "code",
   "execution_count": 8,
   "metadata": {},
   "outputs": [
    {
     "data": {
      "text/html": [
       "<div>\n",
       "<style scoped>\n",
       "    .dataframe tbody tr th:only-of-type {\n",
       "        vertical-align: middle;\n",
       "    }\n",
       "\n",
       "    .dataframe tbody tr th {\n",
       "        vertical-align: top;\n",
       "    }\n",
       "\n",
       "    .dataframe thead th {\n",
       "        text-align: right;\n",
       "    }\n",
       "</style>\n",
       "<table border=\"1\" class=\"dataframe\">\n",
       "  <thead>\n",
       "    <tr style=\"text-align: right;\">\n",
       "      <th></th>\n",
       "      <th>cell_types_labels</th>\n",
       "    </tr>\n",
       "  </thead>\n",
       "  <tbody>\n",
       "    <tr>\n",
       "      <th>AAACCTGAGTGGGCTA-1-MS19270-CSF-1-0-0-0-0</th>\n",
       "      <td>T cells</td>\n",
       "    </tr>\n",
       "    <tr>\n",
       "      <th>AAACCTGAGTGTTAGA-1-MS19270-CSF-1-0-0-0-0</th>\n",
       "      <td>T cells</td>\n",
       "    </tr>\n",
       "  </tbody>\n",
       "</table>\n",
       "</div>"
      ],
      "text/plain": [
       "                                         cell_types_labels\n",
       "AAACCTGAGTGGGCTA-1-MS19270-CSF-1-0-0-0-0           T cells\n",
       "AAACCTGAGTGTTAGA-1-MS19270-CSF-1-0-0-0-0           T cells"
      ]
     },
     "execution_count": 8,
     "metadata": {},
     "output_type": "execute_result"
    }
   ],
   "source": [
    "GSE138266_labels = pd.read_csv(GSE138266_LABELS_PATH, index_col=0)\n",
    "GSE138266_labels.head(2)"
   ]
  },
  {
   "cell_type": "code",
   "execution_count": 9,
   "metadata": {},
   "outputs": [
    {
     "data": {
      "text/html": [
       "<div>\n",
       "<style scoped>\n",
       "    .dataframe tbody tr th:only-of-type {\n",
       "        vertical-align: middle;\n",
       "    }\n",
       "\n",
       "    .dataframe tbody tr th {\n",
       "        vertical-align: top;\n",
       "    }\n",
       "\n",
       "    .dataframe thead th {\n",
       "        text-align: right;\n",
       "    }\n",
       "</style>\n",
       "<table border=\"1\" class=\"dataframe\">\n",
       "  <thead>\n",
       "    <tr style=\"text-align: right;\">\n",
       "      <th></th>\n",
       "      <th>cell_types_labels</th>\n",
       "    </tr>\n",
       "  </thead>\n",
       "  <tbody>\n",
       "    <tr>\n",
       "      <th>AAACCTGAGTGGGCTA-1-MS19270-CSF</th>\n",
       "      <td>T cells</td>\n",
       "    </tr>\n",
       "    <tr>\n",
       "      <th>AAACCTGAGTGTTAGA-1-MS19270-CSF</th>\n",
       "      <td>T cells</td>\n",
       "    </tr>\n",
       "  </tbody>\n",
       "</table>\n",
       "</div>"
      ],
      "text/plain": [
       "                               cell_types_labels\n",
       "AAACCTGAGTGGGCTA-1-MS19270-CSF           T cells\n",
       "AAACCTGAGTGTTAGA-1-MS19270-CSF           T cells"
      ]
     },
     "execution_count": 9,
     "metadata": {},
     "output_type": "execute_result"
    }
   ],
   "source": [
    "labels = []\n",
    "for label in GSE138266_labels.index:\n",
    "    # drop the last character of the label until it's not a letter\n",
    "    while not label[-1].isalpha():\n",
    "        label = label[:-1]\n",
    "    labels.append(label)\n",
    "GSE138266_labels.index = labels\n",
    "\n",
    "GSE138266_labels.head(2)"
   ]
  },
  {
   "cell_type": "code",
   "execution_count": 10,
   "metadata": {},
   "outputs": [],
   "source": [
    "for label in GSE138266_labels.index:\n",
    "    if label not in adata_GSE138266.obs.index:\n",
    "        print(label)"
   ]
  },
  {
   "cell_type": "code",
   "execution_count": 11,
   "metadata": {},
   "outputs": [],
   "source": [
    "for label in adata_GSE138266.obs.index:\n",
    "    if label not in GSE138266_labels.index:\n",
    "        print(label)"
   ]
  },
  {
   "cell_type": "code",
   "execution_count": 12,
   "metadata": {},
   "outputs": [],
   "source": [
    "def assigne_labels(row):\n",
    "    row['cell_types_labels'] = GSE138266_labels[GSE138266_labels.index==row.name]['cell_types_labels'].values[0]\n",
    "    return row\n",
    "\n",
    "adata_GSE138266.obs = adata_GSE138266.obs.apply(assigne_labels, axis=1)"
   ]
  },
  {
   "cell_type": "code",
   "execution_count": 13,
   "metadata": {},
   "outputs": [],
   "source": [
    "# drop columns batch\n",
    "adata_GSE138266.obs.drop(columns=['batch'], inplace=True)"
   ]
  },
  {
   "cell_type": "code",
   "execution_count": 14,
   "metadata": {},
   "outputs": [
    {
     "data": {
      "text/html": [
       "<div>\n",
       "<style scoped>\n",
       "    .dataframe tbody tr th:only-of-type {\n",
       "        vertical-align: middle;\n",
       "    }\n",
       "\n",
       "    .dataframe tbody tr th {\n",
       "        vertical-align: top;\n",
       "    }\n",
       "\n",
       "    .dataframe thead th {\n",
       "        text-align: right;\n",
       "    }\n",
       "</style>\n",
       "<table border=\"1\" class=\"dataframe\">\n",
       "  <thead>\n",
       "    <tr style=\"text-align: right;\">\n",
       "      <th></th>\n",
       "      <th>sample</th>\n",
       "      <th>patient</th>\n",
       "      <th>dataset</th>\n",
       "      <th>disease</th>\n",
       "      <th>cell_type</th>\n",
       "      <th>cell_types_labels</th>\n",
       "    </tr>\n",
       "  </thead>\n",
       "  <tbody>\n",
       "    <tr>\n",
       "      <th>AAACCTGAGTGGGCTA-1-MS19270-CSF</th>\n",
       "      <td>GSM4104122</td>\n",
       "      <td>MS19270</td>\n",
       "      <td>GSE138266</td>\n",
       "      <td>MS</td>\n",
       "      <td>CSF</td>\n",
       "      <td>T cells</td>\n",
       "    </tr>\n",
       "    <tr>\n",
       "      <th>AAACCTGAGTGTTAGA-1-MS19270-CSF</th>\n",
       "      <td>GSM4104122</td>\n",
       "      <td>MS19270</td>\n",
       "      <td>GSE138266</td>\n",
       "      <td>MS</td>\n",
       "      <td>CSF</td>\n",
       "      <td>T cells</td>\n",
       "    </tr>\n",
       "    <tr>\n",
       "      <th>AAACCTGGTCGCGTGT-1-MS19270-CSF</th>\n",
       "      <td>GSM4104122</td>\n",
       "      <td>MS19270</td>\n",
       "      <td>GSE138266</td>\n",
       "      <td>MS</td>\n",
       "      <td>CSF</td>\n",
       "      <td>Monocytes</td>\n",
       "    </tr>\n",
       "    <tr>\n",
       "      <th>AAACCTGGTCTCCACT-1-MS19270-CSF</th>\n",
       "      <td>GSM4104122</td>\n",
       "      <td>MS19270</td>\n",
       "      <td>GSE138266</td>\n",
       "      <td>MS</td>\n",
       "      <td>CSF</td>\n",
       "      <td>T cells</td>\n",
       "    </tr>\n",
       "    <tr>\n",
       "      <th>AAACCTGGTTTACTCT-1-MS19270-CSF</th>\n",
       "      <td>GSM4104122</td>\n",
       "      <td>MS19270</td>\n",
       "      <td>GSE138266</td>\n",
       "      <td>MS</td>\n",
       "      <td>CSF</td>\n",
       "      <td>T cells</td>\n",
       "    </tr>\n",
       "    <tr>\n",
       "      <th>...</th>\n",
       "      <td>...</td>\n",
       "      <td>...</td>\n",
       "      <td>...</td>\n",
       "      <td>...</td>\n",
       "      <td>...</td>\n",
       "      <td>...</td>\n",
       "    </tr>\n",
       "    <tr>\n",
       "      <th>TTTGCGCGTGCAACGA-1-PTC85037-PBMC</th>\n",
       "      <td>GSM4104143</td>\n",
       "      <td>PTC85037</td>\n",
       "      <td>GSE138266</td>\n",
       "      <td>PTC</td>\n",
       "      <td>PBMC</td>\n",
       "      <td>T cells</td>\n",
       "    </tr>\n",
       "    <tr>\n",
       "      <th>TTTGCGCTCCGTAGTA-1-PTC85037-PBMC</th>\n",
       "      <td>GSM4104143</td>\n",
       "      <td>PTC85037</td>\n",
       "      <td>GSE138266</td>\n",
       "      <td>PTC</td>\n",
       "      <td>PBMC</td>\n",
       "      <td>T cells</td>\n",
       "    </tr>\n",
       "    <tr>\n",
       "      <th>TTTGGTTCACCACGTG-1-PTC85037-PBMC</th>\n",
       "      <td>GSM4104143</td>\n",
       "      <td>PTC85037</td>\n",
       "      <td>GSE138266</td>\n",
       "      <td>PTC</td>\n",
       "      <td>PBMC</td>\n",
       "      <td>ILC</td>\n",
       "    </tr>\n",
       "    <tr>\n",
       "      <th>TTTGTCACACTGAAGG-1-PTC85037-PBMC</th>\n",
       "      <td>GSM4104143</td>\n",
       "      <td>PTC85037</td>\n",
       "      <td>GSE138266</td>\n",
       "      <td>PTC</td>\n",
       "      <td>PBMC</td>\n",
       "      <td>B cells</td>\n",
       "    </tr>\n",
       "    <tr>\n",
       "      <th>TTTGTCATCAGTTAGC-1-PTC85037-PBMC</th>\n",
       "      <td>GSM4104143</td>\n",
       "      <td>PTC85037</td>\n",
       "      <td>GSE138266</td>\n",
       "      <td>PTC</td>\n",
       "      <td>PBMC</td>\n",
       "      <td>T cells</td>\n",
       "    </tr>\n",
       "  </tbody>\n",
       "</table>\n",
       "<p>68038 rows × 6 columns</p>\n",
       "</div>"
      ],
      "text/plain": [
       "                                      sample   patient    dataset disease  \\\n",
       "AAACCTGAGTGGGCTA-1-MS19270-CSF    GSM4104122   MS19270  GSE138266      MS   \n",
       "AAACCTGAGTGTTAGA-1-MS19270-CSF    GSM4104122   MS19270  GSE138266      MS   \n",
       "AAACCTGGTCGCGTGT-1-MS19270-CSF    GSM4104122   MS19270  GSE138266      MS   \n",
       "AAACCTGGTCTCCACT-1-MS19270-CSF    GSM4104122   MS19270  GSE138266      MS   \n",
       "AAACCTGGTTTACTCT-1-MS19270-CSF    GSM4104122   MS19270  GSE138266      MS   \n",
       "...                                      ...       ...        ...     ...   \n",
       "TTTGCGCGTGCAACGA-1-PTC85037-PBMC  GSM4104143  PTC85037  GSE138266     PTC   \n",
       "TTTGCGCTCCGTAGTA-1-PTC85037-PBMC  GSM4104143  PTC85037  GSE138266     PTC   \n",
       "TTTGGTTCACCACGTG-1-PTC85037-PBMC  GSM4104143  PTC85037  GSE138266     PTC   \n",
       "TTTGTCACACTGAAGG-1-PTC85037-PBMC  GSM4104143  PTC85037  GSE138266     PTC   \n",
       "TTTGTCATCAGTTAGC-1-PTC85037-PBMC  GSM4104143  PTC85037  GSE138266     PTC   \n",
       "\n",
       "                                 cell_type cell_types_labels  \n",
       "AAACCTGAGTGGGCTA-1-MS19270-CSF         CSF           T cells  \n",
       "AAACCTGAGTGTTAGA-1-MS19270-CSF         CSF           T cells  \n",
       "AAACCTGGTCGCGTGT-1-MS19270-CSF         CSF         Monocytes  \n",
       "AAACCTGGTCTCCACT-1-MS19270-CSF         CSF           T cells  \n",
       "AAACCTGGTTTACTCT-1-MS19270-CSF         CSF           T cells  \n",
       "...                                    ...               ...  \n",
       "TTTGCGCGTGCAACGA-1-PTC85037-PBMC      PBMC           T cells  \n",
       "TTTGCGCTCCGTAGTA-1-PTC85037-PBMC      PBMC           T cells  \n",
       "TTTGGTTCACCACGTG-1-PTC85037-PBMC      PBMC               ILC  \n",
       "TTTGTCACACTGAAGG-1-PTC85037-PBMC      PBMC           B cells  \n",
       "TTTGTCATCAGTTAGC-1-PTC85037-PBMC      PBMC           T cells  \n",
       "\n",
       "[68038 rows x 6 columns]"
      ]
     },
     "execution_count": 14,
     "metadata": {},
     "output_type": "execute_result"
    }
   ],
   "source": [
    "adata_GSE138266.obs"
   ]
  },
  {
   "cell_type": "code",
   "execution_count": 15,
   "metadata": {},
   "outputs": [
    {
     "data": {
      "text/plain": [
       "AnnData object with n_obs × n_vars = 68038 × 33694\n",
       "    obs: 'sample', 'patient', 'dataset', 'disease', 'cell_type', 'cell_types_labels'\n",
       "    var: 'gene_symbols', 'gene_ids'"
      ]
     },
     "execution_count": 15,
     "metadata": {},
     "output_type": "execute_result"
    }
   ],
   "source": [
    "adata_GSE138266"
   ]
  },
  {
   "cell_type": "markdown",
   "metadata": {},
   "source": [
    "### GSE194078"
   ]
  },
  {
   "cell_type": "code",
   "execution_count": 16,
   "metadata": {},
   "outputs": [
    {
     "data": {
      "text/plain": [
       "AnnData object with n_obs × n_vars = 110565 × 36601\n",
       "    obs: 'patient', 'patient_id', 'disease', 'batch', 'dataset', 'cell_types'\n",
       "    var: 'gene_ids', 'feature_types'"
      ]
     },
     "execution_count": 16,
     "metadata": {},
     "output_type": "execute_result"
    }
   ],
   "source": [
    "adata_GSE194078 = sc.read(GSE194078_PATH)\n",
    "\n",
    "adata_GSE194078"
   ]
  },
  {
   "cell_type": "code",
   "execution_count": 17,
   "metadata": {},
   "outputs": [
    {
     "data": {
      "text/html": [
       "<div>\n",
       "<style scoped>\n",
       "    .dataframe tbody tr th:only-of-type {\n",
       "        vertical-align: middle;\n",
       "    }\n",
       "\n",
       "    .dataframe tbody tr th {\n",
       "        vertical-align: top;\n",
       "    }\n",
       "\n",
       "    .dataframe thead th {\n",
       "        text-align: right;\n",
       "    }\n",
       "</style>\n",
       "<table border=\"1\" class=\"dataframe\">\n",
       "  <thead>\n",
       "    <tr style=\"text-align: right;\">\n",
       "      <th></th>\n",
       "      <th>patient</th>\n",
       "      <th>patient_id</th>\n",
       "      <th>disease</th>\n",
       "      <th>batch</th>\n",
       "      <th>dataset</th>\n",
       "      <th>cell_types</th>\n",
       "    </tr>\n",
       "  </thead>\n",
       "  <tbody>\n",
       "    <tr>\n",
       "      <th>AAACCCACAAGACCGA-1-PBMC</th>\n",
       "      <td>GSM5827375</td>\n",
       "      <td>CYG</td>\n",
       "      <td>Ab-mediated IDD</td>\n",
       "      <td>0</td>\n",
       "      <td>GSE194078</td>\n",
       "      <td>PBMC</td>\n",
       "    </tr>\n",
       "    <tr>\n",
       "      <th>AAACCCACACGGCACT-1-PBMC</th>\n",
       "      <td>GSM5827375</td>\n",
       "      <td>CYG</td>\n",
       "      <td>Ab-mediated IDD</td>\n",
       "      <td>0</td>\n",
       "      <td>GSE194078</td>\n",
       "      <td>PBMC</td>\n",
       "    </tr>\n",
       "  </tbody>\n",
       "</table>\n",
       "</div>"
      ],
      "text/plain": [
       "                            patient patient_id          disease batch  \\\n",
       "AAACCCACAAGACCGA-1-PBMC  GSM5827375        CYG  Ab-mediated IDD     0   \n",
       "AAACCCACACGGCACT-1-PBMC  GSM5827375        CYG  Ab-mediated IDD     0   \n",
       "\n",
       "                           dataset cell_types  \n",
       "AAACCCACAAGACCGA-1-PBMC  GSE194078       PBMC  \n",
       "AAACCCACACGGCACT-1-PBMC  GSE194078       PBMC  "
      ]
     },
     "execution_count": 17,
     "metadata": {},
     "output_type": "execute_result"
    }
   ],
   "source": [
    "adata_GSE194078.obs.head(2)"
   ]
  },
  {
   "cell_type": "code",
   "execution_count": 18,
   "metadata": {},
   "outputs": [
    {
     "data": {
      "text/html": [
       "<div>\n",
       "<style scoped>\n",
       "    .dataframe tbody tr th:only-of-type {\n",
       "        vertical-align: middle;\n",
       "    }\n",
       "\n",
       "    .dataframe tbody tr th {\n",
       "        vertical-align: top;\n",
       "    }\n",
       "\n",
       "    .dataframe thead th {\n",
       "        text-align: right;\n",
       "    }\n",
       "</style>\n",
       "<table border=\"1\" class=\"dataframe\">\n",
       "  <thead>\n",
       "    <tr style=\"text-align: right;\">\n",
       "      <th></th>\n",
       "      <th>cell_types_labels</th>\n",
       "    </tr>\n",
       "  </thead>\n",
       "  <tbody>\n",
       "    <tr>\n",
       "      <th>AAACCCACAAGACCGA-1-PBMC-GSE194078</th>\n",
       "      <td>B cells</td>\n",
       "    </tr>\n",
       "    <tr>\n",
       "      <th>AAACCCACACGGCACT-1-PBMC-GSE194078</th>\n",
       "      <td>T cells</td>\n",
       "    </tr>\n",
       "  </tbody>\n",
       "</table>\n",
       "</div>"
      ],
      "text/plain": [
       "                                  cell_types_labels\n",
       "AAACCCACAAGACCGA-1-PBMC-GSE194078           B cells\n",
       "AAACCCACACGGCACT-1-PBMC-GSE194078           T cells"
      ]
     },
     "execution_count": 18,
     "metadata": {},
     "output_type": "execute_result"
    }
   ],
   "source": [
    "GSE194078_labels = pd.read_csv(GSE194078_LABELS_PATH, index_col=0)\n",
    "GSE194078_labels.head(2)"
   ]
  },
  {
   "cell_type": "code",
   "execution_count": 19,
   "metadata": {},
   "outputs": [],
   "source": [
    "def assigne_labels_GSE194078(row):\n",
    "    cell_name = row.name + '-GSE194078'\n",
    "    row['cell_types_labels'] = GSE194078_labels[GSE194078_labels.index==cell_name]['cell_types_labels'].values[0]\n",
    "    return row\n",
    "\n",
    "adata_GSE194078.obs = adata_GSE194078.obs.apply(assigne_labels_GSE194078, axis=1)"
   ]
  },
  {
   "cell_type": "code",
   "execution_count": 20,
   "metadata": {},
   "outputs": [],
   "source": [
    "# rename columns 'patiens' to 'sample' and 'patiens_id' to 'patient_id'\n",
    "adata_GSE194078.obs.rename(columns={'patiens': 'sample', 'patiens_id': 'patient_id', 'cell_types': 'cell_type'}, inplace=True)\n",
    "\n",
    "# drop columns batch\n",
    "adata_GSE194078.obs.drop(columns=['batch'], inplace=True)"
   ]
  },
  {
   "cell_type": "code",
   "execution_count": 21,
   "metadata": {},
   "outputs": [
    {
     "data": {
      "text/html": [
       "<div>\n",
       "<style scoped>\n",
       "    .dataframe tbody tr th:only-of-type {\n",
       "        vertical-align: middle;\n",
       "    }\n",
       "\n",
       "    .dataframe tbody tr th {\n",
       "        vertical-align: top;\n",
       "    }\n",
       "\n",
       "    .dataframe thead th {\n",
       "        text-align: right;\n",
       "    }\n",
       "</style>\n",
       "<table border=\"1\" class=\"dataframe\">\n",
       "  <thead>\n",
       "    <tr style=\"text-align: right;\">\n",
       "      <th></th>\n",
       "      <th>patient</th>\n",
       "      <th>patient_id</th>\n",
       "      <th>disease</th>\n",
       "      <th>dataset</th>\n",
       "      <th>cell_type</th>\n",
       "      <th>cell_types_labels</th>\n",
       "    </tr>\n",
       "  </thead>\n",
       "  <tbody>\n",
       "    <tr>\n",
       "      <th>AAACCCACAAGACCGA-1-PBMC</th>\n",
       "      <td>GSM5827375</td>\n",
       "      <td>CYG</td>\n",
       "      <td>Ab-mediated IDD</td>\n",
       "      <td>GSE194078</td>\n",
       "      <td>PBMC</td>\n",
       "      <td>B cells</td>\n",
       "    </tr>\n",
       "    <tr>\n",
       "      <th>AAACCCACACGGCACT-1-PBMC</th>\n",
       "      <td>GSM5827375</td>\n",
       "      <td>CYG</td>\n",
       "      <td>Ab-mediated IDD</td>\n",
       "      <td>GSE194078</td>\n",
       "      <td>PBMC</td>\n",
       "      <td>T cells</td>\n",
       "    </tr>\n",
       "    <tr>\n",
       "      <th>AAACCCATCAGAATAG-1-PBMC</th>\n",
       "      <td>GSM5827375</td>\n",
       "      <td>CYG</td>\n",
       "      <td>Ab-mediated IDD</td>\n",
       "      <td>GSE194078</td>\n",
       "      <td>PBMC</td>\n",
       "      <td>T cells</td>\n",
       "    </tr>\n",
       "    <tr>\n",
       "      <th>AAACGAAAGGTAAAGG-1-PBMC</th>\n",
       "      <td>GSM5827375</td>\n",
       "      <td>CYG</td>\n",
       "      <td>Ab-mediated IDD</td>\n",
       "      <td>GSE194078</td>\n",
       "      <td>PBMC</td>\n",
       "      <td>T cells</td>\n",
       "    </tr>\n",
       "    <tr>\n",
       "      <th>AAACGAACACAGCCAC-1-PBMC</th>\n",
       "      <td>GSM5827375</td>\n",
       "      <td>CYG</td>\n",
       "      <td>Ab-mediated IDD</td>\n",
       "      <td>GSE194078</td>\n",
       "      <td>PBMC</td>\n",
       "      <td>T cells</td>\n",
       "    </tr>\n",
       "    <tr>\n",
       "      <th>...</th>\n",
       "      <td>...</td>\n",
       "      <td>...</td>\n",
       "      <td>...</td>\n",
       "      <td>...</td>\n",
       "      <td>...</td>\n",
       "      <td>...</td>\n",
       "    </tr>\n",
       "    <tr>\n",
       "      <th>TTTGGTTGTGTTCAGT-11-CSF</th>\n",
       "      <td>GSM5827385</td>\n",
       "      <td>YYW</td>\n",
       "      <td>MS</td>\n",
       "      <td>GSE194078</td>\n",
       "      <td>CSF</td>\n",
       "      <td>T cells</td>\n",
       "    </tr>\n",
       "    <tr>\n",
       "      <th>TTTGGTTTCAAGAAAC-11-CSF</th>\n",
       "      <td>GSM5827385</td>\n",
       "      <td>YYW</td>\n",
       "      <td>MS</td>\n",
       "      <td>GSE194078</td>\n",
       "      <td>CSF</td>\n",
       "      <td>T cells</td>\n",
       "    </tr>\n",
       "    <tr>\n",
       "      <th>TTTGTTGGTATACCCA-11-CSF</th>\n",
       "      <td>GSM5827385</td>\n",
       "      <td>YYW</td>\n",
       "      <td>MS</td>\n",
       "      <td>GSE194078</td>\n",
       "      <td>CSF</td>\n",
       "      <td>T cells</td>\n",
       "    </tr>\n",
       "    <tr>\n",
       "      <th>TTTGTTGGTTATGACC-11-CSF</th>\n",
       "      <td>GSM5827385</td>\n",
       "      <td>YYW</td>\n",
       "      <td>MS</td>\n",
       "      <td>GSE194078</td>\n",
       "      <td>CSF</td>\n",
       "      <td>ILC</td>\n",
       "    </tr>\n",
       "    <tr>\n",
       "      <th>TTTGTTGTCTCCTGTG-11-CSF</th>\n",
       "      <td>GSM5827385</td>\n",
       "      <td>YYW</td>\n",
       "      <td>MS</td>\n",
       "      <td>GSE194078</td>\n",
       "      <td>CSF</td>\n",
       "      <td>T cells</td>\n",
       "    </tr>\n",
       "  </tbody>\n",
       "</table>\n",
       "<p>110565 rows × 6 columns</p>\n",
       "</div>"
      ],
      "text/plain": [
       "                            patient patient_id          disease    dataset  \\\n",
       "AAACCCACAAGACCGA-1-PBMC  GSM5827375        CYG  Ab-mediated IDD  GSE194078   \n",
       "AAACCCACACGGCACT-1-PBMC  GSM5827375        CYG  Ab-mediated IDD  GSE194078   \n",
       "AAACCCATCAGAATAG-1-PBMC  GSM5827375        CYG  Ab-mediated IDD  GSE194078   \n",
       "AAACGAAAGGTAAAGG-1-PBMC  GSM5827375        CYG  Ab-mediated IDD  GSE194078   \n",
       "AAACGAACACAGCCAC-1-PBMC  GSM5827375        CYG  Ab-mediated IDD  GSE194078   \n",
       "...                             ...        ...              ...        ...   \n",
       "TTTGGTTGTGTTCAGT-11-CSF  GSM5827385        YYW               MS  GSE194078   \n",
       "TTTGGTTTCAAGAAAC-11-CSF  GSM5827385        YYW               MS  GSE194078   \n",
       "TTTGTTGGTATACCCA-11-CSF  GSM5827385        YYW               MS  GSE194078   \n",
       "TTTGTTGGTTATGACC-11-CSF  GSM5827385        YYW               MS  GSE194078   \n",
       "TTTGTTGTCTCCTGTG-11-CSF  GSM5827385        YYW               MS  GSE194078   \n",
       "\n",
       "                        cell_type cell_types_labels  \n",
       "AAACCCACAAGACCGA-1-PBMC      PBMC           B cells  \n",
       "AAACCCACACGGCACT-1-PBMC      PBMC           T cells  \n",
       "AAACCCATCAGAATAG-1-PBMC      PBMC           T cells  \n",
       "AAACGAAAGGTAAAGG-1-PBMC      PBMC           T cells  \n",
       "AAACGAACACAGCCAC-1-PBMC      PBMC           T cells  \n",
       "...                           ...               ...  \n",
       "TTTGGTTGTGTTCAGT-11-CSF       CSF           T cells  \n",
       "TTTGGTTTCAAGAAAC-11-CSF       CSF           T cells  \n",
       "TTTGTTGGTATACCCA-11-CSF       CSF           T cells  \n",
       "TTTGTTGGTTATGACC-11-CSF       CSF               ILC  \n",
       "TTTGTTGTCTCCTGTG-11-CSF       CSF           T cells  \n",
       "\n",
       "[110565 rows x 6 columns]"
      ]
     },
     "execution_count": 21,
     "metadata": {},
     "output_type": "execute_result"
    }
   ],
   "source": [
    "adata_GSE194078.obs"
   ]
  },
  {
   "cell_type": "code",
   "execution_count": 22,
   "metadata": {},
   "outputs": [
    {
     "data": {
      "text/plain": [
       "AnnData object with n_obs × n_vars = 110565 × 36601\n",
       "    obs: 'patient', 'patient_id', 'disease', 'dataset', 'cell_type', 'cell_types_labels'\n",
       "    var: 'gene_ids', 'feature_types'"
      ]
     },
     "execution_count": 22,
     "metadata": {},
     "output_type": "execute_result"
    }
   ],
   "source": [
    "adata_GSE194078"
   ]
  },
  {
   "cell_type": "markdown",
   "metadata": {},
   "source": [
    "### Concatenate"
   ]
  },
  {
   "cell_type": "markdown",
   "metadata": {},
   "source": [
    "adata_GSE239626 adata_GSE194078"
   ]
  },
  {
   "cell_type": "code",
   "execution_count": null,
   "metadata": {},
   "outputs": [],
   "source": [
    "# FIXME"
   ]
  },
  {
   "cell_type": "code",
   "execution_count": 23,
   "metadata": {},
   "outputs": [
    {
     "data": {
      "text/html": [
       "<div>\n",
       "<style scoped>\n",
       "    .dataframe tbody tr th:only-of-type {\n",
       "        vertical-align: middle;\n",
       "    }\n",
       "\n",
       "    .dataframe tbody tr th {\n",
       "        vertical-align: top;\n",
       "    }\n",
       "\n",
       "    .dataframe thead th {\n",
       "        text-align: right;\n",
       "    }\n",
       "</style>\n",
       "<table border=\"1\" class=\"dataframe\">\n",
       "  <thead>\n",
       "    <tr style=\"text-align: right;\">\n",
       "      <th></th>\n",
       "      <th>gene_ids</th>\n",
       "      <th>feature_types</th>\n",
       "    </tr>\n",
       "  </thead>\n",
       "  <tbody>\n",
       "    <tr>\n",
       "      <th>MIR1302-2HG</th>\n",
       "      <td>ENSG00000243485</td>\n",
       "      <td>Gene Expression</td>\n",
       "    </tr>\n",
       "    <tr>\n",
       "      <th>FAM138A</th>\n",
       "      <td>ENSG00000237613</td>\n",
       "      <td>Gene Expression</td>\n",
       "    </tr>\n",
       "  </tbody>\n",
       "</table>\n",
       "</div>"
      ],
      "text/plain": [
       "                    gene_ids    feature_types\n",
       "MIR1302-2HG  ENSG00000243485  Gene Expression\n",
       "FAM138A      ENSG00000237613  Gene Expression"
      ]
     },
     "execution_count": 23,
     "metadata": {},
     "output_type": "execute_result"
    }
   ],
   "source": [
    "adata_GSE239626.var.head(2)"
   ]
  },
  {
   "cell_type": "code",
   "execution_count": 24,
   "metadata": {},
   "outputs": [
    {
     "data": {
      "text/html": [
       "<div>\n",
       "<style scoped>\n",
       "    .dataframe tbody tr th:only-of-type {\n",
       "        vertical-align: middle;\n",
       "    }\n",
       "\n",
       "    .dataframe tbody tr th {\n",
       "        vertical-align: top;\n",
       "    }\n",
       "\n",
       "    .dataframe thead th {\n",
       "        text-align: right;\n",
       "    }\n",
       "</style>\n",
       "<table border=\"1\" class=\"dataframe\">\n",
       "  <thead>\n",
       "    <tr style=\"text-align: right;\">\n",
       "      <th></th>\n",
       "      <th>gene_ids</th>\n",
       "      <th>feature_types</th>\n",
       "    </tr>\n",
       "  </thead>\n",
       "  <tbody>\n",
       "    <tr>\n",
       "      <th>MIR1302-2HG</th>\n",
       "      <td>ENSG00000243485</td>\n",
       "      <td>Gene Expression</td>\n",
       "    </tr>\n",
       "    <tr>\n",
       "      <th>FAM138A</th>\n",
       "      <td>ENSG00000237613</td>\n",
       "      <td>Gene Expression</td>\n",
       "    </tr>\n",
       "  </tbody>\n",
       "</table>\n",
       "</div>"
      ],
      "text/plain": [
       "                    gene_ids    feature_types\n",
       "MIR1302-2HG  ENSG00000243485  Gene Expression\n",
       "FAM138A      ENSG00000237613  Gene Expression"
      ]
     },
     "execution_count": 24,
     "metadata": {},
     "output_type": "execute_result"
    }
   ],
   "source": [
    "adata_GSE194078.var.head(2)"
   ]
  },
  {
   "cell_type": "code",
   "execution_count": 39,
   "metadata": {},
   "outputs": [
    {
     "data": {
      "text/plain": [
       "AnnData object with n_obs × n_vars = 72317 × 37944"
      ]
     },
     "execution_count": 39,
     "metadata": {},
     "output_type": "execute_result"
    }
   ],
   "source": [
    "new_genes_ref = adata_GSE138266.var['gene_symbols'][~adata_GSE138266.var['gene_symbols'\n",
    "    ].isin(adata_GSE239626.var['gene_ids'])]\n",
    "\n",
    "a = sc.AnnData(np.zeros((adata_GSE239626.X.shape[0], len(new_genes_ref))))\n",
    "a.var.index = new_genes_ref\n",
    "a.obs.index = adata_GSE239626.obs.index\n",
    "a.obs = adata_GSE239626.obs\n",
    "\n",
    "adata_GSE239626_final = anndata.concat([adata_GSE239626, a], axis=1)\n",
    "adata_GSE239626_final"
   ]
  },
  {
   "cell_type": "code",
   "execution_count": 42,
   "metadata": {},
   "outputs": [
    {
     "data": {
      "text/html": [
       "<div>\n",
       "<style scoped>\n",
       "    .dataframe tbody tr th:only-of-type {\n",
       "        vertical-align: middle;\n",
       "    }\n",
       "\n",
       "    .dataframe tbody tr th {\n",
       "        vertical-align: top;\n",
       "    }\n",
       "\n",
       "    .dataframe thead th {\n",
       "        text-align: right;\n",
       "    }\n",
       "</style>\n",
       "<table border=\"1\" class=\"dataframe\">\n",
       "  <thead>\n",
       "    <tr style=\"text-align: right;\">\n",
       "      <th></th>\n",
       "    </tr>\n",
       "  </thead>\n",
       "  <tbody>\n",
       "    <tr>\n",
       "      <th>AAACCCAAGACTGTTC-1</th>\n",
       "    </tr>\n",
       "    <tr>\n",
       "      <th>AAACCCAAGGATCATA-1</th>\n",
       "    </tr>\n",
       "    <tr>\n",
       "      <th>AAACCCAGTTATTCTC-1</th>\n",
       "    </tr>\n",
       "    <tr>\n",
       "      <th>AAACCCATCATGAGGG-1</th>\n",
       "    </tr>\n",
       "    <tr>\n",
       "      <th>AAACGAAAGCCAGTAG-1</th>\n",
       "    </tr>\n",
       "    <tr>\n",
       "      <th>...</th>\n",
       "    </tr>\n",
       "    <tr>\n",
       "      <th>TTTGTTGAGCGTCGAA-20</th>\n",
       "    </tr>\n",
       "    <tr>\n",
       "      <th>TTTGTTGAGTGTACCT-20</th>\n",
       "    </tr>\n",
       "    <tr>\n",
       "      <th>TTTGTTGCAATTGCAC-20</th>\n",
       "    </tr>\n",
       "    <tr>\n",
       "      <th>TTTGTTGCATTCAGCA-20</th>\n",
       "    </tr>\n",
       "    <tr>\n",
       "      <th>TTTGTTGGTGGGTTGA-20</th>\n",
       "    </tr>\n",
       "  </tbody>\n",
       "</table>\n",
       "<p>72317 rows × 0 columns</p>\n",
       "</div>"
      ],
      "text/plain": [
       "Empty DataFrame\n",
       "Columns: []\n",
       "Index: [AAACCCAAGACTGTTC-1, AAACCCAAGGATCATA-1, AAACCCAGTTATTCTC-1, AAACCCATCATGAGGG-1, AAACGAAAGCCAGTAG-1, AAACGAAAGCTGACAG-1, AAACGAAAGTAATACG-1, AAACGAAAGTATTCCG-1, AAACGAAAGTGCTACT-1, AAACGAAGTAACTAAG-1, AAACGAAGTAAGATCA-1, AAACGAAGTCATCGGC-1, AAACGAAGTCTGTGTA-1, AAACGAAGTGGTCTCG-1, AAACGAATCTCCGAGG-1, AAACGCTAGGTGATAT-1, AAACGCTAGTGCTAGG-1, AAACGCTCAACTACGT-1, AAACGCTCACACCTGG-1, AAACGCTGTACCTAGT-1, AAACGCTGTATGACAA-1, AAACGCTGTGGCTTGC-1, AAACGCTTCACCTGGG-1, AAACGCTTCACGACTA-1, AAAGAACAGGTTCTTG-1, AAAGAACCAACAGTGG-1, AAAGAACCAAGATCCT-1, AAAGAACCAGGTGTTT-1, AAAGAACGTAGCTTTG-1, AAAGAACTCCGAGAAG-1, AAAGGATCAAAGACTA-1, AAAGGATCAAGAGAGA-1, AAAGGATTCGGACCAC-1, AAAGGGCCAGTGCCTG-1, AAAGGGCGTATACAGA-1, AAAGGGCGTCTTACTT-1, AAAGGGCGTGATTCTG-1, AAAGGTAAGGACCCAA-1, AAAGGTAGTCTGATCA-1, AAAGGTATCAAAGCCT-1, AAAGGTATCCTCACCA-1, AAAGTCCAGGTCACTT-1, AAAGTCCCAGGTGAGT-1, AAAGTGACAAATGATG-1, AAAGTGACAATGAGCG-1, AAAGTGAGTGGCACTC-1, AAAGTGAGTGTATTGC-1, AAAGTGATCCACAGCG-1, AAATGGAAGTCGAATA-1, AAATGGAAGTTTCGGT-1, AAATGGACAGTCCCGA-1, AAATGGAGTAGGAGGG-1, AAATGGATCTTGAACG-1, AACAAAGAGAAGCCAC-1, AACAAAGAGCTGACAG-1, AACAAAGCATTAAGCC-1, AACAAAGGTACCATAC-1, AACAAAGTCATGCGGC-1, AACAAAGTCGCACGAC-1, AACAACCAGAGTTGAT-1, AACAACCAGCATATGA-1, AACAACCAGTATTAGG-1, AACAACCCAATCTGCA-1, AACAACCGTACTAGCT-1, AACAACCGTCTGTAAC-1, AACAACCGTTCGGTCG-1, AACAACCGTTGGACCC-1, AACAACCTCCGAGTGC-1, AACAACCTCTAGAACC-1, AACAACCTCTCCGTGT-1, AACAAGAAGTGGATAT-1, AACAAGACACGAAAGC-1, AACAAGACATCAACCA-1, AACAAGAGTCCAACGC-1, AACAAGAGTTCTCCTG-1, AACAAGAGTTTCGTAG-1, AACAAGATCGAGAAAT-1, AACACACAGTGGACGT-1, AACACACGTCAAGGCA-1, AACACACGTCAAGTTC-1, AACACACGTCGCATCG-1, AACACACGTTGGCTAT-1, AACACACGTTTCTTAC-1, AACAGGGAGGGCGAAG-1, AACAGGGAGTATGATG-1, AACAGGGCAGAGTTGG-1, AACCAACAGCGATCGA-1, AACCAACAGGAGGCAG-1, AACCAACTCACTGTTT-1, AACCAACTCCTCACCA-1, AACCAACTCCTCTCTT-1, AACCACAAGGTTCAGG-1, AACCACAGTACATTGC-1, AACCACAGTACGCTAT-1, AACCACAGTCCACATA-1, AACCACAGTTTAGACC-1, AACCACATCTAAGCGT-1, AACCACATCTGACGCG-1, AACCATGCAGACAATA-1, AACCATGCAGTGTGGA-1, ...]\n",
       "\n",
       "[72317 rows x 0 columns]"
      ]
     },
     "execution_count": 42,
     "metadata": {},
     "output_type": "execute_result"
    }
   ],
   "source": [
    "adata_GSE239626_final.obs"
   ]
  },
  {
   "cell_type": "code",
   "execution_count": 32,
   "metadata": {},
   "outputs": [
    {
     "data": {
      "text/html": [
       "<div>\n",
       "<style scoped>\n",
       "    .dataframe tbody tr th:only-of-type {\n",
       "        vertical-align: middle;\n",
       "    }\n",
       "\n",
       "    .dataframe tbody tr th {\n",
       "        vertical-align: top;\n",
       "    }\n",
       "\n",
       "    .dataframe thead th {\n",
       "        text-align: right;\n",
       "    }\n",
       "</style>\n",
       "<table border=\"1\" class=\"dataframe\">\n",
       "  <thead>\n",
       "    <tr style=\"text-align: right;\">\n",
       "      <th></th>\n",
       "    </tr>\n",
       "  </thead>\n",
       "  <tbody>\n",
       "    <tr>\n",
       "      <th>MIR1302-2HG</th>\n",
       "    </tr>\n",
       "    <tr>\n",
       "      <th>FAM138A</th>\n",
       "    </tr>\n",
       "  </tbody>\n",
       "</table>\n",
       "</div>"
      ],
      "text/plain": [
       "Empty DataFrame\n",
       "Columns: []\n",
       "Index: [MIR1302-2HG, FAM138A]"
      ]
     },
     "execution_count": 32,
     "metadata": {},
     "output_type": "execute_result"
    }
   ],
   "source": [
    "adata_GSE239626_final.var.head(2)"
   ]
  },
  {
   "cell_type": "code",
   "execution_count": 33,
   "metadata": {},
   "outputs": [
    {
     "data": {
      "text/plain": [
       "AnnData object with n_obs × n_vars = 0 × 37944"
      ]
     },
     "execution_count": 33,
     "metadata": {},
     "output_type": "execute_result"
    }
   ],
   "source": [
    "adata_GSE194078_final"
   ]
  },
  {
   "cell_type": "code",
   "execution_count": 34,
   "metadata": {},
   "outputs": [
    {
     "data": {
      "text/html": [
       "<div>\n",
       "<style scoped>\n",
       "    .dataframe tbody tr th:only-of-type {\n",
       "        vertical-align: middle;\n",
       "    }\n",
       "\n",
       "    .dataframe tbody tr th {\n",
       "        vertical-align: top;\n",
       "    }\n",
       "\n",
       "    .dataframe thead th {\n",
       "        text-align: right;\n",
       "    }\n",
       "</style>\n",
       "<table border=\"1\" class=\"dataframe\">\n",
       "  <thead>\n",
       "    <tr style=\"text-align: right;\">\n",
       "      <th></th>\n",
       "    </tr>\n",
       "  </thead>\n",
       "  <tbody>\n",
       "    <tr>\n",
       "      <th>MIR1302-2HG</th>\n",
       "    </tr>\n",
       "    <tr>\n",
       "      <th>FAM138A</th>\n",
       "    </tr>\n",
       "  </tbody>\n",
       "</table>\n",
       "</div>"
      ],
      "text/plain": [
       "Empty DataFrame\n",
       "Columns: []\n",
       "Index: [MIR1302-2HG, FAM138A]"
      ]
     },
     "execution_count": 34,
     "metadata": {},
     "output_type": "execute_result"
    }
   ],
   "source": [
    "adata_GSE194078_final.var.head(2)"
   ]
  },
  {
   "cell_type": "markdown",
   "metadata": {},
   "source": [
    "adata_GSE138266"
   ]
  },
  {
   "cell_type": "code",
   "execution_count": 35,
   "metadata": {},
   "outputs": [
    {
     "data": {
      "text/html": [
       "<div>\n",
       "<style scoped>\n",
       "    .dataframe tbody tr th:only-of-type {\n",
       "        vertical-align: middle;\n",
       "    }\n",
       "\n",
       "    .dataframe tbody tr th {\n",
       "        vertical-align: top;\n",
       "    }\n",
       "\n",
       "    .dataframe thead th {\n",
       "        text-align: right;\n",
       "    }\n",
       "</style>\n",
       "<table border=\"1\" class=\"dataframe\">\n",
       "  <thead>\n",
       "    <tr style=\"text-align: right;\">\n",
       "      <th></th>\n",
       "      <th>gene_symbols</th>\n",
       "      <th>gene_ids</th>\n",
       "    </tr>\n",
       "  </thead>\n",
       "  <tbody>\n",
       "    <tr>\n",
       "      <th>0</th>\n",
       "      <td>ENSG00000243485</td>\n",
       "      <td>RP11-34P13.3</td>\n",
       "    </tr>\n",
       "    <tr>\n",
       "      <th>1</th>\n",
       "      <td>ENSG00000237613</td>\n",
       "      <td>FAM138A</td>\n",
       "    </tr>\n",
       "  </tbody>\n",
       "</table>\n",
       "</div>"
      ],
      "text/plain": [
       "      gene_symbols      gene_ids\n",
       "0  ENSG00000243485  RP11-34P13.3\n",
       "1  ENSG00000237613       FAM138A"
      ]
     },
     "execution_count": 35,
     "metadata": {},
     "output_type": "execute_result"
    }
   ],
   "source": [
    "adata_GSE138266.var.head(2)"
   ]
  },
  {
   "cell_type": "code",
   "execution_count": 26,
   "metadata": {},
   "outputs": [],
   "source": [
    "import anndata\n",
    "import scipy.sparse as sp\n"
   ]
  },
  {
   "cell_type": "code",
   "execution_count": 36,
   "metadata": {},
   "outputs": [
    {
     "data": {
      "text/plain": [
       "AnnData object with n_obs × n_vars = 68038 × 37944"
      ]
     },
     "execution_count": 36,
     "metadata": {},
     "output_type": "execute_result"
    }
   ],
   "source": [
    "new_genes_13 = adata_GSE239626.var['gene_ids'][~adata_GSE239626.var['gene_ids'\n",
    "    ].isin(adata_GSE138266.var['gene_symbols'])]\n",
    "\n",
    "a = sc.AnnData(sp.csr_matrix((adata_GSE138266.X.shape[0], len(new_genes_13))))\n",
    "\n",
    "a.var.index = new_genes_13\n",
    "a.obs.index = adata_GSE138266.obs.index\n",
    "a.obs.sample = adata_GSE138266.obs.sample\n",
    "\n",
    "adata_GSE138266_final = anndata.concat([adata_GSE138266, a], axis=1)\n",
    "adata_GSE138266_final"
   ]
  },
  {
   "cell_type": "code",
   "execution_count": 37,
   "metadata": {},
   "outputs": [
    {
     "data": {
      "text/html": [
       "<div>\n",
       "<style scoped>\n",
       "    .dataframe tbody tr th:only-of-type {\n",
       "        vertical-align: middle;\n",
       "    }\n",
       "\n",
       "    .dataframe tbody tr th {\n",
       "        vertical-align: top;\n",
       "    }\n",
       "\n",
       "    .dataframe thead th {\n",
       "        text-align: right;\n",
       "    }\n",
       "</style>\n",
       "<table border=\"1\" class=\"dataframe\">\n",
       "  <thead>\n",
       "    <tr style=\"text-align: right;\">\n",
       "      <th></th>\n",
       "    </tr>\n",
       "  </thead>\n",
       "  <tbody>\n",
       "    <tr>\n",
       "      <th>0</th>\n",
       "    </tr>\n",
       "    <tr>\n",
       "      <th>1</th>\n",
       "    </tr>\n",
       "  </tbody>\n",
       "</table>\n",
       "</div>"
      ],
      "text/plain": [
       "Empty DataFrame\n",
       "Columns: []\n",
       "Index: [0, 1]"
      ]
     },
     "execution_count": 37,
     "metadata": {},
     "output_type": "execute_result"
    }
   ],
   "source": [
    "adata_GSE138266_final.var.head(2)"
   ]
  },
  {
   "cell_type": "code",
   "execution_count": 38,
   "metadata": {},
   "outputs": [
    {
     "data": {
      "text/plain": [
       "(37944, 37944, 37944)"
      ]
     },
     "execution_count": 38,
     "metadata": {},
     "output_type": "execute_result"
    }
   ],
   "source": [
    "adata_GSE239626_final.n_vars, adata_GSE194078_final.n_vars, adata_GSE138266_final.n_vars"
   ]
  },
  {
   "cell_type": "markdown",
   "metadata": {},
   "source": [
    "Concat"
   ]
  },
  {
   "cell_type": "code",
   "execution_count": 29,
   "metadata": {},
   "outputs": [
    {
     "ename": "NameError",
     "evalue": "name 'adata_GSE239626_final' is not defined",
     "output_type": "error",
     "traceback": [
      "\u001b[1;31m---------------------------------------------------------------------------\u001b[0m",
      "\u001b[1;31mNameError\u001b[0m                                 Traceback (most recent call last)",
      "Cell \u001b[1;32mIn[29], line 1\u001b[0m\n\u001b[1;32m----> 1\u001b[0m adata \u001b[38;5;241m=\u001b[39m \u001b[43madata_GSE239626_final\u001b[49m\n\u001b[0;32m      2\u001b[0m adata \u001b[38;5;241m=\u001b[39m adata\u001b[38;5;241m.\u001b[39mconcatenate(adata_GSE138266_final)\n\u001b[0;32m      3\u001b[0m adata \u001b[38;5;241m=\u001b[39m adata\u001b[38;5;241m.\u001b[39mconcatenate(adata_GSE194078_final)\n",
      "\u001b[1;31mNameError\u001b[0m: name 'adata_GSE239626_final' is not defined"
     ]
    }
   ],
   "source": [
    "adata = adata_GSE239626_final\n",
    "adata = adata.concatenate(adata_GSE138266_final)\n",
    "adata = adata.concatenate(adata_GSE194078_final)\n",
    "\n",
    "adata"
   ]
  },
  {
   "cell_type": "code",
   "execution_count": null,
   "metadata": {},
   "outputs": [
    {
     "data": {
      "text/plain": [
       "array(['MS', 'PTC', 'PST', 'Ab-mediated IDD', 'Normal', 'YYW'],\n",
       "      dtype=object)"
      ]
     },
     "execution_count": 72,
     "metadata": {},
     "output_type": "execute_result"
    }
   ],
   "source": [
    "adata.obs['disease'].unique()"
   ]
  },
  {
   "cell_type": "code",
   "execution_count": null,
   "metadata": {},
   "outputs": [],
   "source": [
    "adata.obs['MS/HC'] = adata.obs['disease'].apply(lambda x: 'MS' if x=='MS' else 'HC')"
   ]
  },
  {
   "cell_type": "markdown",
   "metadata": {},
   "source": [
    "### Save new dataset"
   ]
  },
  {
   "cell_type": "code",
   "execution_count": null,
   "metadata": {},
   "outputs": [],
   "source": [
    "adata.write('write/transcrittomic.h5ad')"
   ]
  }
 ],
 "metadata": {
  "kernelspec": {
   "display_name": "base",
   "language": "python",
   "name": "python3"
  },
  "language_info": {
   "codemirror_mode": {
    "name": "ipython",
    "version": 3
   },
   "file_extension": ".py",
   "mimetype": "text/x-python",
   "name": "python",
   "nbconvert_exporter": "python",
   "pygments_lexer": "ipython3",
   "version": "3.10.9"
  }
 },
 "nbformat": 4,
 "nbformat_minor": 2
}

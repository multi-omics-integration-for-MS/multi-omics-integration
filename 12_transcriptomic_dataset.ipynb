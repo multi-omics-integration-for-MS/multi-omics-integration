{
 "cells": [
  {
   "cell_type": "code",
   "execution_count": null,
   "metadata": {},
   "outputs": [],
   "source": [
    "# TODO: concatenate all dataset, split CSF and PBMC, patient and HC and split train and test"
   ]
  },
  {
   "cell_type": "code",
   "execution_count": 1,
   "metadata": {},
   "outputs": [
    {
     "name": "stderr",
     "output_type": "stream",
     "text": [
      "c:\\Users\\giuli\\anaconda3\\lib\\site-packages\\pandas\\core\\arrays\\masked.py:60: UserWarning: Pandas requires version '1.3.6' or newer of 'bottleneck' (version '1.3.5' currently installed).\n",
      "  from pandas.core import (\n"
     ]
    }
   ],
   "source": [
    "import scanpy as sc\n",
    "import pandas as pd\n",
    "import numpy as np\n",
    "\n",
    "GSE239626_PATH = 'GSE239626'\n",
    "GSE138266_PATH = 'GSE138266'\n",
    "GSE194078_PATH = 'GSE194078'\n",
    "\n",
    "GSE239626_LABELS_PATH = 'results/celltypist_labels_from_protein_Immune_All_High.csv'\n",
    "GSE138266_LABELS_PATH = 'results/celltypist_labels_from_transcriptomic_GSE138266.csv'\n",
    "GSE194078_LABELS_PATH = 'results/celltypist_labels_from_transcriptomic_GSE194078.csv'"
   ]
  },
  {
   "cell_type": "markdown",
   "metadata": {},
   "source": [
    "### GSE239626"
   ]
  },
  {
   "cell_type": "code",
   "execution_count": 2,
   "metadata": {},
   "outputs": [
    {
     "data": {
      "text/plain": [
       "AnnData object with n_obs × n_vars = 72317 × 36601\n",
       "    obs: 'dataset', 'disease', 'cell_type', 'patiens', 'patiens_id', 'time', 'cell_types_labels'\n",
       "    var: 'gene_ids', 'feature_types'"
      ]
     },
     "execution_count": 2,
     "metadata": {},
     "output_type": "execute_result"
    }
   ],
   "source": [
    "adata_GSE239626 = sc.read(GSE239626_PATH)\n",
    "\n",
    "GSE239626_labels = pd.read_csv(GSE239626_LABELS_PATH)\n",
    "adata_GSE239626.obs['cell_types_labels'] = GSE239626_labels['predicted_labels'].values\n",
    "\n",
    "adata_GSE239626"
   ]
  },
  {
   "cell_type": "markdown",
   "metadata": {},
   "source": [
    "### GSE138266"
   ]
  },
  {
   "cell_type": "code",
   "execution_count": 3,
   "metadata": {},
   "outputs": [
    {
     "data": {
      "text/plain": [
       "View of AnnData object with n_obs × n_vars = 37077 × 33694\n",
       "    obs: 'sample', 'patient', 'dataset', 'disease', 'cell_type', 'batch'\n",
       "    var: 'gene_symbols', 'gene_ids'"
      ]
     },
     "execution_count": 3,
     "metadata": {},
     "output_type": "execute_result"
    }
   ],
   "source": [
    "adata_GSE138266 = sc.read(GSE138266_PATH)\n",
    "adata_GSE138266 = adata_GSE138266[(adata_GSE138266.obs['cell_type']!='CSF')&(adata_GSE138266.obs['disease']!='PST')]\n",
    "adata_GSE138266"
   ]
  },
  {
   "cell_type": "code",
   "execution_count": null,
   "metadata": {},
   "outputs": [],
   "source": [
    "GSE138266_labels = pd.read_csv(GSE138266_LABELS_PATH)\n",
    "adata_GSE138266.obs['cell_types_labels'] = GSE138266_labels['cell_types_labels'].values"
   ]
  },
  {
   "cell_type": "code",
   "execution_count": null,
   "metadata": {},
   "outputs": [],
   "source": [
    "adata_GSE138266"
   ]
  },
  {
   "cell_type": "markdown",
   "metadata": {},
   "source": [
    "### GSE194078"
   ]
  },
  {
   "cell_type": "code",
   "execution_count": 4,
   "metadata": {},
   "outputs": [
    {
     "data": {
      "text/plain": [
       "AnnData object with n_obs × n_vars = 110565 × 36601\n",
       "    obs: 'patient', 'patient_id', 'disease', 'batch', 'dataset', 'cell_types', 'cell_types_labels'\n",
       "    var: 'gene_ids', 'feature_types'"
      ]
     },
     "execution_count": 4,
     "metadata": {},
     "output_type": "execute_result"
    }
   ],
   "source": [
    "adata_GSE194078 = sc.read(GSE194078_PATH)\n",
    "\n",
    "GSE194078_labels = pd.read_csv(GSE194078_LABELS_PATH)\n",
    "adata_GSE194078.obs['cell_types_labels'] = GSE194078_labels['cell_types_labels'].values\n",
    "\n",
    "adata_GSE194078"
   ]
  },
  {
   "cell_type": "markdown",
   "metadata": {},
   "source": [
    "### Save new dataset"
   ]
  },
  {
   "cell_type": "code",
   "execution_count": 6,
   "metadata": {},
   "outputs": [
    {
     "name": "stderr",
     "output_type": "stream",
     "text": [
      "C:\\Users\\giuli\\AppData\\Local\\Temp\\ipykernel_34328\\2294541072.py:1: FutureWarning: Use anndata.concat instead of AnnData.concatenate, AnnData.concatenate is deprecated and will be removed in the future. See the tutorial for concat at: https://anndata.readthedocs.io/en/latest/concatenation.html\n",
      "  adata = adata_GSE239626.concatenate(adata_GSE138266, adata_GSE194078,\n"
     ]
    },
    {
     "data": {
      "text/plain": [
       "AnnData object with n_obs × n_vars = 219959 × 0\n",
       "    obs: 'dataset', 'disease', 'cell_type', 'patiens', 'patiens_id', 'time', 'cell_types_labels', 'sample', 'patient', 'batch', 'patient_id', 'cell_types'\n",
       "    var: 'gene_ids-GSE138266', 'gene_symbols-GSE138266', 'gene_ids-GSE194078', 'feature_types-GSE194078', 'gene_ids-GSE239626', 'feature_types-GSE239626'"
      ]
     },
     "execution_count": 6,
     "metadata": {},
     "output_type": "execute_result"
    }
   ],
   "source": [
    "adata = adata_GSE239626.concatenate(adata_GSE138266, adata_GSE194078, \n",
    "    batch_key='dataset', batch_categories=['GSE239626', 'GSE138266', 'GSE194078'])\n",
    "adata"
   ]
  },
  {
   "cell_type": "code",
   "execution_count": null,
   "metadata": {},
   "outputs": [],
   "source": [
    "adata.write('write/transcrittomic.h5ad')"
   ]
  }
 ],
 "metadata": {
  "kernelspec": {
   "display_name": "base",
   "language": "python",
   "name": "python3"
  },
  "language_info": {
   "codemirror_mode": {
    "name": "ipython",
    "version": 3
   },
   "file_extension": ".py",
   "mimetype": "text/x-python",
   "name": "python",
   "nbconvert_exporter": "python",
   "pygments_lexer": "ipython3",
   "version": "3.10.9"
  }
 },
 "nbformat": 4,
 "nbformat_minor": 2
}

{
 "cells": [
  {
   "cell_type": "code",
   "execution_count": 1,
   "metadata": {},
   "outputs": [
    {
     "name": "stderr",
     "output_type": "stream",
     "text": [
      "c:\\Users\\giuli\\anaconda3\\lib\\site-packages\\pandas\\core\\arrays\\masked.py:60: UserWarning: Pandas requires version '1.3.6' or newer of 'bottleneck' (version '1.3.5' currently installed).\n",
      "  from pandas.core import (\n"
     ]
    }
   ],
   "source": [
    "import pandas as pd\n",
    "import numpy as np\n",
    "from utils import sankey_plot_with_labels\n",
    "\n",
    "RESULTS_FOLDER = 'results/'\n",
    "CELLTYPIST_HIGH_PATH = 'results/celltypist_labels_Immune_All_High.csv'\n",
    "CELLTYPIST_LOW_PATH = 'results/celltypist_labels_Immune_All_Low.csv'\n",
    "CELL_TYPES_PER_CLUSTER_PATH = 'results/celltypes_labels_from_antobody_clusters.csv'\n",
    "CLUSTER_LABELS_PATH = 'results/cluster_labels.csv'"
   ]
  },
  {
   "cell_type": "markdown",
   "metadata": {},
   "source": [
    "Import data:"
   ]
  },
  {
   "cell_type": "code",
   "execution_count": 2,
   "metadata": {},
   "outputs": [
    {
     "data": {
      "text/html": [
       "<div>\n",
       "<style scoped>\n",
       "    .dataframe tbody tr th:only-of-type {\n",
       "        vertical-align: middle;\n",
       "    }\n",
       "\n",
       "    .dataframe tbody tr th {\n",
       "        vertical-align: top;\n",
       "    }\n",
       "\n",
       "    .dataframe thead th {\n",
       "        text-align: right;\n",
       "    }\n",
       "</style>\n",
       "<table border=\"1\" class=\"dataframe\">\n",
       "  <thead>\n",
       "    <tr style=\"text-align: right;\">\n",
       "      <th></th>\n",
       "      <th>leiden</th>\n",
       "    </tr>\n",
       "  </thead>\n",
       "  <tbody>\n",
       "    <tr>\n",
       "      <th>AAACCCAAGACTGTTC-1</th>\n",
       "      <td>6</td>\n",
       "    </tr>\n",
       "    <tr>\n",
       "      <th>AAACCCAAGGATCATA-1</th>\n",
       "      <td>3</td>\n",
       "    </tr>\n",
       "  </tbody>\n",
       "</table>\n",
       "</div>"
      ],
      "text/plain": [
       "                    leiden\n",
       "AAACCCAAGACTGTTC-1       6\n",
       "AAACCCAAGGATCATA-1       3"
      ]
     },
     "execution_count": 2,
     "metadata": {},
     "output_type": "execute_result"
    }
   ],
   "source": [
    "cluster_labels_df = pd.read_csv(CLUSTER_LABELS_PATH, index_col=0)\n",
    "cluster_labels_df.head(2)"
   ]
  },
  {
   "cell_type": "code",
   "execution_count": 3,
   "metadata": {},
   "outputs": [
    {
     "data": {
      "text/html": [
       "<div>\n",
       "<style scoped>\n",
       "    .dataframe tbody tr th:only-of-type {\n",
       "        vertical-align: middle;\n",
       "    }\n",
       "\n",
       "    .dataframe tbody tr th {\n",
       "        vertical-align: top;\n",
       "    }\n",
       "\n",
       "    .dataframe thead th {\n",
       "        text-align: right;\n",
       "    }\n",
       "</style>\n",
       "<table border=\"1\" class=\"dataframe\">\n",
       "  <thead>\n",
       "    <tr style=\"text-align: right;\">\n",
       "      <th></th>\n",
       "      <th>CellType</th>\n",
       "      <th>Literature1</th>\n",
       "      <th>Literature2</th>\n",
       "    </tr>\n",
       "  </thead>\n",
       "  <tbody>\n",
       "    <tr>\n",
       "      <th>0</th>\n",
       "      <td>T cells</td>\n",
       "      <td>CD4 T Cell</td>\n",
       "      <td>CD8 T Cell</td>\n",
       "    </tr>\n",
       "    <tr>\n",
       "      <th>1</th>\n",
       "      <td>T cells</td>\n",
       "      <td>CD4 T Cell</td>\n",
       "      <td>CD8 T Cell</td>\n",
       "    </tr>\n",
       "  </tbody>\n",
       "</table>\n",
       "</div>"
      ],
      "text/plain": [
       "  CellType Literature1 Literature2\n",
       "0  T cells  CD4 T Cell  CD8 T Cell\n",
       "1  T cells  CD4 T Cell  CD8 T Cell"
      ]
     },
     "execution_count": 3,
     "metadata": {},
     "output_type": "execute_result"
    }
   ],
   "source": [
    "celltypes_per_cluster_df = pd.read_csv(CELL_TYPES_PER_CLUSTER_PATH, index_col=0)\n",
    "celltypes_per_cluster_df.head(2)"
   ]
  },
  {
   "cell_type": "markdown",
   "metadata": {},
   "source": [
    "Select most predicted labels for each cluster:"
   ]
  },
  {
   "cell_type": "code",
   "execution_count": 4,
   "metadata": {},
   "outputs": [
    {
     "data": {
      "text/html": [
       "<div>\n",
       "<style scoped>\n",
       "    .dataframe tbody tr th:only-of-type {\n",
       "        vertical-align: middle;\n",
       "    }\n",
       "\n",
       "    .dataframe tbody tr th {\n",
       "        vertical-align: top;\n",
       "    }\n",
       "\n",
       "    .dataframe thead th {\n",
       "        text-align: right;\n",
       "    }\n",
       "</style>\n",
       "<table border=\"1\" class=\"dataframe\">\n",
       "  <thead>\n",
       "    <tr style=\"text-align: right;\">\n",
       "      <th></th>\n",
       "      <th>predicted_labels</th>\n",
       "      <th>over_clustering</th>\n",
       "      <th>majority_voting</th>\n",
       "      <th>antibody_cluster</th>\n",
       "    </tr>\n",
       "  </thead>\n",
       "  <tbody>\n",
       "    <tr>\n",
       "      <th>AAACCCAAGACTGTTC-1</th>\n",
       "      <td>T cells</td>\n",
       "      <td>338</td>\n",
       "      <td>T cells</td>\n",
       "      <td>6</td>\n",
       "    </tr>\n",
       "    <tr>\n",
       "      <th>AAACCCAAGGATCATA-1</th>\n",
       "      <td>T cells</td>\n",
       "      <td>28</td>\n",
       "      <td>T cells</td>\n",
       "      <td>3</td>\n",
       "    </tr>\n",
       "  </tbody>\n",
       "</table>\n",
       "</div>"
      ],
      "text/plain": [
       "                   predicted_labels  over_clustering majority_voting  \\\n",
       "AAACCCAAGACTGTTC-1          T cells              338         T cells   \n",
       "AAACCCAAGGATCATA-1          T cells               28         T cells   \n",
       "\n",
       "                    antibody_cluster  \n",
       "AAACCCAAGACTGTTC-1                 6  \n",
       "AAACCCAAGGATCATA-1                 3  "
      ]
     },
     "execution_count": 4,
     "metadata": {},
     "output_type": "execute_result"
    }
   ],
   "source": [
    "celltypist_high_df = pd.read_csv(CELLTYPIST_HIGH_PATH, index_col=0)\n",
    "celltypist_high_df['antibody_cluster'] = cluster_labels_df['leiden']\n",
    "celltypist_high_df.head(2)"
   ]
  },
  {
   "cell_type": "code",
   "execution_count": 5,
   "metadata": {},
   "outputs": [
    {
     "data": {
      "text/html": [
       "<div>\n",
       "<style scoped>\n",
       "    .dataframe tbody tr th:only-of-type {\n",
       "        vertical-align: middle;\n",
       "    }\n",
       "\n",
       "    .dataframe tbody tr th {\n",
       "        vertical-align: top;\n",
       "    }\n",
       "\n",
       "    .dataframe thead th {\n",
       "        text-align: right;\n",
       "    }\n",
       "</style>\n",
       "<table border=\"1\" class=\"dataframe\">\n",
       "  <thead>\n",
       "    <tr style=\"text-align: right;\">\n",
       "      <th></th>\n",
       "      <th>predicted_labels</th>\n",
       "      <th>over_clustering</th>\n",
       "      <th>majority_voting</th>\n",
       "      <th>antibody_cluster</th>\n",
       "    </tr>\n",
       "  </thead>\n",
       "  <tbody>\n",
       "    <tr>\n",
       "      <th>AAACCCAAGACTGTTC-1</th>\n",
       "      <td>Regulatory T cells</td>\n",
       "      <td>338</td>\n",
       "      <td>Tem/Trm cytotoxic T cells</td>\n",
       "      <td>6</td>\n",
       "    </tr>\n",
       "    <tr>\n",
       "      <th>AAACCCAAGGATCATA-1</th>\n",
       "      <td>Tcm/Naive cytotoxic T cells</td>\n",
       "      <td>28</td>\n",
       "      <td>Tcm/Naive cytotoxic T cells</td>\n",
       "      <td>3</td>\n",
       "    </tr>\n",
       "  </tbody>\n",
       "</table>\n",
       "</div>"
      ],
      "text/plain": [
       "                               predicted_labels  over_clustering  \\\n",
       "AAACCCAAGACTGTTC-1           Regulatory T cells              338   \n",
       "AAACCCAAGGATCATA-1  Tcm/Naive cytotoxic T cells               28   \n",
       "\n",
       "                                majority_voting  antibody_cluster  \n",
       "AAACCCAAGACTGTTC-1    Tem/Trm cytotoxic T cells                 6  \n",
       "AAACCCAAGGATCATA-1  Tcm/Naive cytotoxic T cells                 3  "
      ]
     },
     "execution_count": 5,
     "metadata": {},
     "output_type": "execute_result"
    }
   ],
   "source": [
    "celltypist_low_df = pd.read_csv(CELLTYPIST_LOW_PATH, index_col=0)\n",
    "celltypist_low_df['antibody_cluster'] = cluster_labels_df['leiden']\n",
    "celltypist_low_df.head(2)"
   ]
  },
  {
   "cell_type": "code",
   "execution_count": 6,
   "metadata": {},
   "outputs": [
    {
     "data": {
      "text/html": [
       "<div>\n",
       "<style scoped>\n",
       "    .dataframe tbody tr th:only-of-type {\n",
       "        vertical-align: middle;\n",
       "    }\n",
       "\n",
       "    .dataframe tbody tr th {\n",
       "        vertical-align: top;\n",
       "    }\n",
       "\n",
       "    .dataframe thead th {\n",
       "        text-align: right;\n",
       "    }\n",
       "</style>\n",
       "<table border=\"1\" class=\"dataframe\">\n",
       "  <thead>\n",
       "    <tr style=\"text-align: right;\">\n",
       "      <th></th>\n",
       "      <th>CellType</th>\n",
       "      <th>Literature1</th>\n",
       "      <th>Literature2</th>\n",
       "      <th>cell_typist_high</th>\n",
       "      <th>cell_typist_low</th>\n",
       "    </tr>\n",
       "  </thead>\n",
       "  <tbody>\n",
       "    <tr>\n",
       "      <th>0</th>\n",
       "      <td>T cells</td>\n",
       "      <td>CD4 T Cell</td>\n",
       "      <td>CD8 T Cell</td>\n",
       "      <td>T cells</td>\n",
       "      <td>Tcm/Naive helper T cells</td>\n",
       "    </tr>\n",
       "    <tr>\n",
       "      <th>1</th>\n",
       "      <td>T cells</td>\n",
       "      <td>CD4 T Cell</td>\n",
       "      <td>CD8 T Cell</td>\n",
       "      <td>T cells</td>\n",
       "      <td>Tcm/Naive helper T cells</td>\n",
       "    </tr>\n",
       "    <tr>\n",
       "      <th>2</th>\n",
       "      <td>B cells</td>\n",
       "      <td>NaN</td>\n",
       "      <td>NaN</td>\n",
       "      <td>B cells</td>\n",
       "      <td>Naive B cells</td>\n",
       "    </tr>\n",
       "    <tr>\n",
       "      <th>3</th>\n",
       "      <td>T cells</td>\n",
       "      <td>T Cell</td>\n",
       "      <td>CD8 T Cell</td>\n",
       "      <td>T cells</td>\n",
       "      <td>Tcm/Naive cytotoxic T cells</td>\n",
       "    </tr>\n",
       "    <tr>\n",
       "      <th>4</th>\n",
       "      <td>T cells</td>\n",
       "      <td>T Cell</td>\n",
       "      <td>CD8 T Cell</td>\n",
       "      <td>T cells</td>\n",
       "      <td>Tem/Trm cytotoxic T cells</td>\n",
       "    </tr>\n",
       "    <tr>\n",
       "      <th>5</th>\n",
       "      <td>ILC</td>\n",
       "      <td>NK Cell</td>\n",
       "      <td>CD8 T Cell</td>\n",
       "      <td>ILC</td>\n",
       "      <td>CD16+ NK cells</td>\n",
       "    </tr>\n",
       "    <tr>\n",
       "      <th>6</th>\n",
       "      <td>NaN</td>\n",
       "      <td>NaN</td>\n",
       "      <td>CD8 T Cell</td>\n",
       "      <td>T cells</td>\n",
       "      <td>Tem/Temra cytotoxic T cells</td>\n",
       "    </tr>\n",
       "    <tr>\n",
       "      <th>7</th>\n",
       "      <td>NaN</td>\n",
       "      <td>T Cell</td>\n",
       "      <td>CD8 T Cell</td>\n",
       "      <td>T cells</td>\n",
       "      <td>MAIT cells</td>\n",
       "    </tr>\n",
       "    <tr>\n",
       "      <th>8</th>\n",
       "      <td>B cells</td>\n",
       "      <td>B Cell</td>\n",
       "      <td>NaN</td>\n",
       "      <td>B cells</td>\n",
       "      <td>Memory B cells</td>\n",
       "    </tr>\n",
       "    <tr>\n",
       "      <th>9</th>\n",
       "      <td>B cells</td>\n",
       "      <td>B Cell</td>\n",
       "      <td>Naive T Cell</td>\n",
       "      <td>B cells</td>\n",
       "      <td>Tcm/Naive helper T cells</td>\n",
       "    </tr>\n",
       "    <tr>\n",
       "      <th>10</th>\n",
       "      <td>NaN</td>\n",
       "      <td>NaN</td>\n",
       "      <td>CD4 T Cell</td>\n",
       "      <td>T cells</td>\n",
       "      <td>Tem/Temra cytotoxic T cells</td>\n",
       "    </tr>\n",
       "    <tr>\n",
       "      <th>11</th>\n",
       "      <td>Monocytes</td>\n",
       "      <td>Monocytes</td>\n",
       "      <td>NaN</td>\n",
       "      <td>Monocytes</td>\n",
       "      <td>Classical monocytes</td>\n",
       "    </tr>\n",
       "    <tr>\n",
       "      <th>12</th>\n",
       "      <td>HSC/MPP</td>\n",
       "      <td>NaN</td>\n",
       "      <td>CD8 T Cell</td>\n",
       "      <td>T cells</td>\n",
       "      <td>Tcm/Naive helper T cells</td>\n",
       "    </tr>\n",
       "    <tr>\n",
       "      <th>13</th>\n",
       "      <td>HSC/MPP</td>\n",
       "      <td>NaN</td>\n",
       "      <td>CD8 T Cell</td>\n",
       "      <td>T cells</td>\n",
       "      <td>Tcm/Naive helper T cells</td>\n",
       "    </tr>\n",
       "    <tr>\n",
       "      <th>14</th>\n",
       "      <td>NaN</td>\n",
       "      <td>NaN</td>\n",
       "      <td>NaN</td>\n",
       "      <td>Megakaryocytes/platelets</td>\n",
       "      <td>Megakaryocytes/platelets</td>\n",
       "    </tr>\n",
       "    <tr>\n",
       "      <th>15</th>\n",
       "      <td>NaN</td>\n",
       "      <td>NaN</td>\n",
       "      <td>NaN</td>\n",
       "      <td>T cells</td>\n",
       "      <td>Tcm/Naive helper T cells</td>\n",
       "    </tr>\n",
       "  </tbody>\n",
       "</table>\n",
       "</div>"
      ],
      "text/plain": [
       "     CellType Literature1   Literature2          cell_typist_high  \\\n",
       "0     T cells  CD4 T Cell    CD8 T Cell                   T cells   \n",
       "1     T cells  CD4 T Cell    CD8 T Cell                   T cells   \n",
       "2     B cells         NaN           NaN                   B cells   \n",
       "3     T cells      T Cell    CD8 T Cell                   T cells   \n",
       "4     T cells      T Cell    CD8 T Cell                   T cells   \n",
       "5         ILC     NK Cell    CD8 T Cell                       ILC   \n",
       "6         NaN         NaN    CD8 T Cell                   T cells   \n",
       "7         NaN      T Cell    CD8 T Cell                   T cells   \n",
       "8     B cells      B Cell           NaN                   B cells   \n",
       "9     B cells      B Cell  Naive T Cell                   B cells   \n",
       "10        NaN         NaN    CD4 T Cell                   T cells   \n",
       "11  Monocytes   Monocytes           NaN                 Monocytes   \n",
       "12    HSC/MPP         NaN    CD8 T Cell                   T cells   \n",
       "13    HSC/MPP         NaN    CD8 T Cell                   T cells   \n",
       "14        NaN         NaN           NaN  Megakaryocytes/platelets   \n",
       "15        NaN         NaN           NaN                   T cells   \n",
       "\n",
       "                cell_typist_low  \n",
       "0      Tcm/Naive helper T cells  \n",
       "1      Tcm/Naive helper T cells  \n",
       "2                 Naive B cells  \n",
       "3   Tcm/Naive cytotoxic T cells  \n",
       "4     Tem/Trm cytotoxic T cells  \n",
       "5                CD16+ NK cells  \n",
       "6   Tem/Temra cytotoxic T cells  \n",
       "7                    MAIT cells  \n",
       "8                Memory B cells  \n",
       "9      Tcm/Naive helper T cells  \n",
       "10  Tem/Temra cytotoxic T cells  \n",
       "11          Classical monocytes  \n",
       "12     Tcm/Naive helper T cells  \n",
       "13     Tcm/Naive helper T cells  \n",
       "14     Megakaryocytes/platelets  \n",
       "15     Tcm/Naive helper T cells  "
      ]
     },
     "execution_count": 6,
     "metadata": {},
     "output_type": "execute_result"
    }
   ],
   "source": [
    "# find the most common cell type in each cluster    \n",
    "for cluster in range(16):\n",
    "    cluster_df = celltypist_high_df[celltypist_high_df['antibody_cluster'] == cluster]\n",
    "    most_common_celltype = cluster_df['predicted_labels'].value_counts().idxmax()\n",
    "    celltypes_per_cluster_df.loc[cluster, 'cell_typist_high'] = most_common_celltype\n",
    "    \n",
    "    cluster_df = celltypist_low_df[celltypist_low_df['antibody_cluster'] == cluster]\n",
    "    most_common_celltype = cluster_df['predicted_labels'].value_counts().idxmax()\n",
    "    celltypes_per_cluster_df.loc[cluster, 'cell_typist_low'] = most_common_celltype\n",
    "\n",
    "celltypes_per_cluster_df"
   ]
  },
  {
   "cell_type": "code",
   "execution_count": 7,
   "metadata": {},
   "outputs": [
    {
     "data": {
      "text/plain": [
       "cell_typist_high\n",
       "T cells                     10\n",
       "B cells                      3\n",
       "ILC                          1\n",
       "Monocytes                    1\n",
       "Megakaryocytes/platelets     1\n",
       "Name: count, dtype: int64"
      ]
     },
     "execution_count": 7,
     "metadata": {},
     "output_type": "execute_result"
    }
   ],
   "source": [
    "celltypes_per_cluster_df['cell_typist_high'].value_counts()"
   ]
  },
  {
   "cell_type": "code",
   "execution_count": 8,
   "metadata": {},
   "outputs": [
    {
     "data": {
      "text/plain": [
       "cell_typist_low\n",
       "Tcm/Naive helper T cells       6\n",
       "Tem/Temra cytotoxic T cells    2\n",
       "Naive B cells                  1\n",
       "Tcm/Naive cytotoxic T cells    1\n",
       "Tem/Trm cytotoxic T cells      1\n",
       "CD16+ NK cells                 1\n",
       "MAIT cells                     1\n",
       "Memory B cells                 1\n",
       "Classical monocytes            1\n",
       "Megakaryocytes/platelets       1\n",
       "Name: count, dtype: int64"
      ]
     },
     "execution_count": 8,
     "metadata": {},
     "output_type": "execute_result"
    }
   ],
   "source": [
    "celltypes_per_cluster_df['cell_typist_low'].value_counts()"
   ]
  },
  {
   "cell_type": "code",
   "execution_count": 9,
   "metadata": {},
   "outputs": [
    {
     "data": {
      "text/plain": [
       "array(['T cells', 'B cells', 'ILC', nan, 'Monocytes', 'HSC/MPP'],\n",
       "      dtype=object)"
      ]
     },
     "metadata": {},
     "output_type": "display_data"
    },
    {
     "data": {
      "text/plain": [
       "array(['CD4 T Cell', nan, 'T Cell', 'NK Cell', 'B Cell', 'Monocytes'],\n",
       "      dtype=object)"
      ]
     },
     "metadata": {},
     "output_type": "display_data"
    },
    {
     "data": {
      "text/plain": [
       "array(['CD8 T Cell', nan, 'Naive T Cell', 'CD4 T Cell'], dtype=object)"
      ]
     },
     "metadata": {},
     "output_type": "display_data"
    },
    {
     "data": {
      "text/plain": [
       "array(['T cells', 'B cells', 'ILC', 'Monocytes',\n",
       "       'Megakaryocytes/platelets'], dtype=object)"
      ]
     },
     "metadata": {},
     "output_type": "display_data"
    },
    {
     "data": {
      "text/plain": [
       "array(['Tcm/Naive helper T cells', 'Naive B cells',\n",
       "       'Tcm/Naive cytotoxic T cells', 'Tem/Trm cytotoxic T cells',\n",
       "       'CD16+ NK cells', 'Tem/Temra cytotoxic T cells', 'MAIT cells',\n",
       "       'Memory B cells', 'Classical monocytes',\n",
       "       'Megakaryocytes/platelets'], dtype=object)"
      ]
     },
     "metadata": {},
     "output_type": "display_data"
    }
   ],
   "source": [
    "display(celltypes_per_cluster_df['CellType'].unique())\n",
    "display(celltypes_per_cluster_df['Literature1'].unique())\n",
    "display(celltypes_per_cluster_df['Literature2'].unique())\n",
    "display(celltypes_per_cluster_df['cell_typist_high'].unique())\n",
    "display(celltypes_per_cluster_df['cell_typist_low'].unique())"
   ]
  },
  {
   "cell_type": "code",
   "execution_count": 10,
   "metadata": {},
   "outputs": [],
   "source": [
    "cell_names_mapping = {\n",
    "    'Tcm/Naive helper T cells': 'CD8 T Cell',\n",
    "    'Tcm/Naive cytotoxic T cells': 'CD8 T Cell',\n",
    "    'Classical monocytes': 'Monocytes',\n",
    "    'CD16+ NK cells': 'NK cells',\n",
    "}"
   ]
  },
  {
   "cell_type": "code",
   "execution_count": 11,
   "metadata": {},
   "outputs": [],
   "source": [
    "# change the cell type names to match the literature\n",
    "celltypes_per_cluster_df['cell_typist_high'] = celltypes_per_cluster_df['cell_typist_high'].replace(cell_names_mapping)\n",
    "celltypes_per_cluster_df['cell_typist_low'] = celltypes_per_cluster_df['cell_typist_low'].replace(cell_names_mapping)"
   ]
  },
  {
   "cell_type": "code",
   "execution_count": 12,
   "metadata": {},
   "outputs": [],
   "source": [
    "# Nan as srtring\n",
    "celltypes_per_cluster_df = celltypes_per_cluster_df.fillna('None')"
   ]
  },
  {
   "cell_type": "code",
   "execution_count": 13,
   "metadata": {},
   "outputs": [
    {
     "data": {
      "text/html": [
       "<div>\n",
       "<style scoped>\n",
       "    .dataframe tbody tr th:only-of-type {\n",
       "        vertical-align: middle;\n",
       "    }\n",
       "\n",
       "    .dataframe tbody tr th {\n",
       "        vertical-align: top;\n",
       "    }\n",
       "\n",
       "    .dataframe thead th {\n",
       "        text-align: right;\n",
       "    }\n",
       "</style>\n",
       "<table border=\"1\" class=\"dataframe\">\n",
       "  <thead>\n",
       "    <tr style=\"text-align: right;\">\n",
       "      <th></th>\n",
       "      <th>CellType</th>\n",
       "      <th>Literature1</th>\n",
       "      <th>Literature2</th>\n",
       "      <th>cell_typist_high</th>\n",
       "      <th>cell_typist_low</th>\n",
       "    </tr>\n",
       "  </thead>\n",
       "  <tbody>\n",
       "    <tr>\n",
       "      <th>0</th>\n",
       "      <td>T cells</td>\n",
       "      <td>CD4 T Cell</td>\n",
       "      <td>CD8 T Cell</td>\n",
       "      <td>T cells</td>\n",
       "      <td>CD8 T Cell</td>\n",
       "    </tr>\n",
       "    <tr>\n",
       "      <th>1</th>\n",
       "      <td>T cells</td>\n",
       "      <td>CD4 T Cell</td>\n",
       "      <td>CD8 T Cell</td>\n",
       "      <td>T cells</td>\n",
       "      <td>CD8 T Cell</td>\n",
       "    </tr>\n",
       "    <tr>\n",
       "      <th>2</th>\n",
       "      <td>B cells</td>\n",
       "      <td>None</td>\n",
       "      <td>None</td>\n",
       "      <td>B cells</td>\n",
       "      <td>Naive B cells</td>\n",
       "    </tr>\n",
       "    <tr>\n",
       "      <th>3</th>\n",
       "      <td>T cells</td>\n",
       "      <td>T Cell</td>\n",
       "      <td>CD8 T Cell</td>\n",
       "      <td>T cells</td>\n",
       "      <td>CD8 T Cell</td>\n",
       "    </tr>\n",
       "    <tr>\n",
       "      <th>4</th>\n",
       "      <td>T cells</td>\n",
       "      <td>T Cell</td>\n",
       "      <td>CD8 T Cell</td>\n",
       "      <td>T cells</td>\n",
       "      <td>Tem/Trm cytotoxic T cells</td>\n",
       "    </tr>\n",
       "    <tr>\n",
       "      <th>5</th>\n",
       "      <td>ILC</td>\n",
       "      <td>NK Cell</td>\n",
       "      <td>CD8 T Cell</td>\n",
       "      <td>ILC</td>\n",
       "      <td>NK cells</td>\n",
       "    </tr>\n",
       "    <tr>\n",
       "      <th>6</th>\n",
       "      <td>None</td>\n",
       "      <td>None</td>\n",
       "      <td>CD8 T Cell</td>\n",
       "      <td>T cells</td>\n",
       "      <td>Tem/Temra cytotoxic T cells</td>\n",
       "    </tr>\n",
       "    <tr>\n",
       "      <th>7</th>\n",
       "      <td>None</td>\n",
       "      <td>T Cell</td>\n",
       "      <td>CD8 T Cell</td>\n",
       "      <td>T cells</td>\n",
       "      <td>MAIT cells</td>\n",
       "    </tr>\n",
       "    <tr>\n",
       "      <th>8</th>\n",
       "      <td>B cells</td>\n",
       "      <td>B Cell</td>\n",
       "      <td>None</td>\n",
       "      <td>B cells</td>\n",
       "      <td>Memory B cells</td>\n",
       "    </tr>\n",
       "    <tr>\n",
       "      <th>9</th>\n",
       "      <td>B cells</td>\n",
       "      <td>B Cell</td>\n",
       "      <td>Naive T Cell</td>\n",
       "      <td>B cells</td>\n",
       "      <td>CD8 T Cell</td>\n",
       "    </tr>\n",
       "    <tr>\n",
       "      <th>10</th>\n",
       "      <td>None</td>\n",
       "      <td>None</td>\n",
       "      <td>CD4 T Cell</td>\n",
       "      <td>T cells</td>\n",
       "      <td>Tem/Temra cytotoxic T cells</td>\n",
       "    </tr>\n",
       "    <tr>\n",
       "      <th>11</th>\n",
       "      <td>Monocytes</td>\n",
       "      <td>Monocytes</td>\n",
       "      <td>None</td>\n",
       "      <td>Monocytes</td>\n",
       "      <td>Monocytes</td>\n",
       "    </tr>\n",
       "    <tr>\n",
       "      <th>12</th>\n",
       "      <td>HSC/MPP</td>\n",
       "      <td>None</td>\n",
       "      <td>CD8 T Cell</td>\n",
       "      <td>T cells</td>\n",
       "      <td>CD8 T Cell</td>\n",
       "    </tr>\n",
       "    <tr>\n",
       "      <th>13</th>\n",
       "      <td>HSC/MPP</td>\n",
       "      <td>None</td>\n",
       "      <td>CD8 T Cell</td>\n",
       "      <td>T cells</td>\n",
       "      <td>CD8 T Cell</td>\n",
       "    </tr>\n",
       "    <tr>\n",
       "      <th>14</th>\n",
       "      <td>None</td>\n",
       "      <td>None</td>\n",
       "      <td>None</td>\n",
       "      <td>Megakaryocytes/platelets</td>\n",
       "      <td>Megakaryocytes/platelets</td>\n",
       "    </tr>\n",
       "    <tr>\n",
       "      <th>15</th>\n",
       "      <td>None</td>\n",
       "      <td>None</td>\n",
       "      <td>None</td>\n",
       "      <td>T cells</td>\n",
       "      <td>CD8 T Cell</td>\n",
       "    </tr>\n",
       "  </tbody>\n",
       "</table>\n",
       "</div>"
      ],
      "text/plain": [
       "     CellType Literature1   Literature2          cell_typist_high  \\\n",
       "0     T cells  CD4 T Cell    CD8 T Cell                   T cells   \n",
       "1     T cells  CD4 T Cell    CD8 T Cell                   T cells   \n",
       "2     B cells        None          None                   B cells   \n",
       "3     T cells      T Cell    CD8 T Cell                   T cells   \n",
       "4     T cells      T Cell    CD8 T Cell                   T cells   \n",
       "5         ILC     NK Cell    CD8 T Cell                       ILC   \n",
       "6        None        None    CD8 T Cell                   T cells   \n",
       "7        None      T Cell    CD8 T Cell                   T cells   \n",
       "8     B cells      B Cell          None                   B cells   \n",
       "9     B cells      B Cell  Naive T Cell                   B cells   \n",
       "10       None        None    CD4 T Cell                   T cells   \n",
       "11  Monocytes   Monocytes          None                 Monocytes   \n",
       "12    HSC/MPP        None    CD8 T Cell                   T cells   \n",
       "13    HSC/MPP        None    CD8 T Cell                   T cells   \n",
       "14       None        None          None  Megakaryocytes/platelets   \n",
       "15       None        None          None                   T cells   \n",
       "\n",
       "                cell_typist_low  \n",
       "0                    CD8 T Cell  \n",
       "1                    CD8 T Cell  \n",
       "2                 Naive B cells  \n",
       "3                    CD8 T Cell  \n",
       "4     Tem/Trm cytotoxic T cells  \n",
       "5                      NK cells  \n",
       "6   Tem/Temra cytotoxic T cells  \n",
       "7                    MAIT cells  \n",
       "8                Memory B cells  \n",
       "9                    CD8 T Cell  \n",
       "10  Tem/Temra cytotoxic T cells  \n",
       "11                    Monocytes  \n",
       "12                   CD8 T Cell  \n",
       "13                   CD8 T Cell  \n",
       "14     Megakaryocytes/platelets  \n",
       "15                   CD8 T Cell  "
      ]
     },
     "execution_count": 13,
     "metadata": {},
     "output_type": "execute_result"
    }
   ],
   "source": [
    "celltypes_per_cluster_df"
   ]
  },
  {
   "cell_type": "markdown",
   "metadata": {},
   "source": [
    "### Comparison"
   ]
  },
  {
   "cell_type": "markdown",
   "metadata": {},
   "source": [
    "'CellType' was inferred from the protein clusters."
   ]
  },
  {
   "cell_type": "code",
   "execution_count": 15,
   "metadata": {},
   "outputs": [
    {
     "data": {
      "application/vnd.plotly.v1+json": {
       "config": {
        "plotlyServerURL": "https://plot.ly"
       },
       "data": [
        {
         "link": {
          "source": [
           0,
           0,
           1,
           2,
           3,
           4,
           4,
           5,
           5,
           6,
           6,
           7,
           8,
           9,
           10,
           10,
           10,
           11,
           12,
           13,
           13,
           14,
           15,
           15,
           15,
           15,
           16,
           16,
           16,
           17,
           18,
           19,
           20,
           20,
           20,
           20
          ],
          "target": [
           6,
           10,
           10,
           9,
           8,
           10,
           11,
           7,
           11,
           14,
           15,
           13,
           15,
           13,
           12,
           13,
           15,
           13,
           20,
           17,
           20,
           16,
           16,
           18,
           19,
           20,
           21,
           24,
           27,
           26,
           23,
           25,
           21,
           22,
           28,
           29
          ],
          "value": [
           2,
           1,
           2,
           1,
           1,
           4,
           1,
           2,
           2,
           1,
           1,
           2,
           1,
           1,
           1,
           3,
           3,
           3,
           1,
           1,
           8,
           1,
           2,
           1,
           1,
           1,
           1,
           1,
           1,
           1,
           1,
           1,
           6,
           1,
           2,
           1
          ]
         },
         "node": {
          "color": [
           "#1f77b4",
           "#ff7f0e",
           "#2ca02c",
           "#d62728",
           "#9467bd",
           "#8c564b",
           "#e377c2",
           "#7f7f7f",
           "#bcbd22",
           "#17becf",
           "#1f77b4",
           "#ff7f0e",
           "#2ca02c",
           "#d62728",
           "#9467bd",
           "#8c564b",
           "#e377c2",
           "#7f7f7f",
           "#bcbd22",
           "#17becf",
           "#1f77b4",
           "#ff7f0e",
           "#2ca02c",
           "#d62728",
           "#9467bd",
           "#8c564b",
           "#e377c2",
           "#7f7f7f",
           "#bcbd22",
           "#17becf"
          ],
          "label": [
           "B cells",
           "HSC/MPP",
           "ILC",
           "Monocytes",
           "None",
           "T cells",
           "B Cell",
           "CD4 T Cell",
           "Monocytes",
           "NK Cell",
           "None",
           "T Cell",
           "CD4 T Cell",
           "CD8 T Cell",
           "Naive T Cell",
           "None",
           "B cells",
           "ILC",
           "Megakaryocytes/platelets",
           "Monocytes",
           "T cells",
           "CD8 T Cell",
           "MAIT cells",
           "Megakaryocytes/platelets",
           "Memory B cells",
           "Monocytes",
           "NK cells",
           "Naive B cells",
           "Tem/Temra cytotoxic T cells",
           "Tem/Trm cytotoxic T cells"
          ],
          "line": {
           "color": "black",
           "width": 0.5
          },
          "pad": 15,
          "thickness": 20
         },
         "type": "sankey"
        }
       ],
       "layout": {
        "annotations": [
         {
          "showarrow": false,
          "text": "CellType",
          "x": 0,
          "xref": "x",
          "y": 1.05,
          "yref": "paper"
         },
         {
          "showarrow": false,
          "text": "Literature1",
          "x": 1,
          "xref": "x",
          "y": 1.05,
          "yref": "paper"
         },
         {
          "showarrow": false,
          "text": "Literature2",
          "x": 2,
          "xref": "x",
          "y": 1.05,
          "yref": "paper"
         },
         {
          "showarrow": false,
          "text": "Cell Typist High",
          "x": 3,
          "xref": "x",
          "y": 1.05,
          "yref": "paper"
         },
         {
          "showarrow": false,
          "text": "Cell Typist Low",
          "x": 4,
          "xref": "x",
          "y": 1.05,
          "yref": "paper"
         }
        ],
        "font": {
         "size": 10
        },
        "height": 450,
        "plot_bgcolor": "rgba(0,0,0,0)",
        "template": {
         "data": {
          "bar": [
           {
            "error_x": {
             "color": "#2a3f5f"
            },
            "error_y": {
             "color": "#2a3f5f"
            },
            "marker": {
             "line": {
              "color": "#E5ECF6",
              "width": 0.5
             },
             "pattern": {
              "fillmode": "overlay",
              "size": 10,
              "solidity": 0.2
             }
            },
            "type": "bar"
           }
          ],
          "barpolar": [
           {
            "marker": {
             "line": {
              "color": "#E5ECF6",
              "width": 0.5
             },
             "pattern": {
              "fillmode": "overlay",
              "size": 10,
              "solidity": 0.2
             }
            },
            "type": "barpolar"
           }
          ],
          "carpet": [
           {
            "aaxis": {
             "endlinecolor": "#2a3f5f",
             "gridcolor": "white",
             "linecolor": "white",
             "minorgridcolor": "white",
             "startlinecolor": "#2a3f5f"
            },
            "baxis": {
             "endlinecolor": "#2a3f5f",
             "gridcolor": "white",
             "linecolor": "white",
             "minorgridcolor": "white",
             "startlinecolor": "#2a3f5f"
            },
            "type": "carpet"
           }
          ],
          "choropleth": [
           {
            "colorbar": {
             "outlinewidth": 0,
             "ticks": ""
            },
            "type": "choropleth"
           }
          ],
          "contour": [
           {
            "colorbar": {
             "outlinewidth": 0,
             "ticks": ""
            },
            "colorscale": [
             [
              0,
              "#0d0887"
             ],
             [
              0.1111111111111111,
              "#46039f"
             ],
             [
              0.2222222222222222,
              "#7201a8"
             ],
             [
              0.3333333333333333,
              "#9c179e"
             ],
             [
              0.4444444444444444,
              "#bd3786"
             ],
             [
              0.5555555555555556,
              "#d8576b"
             ],
             [
              0.6666666666666666,
              "#ed7953"
             ],
             [
              0.7777777777777778,
              "#fb9f3a"
             ],
             [
              0.8888888888888888,
              "#fdca26"
             ],
             [
              1,
              "#f0f921"
             ]
            ],
            "type": "contour"
           }
          ],
          "contourcarpet": [
           {
            "colorbar": {
             "outlinewidth": 0,
             "ticks": ""
            },
            "type": "contourcarpet"
           }
          ],
          "heatmap": [
           {
            "colorbar": {
             "outlinewidth": 0,
             "ticks": ""
            },
            "colorscale": [
             [
              0,
              "#0d0887"
             ],
             [
              0.1111111111111111,
              "#46039f"
             ],
             [
              0.2222222222222222,
              "#7201a8"
             ],
             [
              0.3333333333333333,
              "#9c179e"
             ],
             [
              0.4444444444444444,
              "#bd3786"
             ],
             [
              0.5555555555555556,
              "#d8576b"
             ],
             [
              0.6666666666666666,
              "#ed7953"
             ],
             [
              0.7777777777777778,
              "#fb9f3a"
             ],
             [
              0.8888888888888888,
              "#fdca26"
             ],
             [
              1,
              "#f0f921"
             ]
            ],
            "type": "heatmap"
           }
          ],
          "heatmapgl": [
           {
            "colorbar": {
             "outlinewidth": 0,
             "ticks": ""
            },
            "colorscale": [
             [
              0,
              "#0d0887"
             ],
             [
              0.1111111111111111,
              "#46039f"
             ],
             [
              0.2222222222222222,
              "#7201a8"
             ],
             [
              0.3333333333333333,
              "#9c179e"
             ],
             [
              0.4444444444444444,
              "#bd3786"
             ],
             [
              0.5555555555555556,
              "#d8576b"
             ],
             [
              0.6666666666666666,
              "#ed7953"
             ],
             [
              0.7777777777777778,
              "#fb9f3a"
             ],
             [
              0.8888888888888888,
              "#fdca26"
             ],
             [
              1,
              "#f0f921"
             ]
            ],
            "type": "heatmapgl"
           }
          ],
          "histogram": [
           {
            "marker": {
             "pattern": {
              "fillmode": "overlay",
              "size": 10,
              "solidity": 0.2
             }
            },
            "type": "histogram"
           }
          ],
          "histogram2d": [
           {
            "colorbar": {
             "outlinewidth": 0,
             "ticks": ""
            },
            "colorscale": [
             [
              0,
              "#0d0887"
             ],
             [
              0.1111111111111111,
              "#46039f"
             ],
             [
              0.2222222222222222,
              "#7201a8"
             ],
             [
              0.3333333333333333,
              "#9c179e"
             ],
             [
              0.4444444444444444,
              "#bd3786"
             ],
             [
              0.5555555555555556,
              "#d8576b"
             ],
             [
              0.6666666666666666,
              "#ed7953"
             ],
             [
              0.7777777777777778,
              "#fb9f3a"
             ],
             [
              0.8888888888888888,
              "#fdca26"
             ],
             [
              1,
              "#f0f921"
             ]
            ],
            "type": "histogram2d"
           }
          ],
          "histogram2dcontour": [
           {
            "colorbar": {
             "outlinewidth": 0,
             "ticks": ""
            },
            "colorscale": [
             [
              0,
              "#0d0887"
             ],
             [
              0.1111111111111111,
              "#46039f"
             ],
             [
              0.2222222222222222,
              "#7201a8"
             ],
             [
              0.3333333333333333,
              "#9c179e"
             ],
             [
              0.4444444444444444,
              "#bd3786"
             ],
             [
              0.5555555555555556,
              "#d8576b"
             ],
             [
              0.6666666666666666,
              "#ed7953"
             ],
             [
              0.7777777777777778,
              "#fb9f3a"
             ],
             [
              0.8888888888888888,
              "#fdca26"
             ],
             [
              1,
              "#f0f921"
             ]
            ],
            "type": "histogram2dcontour"
           }
          ],
          "mesh3d": [
           {
            "colorbar": {
             "outlinewidth": 0,
             "ticks": ""
            },
            "type": "mesh3d"
           }
          ],
          "parcoords": [
           {
            "line": {
             "colorbar": {
              "outlinewidth": 0,
              "ticks": ""
             }
            },
            "type": "parcoords"
           }
          ],
          "pie": [
           {
            "automargin": true,
            "type": "pie"
           }
          ],
          "scatter": [
           {
            "fillpattern": {
             "fillmode": "overlay",
             "size": 10,
             "solidity": 0.2
            },
            "type": "scatter"
           }
          ],
          "scatter3d": [
           {
            "line": {
             "colorbar": {
              "outlinewidth": 0,
              "ticks": ""
             }
            },
            "marker": {
             "colorbar": {
              "outlinewidth": 0,
              "ticks": ""
             }
            },
            "type": "scatter3d"
           }
          ],
          "scattercarpet": [
           {
            "marker": {
             "colorbar": {
              "outlinewidth": 0,
              "ticks": ""
             }
            },
            "type": "scattercarpet"
           }
          ],
          "scattergeo": [
           {
            "marker": {
             "colorbar": {
              "outlinewidth": 0,
              "ticks": ""
             }
            },
            "type": "scattergeo"
           }
          ],
          "scattergl": [
           {
            "marker": {
             "colorbar": {
              "outlinewidth": 0,
              "ticks": ""
             }
            },
            "type": "scattergl"
           }
          ],
          "scattermapbox": [
           {
            "marker": {
             "colorbar": {
              "outlinewidth": 0,
              "ticks": ""
             }
            },
            "type": "scattermapbox"
           }
          ],
          "scatterpolar": [
           {
            "marker": {
             "colorbar": {
              "outlinewidth": 0,
              "ticks": ""
             }
            },
            "type": "scatterpolar"
           }
          ],
          "scatterpolargl": [
           {
            "marker": {
             "colorbar": {
              "outlinewidth": 0,
              "ticks": ""
             }
            },
            "type": "scatterpolargl"
           }
          ],
          "scatterternary": [
           {
            "marker": {
             "colorbar": {
              "outlinewidth": 0,
              "ticks": ""
             }
            },
            "type": "scatterternary"
           }
          ],
          "surface": [
           {
            "colorbar": {
             "outlinewidth": 0,
             "ticks": ""
            },
            "colorscale": [
             [
              0,
              "#0d0887"
             ],
             [
              0.1111111111111111,
              "#46039f"
             ],
             [
              0.2222222222222222,
              "#7201a8"
             ],
             [
              0.3333333333333333,
              "#9c179e"
             ],
             [
              0.4444444444444444,
              "#bd3786"
             ],
             [
              0.5555555555555556,
              "#d8576b"
             ],
             [
              0.6666666666666666,
              "#ed7953"
             ],
             [
              0.7777777777777778,
              "#fb9f3a"
             ],
             [
              0.8888888888888888,
              "#fdca26"
             ],
             [
              1,
              "#f0f921"
             ]
            ],
            "type": "surface"
           }
          ],
          "table": [
           {
            "cells": {
             "fill": {
              "color": "#EBF0F8"
             },
             "line": {
              "color": "white"
             }
            },
            "header": {
             "fill": {
              "color": "#C8D4E3"
             },
             "line": {
              "color": "white"
             }
            },
            "type": "table"
           }
          ]
         },
         "layout": {
          "annotationdefaults": {
           "arrowcolor": "#2a3f5f",
           "arrowhead": 0,
           "arrowwidth": 1
          },
          "autotypenumbers": "strict",
          "coloraxis": {
           "colorbar": {
            "outlinewidth": 0,
            "ticks": ""
           }
          },
          "colorscale": {
           "diverging": [
            [
             0,
             "#8e0152"
            ],
            [
             0.1,
             "#c51b7d"
            ],
            [
             0.2,
             "#de77ae"
            ],
            [
             0.3,
             "#f1b6da"
            ],
            [
             0.4,
             "#fde0ef"
            ],
            [
             0.5,
             "#f7f7f7"
            ],
            [
             0.6,
             "#e6f5d0"
            ],
            [
             0.7,
             "#b8e186"
            ],
            [
             0.8,
             "#7fbc41"
            ],
            [
             0.9,
             "#4d9221"
            ],
            [
             1,
             "#276419"
            ]
           ],
           "sequential": [
            [
             0,
             "#0d0887"
            ],
            [
             0.1111111111111111,
             "#46039f"
            ],
            [
             0.2222222222222222,
             "#7201a8"
            ],
            [
             0.3333333333333333,
             "#9c179e"
            ],
            [
             0.4444444444444444,
             "#bd3786"
            ],
            [
             0.5555555555555556,
             "#d8576b"
            ],
            [
             0.6666666666666666,
             "#ed7953"
            ],
            [
             0.7777777777777778,
             "#fb9f3a"
            ],
            [
             0.8888888888888888,
             "#fdca26"
            ],
            [
             1,
             "#f0f921"
            ]
           ],
           "sequentialminus": [
            [
             0,
             "#0d0887"
            ],
            [
             0.1111111111111111,
             "#46039f"
            ],
            [
             0.2222222222222222,
             "#7201a8"
            ],
            [
             0.3333333333333333,
             "#9c179e"
            ],
            [
             0.4444444444444444,
             "#bd3786"
            ],
            [
             0.5555555555555556,
             "#d8576b"
            ],
            [
             0.6666666666666666,
             "#ed7953"
            ],
            [
             0.7777777777777778,
             "#fb9f3a"
            ],
            [
             0.8888888888888888,
             "#fdca26"
            ],
            [
             1,
             "#f0f921"
            ]
           ]
          },
          "colorway": [
           "#636efa",
           "#EF553B",
           "#00cc96",
           "#ab63fa",
           "#FFA15A",
           "#19d3f3",
           "#FF6692",
           "#B6E880",
           "#FF97FF",
           "#FECB52"
          ],
          "font": {
           "color": "#2a3f5f"
          },
          "geo": {
           "bgcolor": "white",
           "lakecolor": "white",
           "landcolor": "#E5ECF6",
           "showlakes": true,
           "showland": true,
           "subunitcolor": "white"
          },
          "hoverlabel": {
           "align": "left"
          },
          "hovermode": "closest",
          "mapbox": {
           "style": "light"
          },
          "paper_bgcolor": "white",
          "plot_bgcolor": "#E5ECF6",
          "polar": {
           "angularaxis": {
            "gridcolor": "white",
            "linecolor": "white",
            "ticks": ""
           },
           "bgcolor": "#E5ECF6",
           "radialaxis": {
            "gridcolor": "white",
            "linecolor": "white",
            "ticks": ""
           }
          },
          "scene": {
           "xaxis": {
            "backgroundcolor": "#E5ECF6",
            "gridcolor": "white",
            "gridwidth": 2,
            "linecolor": "white",
            "showbackground": true,
            "ticks": "",
            "zerolinecolor": "white"
           },
           "yaxis": {
            "backgroundcolor": "#E5ECF6",
            "gridcolor": "white",
            "gridwidth": 2,
            "linecolor": "white",
            "showbackground": true,
            "ticks": "",
            "zerolinecolor": "white"
           },
           "zaxis": {
            "backgroundcolor": "#E5ECF6",
            "gridcolor": "white",
            "gridwidth": 2,
            "linecolor": "white",
            "showbackground": true,
            "ticks": "",
            "zerolinecolor": "white"
           }
          },
          "shapedefaults": {
           "line": {
            "color": "#2a3f5f"
           }
          },
          "ternary": {
           "aaxis": {
            "gridcolor": "white",
            "linecolor": "white",
            "ticks": ""
           },
           "baxis": {
            "gridcolor": "white",
            "linecolor": "white",
            "ticks": ""
           },
           "bgcolor": "#E5ECF6",
           "caxis": {
            "gridcolor": "white",
            "linecolor": "white",
            "ticks": ""
           }
          },
          "title": {
           "x": 0.05
          },
          "xaxis": {
           "automargin": true,
           "gridcolor": "white",
           "linecolor": "white",
           "ticks": "",
           "title": {
            "standoff": 15
           },
           "zerolinecolor": "white",
           "zerolinewidth": 2
          },
          "yaxis": {
           "automargin": true,
           "gridcolor": "white",
           "linecolor": "white",
           "ticks": "",
           "title": {
            "standoff": 15
           },
           "zerolinecolor": "white",
           "zerolinewidth": 2
          }
         }
        },
        "title": {
         "text": "Sankey plot of cell types"
        },
        "width": 700,
        "xaxis": {
         "showgrid": false,
         "visible": false,
         "zeroline": false
        },
        "yaxis": {
         "showgrid": false,
         "visible": false,
         "zeroline": false
        }
       }
      }
     },
     "metadata": {},
     "output_type": "display_data"
    }
   ],
   "source": [
    "sankey_plot_with_labels(\n",
    "    labels=[celltypes_per_cluster_df['CellType'], celltypes_per_cluster_df['Literature1'],\n",
    "    celltypes_per_cluster_df['Literature2'], celltypes_per_cluster_df['cell_typist_high'],\n",
    "    celltypes_per_cluster_df['cell_typist_low']],\n",
    "    labels_titles=['CellType', 'Literature1', 'Literature2', 'Cell Typist High', 'Cell Typist Low'],\n",
    "    title='Sankey plot of cell types'\n",
    "    )"
   ]
  }
 ],
 "metadata": {
  "kernelspec": {
   "display_name": "base",
   "language": "python",
   "name": "python3"
  },
  "language_info": {
   "codemirror_mode": {
    "name": "ipython",
    "version": 3
   },
   "file_extension": ".py",
   "mimetype": "text/x-python",
   "name": "python",
   "nbconvert_exporter": "python",
   "pygments_lexer": "ipython3",
   "version": "3.10.9"
  }
 },
 "nbformat": 4,
 "nbformat_minor": 2
}
